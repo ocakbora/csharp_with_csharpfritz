{
 "cells": [
  {
   "cell_type": "code",
   "execution_count": 2,
   "metadata": {
    "dotnet_interactive": {
     "language": "csharp"
    },
    "polyglot_notebook": {
     "kernelName": "csharp"
    }
   },
   "outputs": [],
   "source": [
    "public class TimeStep \n",
    "\n",
    "{\n",
    "\n",
    "  public int Index {get; set;} \n",
    "\n",
    "  public override string ToString() {return \"TimeStep: \" + Index;}\n",
    "\n",
    "  public TimeStep (int index) {Index = index;}\n",
    "\n",
    "}"
   ]
  },
  {
   "cell_type": "code",
   "execution_count": 3,
   "metadata": {
    "dotnet_interactive": {
     "language": "csharp"
    },
    "polyglot_notebook": {
     "kernelName": "csharp"
    }
   },
   "outputs": [],
   "source": [
    "public class TimeIndexedValue\n",
    "\n",
    "{\n",
    "\n",
    "public TimeStep TimeStep {get; set;}\n",
    "\n",
    "public double Value {get; set;}\n",
    "\n",
    "public TimeIndexedValue (int index, double value)\n",
    "{\n",
    "\n",
    "TimeStep = new TimeStep(index);\n",
    "Value = value;\n",
    "\n",
    "}\n",
    "\n",
    "}"
   ]
  },
  {
   "cell_type": "code",
   "execution_count": 4,
   "metadata": {
    "dotnet_interactive": {
     "language": "csharp"
    },
    "polyglot_notebook": {
     "kernelName": "csharp"
    }
   },
   "outputs": [],
   "source": [
    "var t1 = new TimeStep(1);\n",
    "var t2 = new TimeStep(2);\n",
    "var t3 = new TimeStep(3);\n",
    "var t4 = new TimeStep(4);\n",
    "var t5 = new TimeStep(5);\n",
    "\n",
    "var tiv1 = new TimeIndexedValue(1, 100);\n",
    "var tiv2 = new TimeIndexedValue(2, 200);\n",
    "var tiv3 = new TimeIndexedValue(3, 300);\n",
    "var tiv4 = new TimeIndexedValue(4, 400);\n",
    "var tiv5 = new TimeIndexedValue(5, 500);"
   ]
  },
  {
   "cell_type": "code",
   "execution_count": 5,
   "metadata": {
    "dotnet_interactive": {
     "language": "csharp"
    },
    "polyglot_notebook": {
     "kernelName": "csharp"
    }
   },
   "outputs": [],
   "source": [
    "var timeSteps = new List<TimeStep>(){t1, t2, t3, t4, t5};\n",
    "var timeIndexedValues = new List<TimeIndexedValue>{tiv1, tiv2, tiv3, tiv4, tiv5};"
   ]
  },
  {
   "cell_type": "code",
   "execution_count": 6,
   "metadata": {
    "dotnet_interactive": {
     "language": "csharp"
    },
    "polyglot_notebook": {
     "kernelName": "csharp"
    }
   },
   "outputs": [],
   "source": [
    "var tiv6= new TimeIndexedValue(1, 500);\n",
    "var tiv7 = new TimeIndexedValue(2, 7200);\n",
    "var tiv8 = new TimeIndexedValue(3, 3500);\n",
    "var tiv9 = new TimeIndexedValue(4, 40);\n",
    "var tiv10 = new TimeIndexedValue(5, 51100);\n",
    "\n",
    "var timeIndexedValues2 = new List<TimeIndexedValue>{tiv6, tiv7, tiv8, tiv9, tiv10};"
   ]
  },
  {
   "cell_type": "code",
   "execution_count": 7,
   "metadata": {
    "dotnet_interactive": {
     "language": "csharp"
    },
    "polyglot_notebook": {
     "kernelName": "csharp"
    }
   },
   "outputs": [
    {
     "data": {
      "text/html": [
       "<div class=\"dni-plaintext\"><pre>[ 500, 1000, 1500, 2000, 2500 ]</pre></div><style>\r\n",
       ".dni-code-hint {\r\n",
       "    font-style: italic;\r\n",
       "    overflow: hidden;\r\n",
       "    white-space: nowrap;\r\n",
       "}\r\n",
       ".dni-treeview {\r\n",
       "    white-space: nowrap;\r\n",
       "}\r\n",
       ".dni-treeview td {\r\n",
       "    vertical-align: top;\r\n",
       "    text-align: start;\r\n",
       "}\r\n",
       "details.dni-treeview {\r\n",
       "    padding-left: 1em;\r\n",
       "}\r\n",
       "table td {\r\n",
       "    text-align: start;\r\n",
       "}\r\n",
       "table tr { \r\n",
       "    vertical-align: top; \r\n",
       "    margin: 0em 0px;\r\n",
       "}\r\n",
       "table tr td pre \r\n",
       "{ \r\n",
       "    vertical-align: top !important; \r\n",
       "    margin: 0em 0px !important;\r\n",
       "} \r\n",
       "table th {\r\n",
       "    text-align: start;\r\n",
       "}\r\n",
       "</style>"
      ]
     },
     "metadata": {},
     "output_type": "display_data"
    }
   ],
   "source": [
    "display(timeIndexedValues.Select(x => x.Value*5));"
   ]
  },
  {
   "cell_type": "code",
   "execution_count": 8,
   "metadata": {
    "dotnet_interactive": {
     "language": "csharp"
    },
    "polyglot_notebook": {
     "kernelName": "csharp"
    }
   },
   "outputs": [
    {
     "data": {
      "text/html": [
       "<details open=\"open\" class=\"dni-treeview\"><summary><span class=\"dni-code-hint\"><code>Submission#4+TimeIndexedValue</code></span></summary><div><table><thead><tr></tr></thead><tbody><tr><td>TimeStep</td><td><details class=\"dni-treeview\"><summary><span class=\"dni-code-hint\"><code>TimeStep: 1</code></span></summary><div><table><thead><tr></tr></thead><tbody><tr><td>Index</td><td><div class=\"dni-plaintext\"><pre>1</pre></div></td></tr></tbody></table></div></details></td></tr><tr><td>Value</td><td><div class=\"dni-plaintext\"><pre>100</pre></div></td></tr></tbody></table></div></details><style>\r\n",
       ".dni-code-hint {\r\n",
       "    font-style: italic;\r\n",
       "    overflow: hidden;\r\n",
       "    white-space: nowrap;\r\n",
       "}\r\n",
       ".dni-treeview {\r\n",
       "    white-space: nowrap;\r\n",
       "}\r\n",
       ".dni-treeview td {\r\n",
       "    vertical-align: top;\r\n",
       "    text-align: start;\r\n",
       "}\r\n",
       "details.dni-treeview {\r\n",
       "    padding-left: 1em;\r\n",
       "}\r\n",
       "table td {\r\n",
       "    text-align: start;\r\n",
       "}\r\n",
       "table tr { \r\n",
       "    vertical-align: top; \r\n",
       "    margin: 0em 0px;\r\n",
       "}\r\n",
       "table tr td pre \r\n",
       "{ \r\n",
       "    vertical-align: top !important; \r\n",
       "    margin: 0em 0px !important;\r\n",
       "} \r\n",
       "table th {\r\n",
       "    text-align: start;\r\n",
       "}\r\n",
       "</style>"
      ]
     },
     "metadata": {},
     "output_type": "display_data"
    }
   ],
   "source": [
    "var a = timeIndexedValues.FirstOrDefault(x => x.TimeStep.Index == t1.Index);\n",
    "display(a);"
   ]
  },
  {
   "cell_type": "code",
   "execution_count": 9,
   "metadata": {
    "dotnet_interactive": {
     "language": "csharp"
    },
    "polyglot_notebook": {
     "kernelName": "csharp"
    }
   },
   "outputs": [],
   "source": [
    "public class Location\n",
    "\n",
    "{\n",
    "    public List<TimeIndexedValue> TimeIndexedValues {get; set;}\n",
    "    public string Name {get; set;}  \n",
    "    public Location (List<TimeIndexedValue> timeIndexedValues, string name)\n",
    "    {\n",
    "        TimeIndexedValues = timeIndexedValues;\n",
    "        Name = name;    \n",
    "    }\n",
    "}"
   ]
  },
  {
   "cell_type": "code",
   "execution_count": 10,
   "metadata": {
    "dotnet_interactive": {
     "language": "csharp"
    },
    "polyglot_notebook": {
     "kernelName": "csharp"
    }
   },
   "outputs": [],
   "source": [
    "var location1 = new Location(timeIndexedValues, \"Location 1\");\n",
    "var location2 = new Location(timeIndexedValues2, \"Location 2\");\n",
    "\n",
    "var locations = new List<Location>(){location1, location2};\n"
   ]
  },
  {
   "cell_type": "code",
   "execution_count": 11,
   "metadata": {
    "dotnet_interactive": {
     "language": "csharp"
    },
    "polyglot_notebook": {
     "kernelName": "csharp"
    }
   },
   "outputs": [
    {
     "data": {
      "text/html": [
       "<table><thead><tr><th><i>index</i></th><th>value</th></tr></thead><tbody><tr><td>0</td><td><details class=\"dni-treeview\"><summary><span class=\"dni-code-hint\"><code>Submission#4+TimeIndexedValue</code></span></summary><div><table><thead><tr></tr></thead><tbody><tr><td>TimeStep</td><td><details class=\"dni-treeview\"><summary><span class=\"dni-code-hint\"><code>TimeStep: 1</code></span></summary><div><table><thead><tr></tr></thead><tbody><tr><td>Index</td><td><div class=\"dni-plaintext\"><pre>1</pre></div></td></tr></tbody></table></div></details></td></tr><tr><td>Value</td><td><div class=\"dni-plaintext\"><pre>100</pre></div></td></tr></tbody></table></div></details></td></tr><tr><td>1</td><td><details class=\"dni-treeview\"><summary><span class=\"dni-code-hint\"><code>Submission#4+TimeIndexedValue</code></span></summary><div><table><thead><tr></tr></thead><tbody><tr><td>TimeStep</td><td><details class=\"dni-treeview\"><summary><span class=\"dni-code-hint\"><code>TimeStep: 2</code></span></summary><div><table><thead><tr></tr></thead><tbody><tr><td>Index</td><td><div class=\"dni-plaintext\"><pre>2</pre></div></td></tr></tbody></table></div></details></td></tr><tr><td>Value</td><td><div class=\"dni-plaintext\"><pre>200</pre></div></td></tr></tbody></table></div></details></td></tr><tr><td>2</td><td><details class=\"dni-treeview\"><summary><span class=\"dni-code-hint\"><code>Submission#4+TimeIndexedValue</code></span></summary><div><table><thead><tr></tr></thead><tbody><tr><td>TimeStep</td><td><details class=\"dni-treeview\"><summary><span class=\"dni-code-hint\"><code>TimeStep: 3</code></span></summary><div><table><thead><tr></tr></thead><tbody><tr><td>Index</td><td><div class=\"dni-plaintext\"><pre>3</pre></div></td></tr></tbody></table></div></details></td></tr><tr><td>Value</td><td><div class=\"dni-plaintext\"><pre>300</pre></div></td></tr></tbody></table></div></details></td></tr><tr><td>3</td><td><details class=\"dni-treeview\"><summary><span class=\"dni-code-hint\"><code>Submission#4+TimeIndexedValue</code></span></summary><div><table><thead><tr></tr></thead><tbody><tr><td>TimeStep</td><td><details class=\"dni-treeview\"><summary><span class=\"dni-code-hint\"><code>TimeStep: 4</code></span></summary><div><table><thead><tr></tr></thead><tbody><tr><td>Index</td><td><div class=\"dni-plaintext\"><pre>4</pre></div></td></tr></tbody></table></div></details></td></tr><tr><td>Value</td><td><div class=\"dni-plaintext\"><pre>400</pre></div></td></tr></tbody></table></div></details></td></tr><tr><td>4</td><td><details class=\"dni-treeview\"><summary><span class=\"dni-code-hint\"><code>Submission#4+TimeIndexedValue</code></span></summary><div><table><thead><tr></tr></thead><tbody><tr><td>TimeStep</td><td><details class=\"dni-treeview\"><summary><span class=\"dni-code-hint\"><code>TimeStep: 5</code></span></summary><div><table><thead><tr></tr></thead><tbody><tr><td>Index</td><td><div class=\"dni-plaintext\"><pre>5</pre></div></td></tr></tbody></table></div></details></td></tr><tr><td>Value</td><td><div class=\"dni-plaintext\"><pre>500</pre></div></td></tr></tbody></table></div></details></td></tr><tr><td>5</td><td><details class=\"dni-treeview\"><summary><span class=\"dni-code-hint\"><code>Submission#4+TimeIndexedValue</code></span></summary><div><table><thead><tr></tr></thead><tbody><tr><td>TimeStep</td><td><details class=\"dni-treeview\"><summary><span class=\"dni-code-hint\"><code>TimeStep: 1</code></span></summary><div><table><thead><tr></tr></thead><tbody><tr><td>Index</td><td><div class=\"dni-plaintext\"><pre>1</pre></div></td></tr></tbody></table></div></details></td></tr><tr><td>Value</td><td><div class=\"dni-plaintext\"><pre>500</pre></div></td></tr></tbody></table></div></details></td></tr><tr><td>6</td><td><details class=\"dni-treeview\"><summary><span class=\"dni-code-hint\"><code>Submission#4+TimeIndexedValue</code></span></summary><div><table><thead><tr></tr></thead><tbody><tr><td>TimeStep</td><td><details class=\"dni-treeview\"><summary><span class=\"dni-code-hint\"><code>TimeStep: 2</code></span></summary><div><table><thead><tr></tr></thead><tbody><tr><td>Index</td><td><div class=\"dni-plaintext\"><pre>2</pre></div></td></tr></tbody></table></div></details></td></tr><tr><td>Value</td><td><div class=\"dni-plaintext\"><pre>7200</pre></div></td></tr></tbody></table></div></details></td></tr><tr><td>7</td><td><details class=\"dni-treeview\"><summary><span class=\"dni-code-hint\"><code>Submission#4+TimeIndexedValue</code></span></summary><div><table><thead><tr></tr></thead><tbody><tr><td>TimeStep</td><td><details class=\"dni-treeview\"><summary><span class=\"dni-code-hint\"><code>TimeStep: 3</code></span></summary><div><table><thead><tr></tr></thead><tbody><tr><td>Index</td><td><div class=\"dni-plaintext\"><pre>3</pre></div></td></tr></tbody></table></div></details></td></tr><tr><td>Value</td><td><div class=\"dni-plaintext\"><pre>3500</pre></div></td></tr></tbody></table></div></details></td></tr><tr><td>8</td><td><details class=\"dni-treeview\"><summary><span class=\"dni-code-hint\"><code>Submission#4+TimeIndexedValue</code></span></summary><div><table><thead><tr></tr></thead><tbody><tr><td>TimeStep</td><td><details class=\"dni-treeview\"><summary><span class=\"dni-code-hint\"><code>TimeStep: 4</code></span></summary><div><table><thead><tr></tr></thead><tbody><tr><td>Index</td><td><div class=\"dni-plaintext\"><pre>4</pre></div></td></tr></tbody></table></div></details></td></tr><tr><td>Value</td><td><div class=\"dni-plaintext\"><pre>40</pre></div></td></tr></tbody></table></div></details></td></tr><tr><td>9</td><td><details class=\"dni-treeview\"><summary><span class=\"dni-code-hint\"><code>Submission#4+TimeIndexedValue</code></span></summary><div><table><thead><tr></tr></thead><tbody><tr><td>TimeStep</td><td><details class=\"dni-treeview\"><summary><span class=\"dni-code-hint\"><code>TimeStep: 5</code></span></summary><div><table><thead><tr></tr></thead><tbody><tr><td>Index</td><td><div class=\"dni-plaintext\"><pre>5</pre></div></td></tr></tbody></table></div></details></td></tr><tr><td>Value</td><td><div class=\"dni-plaintext\"><pre>51100</pre></div></td></tr></tbody></table></div></details></td></tr></tbody></table><style>\r\n",
       ".dni-code-hint {\r\n",
       "    font-style: italic;\r\n",
       "    overflow: hidden;\r\n",
       "    white-space: nowrap;\r\n",
       "}\r\n",
       ".dni-treeview {\r\n",
       "    white-space: nowrap;\r\n",
       "}\r\n",
       ".dni-treeview td {\r\n",
       "    vertical-align: top;\r\n",
       "    text-align: start;\r\n",
       "}\r\n",
       "details.dni-treeview {\r\n",
       "    padding-left: 1em;\r\n",
       "}\r\n",
       "table td {\r\n",
       "    text-align: start;\r\n",
       "}\r\n",
       "table tr { \r\n",
       "    vertical-align: top; \r\n",
       "    margin: 0em 0px;\r\n",
       "}\r\n",
       "table tr td pre \r\n",
       "{ \r\n",
       "    vertical-align: top !important; \r\n",
       "    margin: 0em 0px !important;\r\n",
       "} \r\n",
       "table th {\r\n",
       "    text-align: start;\r\n",
       "}\r\n",
       "</style>"
      ]
     },
     "metadata": {},
     "output_type": "display_data"
    }
   ],
   "source": [
    "var x = locations.SelectMany(y => y.TimeIndexedValues); // this is the list of all TimeIndexedValues\n",
    "x"
   ]
  },
  {
   "cell_type": "code",
   "execution_count": 12,
   "metadata": {
    "dotnet_interactive": {
     "language": "csharp"
    },
    "polyglot_notebook": {
     "kernelName": "csharp"
    }
   },
   "outputs": [
    {
     "data": {
      "text/html": [
       "<details open=\"open\" class=\"dni-treeview\"><summary><span class=\"dni-code-hint\"><code>[ [ Submission#4+TimeIndexedValue, Submission#4+TimeIndexedValue ], [ Submission#4+TimeIndexedValue, Submission#4+TimeIndexedValue ], [ Submission#4+TimeIndexedValue, Submission#4+TimeIndexedValue ], [ Submission#4+TimeIndexedValue, Submission#4+TimeIndexedValue ], [ Submission#4+TimeIndexedValue, Submission#4+TimeIndexedValue ] ]</code></span></summary><div><table><thead><tr></tr></thead><tbody><tr><td><i>(values)</i></td><td><table><thead><tr><th><i>index</i></th><th>value</th></tr></thead><tbody><tr><td>0</td><td><details class=\"dni-treeview\"><summary><span class=\"dni-code-hint\"><code>[ Submission#4+TimeIndexedValue, Submission#4+TimeIndexedValue ]</code></span></summary><div><table><thead><tr></tr></thead><tbody><tr><td>Key</td><td><div class=\"dni-plaintext\"><pre>1</pre></div></td></tr><tr><td><i>(values)</i></td><td><table><thead><tr><th><i>index</i></th><th>value</th></tr></thead><tbody><tr><td>0</td><td><details class=\"dni-treeview\"><summary><span class=\"dni-code-hint\"><code>Submission#4+TimeIndexedValue</code></span></summary><div><table><thead><tr></tr></thead><tbody><tr><td>TimeStep</td><td><details class=\"dni-treeview\"><summary><span class=\"dni-code-hint\"><code>TimeStep: 1</code></span></summary><div><table><thead><tr></tr></thead><tbody><tr><td>Index</td><td><div class=\"dni-plaintext\"><pre>1</pre></div></td></tr></tbody></table></div></details></td></tr><tr><td>Value</td><td><div class=\"dni-plaintext\"><pre>100</pre></div></td></tr></tbody></table></div></details></td></tr><tr><td>1</td><td><details class=\"dni-treeview\"><summary><span class=\"dni-code-hint\"><code>Submission#4+TimeIndexedValue</code></span></summary><div><table><thead><tr></tr></thead><tbody><tr><td>TimeStep</td><td><details class=\"dni-treeview\"><summary><span class=\"dni-code-hint\"><code>TimeStep: 1</code></span></summary><div><table><thead><tr></tr></thead><tbody><tr><td>Index</td><td><div class=\"dni-plaintext\"><pre>1</pre></div></td></tr></tbody></table></div></details></td></tr><tr><td>Value</td><td><div class=\"dni-plaintext\"><pre>500</pre></div></td></tr></tbody></table></div></details></td></tr></tbody></table></td></tr></tbody></table></div></details></td></tr><tr><td>1</td><td><details class=\"dni-treeview\"><summary><span class=\"dni-code-hint\"><code>[ Submission#4+TimeIndexedValue, Submission#4+TimeIndexedValue ]</code></span></summary><div><table><thead><tr></tr></thead><tbody><tr><td>Key</td><td><div class=\"dni-plaintext\"><pre>2</pre></div></td></tr><tr><td><i>(values)</i></td><td><table><thead><tr><th><i>index</i></th><th>value</th></tr></thead><tbody><tr><td>0</td><td><details class=\"dni-treeview\"><summary><span class=\"dni-code-hint\"><code>Submission#4+TimeIndexedValue</code></span></summary><div><table><thead><tr></tr></thead><tbody><tr><td>TimeStep</td><td><details class=\"dni-treeview\"><summary><span class=\"dni-code-hint\"><code>TimeStep: 2</code></span></summary><div><table><thead><tr></tr></thead><tbody><tr><td>Index</td><td><div class=\"dni-plaintext\"><pre>2</pre></div></td></tr></tbody></table></div></details></td></tr><tr><td>Value</td><td><div class=\"dni-plaintext\"><pre>200</pre></div></td></tr></tbody></table></div></details></td></tr><tr><td>1</td><td><details class=\"dni-treeview\"><summary><span class=\"dni-code-hint\"><code>Submission#4+TimeIndexedValue</code></span></summary><div><table><thead><tr></tr></thead><tbody><tr><td>TimeStep</td><td><details class=\"dni-treeview\"><summary><span class=\"dni-code-hint\"><code>TimeStep: 2</code></span></summary><div><table><thead><tr></tr></thead><tbody><tr><td>Index</td><td><div class=\"dni-plaintext\"><pre>2</pre></div></td></tr></tbody></table></div></details></td></tr><tr><td>Value</td><td><div class=\"dni-plaintext\"><pre>7200</pre></div></td></tr></tbody></table></div></details></td></tr></tbody></table></td></tr></tbody></table></div></details></td></tr><tr><td>2</td><td><details class=\"dni-treeview\"><summary><span class=\"dni-code-hint\"><code>[ Submission#4+TimeIndexedValue, Submission#4+TimeIndexedValue ]</code></span></summary><div><table><thead><tr></tr></thead><tbody><tr><td>Key</td><td><div class=\"dni-plaintext\"><pre>3</pre></div></td></tr><tr><td><i>(values)</i></td><td><table><thead><tr><th><i>index</i></th><th>value</th></tr></thead><tbody><tr><td>0</td><td><details class=\"dni-treeview\"><summary><span class=\"dni-code-hint\"><code>Submission#4+TimeIndexedValue</code></span></summary><div><table><thead><tr></tr></thead><tbody><tr><td>TimeStep</td><td><details class=\"dni-treeview\"><summary><span class=\"dni-code-hint\"><code>TimeStep: 3</code></span></summary><div><table><thead><tr></tr></thead><tbody><tr><td>Index</td><td><div class=\"dni-plaintext\"><pre>3</pre></div></td></tr></tbody></table></div></details></td></tr><tr><td>Value</td><td><div class=\"dni-plaintext\"><pre>300</pre></div></td></tr></tbody></table></div></details></td></tr><tr><td>1</td><td><details class=\"dni-treeview\"><summary><span class=\"dni-code-hint\"><code>Submission#4+TimeIndexedValue</code></span></summary><div><table><thead><tr></tr></thead><tbody><tr><td>TimeStep</td><td><details class=\"dni-treeview\"><summary><span class=\"dni-code-hint\"><code>TimeStep: 3</code></span></summary><div><table><thead><tr></tr></thead><tbody><tr><td>Index</td><td><div class=\"dni-plaintext\"><pre>3</pre></div></td></tr></tbody></table></div></details></td></tr><tr><td>Value</td><td><div class=\"dni-plaintext\"><pre>3500</pre></div></td></tr></tbody></table></div></details></td></tr></tbody></table></td></tr></tbody></table></div></details></td></tr><tr><td>3</td><td><details class=\"dni-treeview\"><summary><span class=\"dni-code-hint\"><code>[ Submission#4+TimeIndexedValue, Submission#4+TimeIndexedValue ]</code></span></summary><div><table><thead><tr></tr></thead><tbody><tr><td>Key</td><td><div class=\"dni-plaintext\"><pre>4</pre></div></td></tr><tr><td><i>(values)</i></td><td><table><thead><tr><th><i>index</i></th><th>value</th></tr></thead><tbody><tr><td>0</td><td><details class=\"dni-treeview\"><summary><span class=\"dni-code-hint\"><code>Submission#4+TimeIndexedValue</code></span></summary><div><table><thead><tr></tr></thead><tbody><tr><td>TimeStep</td><td><details class=\"dni-treeview\"><summary><span class=\"dni-code-hint\"><code>TimeStep: 4</code></span></summary><div><table><thead><tr></tr></thead><tbody><tr><td>Index</td><td><div class=\"dni-plaintext\"><pre>4</pre></div></td></tr></tbody></table></div></details></td></tr><tr><td>Value</td><td><div class=\"dni-plaintext\"><pre>400</pre></div></td></tr></tbody></table></div></details></td></tr><tr><td>1</td><td><details class=\"dni-treeview\"><summary><span class=\"dni-code-hint\"><code>Submission#4+TimeIndexedValue</code></span></summary><div><table><thead><tr></tr></thead><tbody><tr><td>TimeStep</td><td><details class=\"dni-treeview\"><summary><span class=\"dni-code-hint\"><code>TimeStep: 4</code></span></summary><div><table><thead><tr></tr></thead><tbody><tr><td>Index</td><td><div class=\"dni-plaintext\"><pre>4</pre></div></td></tr></tbody></table></div></details></td></tr><tr><td>Value</td><td><div class=\"dni-plaintext\"><pre>40</pre></div></td></tr></tbody></table></div></details></td></tr></tbody></table></td></tr></tbody></table></div></details></td></tr><tr><td>4</td><td><details class=\"dni-treeview\"><summary><span class=\"dni-code-hint\"><code>[ Submission#4+TimeIndexedValue, Submission#4+TimeIndexedValue ]</code></span></summary><div><table><thead><tr></tr></thead><tbody><tr><td>Key</td><td><div class=\"dni-plaintext\"><pre>5</pre></div></td></tr><tr><td><i>(values)</i></td><td><table><thead><tr><th><i>index</i></th><th>value</th></tr></thead><tbody><tr><td>0</td><td><details class=\"dni-treeview\"><summary><span class=\"dni-code-hint\"><code>Submission#4+TimeIndexedValue</code></span></summary><div><table><thead><tr></tr></thead><tbody><tr><td>TimeStep</td><td><details class=\"dni-treeview\"><summary><span class=\"dni-code-hint\"><code>TimeStep: 5</code></span></summary><div><table><thead><tr></tr></thead><tbody><tr><td>Index</td><td><div class=\"dni-plaintext\"><pre>5</pre></div></td></tr></tbody></table></div></details></td></tr><tr><td>Value</td><td><div class=\"dni-plaintext\"><pre>500</pre></div></td></tr></tbody></table></div></details></td></tr><tr><td>1</td><td><details class=\"dni-treeview\"><summary><span class=\"dni-code-hint\"><code>Submission#4+TimeIndexedValue</code></span></summary><div><table><thead><tr></tr></thead><tbody><tr><td>TimeStep</td><td><details class=\"dni-treeview\"><summary><span class=\"dni-code-hint\"><code>TimeStep: 5</code></span></summary><div><table><thead><tr></tr></thead><tbody><tr><td>Index</td><td><div class=\"dni-plaintext\"><pre>5</pre></div></td></tr></tbody></table></div></details></td></tr><tr><td>Value</td><td><div class=\"dni-plaintext\"><pre>51100</pre></div></td></tr></tbody></table></div></details></td></tr></tbody></table></td></tr></tbody></table></div></details></td></tr></tbody></table></td></tr></tbody></table></div></details><style>\r\n",
       ".dni-code-hint {\r\n",
       "    font-style: italic;\r\n",
       "    overflow: hidden;\r\n",
       "    white-space: nowrap;\r\n",
       "}\r\n",
       ".dni-treeview {\r\n",
       "    white-space: nowrap;\r\n",
       "}\r\n",
       ".dni-treeview td {\r\n",
       "    vertical-align: top;\r\n",
       "    text-align: start;\r\n",
       "}\r\n",
       "details.dni-treeview {\r\n",
       "    padding-left: 1em;\r\n",
       "}\r\n",
       "table td {\r\n",
       "    text-align: start;\r\n",
       "}\r\n",
       "table tr { \r\n",
       "    vertical-align: top; \r\n",
       "    margin: 0em 0px;\r\n",
       "}\r\n",
       "table tr td pre \r\n",
       "{ \r\n",
       "    vertical-align: top !important; \r\n",
       "    margin: 0em 0px !important;\r\n",
       "} \r\n",
       "table th {\r\n",
       "    text-align: start;\r\n",
       "}\r\n",
       "</style>"
      ]
     },
     "metadata": {},
     "output_type": "display_data"
    }
   ],
   "source": [
    "var y = x.GroupBy(z => z.TimeStep.Index); // this is the list of all TimeIndexedValues grouped by TimeStep.Index\n",
    "y"
   ]
  },
  {
   "cell_type": "code",
   "execution_count": 13,
   "metadata": {
    "dotnet_interactive": {
     "language": "csharp"
    },
    "polyglot_notebook": {
     "kernelName": "csharp"
    }
   },
   "outputs": [
    {
     "data": {
      "text/html": [
       "<div class=\"dni-plaintext\"><pre>[ 1, 2, 3, 4, 5 ]</pre></div><style>\r\n",
       ".dni-code-hint {\r\n",
       "    font-style: italic;\r\n",
       "    overflow: hidden;\r\n",
       "    white-space: nowrap;\r\n",
       "}\r\n",
       ".dni-treeview {\r\n",
       "    white-space: nowrap;\r\n",
       "}\r\n",
       ".dni-treeview td {\r\n",
       "    vertical-align: top;\r\n",
       "    text-align: start;\r\n",
       "}\r\n",
       "details.dni-treeview {\r\n",
       "    padding-left: 1em;\r\n",
       "}\r\n",
       "table td {\r\n",
       "    text-align: start;\r\n",
       "}\r\n",
       "table tr { \r\n",
       "    vertical-align: top; \r\n",
       "    margin: 0em 0px;\r\n",
       "}\r\n",
       "table tr td pre \r\n",
       "{ \r\n",
       "    vertical-align: top !important; \r\n",
       "    margin: 0em 0px !important;\r\n",
       "} \r\n",
       "table th {\r\n",
       "    text-align: start;\r\n",
       "}\r\n",
       "</style>"
      ]
     },
     "metadata": {},
     "output_type": "display_data"
    }
   ],
   "source": [
    "var z = y.Select(x => x.Key);\n",
    "display(z);\n",
    "// var a = z.First().Select(x => x.Value).ToList(); // this is the list of all values for TimeStep.Index == 1\n",
    "//display(a);"
   ]
  },
  {
   "cell_type": "code",
   "execution_count": 14,
   "metadata": {
    "dotnet_interactive": {
     "language": "csharp"
    },
    "polyglot_notebook": {
     "kernelName": "csharp"
    }
   },
   "outputs": [
    {
     "data": {
      "text/html": [
       "<table><thead><tr><th><i>index</i></th><th>value</th></tr></thead><tbody><tr><td>0</td><td><details class=\"dni-treeview\"><summary><span class=\"dni-code-hint\"><code>Submission#10+Location</code></span></summary><div><table><thead><tr></tr></thead><tbody><tr><td>TimeIndexedValues</td><td><table><thead><tr><th><i>index</i></th><th>value</th></tr></thead><tbody><tr><td>0</td><td><details class=\"dni-treeview\"><summary><span class=\"dni-code-hint\"><code>Submission#4+TimeIndexedValue</code></span></summary><div><table><thead><tr></tr></thead><tbody><tr><td>TimeStep</td><td><details class=\"dni-treeview\"><summary><span class=\"dni-code-hint\"><code>TimeStep: 1</code></span></summary><div><table><thead><tr></tr></thead><tbody><tr><td>Index</td><td><div class=\"dni-plaintext\"><pre>1</pre></div></td></tr></tbody></table></div></details></td></tr><tr><td>Value</td><td><div class=\"dni-plaintext\"><pre>100</pre></div></td></tr></tbody></table></div></details></td></tr><tr><td>1</td><td><details class=\"dni-treeview\"><summary><span class=\"dni-code-hint\"><code>Submission#4+TimeIndexedValue</code></span></summary><div><table><thead><tr></tr></thead><tbody><tr><td>TimeStep</td><td><details class=\"dni-treeview\"><summary><span class=\"dni-code-hint\"><code>TimeStep: 2</code></span></summary><div><table><thead><tr></tr></thead><tbody><tr><td>Index</td><td><div class=\"dni-plaintext\"><pre>2</pre></div></td></tr></tbody></table></div></details></td></tr><tr><td>Value</td><td><div class=\"dni-plaintext\"><pre>200</pre></div></td></tr></tbody></table></div></details></td></tr><tr><td>2</td><td><details class=\"dni-treeview\"><summary><span class=\"dni-code-hint\"><code>Submission#4+TimeIndexedValue</code></span></summary><div><table><thead><tr></tr></thead><tbody><tr><td>TimeStep</td><td><details class=\"dni-treeview\"><summary><span class=\"dni-code-hint\"><code>TimeStep: 3</code></span></summary><div><table><thead><tr></tr></thead><tbody><tr><td>Index</td><td><div class=\"dni-plaintext\"><pre>3</pre></div></td></tr></tbody></table></div></details></td></tr><tr><td>Value</td><td><div class=\"dni-plaintext\"><pre>300</pre></div></td></tr></tbody></table></div></details></td></tr><tr><td>3</td><td><details class=\"dni-treeview\"><summary><span class=\"dni-code-hint\"><code>Submission#4+TimeIndexedValue</code></span></summary><div><table><thead><tr></tr></thead><tbody><tr><td>TimeStep</td><td><details class=\"dni-treeview\"><summary><span class=\"dni-code-hint\"><code>TimeStep: 4</code></span></summary><div><table><thead><tr></tr></thead><tbody><tr><td>Index</td><td><div class=\"dni-plaintext\"><pre>4</pre></div></td></tr></tbody></table></div></details></td></tr><tr><td>Value</td><td><div class=\"dni-plaintext\"><pre>400</pre></div></td></tr></tbody></table></div></details></td></tr><tr><td>4</td><td><details class=\"dni-treeview\"><summary><span class=\"dni-code-hint\"><code>Submission#4+TimeIndexedValue</code></span></summary><div><table><thead><tr></tr></thead><tbody><tr><td>TimeStep</td><td><details class=\"dni-treeview\"><summary><span class=\"dni-code-hint\"><code>TimeStep: 5</code></span></summary><div><table><thead><tr></tr></thead><tbody><tr><td>Index</td><td><div class=\"dni-plaintext\"><pre>5</pre></div></td></tr></tbody></table></div></details></td></tr><tr><td>Value</td><td><div class=\"dni-plaintext\"><pre>500</pre></div></td></tr></tbody></table></div></details></td></tr></tbody></table></td></tr><tr><td>Name</td><td><div class=\"dni-plaintext\"><pre>Location 1</pre></div></td></tr></tbody></table></div></details></td></tr><tr><td>1</td><td><details class=\"dni-treeview\"><summary><span class=\"dni-code-hint\"><code>Submission#10+Location</code></span></summary><div><table><thead><tr></tr></thead><tbody><tr><td>TimeIndexedValues</td><td><table><thead><tr><th><i>index</i></th><th>value</th></tr></thead><tbody><tr><td>0</td><td><details class=\"dni-treeview\"><summary><span class=\"dni-code-hint\"><code>Submission#4+TimeIndexedValue</code></span></summary><div><table><thead><tr></tr></thead><tbody><tr><td>TimeStep</td><td><details class=\"dni-treeview\"><summary><span class=\"dni-code-hint\"><code>TimeStep: 1</code></span></summary><div><table><thead><tr></tr></thead><tbody><tr><td>Index</td><td><div class=\"dni-plaintext\"><pre>1</pre></div></td></tr></tbody></table></div></details></td></tr><tr><td>Value</td><td><div class=\"dni-plaintext\"><pre>500</pre></div></td></tr></tbody></table></div></details></td></tr><tr><td>1</td><td><details class=\"dni-treeview\"><summary><span class=\"dni-code-hint\"><code>Submission#4+TimeIndexedValue</code></span></summary><div><table><thead><tr></tr></thead><tbody><tr><td>TimeStep</td><td><details class=\"dni-treeview\"><summary><span class=\"dni-code-hint\"><code>TimeStep: 2</code></span></summary><div><table><thead><tr></tr></thead><tbody><tr><td>Index</td><td><div class=\"dni-plaintext\"><pre>2</pre></div></td></tr></tbody></table></div></details></td></tr><tr><td>Value</td><td><div class=\"dni-plaintext\"><pre>7200</pre></div></td></tr></tbody></table></div></details></td></tr><tr><td>2</td><td><details class=\"dni-treeview\"><summary><span class=\"dni-code-hint\"><code>Submission#4+TimeIndexedValue</code></span></summary><div><table><thead><tr></tr></thead><tbody><tr><td>TimeStep</td><td><details class=\"dni-treeview\"><summary><span class=\"dni-code-hint\"><code>TimeStep: 3</code></span></summary><div><table><thead><tr></tr></thead><tbody><tr><td>Index</td><td><div class=\"dni-plaintext\"><pre>3</pre></div></td></tr></tbody></table></div></details></td></tr><tr><td>Value</td><td><div class=\"dni-plaintext\"><pre>3500</pre></div></td></tr></tbody></table></div></details></td></tr><tr><td>3</td><td><details class=\"dni-treeview\"><summary><span class=\"dni-code-hint\"><code>Submission#4+TimeIndexedValue</code></span></summary><div><table><thead><tr></tr></thead><tbody><tr><td>TimeStep</td><td><details class=\"dni-treeview\"><summary><span class=\"dni-code-hint\"><code>TimeStep: 4</code></span></summary><div><table><thead><tr></tr></thead><tbody><tr><td>Index</td><td><div class=\"dni-plaintext\"><pre>4</pre></div></td></tr></tbody></table></div></details></td></tr><tr><td>Value</td><td><div class=\"dni-plaintext\"><pre>40</pre></div></td></tr></tbody></table></div></details></td></tr><tr><td>4</td><td><details class=\"dni-treeview\"><summary><span class=\"dni-code-hint\"><code>Submission#4+TimeIndexedValue</code></span></summary><div><table><thead><tr></tr></thead><tbody><tr><td>TimeStep</td><td><details class=\"dni-treeview\"><summary><span class=\"dni-code-hint\"><code>TimeStep: 5</code></span></summary><div><table><thead><tr></tr></thead><tbody><tr><td>Index</td><td><div class=\"dni-plaintext\"><pre>5</pre></div></td></tr></tbody></table></div></details></td></tr><tr><td>Value</td><td><div class=\"dni-plaintext\"><pre>51100</pre></div></td></tr></tbody></table></div></details></td></tr></tbody></table></td></tr><tr><td>Name</td><td><div class=\"dni-plaintext\"><pre>Location 2</pre></div></td></tr></tbody></table></div></details></td></tr></tbody></table><style>\r\n",
       ".dni-code-hint {\r\n",
       "    font-style: italic;\r\n",
       "    overflow: hidden;\r\n",
       "    white-space: nowrap;\r\n",
       "}\r\n",
       ".dni-treeview {\r\n",
       "    white-space: nowrap;\r\n",
       "}\r\n",
       ".dni-treeview td {\r\n",
       "    vertical-align: top;\r\n",
       "    text-align: start;\r\n",
       "}\r\n",
       "details.dni-treeview {\r\n",
       "    padding-left: 1em;\r\n",
       "}\r\n",
       "table td {\r\n",
       "    text-align: start;\r\n",
       "}\r\n",
       "table tr { \r\n",
       "    vertical-align: top; \r\n",
       "    margin: 0em 0px;\r\n",
       "}\r\n",
       "table tr td pre \r\n",
       "{ \r\n",
       "    vertical-align: top !important; \r\n",
       "    margin: 0em 0px !important;\r\n",
       "} \r\n",
       "table th {\r\n",
       "    text-align: start;\r\n",
       "}\r\n",
       "</style>"
      ]
     },
     "metadata": {},
     "output_type": "display_data"
    }
   ],
   "source": [
    "locations"
   ]
  },
  {
   "cell_type": "code",
   "execution_count": 15,
   "metadata": {
    "dotnet_interactive": {
     "language": "csharp"
    },
    "polyglot_notebook": {
     "kernelName": "csharp"
    }
   },
   "outputs": [
    {
     "data": {
      "text/html": [
       "<table><thead><tr><th><i>index</i></th><th>value</th></tr></thead><tbody><tr><td>0</td><td><details class=\"dni-treeview\"><summary><span class=\"dni-code-hint\"><code>Submission#4+TimeIndexedValue</code></span></summary><div><table><thead><tr></tr></thead><tbody><tr><td>TimeStep</td><td><details class=\"dni-treeview\"><summary><span class=\"dni-code-hint\"><code>TimeStep: 1</code></span></summary><div><table><thead><tr></tr></thead><tbody><tr><td>Index</td><td><div class=\"dni-plaintext\"><pre>1</pre></div></td></tr></tbody></table></div></details></td></tr><tr><td>Value</td><td><div class=\"dni-plaintext\"><pre>100</pre></div></td></tr></tbody></table></div></details></td></tr><tr><td>1</td><td><details class=\"dni-treeview\"><summary><span class=\"dni-code-hint\"><code>Submission#4+TimeIndexedValue</code></span></summary><div><table><thead><tr></tr></thead><tbody><tr><td>TimeStep</td><td><details class=\"dni-treeview\"><summary><span class=\"dni-code-hint\"><code>TimeStep: 2</code></span></summary><div><table><thead><tr></tr></thead><tbody><tr><td>Index</td><td><div class=\"dni-plaintext\"><pre>2</pre></div></td></tr></tbody></table></div></details></td></tr><tr><td>Value</td><td><div class=\"dni-plaintext\"><pre>200</pre></div></td></tr></tbody></table></div></details></td></tr><tr><td>2</td><td><details class=\"dni-treeview\"><summary><span class=\"dni-code-hint\"><code>Submission#4+TimeIndexedValue</code></span></summary><div><table><thead><tr></tr></thead><tbody><tr><td>TimeStep</td><td><details class=\"dni-treeview\"><summary><span class=\"dni-code-hint\"><code>TimeStep: 3</code></span></summary><div><table><thead><tr></tr></thead><tbody><tr><td>Index</td><td><div class=\"dni-plaintext\"><pre>3</pre></div></td></tr></tbody></table></div></details></td></tr><tr><td>Value</td><td><div class=\"dni-plaintext\"><pre>300</pre></div></td></tr></tbody></table></div></details></td></tr><tr><td>3</td><td><details class=\"dni-treeview\"><summary><span class=\"dni-code-hint\"><code>Submission#4+TimeIndexedValue</code></span></summary><div><table><thead><tr></tr></thead><tbody><tr><td>TimeStep</td><td><details class=\"dni-treeview\"><summary><span class=\"dni-code-hint\"><code>TimeStep: 4</code></span></summary><div><table><thead><tr></tr></thead><tbody><tr><td>Index</td><td><div class=\"dni-plaintext\"><pre>4</pre></div></td></tr></tbody></table></div></details></td></tr><tr><td>Value</td><td><div class=\"dni-plaintext\"><pre>400</pre></div></td></tr></tbody></table></div></details></td></tr><tr><td>4</td><td><details class=\"dni-treeview\"><summary><span class=\"dni-code-hint\"><code>Submission#4+TimeIndexedValue</code></span></summary><div><table><thead><tr></tr></thead><tbody><tr><td>TimeStep</td><td><details class=\"dni-treeview\"><summary><span class=\"dni-code-hint\"><code>TimeStep: 5</code></span></summary><div><table><thead><tr></tr></thead><tbody><tr><td>Index</td><td><div class=\"dni-plaintext\"><pre>5</pre></div></td></tr></tbody></table></div></details></td></tr><tr><td>Value</td><td><div class=\"dni-plaintext\"><pre>500</pre></div></td></tr></tbody></table></div></details></td></tr><tr><td>5</td><td><details class=\"dni-treeview\"><summary><span class=\"dni-code-hint\"><code>Submission#4+TimeIndexedValue</code></span></summary><div><table><thead><tr></tr></thead><tbody><tr><td>TimeStep</td><td><details class=\"dni-treeview\"><summary><span class=\"dni-code-hint\"><code>TimeStep: 1</code></span></summary><div><table><thead><tr></tr></thead><tbody><tr><td>Index</td><td><div class=\"dni-plaintext\"><pre>1</pre></div></td></tr></tbody></table></div></details></td></tr><tr><td>Value</td><td><div class=\"dni-plaintext\"><pre>500</pre></div></td></tr></tbody></table></div></details></td></tr><tr><td>6</td><td><details class=\"dni-treeview\"><summary><span class=\"dni-code-hint\"><code>Submission#4+TimeIndexedValue</code></span></summary><div><table><thead><tr></tr></thead><tbody><tr><td>TimeStep</td><td><details class=\"dni-treeview\"><summary><span class=\"dni-code-hint\"><code>TimeStep: 2</code></span></summary><div><table><thead><tr></tr></thead><tbody><tr><td>Index</td><td><div class=\"dni-plaintext\"><pre>2</pre></div></td></tr></tbody></table></div></details></td></tr><tr><td>Value</td><td><div class=\"dni-plaintext\"><pre>7200</pre></div></td></tr></tbody></table></div></details></td></tr><tr><td>7</td><td><details class=\"dni-treeview\"><summary><span class=\"dni-code-hint\"><code>Submission#4+TimeIndexedValue</code></span></summary><div><table><thead><tr></tr></thead><tbody><tr><td>TimeStep</td><td><details class=\"dni-treeview\"><summary><span class=\"dni-code-hint\"><code>TimeStep: 3</code></span></summary><div><table><thead><tr></tr></thead><tbody><tr><td>Index</td><td><div class=\"dni-plaintext\"><pre>3</pre></div></td></tr></tbody></table></div></details></td></tr><tr><td>Value</td><td><div class=\"dni-plaintext\"><pre>3500</pre></div></td></tr></tbody></table></div></details></td></tr><tr><td>8</td><td><details class=\"dni-treeview\"><summary><span class=\"dni-code-hint\"><code>Submission#4+TimeIndexedValue</code></span></summary><div><table><thead><tr></tr></thead><tbody><tr><td>TimeStep</td><td><details class=\"dni-treeview\"><summary><span class=\"dni-code-hint\"><code>TimeStep: 4</code></span></summary><div><table><thead><tr></tr></thead><tbody><tr><td>Index</td><td><div class=\"dni-plaintext\"><pre>4</pre></div></td></tr></tbody></table></div></details></td></tr><tr><td>Value</td><td><div class=\"dni-plaintext\"><pre>40</pre></div></td></tr></tbody></table></div></details></td></tr><tr><td>9</td><td><details class=\"dni-treeview\"><summary><span class=\"dni-code-hint\"><code>Submission#4+TimeIndexedValue</code></span></summary><div><table><thead><tr></tr></thead><tbody><tr><td>TimeStep</td><td><details class=\"dni-treeview\"><summary><span class=\"dni-code-hint\"><code>TimeStep: 5</code></span></summary><div><table><thead><tr></tr></thead><tbody><tr><td>Index</td><td><div class=\"dni-plaintext\"><pre>5</pre></div></td></tr></tbody></table></div></details></td></tr><tr><td>Value</td><td><div class=\"dni-plaintext\"><pre>51100</pre></div></td></tr></tbody></table></div></details></td></tr></tbody></table><style>\r\n",
       ".dni-code-hint {\r\n",
       "    font-style: italic;\r\n",
       "    overflow: hidden;\r\n",
       "    white-space: nowrap;\r\n",
       "}\r\n",
       ".dni-treeview {\r\n",
       "    white-space: nowrap;\r\n",
       "}\r\n",
       ".dni-treeview td {\r\n",
       "    vertical-align: top;\r\n",
       "    text-align: start;\r\n",
       "}\r\n",
       "details.dni-treeview {\r\n",
       "    padding-left: 1em;\r\n",
       "}\r\n",
       "table td {\r\n",
       "    text-align: start;\r\n",
       "}\r\n",
       "table tr { \r\n",
       "    vertical-align: top; \r\n",
       "    margin: 0em 0px;\r\n",
       "}\r\n",
       "table tr td pre \r\n",
       "{ \r\n",
       "    vertical-align: top !important; \r\n",
       "    margin: 0em 0px !important;\r\n",
       "} \r\n",
       "table th {\r\n",
       "    text-align: start;\r\n",
       "}\r\n",
       "</style>"
      ]
     },
     "metadata": {},
     "output_type": "display_data"
    }
   ],
   "source": [
    "var step1 = locations.SelectMany(x => x.TimeIndexedValues);\n",
    "step1"
   ]
  },
  {
   "cell_type": "code",
   "execution_count": 16,
   "metadata": {
    "dotnet_interactive": {
     "language": "csharp"
    },
    "polyglot_notebook": {
     "kernelName": "csharp"
    }
   },
   "outputs": [
    {
     "data": {
      "text/html": [
       "<details open=\"open\" class=\"dni-treeview\"><summary><span class=\"dni-code-hint\"><code>[ [ Submission#4+TimeIndexedValue, Submission#4+TimeIndexedValue ], [ Submission#4+TimeIndexedValue, Submission#4+TimeIndexedValue ], [ Submission#4+TimeIndexedValue, Submission#4+TimeIndexedValue ], [ Submission#4+TimeIndexedValue, Submission#4+TimeIndexedValue ], [ Submission#4+TimeIndexedValue, Submission#4+TimeIndexedValue ] ]</code></span></summary><div><table><thead><tr></tr></thead><tbody><tr><td><i>(values)</i></td><td><table><thead><tr><th><i>index</i></th><th>value</th></tr></thead><tbody><tr><td>0</td><td><details class=\"dni-treeview\"><summary><span class=\"dni-code-hint\"><code>[ Submission#4+TimeIndexedValue, Submission#4+TimeIndexedValue ]</code></span></summary><div><table><thead><tr></tr></thead><tbody><tr><td>Key</td><td><div class=\"dni-plaintext\"><pre>1</pre></div></td></tr><tr><td><i>(values)</i></td><td><table><thead><tr><th><i>index</i></th><th>value</th></tr></thead><tbody><tr><td>0</td><td><details class=\"dni-treeview\"><summary><span class=\"dni-code-hint\"><code>Submission#4+TimeIndexedValue</code></span></summary><div><table><thead><tr></tr></thead><tbody><tr><td>TimeStep</td><td><details class=\"dni-treeview\"><summary><span class=\"dni-code-hint\"><code>TimeStep: 1</code></span></summary><div><table><thead><tr></tr></thead><tbody><tr><td>Index</td><td><div class=\"dni-plaintext\"><pre>1</pre></div></td></tr></tbody></table></div></details></td></tr><tr><td>Value</td><td><div class=\"dni-plaintext\"><pre>100</pre></div></td></tr></tbody></table></div></details></td></tr><tr><td>1</td><td><details class=\"dni-treeview\"><summary><span class=\"dni-code-hint\"><code>Submission#4+TimeIndexedValue</code></span></summary><div><table><thead><tr></tr></thead><tbody><tr><td>TimeStep</td><td><details class=\"dni-treeview\"><summary><span class=\"dni-code-hint\"><code>TimeStep: 1</code></span></summary><div><table><thead><tr></tr></thead><tbody><tr><td>Index</td><td><div class=\"dni-plaintext\"><pre>1</pre></div></td></tr></tbody></table></div></details></td></tr><tr><td>Value</td><td><div class=\"dni-plaintext\"><pre>500</pre></div></td></tr></tbody></table></div></details></td></tr></tbody></table></td></tr></tbody></table></div></details></td></tr><tr><td>1</td><td><details class=\"dni-treeview\"><summary><span class=\"dni-code-hint\"><code>[ Submission#4+TimeIndexedValue, Submission#4+TimeIndexedValue ]</code></span></summary><div><table><thead><tr></tr></thead><tbody><tr><td>Key</td><td><div class=\"dni-plaintext\"><pre>2</pre></div></td></tr><tr><td><i>(values)</i></td><td><table><thead><tr><th><i>index</i></th><th>value</th></tr></thead><tbody><tr><td>0</td><td><details class=\"dni-treeview\"><summary><span class=\"dni-code-hint\"><code>Submission#4+TimeIndexedValue</code></span></summary><div><table><thead><tr></tr></thead><tbody><tr><td>TimeStep</td><td><details class=\"dni-treeview\"><summary><span class=\"dni-code-hint\"><code>TimeStep: 2</code></span></summary><div><table><thead><tr></tr></thead><tbody><tr><td>Index</td><td><div class=\"dni-plaintext\"><pre>2</pre></div></td></tr></tbody></table></div></details></td></tr><tr><td>Value</td><td><div class=\"dni-plaintext\"><pre>200</pre></div></td></tr></tbody></table></div></details></td></tr><tr><td>1</td><td><details class=\"dni-treeview\"><summary><span class=\"dni-code-hint\"><code>Submission#4+TimeIndexedValue</code></span></summary><div><table><thead><tr></tr></thead><tbody><tr><td>TimeStep</td><td><details class=\"dni-treeview\"><summary><span class=\"dni-code-hint\"><code>TimeStep: 2</code></span></summary><div><table><thead><tr></tr></thead><tbody><tr><td>Index</td><td><div class=\"dni-plaintext\"><pre>2</pre></div></td></tr></tbody></table></div></details></td></tr><tr><td>Value</td><td><div class=\"dni-plaintext\"><pre>7200</pre></div></td></tr></tbody></table></div></details></td></tr></tbody></table></td></tr></tbody></table></div></details></td></tr><tr><td>2</td><td><details class=\"dni-treeview\"><summary><span class=\"dni-code-hint\"><code>[ Submission#4+TimeIndexedValue, Submission#4+TimeIndexedValue ]</code></span></summary><div><table><thead><tr></tr></thead><tbody><tr><td>Key</td><td><div class=\"dni-plaintext\"><pre>3</pre></div></td></tr><tr><td><i>(values)</i></td><td><table><thead><tr><th><i>index</i></th><th>value</th></tr></thead><tbody><tr><td>0</td><td><details class=\"dni-treeview\"><summary><span class=\"dni-code-hint\"><code>Submission#4+TimeIndexedValue</code></span></summary><div><table><thead><tr></tr></thead><tbody><tr><td>TimeStep</td><td><details class=\"dni-treeview\"><summary><span class=\"dni-code-hint\"><code>TimeStep: 3</code></span></summary><div><table><thead><tr></tr></thead><tbody><tr><td>Index</td><td><div class=\"dni-plaintext\"><pre>3</pre></div></td></tr></tbody></table></div></details></td></tr><tr><td>Value</td><td><div class=\"dni-plaintext\"><pre>300</pre></div></td></tr></tbody></table></div></details></td></tr><tr><td>1</td><td><details class=\"dni-treeview\"><summary><span class=\"dni-code-hint\"><code>Submission#4+TimeIndexedValue</code></span></summary><div><table><thead><tr></tr></thead><tbody><tr><td>TimeStep</td><td><details class=\"dni-treeview\"><summary><span class=\"dni-code-hint\"><code>TimeStep: 3</code></span></summary><div><table><thead><tr></tr></thead><tbody><tr><td>Index</td><td><div class=\"dni-plaintext\"><pre>3</pre></div></td></tr></tbody></table></div></details></td></tr><tr><td>Value</td><td><div class=\"dni-plaintext\"><pre>3500</pre></div></td></tr></tbody></table></div></details></td></tr></tbody></table></td></tr></tbody></table></div></details></td></tr><tr><td>3</td><td><details class=\"dni-treeview\"><summary><span class=\"dni-code-hint\"><code>[ Submission#4+TimeIndexedValue, Submission#4+TimeIndexedValue ]</code></span></summary><div><table><thead><tr></tr></thead><tbody><tr><td>Key</td><td><div class=\"dni-plaintext\"><pre>4</pre></div></td></tr><tr><td><i>(values)</i></td><td><table><thead><tr><th><i>index</i></th><th>value</th></tr></thead><tbody><tr><td>0</td><td><details class=\"dni-treeview\"><summary><span class=\"dni-code-hint\"><code>Submission#4+TimeIndexedValue</code></span></summary><div><table><thead><tr></tr></thead><tbody><tr><td>TimeStep</td><td><details class=\"dni-treeview\"><summary><span class=\"dni-code-hint\"><code>TimeStep: 4</code></span></summary><div><table><thead><tr></tr></thead><tbody><tr><td>Index</td><td><div class=\"dni-plaintext\"><pre>4</pre></div></td></tr></tbody></table></div></details></td></tr><tr><td>Value</td><td><div class=\"dni-plaintext\"><pre>400</pre></div></td></tr></tbody></table></div></details></td></tr><tr><td>1</td><td><details class=\"dni-treeview\"><summary><span class=\"dni-code-hint\"><code>Submission#4+TimeIndexedValue</code></span></summary><div><table><thead><tr></tr></thead><tbody><tr><td>TimeStep</td><td><details class=\"dni-treeview\"><summary><span class=\"dni-code-hint\"><code>TimeStep: 4</code></span></summary><div><table><thead><tr></tr></thead><tbody><tr><td>Index</td><td><div class=\"dni-plaintext\"><pre>4</pre></div></td></tr></tbody></table></div></details></td></tr><tr><td>Value</td><td><div class=\"dni-plaintext\"><pre>40</pre></div></td></tr></tbody></table></div></details></td></tr></tbody></table></td></tr></tbody></table></div></details></td></tr><tr><td>4</td><td><details class=\"dni-treeview\"><summary><span class=\"dni-code-hint\"><code>[ Submission#4+TimeIndexedValue, Submission#4+TimeIndexedValue ]</code></span></summary><div><table><thead><tr></tr></thead><tbody><tr><td>Key</td><td><div class=\"dni-plaintext\"><pre>5</pre></div></td></tr><tr><td><i>(values)</i></td><td><table><thead><tr><th><i>index</i></th><th>value</th></tr></thead><tbody><tr><td>0</td><td><details class=\"dni-treeview\"><summary><span class=\"dni-code-hint\"><code>Submission#4+TimeIndexedValue</code></span></summary><div><table><thead><tr></tr></thead><tbody><tr><td>TimeStep</td><td><details class=\"dni-treeview\"><summary><span class=\"dni-code-hint\"><code>TimeStep: 5</code></span></summary><div><table><thead><tr></tr></thead><tbody><tr><td>Index</td><td><div class=\"dni-plaintext\"><pre>5</pre></div></td></tr></tbody></table></div></details></td></tr><tr><td>Value</td><td><div class=\"dni-plaintext\"><pre>500</pre></div></td></tr></tbody></table></div></details></td></tr><tr><td>1</td><td><details class=\"dni-treeview\"><summary><span class=\"dni-code-hint\"><code>Submission#4+TimeIndexedValue</code></span></summary><div><table><thead><tr></tr></thead><tbody><tr><td>TimeStep</td><td><details class=\"dni-treeview\"><summary><span class=\"dni-code-hint\"><code>TimeStep: 5</code></span></summary><div><table><thead><tr></tr></thead><tbody><tr><td>Index</td><td><div class=\"dni-plaintext\"><pre>5</pre></div></td></tr></tbody></table></div></details></td></tr><tr><td>Value</td><td><div class=\"dni-plaintext\"><pre>51100</pre></div></td></tr></tbody></table></div></details></td></tr></tbody></table></td></tr></tbody></table></div></details></td></tr></tbody></table></td></tr></tbody></table></div></details><style>\r\n",
       ".dni-code-hint {\r\n",
       "    font-style: italic;\r\n",
       "    overflow: hidden;\r\n",
       "    white-space: nowrap;\r\n",
       "}\r\n",
       ".dni-treeview {\r\n",
       "    white-space: nowrap;\r\n",
       "}\r\n",
       ".dni-treeview td {\r\n",
       "    vertical-align: top;\r\n",
       "    text-align: start;\r\n",
       "}\r\n",
       "details.dni-treeview {\r\n",
       "    padding-left: 1em;\r\n",
       "}\r\n",
       "table td {\r\n",
       "    text-align: start;\r\n",
       "}\r\n",
       "table tr { \r\n",
       "    vertical-align: top; \r\n",
       "    margin: 0em 0px;\r\n",
       "}\r\n",
       "table tr td pre \r\n",
       "{ \r\n",
       "    vertical-align: top !important; \r\n",
       "    margin: 0em 0px !important;\r\n",
       "} \r\n",
       "table th {\r\n",
       "    text-align: start;\r\n",
       "}\r\n",
       "</style>"
      ]
     },
     "metadata": {},
     "output_type": "display_data"
    }
   ],
   "source": [
    "var step2 = step1.GroupBy(x => x.TimeStep.Index);\n",
    "step2"
   ]
  },
  {
   "cell_type": "code",
   "execution_count": 17,
   "metadata": {
    "dotnet_interactive": {
     "language": "csharp"
    },
    "polyglot_notebook": {
     "kernelName": "csharp"
    }
   },
   "outputs": [
    {
     "data": {
      "text/html": [
       "<table><thead><tr><th><i>index</i></th><th>value</th></tr></thead><tbody><tr><td>0</td><td><div class=\"dni-plaintext\"><pre>[ 100, 500 ]</pre></div></td></tr><tr><td>1</td><td><div class=\"dni-plaintext\"><pre>[ 200, 7200 ]</pre></div></td></tr><tr><td>2</td><td><div class=\"dni-plaintext\"><pre>[ 300, 3500 ]</pre></div></td></tr><tr><td>3</td><td><div class=\"dni-plaintext\"><pre>[ 400, 40 ]</pre></div></td></tr><tr><td>4</td><td><div class=\"dni-plaintext\"><pre>[ 500, 51100 ]</pre></div></td></tr></tbody></table><style>\r\n",
       ".dni-code-hint {\r\n",
       "    font-style: italic;\r\n",
       "    overflow: hidden;\r\n",
       "    white-space: nowrap;\r\n",
       "}\r\n",
       ".dni-treeview {\r\n",
       "    white-space: nowrap;\r\n",
       "}\r\n",
       ".dni-treeview td {\r\n",
       "    vertical-align: top;\r\n",
       "    text-align: start;\r\n",
       "}\r\n",
       "details.dni-treeview {\r\n",
       "    padding-left: 1em;\r\n",
       "}\r\n",
       "table td {\r\n",
       "    text-align: start;\r\n",
       "}\r\n",
       "table tr { \r\n",
       "    vertical-align: top; \r\n",
       "    margin: 0em 0px;\r\n",
       "}\r\n",
       "table tr td pre \r\n",
       "{ \r\n",
       "    vertical-align: top !important; \r\n",
       "    margin: 0em 0px !important;\r\n",
       "} \r\n",
       "table th {\r\n",
       "    text-align: start;\r\n",
       "}\r\n",
       "</style>"
      ]
     },
     "metadata": {},
     "output_type": "display_data"
    }
   ],
   "source": [
    "var step3 = step2.Select(x => x.Select(y => y.Value));\n",
    "step3"
   ]
  },
  {
   "cell_type": "code",
   "execution_count": 18,
   "metadata": {
    "dotnet_interactive": {
     "language": "csharp"
    },
    "polyglot_notebook": {
     "kernelName": "csharp"
    }
   },
   "outputs": [],
   "source": [
    "\n",
    "\n",
    "var sum = locations.SelectMany(x => x.TimeIndexedValues).GroupBy(x => x.TimeStep.Index).Select(x => new TimeIndexedValue(x.Key, x.Sum(y => y.Value)));\n"
   ]
  },
  {
   "cell_type": "code",
   "execution_count": 19,
   "metadata": {
    "dotnet_interactive": {
     "language": "csharp"
    },
    "polyglot_notebook": {
     "kernelName": "csharp"
    }
   },
   "outputs": [
    {
     "data": {
      "text/html": [
       "<table><thead><tr><th><i>index</i></th><th>value</th></tr></thead><tbody><tr><td>0</td><td><details class=\"dni-treeview\"><summary><span class=\"dni-code-hint\"><code>Submission#4+TimeIndexedValue</code></span></summary><div><table><thead><tr></tr></thead><tbody><tr><td>TimeStep</td><td><details class=\"dni-treeview\"><summary><span class=\"dni-code-hint\"><code>TimeStep: 1</code></span></summary><div><table><thead><tr></tr></thead><tbody><tr><td>Index</td><td><div class=\"dni-plaintext\"><pre>1</pre></div></td></tr></tbody></table></div></details></td></tr><tr><td>Value</td><td><div class=\"dni-plaintext\"><pre>600</pre></div></td></tr></tbody></table></div></details></td></tr><tr><td>1</td><td><details class=\"dni-treeview\"><summary><span class=\"dni-code-hint\"><code>Submission#4+TimeIndexedValue</code></span></summary><div><table><thead><tr></tr></thead><tbody><tr><td>TimeStep</td><td><details class=\"dni-treeview\"><summary><span class=\"dni-code-hint\"><code>TimeStep: 2</code></span></summary><div><table><thead><tr></tr></thead><tbody><tr><td>Index</td><td><div class=\"dni-plaintext\"><pre>2</pre></div></td></tr></tbody></table></div></details></td></tr><tr><td>Value</td><td><div class=\"dni-plaintext\"><pre>7400</pre></div></td></tr></tbody></table></div></details></td></tr><tr><td>2</td><td><details class=\"dni-treeview\"><summary><span class=\"dni-code-hint\"><code>Submission#4+TimeIndexedValue</code></span></summary><div><table><thead><tr></tr></thead><tbody><tr><td>TimeStep</td><td><details class=\"dni-treeview\"><summary><span class=\"dni-code-hint\"><code>TimeStep: 3</code></span></summary><div><table><thead><tr></tr></thead><tbody><tr><td>Index</td><td><div class=\"dni-plaintext\"><pre>3</pre></div></td></tr></tbody></table></div></details></td></tr><tr><td>Value</td><td><div class=\"dni-plaintext\"><pre>3800</pre></div></td></tr></tbody></table></div></details></td></tr><tr><td>3</td><td><details class=\"dni-treeview\"><summary><span class=\"dni-code-hint\"><code>Submission#4+TimeIndexedValue</code></span></summary><div><table><thead><tr></tr></thead><tbody><tr><td>TimeStep</td><td><details class=\"dni-treeview\"><summary><span class=\"dni-code-hint\"><code>TimeStep: 4</code></span></summary><div><table><thead><tr></tr></thead><tbody><tr><td>Index</td><td><div class=\"dni-plaintext\"><pre>4</pre></div></td></tr></tbody></table></div></details></td></tr><tr><td>Value</td><td><div class=\"dni-plaintext\"><pre>440</pre></div></td></tr></tbody></table></div></details></td></tr><tr><td>4</td><td><details class=\"dni-treeview\"><summary><span class=\"dni-code-hint\"><code>Submission#4+TimeIndexedValue</code></span></summary><div><table><thead><tr></tr></thead><tbody><tr><td>TimeStep</td><td><details class=\"dni-treeview\"><summary><span class=\"dni-code-hint\"><code>TimeStep: 5</code></span></summary><div><table><thead><tr></tr></thead><tbody><tr><td>Index</td><td><div class=\"dni-plaintext\"><pre>5</pre></div></td></tr></tbody></table></div></details></td></tr><tr><td>Value</td><td><div class=\"dni-plaintext\"><pre>51600</pre></div></td></tr></tbody></table></div></details></td></tr></tbody></table><style>\r\n",
       ".dni-code-hint {\r\n",
       "    font-style: italic;\r\n",
       "    overflow: hidden;\r\n",
       "    white-space: nowrap;\r\n",
       "}\r\n",
       ".dni-treeview {\r\n",
       "    white-space: nowrap;\r\n",
       "}\r\n",
       ".dni-treeview td {\r\n",
       "    vertical-align: top;\r\n",
       "    text-align: start;\r\n",
       "}\r\n",
       "details.dni-treeview {\r\n",
       "    padding-left: 1em;\r\n",
       "}\r\n",
       "table td {\r\n",
       "    text-align: start;\r\n",
       "}\r\n",
       "table tr { \r\n",
       "    vertical-align: top; \r\n",
       "    margin: 0em 0px;\r\n",
       "}\r\n",
       "table tr td pre \r\n",
       "{ \r\n",
       "    vertical-align: top !important; \r\n",
       "    margin: 0em 0px !important;\r\n",
       "} \r\n",
       "table th {\r\n",
       "    text-align: start;\r\n",
       "}\r\n",
       "</style>"
      ]
     },
     "metadata": {},
     "output_type": "display_data"
    }
   ],
   "source": [
    "sum"
   ]
  },
  {
   "cell_type": "code",
   "execution_count": 33,
   "metadata": {
    "dotnet_interactive": {
     "language": "csharp"
    },
    "polyglot_notebook": {
     "kernelName": "csharp"
    }
   },
   "outputs": [],
   "source": [
    "// Test / test\n",
    "\n",
    "public class Technology \n",
    "\n",
    "{\n",
    "\n",
    "    public Technology(string name, IEnumerable<TimeIndexedValue> costdata, double somefactor)\n",
    "    {\n",
    "        Name = name;\n",
    "        CostData = new List<TimeIndexedValue>(costdata);\n",
    "        SomeFactor = somefactor;\n",
    "    }\n",
    "\n",
    "    public string Name {get; set;}\n",
    "    public List<TimeIndexedValue> CostData {get; set;}\n",
    "    public double SomeFactor {get; set;} \n",
    "\n",
    "    public override string ToString() {return $\"Technology: {Name}\";}\n",
    "    \n",
    "}\n",
    "\n",
    "public class Location \n",
    "\n",
    "{\n",
    "\n",
    "    public Location(string name, IEnumerable<TimeIndexedValue> locationdata, double anotherfactor)\n",
    "    {\n",
    "        Name = name;\n",
    "        LocationData = new List<TimeIndexedValue>(locationdata);\n",
    "        AnotherFactor = anotherfactor;\n",
    "    }\n",
    "\n",
    "    public string Name {get; set;}\n",
    "    public List<TimeIndexedValue> LocationData {get; set;}\n",
    "    public double AnotherFactor {get; set;} \n",
    "\n",
    "    public override string ToString() {return $\"Location: {Name}\";}\n",
    "    \n",
    "}\n",
    "\n",
    "public class Generator \n",
    "\n",
    "{ \n",
    "    public Generator(string name, Location location, Technology technology)\n",
    "    {\n",
    "        Name = name;\n",
    "        Location = location;\n",
    "        Technology = technology;\n",
    "    }\n",
    "\n",
    "    public string Name {get; set;}\n",
    "    public Location Location {get; set;}\n",
    "    public Technology Technology {get; set;}\n",
    "    public List<TimeIndexedValue> GenData1 {get => Technology.CostData.Select(x => new TimeIndexedValue (x.TimeStep.Index, x.Value*Location.AnotherFactor)).ToList() ;}\n",
    "    public List<TimeIndexedValue> GenData2 {get=> Location.LocationData.Select(x => new TimeIndexedValue (x.TimeStep.Index, x.Value*Technology.SomeFactor)).ToList();}\n",
    "\n",
    "\n",
    "}"
   ]
  },
  {
   "cell_type": "code",
   "execution_count": 34,
   "metadata": {
    "dotnet_interactive": {
     "language": "csharp"
    },
    "polyglot_notebook": {
     "kernelName": "csharp"
    }
   },
   "outputs": [],
   "source": [
    "var l1 = new Location(\"l1\", timeIndexedValues, 2);\n",
    "var l2 = new Location(\"l2\", timeIndexedValues, 3);\n",
    "var l3 = new Location(\"l3\", timeIndexedValues, 4);\n",
    "var l4 = new Location(\"l4\", timeIndexedValues, 5);\n",
    "var l5 = new Location(\"l5\", timeIndexedValues, 8);\n",
    "\n",
    "var locations = new List<Location>(){l1, l2, l3, l4, l5};\n",
    "\n",
    "\n",
    "var t1 = new Technology(\"t1\", timeIndexedValues2, 2);\n",
    "var t2 = new Technology(\"t2\", timeIndexedValues2, 3);\n",
    "var t3 = new Technology(\"t3\", timeIndexedValues2, 4);\n",
    "var t4 = new Technology(\"t4\", timeIndexedValues2, 5);\n",
    "var t5 = new Technology(\"t5\", timeIndexedValues2, 8);\n",
    "\n",
    "var techs = new List<Technology>(){t1, t2, t3, t4, t5};\n"
   ]
  },
  {
   "cell_type": "code",
   "execution_count": 37,
   "metadata": {
    "dotnet_interactive": {
     "language": "csharp"
    },
    "polyglot_notebook": {
     "kernelName": "csharp"
    }
   },
   "outputs": [],
   "source": [
    "public class Modell // nimmt Listen von Technologies und Locations als Input und generiert Generators von tech / location und pack sie in eine Liste rein\n",
    "\n",
    "{\n",
    "\n",
    "    public Modell (IEnumerable<Location> locations, IEnumerable<Technology> technologies)\n",
    "    {\n",
    "        locations = new List<Location>(locations);\n",
    "        technologies = new List<Technology>(technologies);\n",
    "\n",
    "        foreach(var l in locations)\n",
    "        {\n",
    "\n",
    "            \n",
    "\n",
    "        }\n",
    "    }\n",
    "\n",
    "\n",
    "    public List<Location> locations {get; set;}\n",
    "    public List<Technology> technologies {get; set;}\n",
    "\n",
    "    public List<Generator> generators {get; set;}\n",
    "\n",
    "\n",
    "}"
   ]
  },
  {
   "cell_type": "code",
   "execution_count": null,
   "metadata": {
    "dotnet_interactive": {
     "language": "csharp"
    },
    "polyglot_notebook": {
     "kernelName": "csharp"
    }
   },
   "outputs": [],
   "source": []
  }
 ],
 "metadata": {
  "kernelspec": {
   "display_name": ".NET (C#)",
   "language": "C#",
   "name": ".net-csharp"
  },
  "language_info": {
   "name": "polyglot-notebook"
  },
  "polyglot_notebook": {
   "kernelInfo": {
    "defaultKernelName": "csharp",
    "items": [
     {
      "aliases": [],
      "languageName": "csharp",
      "name": "csharp"
     }
    ]
   }
  }
 },
 "nbformat": 4,
 "nbformat_minor": 2
}
