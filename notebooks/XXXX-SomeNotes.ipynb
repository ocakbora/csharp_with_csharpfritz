{
 "cells": [
  {
   "cell_type": "markdown",
   "metadata": {},
   "source": [
    "# Some notes ...\n",
    "\n",
    "## public override string ToString();"
   ]
  },
  {
   "cell_type": "code",
   "execution_count": 4,
   "metadata": {
    "dotnet_interactive": {
     "language": "csharp"
    },
    "polyglot_notebook": {
     "kernelName": "csharp"
    }
   },
   "outputs": [],
   "source": [
    "// Here is an example for override string method (code one - with and code two without)"
   ]
  },
  {
   "cell_type": "code",
   "execution_count": 5,
   "metadata": {
    "dotnet_interactive": {
     "language": "csharp"
    },
    "polyglot_notebook": {
     "kernelName": "csharp"
    }
   },
   "outputs": [
    {
     "data": {
      "text/html": [
       "<table><thead><tr><th><i>index</i></th><th><i>type</i></th><th>value</th></tr></thead><tbody><tr><td>0</td><td>Submission#6+Card</td><td><details class=\"dni-treeview\"><summary><span class=\"dni-code-hint\"><code>J-h</code></span></summary><div><table><thead><tr></tr></thead><tbody><tr><td>Rank</td><td><div class=\"dni-plaintext\"><pre>J</pre></div></td></tr><tr><td>Suit</td><td><div class=\"dni-plaintext\"><pre>h</pre></div></td></tr></tbody></table></div></details></td></tr><tr><td>1</td><td><span><a href=\"https://docs.microsoft.com/dotnet/api/system.string?view=net-7.0\">System.String</a></span></td><td><div class=\"dni-plaintext\"><pre>Joker</pre></div></td></tr><tr><td>2</td><td>Submission#6+Card</td><td><details class=\"dni-treeview\"><summary><span class=\"dni-code-hint\"><code>K-h</code></span></summary><div><table><thead><tr></tr></thead><tbody><tr><td>Rank</td><td><div class=\"dni-plaintext\"><pre>K</pre></div></td></tr><tr><td>Suit</td><td><div class=\"dni-plaintext\"><pre>h</pre></div></td></tr></tbody></table></div></details></td></tr><tr><td>3</td><td>Submission#6+Card</td><td><details class=\"dni-treeview\"><summary><span class=\"dni-code-hint\"><code>A-d</code></span></summary><div><table><thead><tr></tr></thead><tbody><tr><td>Rank</td><td><div class=\"dni-plaintext\"><pre>A</pre></div></td></tr><tr><td>Suit</td><td><div class=\"dni-plaintext\"><pre>d</pre></div></td></tr></tbody></table></div></details></td></tr></tbody></table><style>\r\n",
       ".dni-code-hint {\r\n",
       "    font-style: italic;\r\n",
       "    overflow: hidden;\r\n",
       "    white-space: nowrap;\r\n",
       "}\r\n",
       ".dni-treeview {\r\n",
       "    white-space: nowrap;\r\n",
       "}\r\n",
       ".dni-treeview td {\r\n",
       "    vertical-align: top;\r\n",
       "    text-align: start;\r\n",
       "}\r\n",
       "details.dni-treeview {\r\n",
       "    padding-left: 1em;\r\n",
       "}\r\n",
       "table td {\r\n",
       "    text-align: start;\r\n",
       "}\r\n",
       "table tr { \r\n",
       "    vertical-align: top; \r\n",
       "    margin: 0em 0px;\r\n",
       "}\r\n",
       "table tr td pre \r\n",
       "{ \r\n",
       "    vertical-align: top !important; \r\n",
       "    margin: 0em 0px !important;\r\n",
       "} \r\n",
       "table th {\r\n",
       "    text-align: start;\r\n",
       "}\r\n",
       "</style>"
      ]
     },
     "metadata": {},
     "output_type": "display_data"
    }
   ],
   "source": [
    "class Card {\n",
    "    public string Rank; // a public field\n",
    "    public string Suit; // a public field\n",
    "    public Card(string id) { // a constructor\n",
    "        Rank = id.Split('-')[0]; // Split is a method of the string class that returns an array of strings.\n",
    "        Suit = id.Split('-')[1]; // The [0] and [1] are the indexes of the array\n",
    "    }\n",
    "    public override string ToString() { return Rank + \"-\" + Suit; } // an override of the ToString() method.\n",
    "    // What does above mean? - it means that when you call ToString() on a Card object, it will return the Rank and Suit of the card\n",
    "    // This method would be called implicitly if you were to pass a Card object to the display() method\n",
    "}\n",
    "\n",
    "var deckOfCards = new Stack();\n",
    "deckOfCards.Push(new Card(\"A-d\"));\n",
    "deckOfCards.Push(new Card(\"K-h\"));\n",
    "\n",
    "// Now add a Joker card\n",
    "deckOfCards.Push(\"Joker\");\n",
    "\n",
    "deckOfCards.Push(new Card(\"J-h\"));\n",
    "\n",
    "deckOfCards"
   ]
  },
  {
   "cell_type": "code",
   "execution_count": 2,
   "metadata": {
    "dotnet_interactive": {
     "language": "csharp"
    },
    "polyglot_notebook": {
     "kernelName": "csharp"
    }
   },
   "outputs": [
    {
     "data": {
      "text/html": [
       "<table><thead><tr><th><i>index</i></th><th><i>type</i></th><th>value</th></tr></thead><tbody><tr><td>0</td><td>Submission#3+Card</td><td><details class=\"dni-treeview\"><summary><span class=\"dni-code-hint\"><code>Submission#3+Card</code></span></summary><div><table><thead><tr></tr></thead><tbody><tr><td>Rank</td><td><div class=\"dni-plaintext\"><pre>J</pre></div></td></tr><tr><td>Suit</td><td><div class=\"dni-plaintext\"><pre>h</pre></div></td></tr></tbody></table></div></details></td></tr><tr><td>1</td><td><span><a href=\"https://docs.microsoft.com/dotnet/api/system.string?view=net-7.0\">System.String</a></span></td><td><div class=\"dni-plaintext\"><pre>Joker</pre></div></td></tr><tr><td>2</td><td>Submission#3+Card</td><td><details class=\"dni-treeview\"><summary><span class=\"dni-code-hint\"><code>Submission#3+Card</code></span></summary><div><table><thead><tr></tr></thead><tbody><tr><td>Rank</td><td><div class=\"dni-plaintext\"><pre>K</pre></div></td></tr><tr><td>Suit</td><td><div class=\"dni-plaintext\"><pre>h</pre></div></td></tr></tbody></table></div></details></td></tr><tr><td>3</td><td>Submission#3+Card</td><td><details class=\"dni-treeview\"><summary><span class=\"dni-code-hint\"><code>Submission#3+Card</code></span></summary><div><table><thead><tr></tr></thead><tbody><tr><td>Rank</td><td><div class=\"dni-plaintext\"><pre>A</pre></div></td></tr><tr><td>Suit</td><td><div class=\"dni-plaintext\"><pre>d</pre></div></td></tr></tbody></table></div></details></td></tr></tbody></table><style>\r\n",
       ".dni-code-hint {\r\n",
       "    font-style: italic;\r\n",
       "    overflow: hidden;\r\n",
       "    white-space: nowrap;\r\n",
       "}\r\n",
       ".dni-treeview {\r\n",
       "    white-space: nowrap;\r\n",
       "}\r\n",
       ".dni-treeview td {\r\n",
       "    vertical-align: top;\r\n",
       "    text-align: start;\r\n",
       "}\r\n",
       "details.dni-treeview {\r\n",
       "    padding-left: 1em;\r\n",
       "}\r\n",
       "table td {\r\n",
       "    text-align: start;\r\n",
       "}\r\n",
       "table tr { \r\n",
       "    vertical-align: top; \r\n",
       "    margin: 0em 0px;\r\n",
       "}\r\n",
       "table tr td pre \r\n",
       "{ \r\n",
       "    vertical-align: top !important; \r\n",
       "    margin: 0em 0px !important;\r\n",
       "} \r\n",
       "table th {\r\n",
       "    text-align: start;\r\n",
       "}\r\n",
       "</style>"
      ]
     },
     "metadata": {},
     "output_type": "display_data"
    }
   ],
   "source": [
    "class Card {\n",
    "    public string Rank; // a public field\n",
    "    public string Suit; // a public field\n",
    "    public Card(string id) { // a constructor\n",
    "        Rank = id.Split('-')[0]; // Split is a method of the string class that returns an array of strings.\n",
    "        Suit = id.Split('-')[1]; // The [0] and [1] are the indexes of the array\n",
    "    }\n",
    "    //public override string ToString() { return Rank + \"-\" + Suit; } // an override of the ToString() method.\n",
    "    // What does above mean? - it means that when you call ToString() on a Card object, it will return the Rank and Suit of the card\n",
    "    // This method would be called implicitly if you were to pass a Card object to the display() method\n",
    "}\n",
    "\n",
    "var deckOfCards = new Stack();\n",
    "deckOfCards.Push(new Card(\"A-d\"));\n",
    "deckOfCards.Push(new Card(\"K-h\"));\n",
    "\n",
    "// Now add a Joker card\n",
    "deckOfCards.Push(\"Joker\");\n",
    "\n",
    "deckOfCards.Push(new Card(\"J-h\"));\n",
    "\n",
    "deckOfCards"
   ]
  },
  {
   "cell_type": "markdown",
   "metadata": {},
   "source": [
    "## Enumerable.Range(X, Y).ToArray()"
   ]
  },
  {
   "cell_type": "code",
   "execution_count": 2,
   "metadata": {
    "dotnet_interactive": {
     "language": "csharp"
    },
    "polyglot_notebook": {
     "kernelName": "csharp"
    }
   },
   "outputs": [],
   "source": [
    "var indexX = Enumerable.Range(0, 4).ToArray();\n",
    "\n",
    "// what is Enumerable here - it is a class that has a method called Range\n",
    "// Range is a method that returns an array of integers "
   ]
  },
  {
   "cell_type": "code",
   "execution_count": null,
   "metadata": {
    "dotnet_interactive": {
     "language": "csharp"
    },
    "polyglot_notebook": {
     "kernelName": "csharp"
    }
   },
   "outputs": [],
   "source": []
  }
 ],
 "metadata": {
  "kernelspec": {
   "display_name": ".NET (C#)",
   "language": "C#",
   "name": ".net-csharp"
  },
  "language_info": {
   "name": "polyglot-notebook"
  },
  "polyglot_notebook": {
   "kernelInfo": {
    "defaultKernelName": "csharp",
    "items": [
     {
      "aliases": [],
      "languageName": "csharp",
      "name": "csharp"
     }
    ]
   }
  }
 },
 "nbformat": 4,
 "nbformat_minor": 2
}
