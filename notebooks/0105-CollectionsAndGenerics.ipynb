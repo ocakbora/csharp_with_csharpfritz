{
 "cells": [
  {
   "cell_type": "markdown",
   "metadata": {},
   "source": [
    "# Session 5: Collections, Generics, and a peek into LINQ\n",
    "\n",
    "We've worked with loops, conditions, methods, and our own types in C# but what about collections of objects?  A group of Person objects or Products that are added to a shopping cart, how do we handle those?  \n",
    "\n",
    "## Collections\n",
    "\n",
    "There are a number of different collection objects that you can use that implement the same basic interactions.\n",
    "\n",
    "### Array\n",
    "\n",
    "[Arrays](https://docs.microsoft.com/dotnet/csharp/programming-guide/arrays?WT.mc_id=visualstudio-twitch-jefritz) are reference types and the simplest of the collection types, and can be declared with one to many dimensions and can also be declared jagged.  Simplify declared with a type and square brackets `[ ]` defining the size of the array, initialized with a `new` statement and curly braces `{ }` optionally containing the initial values of the array."
   ]
  },
  {
   "cell_type": "code",
   "execution_count": 16,
   "metadata": {
    "dotnet_interactive": {
     "language": "csharp"
    },
    "polyglot_notebook": {
     "kernelName": "csharp"
    },
    "vscode": {
     "languageId": "polyglot-notebook"
    }
   },
   "outputs": [
    {
     "data": {
      "text/plain": [
       "Array is created: True"
      ]
     },
     "metadata": {},
     "output_type": "display_data"
    },
    {
     "data": {
      "text/plain": [
       "Array is null: False"
      ]
     },
     "metadata": {},
     "output_type": "display_data"
    },
    {
     "data": {
      "text/plain": [
       "Array Size: 3"
      ]
     },
     "metadata": {},
     "output_type": "display_data"
    },
    {
     "data": {
      "text/plain": [
       "Array Size: 3"
      ]
     },
     "metadata": {},
     "output_type": "display_data"
    }
   ],
   "source": [
    "int[] numbers;\n",
    "\n",
    "// Numbers doesn't contain anything, as it wasn't assigned yet\n",
    "display(\"Array is created: \" + (numbers == null).ToString()); // what does ToString() do? - it converts the boolean to a string\n",
    "\n",
    "// Create an array by using square brackets containing a size \n",
    "numbers = new int[3];\n",
    "display(\"Array is null: \" + (numbers == null).ToString());\n",
    "\n",
    "// The read-only Length property shows the number of elements in the array  \n",
    "display(\"Array Size: \"  + numbers.Length);\n",
    "\n",
    "// Declare the array with initial values\n",
    "var fullArrayOfNumbers = new int[3] {1, 2, 3};\n",
    "display(\"Array Size: \" + fullArrayOfNumbers.Length);"
   ]
  },
  {
   "cell_type": "markdown",
   "metadata": {},
   "source": [
    "You can then interact with the values of the array using numeric a numeric indexer starting with a base value of 0"
   ]
  },
  {
   "cell_type": "code",
   "execution_count": 3,
   "metadata": {
    "dotnet_interactive": {
     "language": "csharp"
    },
    "polyglot_notebook": {
     "kernelName": "csharp"
    },
    "vscode": {
     "languageId": "polyglot-notebook"
    }
   },
   "outputs": [
    {
     "data": {
      "text/plain": [
       "Item[0]: 1"
      ]
     },
     "metadata": {},
     "output_type": "display_data"
    },
    {
     "data": {
      "text/plain": [
       "Item[0]: 5"
      ]
     },
     "metadata": {},
     "output_type": "display_data"
    }
   ],
   "source": [
    "display(\"Item[0]: \" + fullArrayOfNumbers[0]);\n",
    "\n",
    "// You can set values on the array using the equals assignment operator\n",
    "fullArrayOfNumbers[0] = 5;\n",
    "display(\"Item[0]: \" + fullArrayOfNumbers[0]);"
   ]
  },
  {
   "cell_type": "code",
   "execution_count": 4,
   "metadata": {
    "dotnet_interactive": {
     "language": "csharp"
    },
    "polyglot_notebook": {
     "kernelName": "csharp"
    },
    "vscode": {
     "languageId": "polyglot-notebook"
    }
   },
   "outputs": [
    {
     "ename": "Error",
     "evalue": "System.IndexOutOfRangeException: Index was outside the bounds of the array.\r\n   at Submission#5.<<Initialize>>d__0.MoveNext()\r\n--- End of stack trace from previous location ---\r\n   at Microsoft.CodeAnalysis.Scripting.ScriptExecutionState.RunSubmissionsAsync[TResult](ImmutableArray`1 precedingExecutors, Func`2 currentExecutor, StrongBox`1 exceptionHolderOpt, Func`2 catchExceptionOpt, CancellationToken cancellationToken)",
     "output_type": "error",
     "traceback": [
      "System.IndexOutOfRangeException: Index was outside the bounds of the array.\r\n",
      "   at Submission#5.<<Initialize>>d__0.MoveNext()\r\n",
      "--- End of stack trace from previous location ---\r\n",
      "   at Microsoft.CodeAnalysis.Scripting.ScriptExecutionState.RunSubmissionsAsync[TResult](ImmutableArray`1 precedingExecutors, Func`2 currentExecutor, StrongBox`1 exceptionHolderOpt, Func`2 catchExceptionOpt, CancellationToken cancellationToken)"
     ]
    }
   ],
   "source": [
    "// You cannot interact with array values outside the size of the array\n",
    "// display(fullArrayOfNumbers[5]);\n",
    "fullArrayOfNumbers[5] = 100;"
   ]
  },
  {
   "cell_type": "code",
   "execution_count": 5,
   "metadata": {
    "dotnet_interactive": {
     "language": "csharp"
    },
    "polyglot_notebook": {
     "kernelName": "csharp"
    },
    "vscode": {
     "languageId": "polyglot-notebook"
    }
   },
   "outputs": [
    {
     "data": {
      "text/html": [
       "<div class=\"dni-plaintext\"><pre>6</pre></div><style>\r\n",
       ".dni-code-hint {\r\n",
       "    font-style: italic;\r\n",
       "    overflow: hidden;\r\n",
       "    white-space: nowrap;\r\n",
       "}\r\n",
       ".dni-treeview {\r\n",
       "    white-space: nowrap;\r\n",
       "}\r\n",
       ".dni-treeview td {\r\n",
       "    vertical-align: top;\r\n",
       "    text-align: start;\r\n",
       "}\r\n",
       "details.dni-treeview {\r\n",
       "    padding-left: 1em;\r\n",
       "}\r\n",
       "table td {\r\n",
       "    text-align: start;\r\n",
       "}\r\n",
       "table tr { \r\n",
       "    vertical-align: top; \r\n",
       "    margin: 0em 0px;\r\n",
       "}\r\n",
       "table tr td pre \r\n",
       "{ \r\n",
       "    vertical-align: top !important; \r\n",
       "    margin: 0em 0px !important;\r\n",
       "} \r\n",
       "table th {\r\n",
       "    text-align: start;\r\n",
       "}\r\n",
       "</style>"
      ]
     },
     "metadata": {},
     "output_type": "display_data"
    },
    {
     "data": {
      "text/html": [
       "<div class=\"dni-plaintext\"><pre>2</pre></div><style>\r\n",
       ".dni-code-hint {\r\n",
       "    font-style: italic;\r\n",
       "    overflow: hidden;\r\n",
       "    white-space: nowrap;\r\n",
       "}\r\n",
       ".dni-treeview {\r\n",
       "    white-space: nowrap;\r\n",
       "}\r\n",
       ".dni-treeview td {\r\n",
       "    vertical-align: top;\r\n",
       "    text-align: start;\r\n",
       "}\r\n",
       "details.dni-treeview {\r\n",
       "    padding-left: 1em;\r\n",
       "}\r\n",
       "table td {\r\n",
       "    text-align: start;\r\n",
       "}\r\n",
       "table tr { \r\n",
       "    vertical-align: top; \r\n",
       "    margin: 0em 0px;\r\n",
       "}\r\n",
       "table tr td pre \r\n",
       "{ \r\n",
       "    vertical-align: top !important; \r\n",
       "    margin: 0em 0px !important;\r\n",
       "} \r\n",
       "table th {\r\n",
       "    text-align: start;\r\n",
       "}\r\n",
       "</style>"
      ]
     },
     "metadata": {},
     "output_type": "display_data"
    }
   ],
   "source": [
    "// You can work with multi-dimensional arrays as well\n",
    "var matrix = new int[3,2] { {1,2}, {3,4}, {5,6} };\n",
    "display(matrix.Length);\n",
    "\n",
    "// Access elements of the multi-dimensional using a comma between index values\n",
    "matrix[0,1]"
   ]
  },
  {
   "cell_type": "markdown",
   "metadata": {},
   "source": [
    "The challenge with arrays is that you cannot easily add or remove objects from the array without going through a complex bit of resizing using the `Array.Resize` method."
   ]
  },
  {
   "cell_type": "code",
   "execution_count": 12,
   "metadata": {
    "dotnet_interactive": {
     "language": "csharp"
    },
    "polyglot_notebook": {
     "kernelName": "csharp"
    },
    "vscode": {
     "languageId": "polyglot-notebook"
    }
   },
   "outputs": [
    {
     "data": {
      "text/html": [
       "<div class=\"dni-plaintext\"><pre>[ 1, 2, 3 ]</pre></div><style>\r\n",
       ".dni-code-hint {\r\n",
       "    font-style: italic;\r\n",
       "    overflow: hidden;\r\n",
       "    white-space: nowrap;\r\n",
       "}\r\n",
       ".dni-treeview {\r\n",
       "    white-space: nowrap;\r\n",
       "}\r\n",
       ".dni-treeview td {\r\n",
       "    vertical-align: top;\r\n",
       "    text-align: start;\r\n",
       "}\r\n",
       "details.dni-treeview {\r\n",
       "    padding-left: 1em;\r\n",
       "}\r\n",
       "table td {\r\n",
       "    text-align: start;\r\n",
       "}\r\n",
       "table tr { \r\n",
       "    vertical-align: top; \r\n",
       "    margin: 0em 0px;\r\n",
       "}\r\n",
       "table tr td pre \r\n",
       "{ \r\n",
       "    vertical-align: top !important; \r\n",
       "    margin: 0em 0px !important;\r\n",
       "} \r\n",
       "table th {\r\n",
       "    text-align: start;\r\n",
       "}\r\n",
       "</style>"
      ]
     },
     "metadata": {},
     "output_type": "display_data"
    },
    {
     "data": {
      "text/html": [
       "<div class=\"dni-plaintext\"><pre>3</pre></div><style>\r\n",
       ".dni-code-hint {\r\n",
       "    font-style: italic;\r\n",
       "    overflow: hidden;\r\n",
       "    white-space: nowrap;\r\n",
       "}\r\n",
       ".dni-treeview {\r\n",
       "    white-space: nowrap;\r\n",
       "}\r\n",
       ".dni-treeview td {\r\n",
       "    vertical-align: top;\r\n",
       "    text-align: start;\r\n",
       "}\r\n",
       "details.dni-treeview {\r\n",
       "    padding-left: 1em;\r\n",
       "}\r\n",
       "table td {\r\n",
       "    text-align: start;\r\n",
       "}\r\n",
       "table tr { \r\n",
       "    vertical-align: top; \r\n",
       "    margin: 0em 0px;\r\n",
       "}\r\n",
       "table tr td pre \r\n",
       "{ \r\n",
       "    vertical-align: top !important; \r\n",
       "    margin: 0em 0px !important;\r\n",
       "} \r\n",
       "table th {\r\n",
       "    text-align: start;\r\n",
       "}\r\n",
       "</style>"
      ]
     },
     "metadata": {},
     "output_type": "display_data"
    },
    {
     "data": {
      "text/html": [
       "<div class=\"dni-plaintext\"><pre>3</pre></div><style>\r\n",
       ".dni-code-hint {\r\n",
       "    font-style: italic;\r\n",
       "    overflow: hidden;\r\n",
       "    white-space: nowrap;\r\n",
       "}\r\n",
       ".dni-treeview {\r\n",
       "    white-space: nowrap;\r\n",
       "}\r\n",
       ".dni-treeview td {\r\n",
       "    vertical-align: top;\r\n",
       "    text-align: start;\r\n",
       "}\r\n",
       "details.dni-treeview {\r\n",
       "    padding-left: 1em;\r\n",
       "}\r\n",
       "table td {\r\n",
       "    text-align: start;\r\n",
       "}\r\n",
       "table tr { \r\n",
       "    vertical-align: top; \r\n",
       "    margin: 0em 0px;\r\n",
       "}\r\n",
       "table tr td pre \r\n",
       "{ \r\n",
       "    vertical-align: top !important; \r\n",
       "    margin: 0em 0px !important;\r\n",
       "} \r\n",
       "table th {\r\n",
       "    text-align: start;\r\n",
       "}\r\n",
       "</style>"
      ]
     },
     "metadata": {},
     "output_type": "display_data"
    }
   ],
   "source": [
    "var myNumbers = new int[] {1,2,3};\n",
    "display(myNumbers);\n",
    "display(myNumbers.Length);\n",
    "\n",
    "display(myNumbers[2]);\n",
    "\n",
    "// This doesn't work\n",
    "//myNumbers.Add(4);"
   ]
  },
  {
   "cell_type": "markdown",
   "metadata": {},
   "source": [
    "You can change the size of a one-dimensional array using the [Array.Resize](https://docs.microsoft.com/dotnet/api/system.array.resize?view=netcore-3.1&WT.mc_id=visualstudio-twitch-jefritz) method.  This method does not _just_ resize the array, but rather creates a new array of the desired size and copies the values into that new array. "
   ]
  },
  {
   "cell_type": "code",
   "execution_count": 13,
   "metadata": {
    "dotnet_interactive": {
     "language": "csharp"
    },
    "polyglot_notebook": {
     "kernelName": "csharp"
    },
    "vscode": {
     "languageId": "polyglot-notebook"
    }
   },
   "outputs": [
    {
     "data": {
      "text/html": [
       "<div class=\"dni-plaintext\"><pre>[ 1, 2, 3, 4 ]</pre></div><style>\r\n",
       ".dni-code-hint {\r\n",
       "    font-style: italic;\r\n",
       "    overflow: hidden;\r\n",
       "    white-space: nowrap;\r\n",
       "}\r\n",
       ".dni-treeview {\r\n",
       "    white-space: nowrap;\r\n",
       "}\r\n",
       ".dni-treeview td {\r\n",
       "    vertical-align: top;\r\n",
       "    text-align: start;\r\n",
       "}\r\n",
       "details.dni-treeview {\r\n",
       "    padding-left: 1em;\r\n",
       "}\r\n",
       "table td {\r\n",
       "    text-align: start;\r\n",
       "}\r\n",
       "table tr { \r\n",
       "    vertical-align: top; \r\n",
       "    margin: 0em 0px;\r\n",
       "}\r\n",
       "table tr td pre \r\n",
       "{ \r\n",
       "    vertical-align: top !important; \r\n",
       "    margin: 0em 0px !important;\r\n",
       "} \r\n",
       "table th {\r\n",
       "    text-align: start;\r\n",
       "}\r\n",
       "</style>"
      ]
     },
     "metadata": {},
     "output_type": "display_data"
    }
   ],
   "source": [
    "// This does\n",
    "Array.Resize(ref myNumbers, 4); // ref is a keyword that means the variable is passed by reference, not by value\n",
    "myNumbers[3] = 4;\n",
    "display(myNumbers);"
   ]
  },
  {
   "cell_type": "markdown",
   "metadata": {},
   "source": [
    "<div class=\"alert alert-block alert-warning\">\n",
    "<b>Warning:</b> If you have a reference to the array somewhere else in your code, that reference will <b>NOT</b> be resized as well.  Arrays are reference types, and references to the prior object are persisted.\n",
    "</div>"
   ]
  },
  {
   "cell_type": "code",
   "execution_count": 14,
   "metadata": {
    "dotnet_interactive": {
     "language": "csharp"
    },
    "polyglot_notebook": {
     "kernelName": "csharp"
    },
    "vscode": {
     "languageId": "polyglot-notebook"
    }
   },
   "outputs": [
    {
     "data": {
      "text/html": [
       "<div class=\"dni-plaintext\"><pre>[ 1, 2, 3, 4, 100 ]</pre></div><style>\r\n",
       ".dni-code-hint {\r\n",
       "    font-style: italic;\r\n",
       "    overflow: hidden;\r\n",
       "    white-space: nowrap;\r\n",
       "}\r\n",
       ".dni-treeview {\r\n",
       "    white-space: nowrap;\r\n",
       "}\r\n",
       ".dni-treeview td {\r\n",
       "    vertical-align: top;\r\n",
       "    text-align: start;\r\n",
       "}\r\n",
       "details.dni-treeview {\r\n",
       "    padding-left: 1em;\r\n",
       "}\r\n",
       "table td {\r\n",
       "    text-align: start;\r\n",
       "}\r\n",
       "table tr { \r\n",
       "    vertical-align: top; \r\n",
       "    margin: 0em 0px;\r\n",
       "}\r\n",
       "table tr td pre \r\n",
       "{ \r\n",
       "    vertical-align: top !important; \r\n",
       "    margin: 0em 0px !important;\r\n",
       "} \r\n",
       "table th {\r\n",
       "    text-align: start;\r\n",
       "}\r\n",
       "</style>"
      ]
     },
     "metadata": {},
     "output_type": "display_data"
    }
   ],
   "source": [
    "// Capture a reference to myNumbers\n",
    "var referenceToMyNumbers = myNumbers;\n",
    "\n",
    "// Change myNumbers\n",
    "Array.Resize(ref myNumbers, 5);\n",
    "myNumbers[4] = 100;\n",
    "display(myNumbers);"
   ]
  },
  {
   "cell_type": "code",
   "execution_count": 15,
   "metadata": {
    "dotnet_interactive": {
     "language": "csharp"
    },
    "polyglot_notebook": {
     "kernelName": "csharp"
    },
    "vscode": {
     "languageId": "polyglot-notebook"
    }
   },
   "outputs": [
    {
     "data": {
      "text/html": [
       "<div class=\"dni-plaintext\"><pre>[ 1, 2, 3, 4 ]</pre></div><style>\r\n",
       ".dni-code-hint {\r\n",
       "    font-style: italic;\r\n",
       "    overflow: hidden;\r\n",
       "    white-space: nowrap;\r\n",
       "}\r\n",
       ".dni-treeview {\r\n",
       "    white-space: nowrap;\r\n",
       "}\r\n",
       ".dni-treeview td {\r\n",
       "    vertical-align: top;\r\n",
       "    text-align: start;\r\n",
       "}\r\n",
       "details.dni-treeview {\r\n",
       "    padding-left: 1em;\r\n",
       "}\r\n",
       "table td {\r\n",
       "    text-align: start;\r\n",
       "}\r\n",
       "table tr { \r\n",
       "    vertical-align: top; \r\n",
       "    margin: 0em 0px;\r\n",
       "}\r\n",
       "table tr td pre \r\n",
       "{ \r\n",
       "    vertical-align: top !important; \r\n",
       "    margin: 0em 0px !important;\r\n",
       "} \r\n",
       "table th {\r\n",
       "    text-align: start;\r\n",
       "}\r\n",
       "</style>"
      ]
     },
     "metadata": {},
     "output_type": "display_data"
    }
   ],
   "source": [
    "// Let's see what referenceToMyNumbers contains:\n",
    "referenceToMyNumbers"
   ]
  },
  {
   "cell_type": "markdown",
   "metadata": {},
   "source": [
    "`referenceToMyNumbers` contains the contents of `myNumbers` before the resize because it was NOT effected by the `Array.Resize` operation which makes a copy of the array.\n",
    "\n",
    "You can remove elements from the array by resizing to a smaller number of elements.  This will eliminate contents from the end of the array."
   ]
  },
  {
   "cell_type": "code",
   "execution_count": 17,
   "metadata": {
    "dotnet_interactive": {
     "language": "csharp"
    },
    "polyglot_notebook": {
     "kernelName": "csharp"
    },
    "vscode": {
     "languageId": "polyglot-notebook"
    }
   },
   "outputs": [
    {
     "data": {
      "text/html": [
       "<div class=\"dni-plaintext\"><pre>[ 1, 2, 3 ]</pre></div><style>\r\n",
       ".dni-code-hint {\r\n",
       "    font-style: italic;\r\n",
       "    overflow: hidden;\r\n",
       "    white-space: nowrap;\r\n",
       "}\r\n",
       ".dni-treeview {\r\n",
       "    white-space: nowrap;\r\n",
       "}\r\n",
       ".dni-treeview td {\r\n",
       "    vertical-align: top;\r\n",
       "    text-align: start;\r\n",
       "}\r\n",
       "details.dni-treeview {\r\n",
       "    padding-left: 1em;\r\n",
       "}\r\n",
       "table td {\r\n",
       "    text-align: start;\r\n",
       "}\r\n",
       "table tr { \r\n",
       "    vertical-align: top; \r\n",
       "    margin: 0em 0px;\r\n",
       "}\r\n",
       "table tr td pre \r\n",
       "{ \r\n",
       "    vertical-align: top !important; \r\n",
       "    margin: 0em 0px !important;\r\n",
       "} \r\n",
       "table th {\r\n",
       "    text-align: start;\r\n",
       "}\r\n",
       "</style>"
      ]
     },
     "metadata": {},
     "output_type": "display_data"
    }
   ],
   "source": [
    "// Remove is similar, and eliminates elements from the end of the array\n",
    "Array.Resize(ref myNumbers, 3);\n",
    "display(myNumbers);"
   ]
  },
  {
   "cell_type": "markdown",
   "metadata": {},
   "source": [
    "Arrays are enumerable and implement the `IEnumerable` interface, meaning you can iterate over the contents of a collection with a loop and interact with them:"
   ]
  },
  {
   "cell_type": "code",
   "execution_count": 18,
   "metadata": {
    "dotnet_interactive": {
     "language": "csharp"
    },
    "polyglot_notebook": {
     "kernelName": "csharp"
    },
    "vscode": {
     "languageId": "polyglot-notebook"
    }
   },
   "outputs": [
    {
     "data": {
      "text/html": [
       "<div class=\"dni-plaintext\"><pre>1</pre></div><style>\r\n",
       ".dni-code-hint {\r\n",
       "    font-style: italic;\r\n",
       "    overflow: hidden;\r\n",
       "    white-space: nowrap;\r\n",
       "}\r\n",
       ".dni-treeview {\r\n",
       "    white-space: nowrap;\r\n",
       "}\r\n",
       ".dni-treeview td {\r\n",
       "    vertical-align: top;\r\n",
       "    text-align: start;\r\n",
       "}\r\n",
       "details.dni-treeview {\r\n",
       "    padding-left: 1em;\r\n",
       "}\r\n",
       "table td {\r\n",
       "    text-align: start;\r\n",
       "}\r\n",
       "table tr { \r\n",
       "    vertical-align: top; \r\n",
       "    margin: 0em 0px;\r\n",
       "}\r\n",
       "table tr td pre \r\n",
       "{ \r\n",
       "    vertical-align: top !important; \r\n",
       "    margin: 0em 0px !important;\r\n",
       "} \r\n",
       "table th {\r\n",
       "    text-align: start;\r\n",
       "}\r\n",
       "</style>"
      ]
     },
     "metadata": {},
     "output_type": "display_data"
    },
    {
     "data": {
      "text/html": [
       "<div class=\"dni-plaintext\"><pre>2</pre></div><style>\r\n",
       ".dni-code-hint {\r\n",
       "    font-style: italic;\r\n",
       "    overflow: hidden;\r\n",
       "    white-space: nowrap;\r\n",
       "}\r\n",
       ".dni-treeview {\r\n",
       "    white-space: nowrap;\r\n",
       "}\r\n",
       ".dni-treeview td {\r\n",
       "    vertical-align: top;\r\n",
       "    text-align: start;\r\n",
       "}\r\n",
       "details.dni-treeview {\r\n",
       "    padding-left: 1em;\r\n",
       "}\r\n",
       "table td {\r\n",
       "    text-align: start;\r\n",
       "}\r\n",
       "table tr { \r\n",
       "    vertical-align: top; \r\n",
       "    margin: 0em 0px;\r\n",
       "}\r\n",
       "table tr td pre \r\n",
       "{ \r\n",
       "    vertical-align: top !important; \r\n",
       "    margin: 0em 0px !important;\r\n",
       "} \r\n",
       "table th {\r\n",
       "    text-align: start;\r\n",
       "}\r\n",
       "</style>"
      ]
     },
     "metadata": {},
     "output_type": "display_data"
    },
    {
     "data": {
      "text/html": [
       "<div class=\"dni-plaintext\"><pre>3</pre></div><style>\r\n",
       ".dni-code-hint {\r\n",
       "    font-style: italic;\r\n",
       "    overflow: hidden;\r\n",
       "    white-space: nowrap;\r\n",
       "}\r\n",
       ".dni-treeview {\r\n",
       "    white-space: nowrap;\r\n",
       "}\r\n",
       ".dni-treeview td {\r\n",
       "    vertical-align: top;\r\n",
       "    text-align: start;\r\n",
       "}\r\n",
       "details.dni-treeview {\r\n",
       "    padding-left: 1em;\r\n",
       "}\r\n",
       "table td {\r\n",
       "    text-align: start;\r\n",
       "}\r\n",
       "table tr { \r\n",
       "    vertical-align: top; \r\n",
       "    margin: 0em 0px;\r\n",
       "}\r\n",
       "table tr td pre \r\n",
       "{ \r\n",
       "    vertical-align: top !important; \r\n",
       "    margin: 0em 0px !important;\r\n",
       "} \r\n",
       "table th {\r\n",
       "    text-align: start;\r\n",
       "}\r\n",
       "</style>"
      ]
     },
     "metadata": {},
     "output_type": "display_data"
    }
   ],
   "source": [
    "// i in this case returns the element in the collection, not the index\n",
    "\n",
    "foreach (var i in myNumbers) {\n",
    "    display(i);\n",
    "}"
   ]
  },
  {
   "cell_type": "markdown",
   "metadata": {},
   "source": [
    "Array.Fill"
   ]
  },
  {
   "cell_type": "code",
   "execution_count": 20,
   "metadata": {
    "dotnet_interactive": {
     "language": "csharp"
    },
    "polyglot_notebook": {
     "kernelName": "csharp"
    },
    "vscode": {
     "languageId": "polyglot-notebook"
    }
   },
   "outputs": [
    {
     "data": {
      "text/html": [
       "<div class=\"dni-plaintext\"><pre>[ 1, 1, 1 ]</pre></div><style>\r\n",
       ".dni-code-hint {\r\n",
       "    font-style: italic;\r\n",
       "    overflow: hidden;\r\n",
       "    white-space: nowrap;\r\n",
       "}\r\n",
       ".dni-treeview {\r\n",
       "    white-space: nowrap;\r\n",
       "}\r\n",
       ".dni-treeview td {\r\n",
       "    vertical-align: top;\r\n",
       "    text-align: start;\r\n",
       "}\r\n",
       "details.dni-treeview {\r\n",
       "    padding-left: 1em;\r\n",
       "}\r\n",
       "table td {\r\n",
       "    text-align: start;\r\n",
       "}\r\n",
       "table tr { \r\n",
       "    vertical-align: top; \r\n",
       "    margin: 0em 0px;\r\n",
       "}\r\n",
       "table tr td pre \r\n",
       "{ \r\n",
       "    vertical-align: top !important; \r\n",
       "    margin: 0em 0px !important;\r\n",
       "} \r\n",
       "table th {\r\n",
       "    text-align: start;\r\n",
       "}\r\n",
       "</style>"
      ]
     },
     "metadata": {},
     "output_type": "display_data"
    }
   ],
   "source": [
    "var myOneArray = new int[3]; // Create an array of 3 elements\n",
    "Array.Fill(myOneArray, 1); // Fill the array with 1's\n",
    "\n",
    "myOneArray"
   ]
  },
  {
   "cell_type": "markdown",
   "metadata": {},
   "source": [
    "### Hashtable and SortedList\n",
    "\n",
    "A [Hashtable](https://docs.microsoft.com/dotnet/api/system.collections.hashtable?view=netcore-3.1?WT.mc_id=visualstudio-twitch-jefritz) and [SortedList](https://docs.microsoft.com/en-us/dotnet/system.collections.sortedlist?view=netcore-3.1&WT.mc_id=visualstudio-twitch-jefritz) are collections of key/value pairs that contain no duplicate keys.  The `Hashtable` is sorted based on the hash hash of the keys and a `SortedList` is sorted based on the key value"
   ]
  },
  {
   "cell_type": "code",
   "execution_count": 30,
   "metadata": {
    "dotnet_interactive": {
     "language": "csharp"
    },
    "polyglot_notebook": {
     "kernelName": "csharp"
    },
    "vscode": {
     "languageId": "polyglot-notebook"
    }
   },
   "outputs": [
    {
     "data": {
      "text/html": [
       "<table><thead><tr><th><i>key</i></th><th>value</th></tr></thead><tbody><tr><td><div class=\"dni-plaintext\"><pre>jpg</pre></div></td><td><div class=\"dni-plaintext\"><pre>Jpeg Compressed Images</pre></div></td></tr><tr><td><div class=\"dni-plaintext\"><pre>mp3</pre></div></td><td><div class=\"dni-plaintext\"><pre>Compressed Music</pre></div></td></tr><tr><td><div class=\"dni-plaintext\"><pre>txt</pre></div></td><td><div class=\"dni-plaintext\"><pre>Plain text</pre></div></td></tr></tbody></table><style>\r\n",
       ".dni-code-hint {\r\n",
       "    font-style: italic;\r\n",
       "    overflow: hidden;\r\n",
       "    white-space: nowrap;\r\n",
       "}\r\n",
       ".dni-treeview {\r\n",
       "    white-space: nowrap;\r\n",
       "}\r\n",
       ".dni-treeview td {\r\n",
       "    vertical-align: top;\r\n",
       "    text-align: start;\r\n",
       "}\r\n",
       "details.dni-treeview {\r\n",
       "    padding-left: 1em;\r\n",
       "}\r\n",
       "table td {\r\n",
       "    text-align: start;\r\n",
       "}\r\n",
       "table tr { \r\n",
       "    vertical-align: top; \r\n",
       "    margin: 0em 0px;\r\n",
       "}\r\n",
       "table tr td pre \r\n",
       "{ \r\n",
       "    vertical-align: top !important; \r\n",
       "    margin: 0em 0px !important;\r\n",
       "} \r\n",
       "table th {\r\n",
       "    text-align: start;\r\n",
       "}\r\n",
       "</style>"
      ]
     },
     "metadata": {},
     "output_type": "display_data"
    }
   ],
   "source": [
    "//var fileExt = new Hashtable();\n",
    "var fileExt = new SortedList();\n",
    "fileExt.Add(\"txt\", \"Plain text\");\n",
    "fileExt.Add(\"mp3\", \"Compressed Music\");\n",
    "fileExt.Add(\"jpg\", \"Jpeg Compressed Images\");\n",
    "\n",
    "fileExt"
   ]
  },
  {
   "cell_type": "code",
   "execution_count": 27,
   "metadata": {
    "dotnet_interactive": {
     "language": "csharp"
    },
    "polyglot_notebook": {
     "kernelName": "csharp"
    },
    "vscode": {
     "languageId": "polyglot-notebook"
    }
   },
   "outputs": [
    {
     "data": {
      "text/html": [
       "<table><thead><tr><th><i>key</i></th><th>value</th></tr></thead><tbody><tr><td><div class=\"dni-plaintext\"><pre>mp3</pre></div></td><td><div class=\"dni-plaintext\"><pre>Compressed Music</pre></div></td></tr><tr><td><div class=\"dni-plaintext\"><pre>jpg</pre></div></td><td><div class=\"dni-plaintext\"><pre>Jpeg Compressed Images</pre></div></td></tr><tr><td><div class=\"dni-plaintext\"><pre>txt</pre></div></td><td><div class=\"dni-plaintext\"><pre>Plain text</pre></div></td></tr></tbody></table><style>\r\n",
       ".dni-code-hint {\r\n",
       "    font-style: italic;\r\n",
       "    overflow: hidden;\r\n",
       "    white-space: nowrap;\r\n",
       "}\r\n",
       ".dni-treeview {\r\n",
       "    white-space: nowrap;\r\n",
       "}\r\n",
       ".dni-treeview td {\r\n",
       "    vertical-align: top;\r\n",
       "    text-align: start;\r\n",
       "}\r\n",
       "details.dni-treeview {\r\n",
       "    padding-left: 1em;\r\n",
       "}\r\n",
       "table td {\r\n",
       "    text-align: start;\r\n",
       "}\r\n",
       "table tr { \r\n",
       "    vertical-align: top; \r\n",
       "    margin: 0em 0px;\r\n",
       "}\r\n",
       "table tr td pre \r\n",
       "{ \r\n",
       "    vertical-align: top !important; \r\n",
       "    margin: 0em 0px !important;\r\n",
       "} \r\n",
       "table th {\r\n",
       "    text-align: start;\r\n",
       "}\r\n",
       "</style>"
      ]
     },
     "metadata": {},
     "output_type": "display_data"
    }
   ],
   "source": [
    "var fileExt = new Hashtable();\n",
    "//var fileExt = new SortedList();\n",
    "fileExt.Add(\"txt\", \"Plain text\");\n",
    "fileExt.Add(\"mp3\", \"Compressed Music\");\n",
    "fileExt.Add(\"jpg\", \"Jpeg Compressed Images\");\n",
    "\n",
    "fileExt"
   ]
  },
  {
   "cell_type": "code",
   "execution_count": 25,
   "metadata": {
    "dotnet_interactive": {
     "language": "csharp"
    },
    "polyglot_notebook": {
     "kernelName": "csharp"
    },
    "vscode": {
     "languageId": "polyglot-notebook"
    }
   },
   "outputs": [
    {
     "ename": "Error",
     "evalue": "System.ArgumentException: Item has already been added. Key in dictionary: 'mp3'  Key being added: 'mp3'\r\n   at System.Collections.SortedList.Add(Object key, Object value)\r\n   at Submission#26.<<Initialize>>d__0.MoveNext()\r\n--- End of stack trace from previous location ---\r\n   at Microsoft.CodeAnalysis.Scripting.ScriptExecutionState.RunSubmissionsAsync[TResult](ImmutableArray`1 precedingExecutors, Func`2 currentExecutor, StrongBox`1 exceptionHolderOpt, Func`2 catchExceptionOpt, CancellationToken cancellationToken)",
     "output_type": "error",
     "traceback": [
      "System.ArgumentException: Item has already been added. Key in dictionary: 'mp3'  Key being added: 'mp3'\r\n",
      "   at System.Collections.SortedList.Add(Object key, Object value)\r\n",
      "   at Submission#26.<<Initialize>>d__0.MoveNext()\r\n",
      "--- End of stack trace from previous location ---\r\n",
      "   at Microsoft.CodeAnalysis.Scripting.ScriptExecutionState.RunSubmissionsAsync[TResult](ImmutableArray`1 precedingExecutors, Func`2 currentExecutor, StrongBox`1 exceptionHolderOpt, Func`2 catchExceptionOpt, CancellationToken cancellationToken)"
     ]
    }
   ],
   "source": [
    "// No duplicates are allowed\n",
    "fileExt.Add(\"mp3\", \"Sound effects\");"
   ]
  },
  {
   "cell_type": "code",
   "execution_count": 28,
   "metadata": {
    "dotnet_interactive": {
     "language": "csharp"
    },
    "polyglot_notebook": {
     "kernelName": "csharp"
    },
    "vscode": {
     "languageId": "polyglot-notebook"
    }
   },
   "outputs": [
    {
     "data": {
      "text/plain": [
       "Compressed Music"
      ]
     },
     "metadata": {},
     "output_type": "display_data"
    }
   ],
   "source": [
    "fileExt[\"mp3\"] // works both for Hashtable and SortedList"
   ]
  },
  {
   "cell_type": "code",
   "execution_count": 73,
   "metadata": {
    "dotnet_interactive": {
     "language": "csharp"
    },
    "polyglot_notebook": {
     "kernelName": "csharp"
    },
    "vscode": {
     "languageId": "polyglot-notebook"
    }
   },
   "outputs": [
    {
     "data": {
      "text/plain": [
       "jpg"
      ]
     },
     "metadata": {},
     "output_type": "display_data"
    },
    {
     "data": {
      "text/plain": [
       "mp3"
      ]
     },
     "metadata": {},
     "output_type": "display_data"
    },
    {
     "data": {
      "text/plain": [
       "txt"
      ]
     },
     "metadata": {},
     "output_type": "display_data"
    }
   ],
   "source": [
    "foreach (var kv in fileExt) \n",
    "{\n",
    "    display(((DictionaryEntry)kv).Key); // DictionaryEntry is a type that contains both the key and the value\n",
    "}"
   ]
  },
  {
   "cell_type": "markdown",
   "metadata": {},
   "source": [
    "### Queue - First-in, first-out\n",
    "\n",
    "A [Queue](https://docs.microsoft.com/dotnet/api/system.collections.queue?view=netcore-3.1&WT.mc_id=visualstudio-twitch-jefritz) is a collection of objects stored and accessed in a first-in / first-out manner.  `Enqueue` to add elements to the `Queue` and `Dequeue` to remove elements from the `Queue`.  You can also `Peek` to inspect the oldest element in the `Queue`"
   ]
  },
  {
   "cell_type": "code",
   "execution_count": 35,
   "metadata": {
    "dotnet_interactive": {
     "language": "csharp"
    },
    "polyglot_notebook": {
     "kernelName": "csharp"
    },
    "vscode": {
     "languageId": "polyglot-notebook"
    }
   },
   "outputs": [
    {
     "data": {
      "text/html": [
       "<table><thead><tr><th><i>index</i></th><th>value</th></tr></thead><tbody><tr><td>0</td><td><div class=\"dni-plaintext\"><pre>First</pre></div></td></tr><tr><td>1</td><td><div class=\"dni-plaintext\"><pre>Second</pre></div></td></tr><tr><td>2</td><td><div class=\"dni-plaintext\"><pre>Third</pre></div></td></tr></tbody></table><style>\r\n",
       ".dni-code-hint {\r\n",
       "    font-style: italic;\r\n",
       "    overflow: hidden;\r\n",
       "    white-space: nowrap;\r\n",
       "}\r\n",
       ".dni-treeview {\r\n",
       "    white-space: nowrap;\r\n",
       "}\r\n",
       ".dni-treeview td {\r\n",
       "    vertical-align: top;\r\n",
       "    text-align: start;\r\n",
       "}\r\n",
       "details.dni-treeview {\r\n",
       "    padding-left: 1em;\r\n",
       "}\r\n",
       "table td {\r\n",
       "    text-align: start;\r\n",
       "}\r\n",
       "table tr { \r\n",
       "    vertical-align: top; \r\n",
       "    margin: 0em 0px;\r\n",
       "}\r\n",
       "table tr td pre \r\n",
       "{ \r\n",
       "    vertical-align: top !important; \r\n",
       "    margin: 0em 0px !important;\r\n",
       "} \r\n",
       "table th {\r\n",
       "    text-align: start;\r\n",
       "}\r\n",
       "</style>"
      ]
     },
     "metadata": {},
     "output_type": "display_data"
    }
   ],
   "source": [
    "var myQueue = new Queue(); // Queue means in Turkish \"kuyruk\"\n",
    "myQueue.Enqueue(\"First\");\n",
    "myQueue.Enqueue(\"Second\");\n",
    "\n",
    "myQueue.Enqueue(\"Third\");\n",
    "\n",
    "myQueue"
   ]
  },
  {
   "cell_type": "code",
   "execution_count": 36,
   "metadata": {
    "dotnet_interactive": {
     "language": "csharp"
    },
    "polyglot_notebook": {
     "kernelName": "csharp"
    },
    "vscode": {
     "languageId": "polyglot-notebook"
    }
   },
   "outputs": [
    {
     "data": {
      "text/html": [
       "<div class=\"dni-plaintext\"><pre>3</pre></div><style>\r\n",
       ".dni-code-hint {\r\n",
       "    font-style: italic;\r\n",
       "    overflow: hidden;\r\n",
       "    white-space: nowrap;\r\n",
       "}\r\n",
       ".dni-treeview {\r\n",
       "    white-space: nowrap;\r\n",
       "}\r\n",
       ".dni-treeview td {\r\n",
       "    vertical-align: top;\r\n",
       "    text-align: start;\r\n",
       "}\r\n",
       "details.dni-treeview {\r\n",
       "    padding-left: 1em;\r\n",
       "}\r\n",
       "table td {\r\n",
       "    text-align: start;\r\n",
       "}\r\n",
       "table tr { \r\n",
       "    vertical-align: top; \r\n",
       "    margin: 0em 0px;\r\n",
       "}\r\n",
       "table tr td pre \r\n",
       "{ \r\n",
       "    vertical-align: top !important; \r\n",
       "    margin: 0em 0px !important;\r\n",
       "} \r\n",
       "table th {\r\n",
       "    text-align: start;\r\n",
       "}\r\n",
       "</style>"
      ]
     },
     "metadata": {},
     "output_type": "display_data"
    }
   ],
   "source": [
    "// Use Count to check the size of the queue\n",
    "myQueue.Count"
   ]
  },
  {
   "cell_type": "code",
   "execution_count": 37,
   "metadata": {
    "dotnet_interactive": {
     "language": "csharp"
    },
    "polyglot_notebook": {
     "kernelName": "csharp"
    },
    "vscode": {
     "languageId": "polyglot-notebook"
    }
   },
   "outputs": [
    {
     "data": {
      "text/plain": [
       "First"
      ]
     },
     "metadata": {},
     "output_type": "display_data"
    }
   ],
   "source": [
    "// Use Peek to inspect the next value off of the queue\n",
    "display(myQueue.Peek()); // Peek means in Turkish \"bakmak\"\n",
    "// Peek doesn't remove the item from the queue\n",
    "// The queue is still the same size"
   ]
  },
  {
   "cell_type": "code",
   "execution_count": 38,
   "metadata": {
    "dotnet_interactive": {
     "language": "csharp"
    },
    "polyglot_notebook": {
     "kernelName": "csharp"
    },
    "vscode": {
     "languageId": "polyglot-notebook"
    }
   },
   "outputs": [
    {
     "data": {
      "text/plain": [
       "First"
      ]
     },
     "metadata": {},
     "output_type": "display_data"
    }
   ],
   "source": [
    "var z = myQueue.Dequeue();\n",
    "z"
   ]
  },
  {
   "cell_type": "code",
   "execution_count": 40,
   "metadata": {
    "dotnet_interactive": {
     "language": "csharp"
    },
    "polyglot_notebook": {
     "kernelName": "csharp"
    },
    "vscode": {
     "languageId": "polyglot-notebook"
    }
   },
   "outputs": [],
   "source": [
    "// myQueue.Dequeue(\"Third\"); \n",
    "\n",
    "// it is not possible to dequeue a specific item"
   ]
  },
  {
   "cell_type": "markdown",
   "metadata": {},
   "source": [
    "### Stack - Last-in / First-out\n",
    "\n",
    "A [Stack](https://docs.microsoft.com/dotnet/api/system.collections.stack?view=netcore-3.1&WT.mc_id=visualstudio-twitch-jefritz) is a collection that is accessed in Last-in/First-out manner using the `Push` and `Pop` methods to add and remove items, with the `Peek` method available to examine the next item to be removed from the `Stack`.  I think of a `Stack` like a deck of cards:  the last card that is placed on the top of the deck is the first to be dealt to a player."
   ]
  },
  {
   "cell_type": "code",
   "execution_count": 41,
   "metadata": {
    "dotnet_interactive": {
     "language": "csharp"
    },
    "polyglot_notebook": {
     "kernelName": "csharp"
    },
    "vscode": {
     "languageId": "polyglot-notebook"
    }
   },
   "outputs": [
    {
     "data": {
      "text/html": [
       "<table><thead><tr><th><i>index</i></th><th>value</th></tr></thead><tbody><tr><td>0</td><td><div class=\"dni-plaintext\"><pre>9-c</pre></div></td></tr><tr><td>1</td><td><div class=\"dni-plaintext\"><pre>9-s</pre></div></td></tr><tr><td>2</td><td><div class=\"dni-plaintext\"><pre>9-h</pre></div></td></tr><tr><td>3</td><td><div class=\"dni-plaintext\"><pre>A-s</pre></div></td></tr><tr><td>4</td><td><div class=\"dni-plaintext\"><pre>A-d</pre></div></td></tr></tbody></table><style>\r\n",
       ".dni-code-hint {\r\n",
       "    font-style: italic;\r\n",
       "    overflow: hidden;\r\n",
       "    white-space: nowrap;\r\n",
       "}\r\n",
       ".dni-treeview {\r\n",
       "    white-space: nowrap;\r\n",
       "}\r\n",
       ".dni-treeview td {\r\n",
       "    vertical-align: top;\r\n",
       "    text-align: start;\r\n",
       "}\r\n",
       "details.dni-treeview {\r\n",
       "    padding-left: 1em;\r\n",
       "}\r\n",
       "table td {\r\n",
       "    text-align: start;\r\n",
       "}\r\n",
       "table tr { \r\n",
       "    vertical-align: top; \r\n",
       "    margin: 0em 0px;\r\n",
       "}\r\n",
       "table tr td pre \r\n",
       "{ \r\n",
       "    vertical-align: top !important; \r\n",
       "    margin: 0em 0px !important;\r\n",
       "} \r\n",
       "table th {\r\n",
       "    text-align: start;\r\n",
       "}\r\n",
       "</style>"
      ]
     },
     "metadata": {},
     "output_type": "display_data"
    }
   ],
   "source": [
    "var myHand = new Stack();\n",
    "myHand.Push(\"A-d\");\n",
    "myHand.Push(\"A-s\");\n",
    "myHand.Push(\"9-h\");\n",
    "myHand.Push(\"9-s\");\n",
    "myHand.Push(\"9-c\");\n",
    "\n",
    "myHand"
   ]
  },
  {
   "cell_type": "code",
   "execution_count": 42,
   "metadata": {
    "dotnet_interactive": {
     "language": "csharp"
    },
    "polyglot_notebook": {
     "kernelName": "csharp"
    },
    "vscode": {
     "languageId": "polyglot-notebook"
    }
   },
   "outputs": [
    {
     "data": {
      "text/plain": [
       "9-c"
      ]
     },
     "metadata": {},
     "output_type": "display_data"
    }
   ],
   "source": [
    "var myCard = myHand.Peek();\n",
    "myCard // The 9-Clubs is returned first because it was Pushed onto the Stack LAST"
   ]
  },
  {
   "cell_type": "code",
   "execution_count": 44,
   "metadata": {
    "dotnet_interactive": {
     "language": "csharp"
    },
    "polyglot_notebook": {
     "kernelName": "csharp"
    },
    "vscode": {
     "languageId": "polyglot-notebook"
    }
   },
   "outputs": [
    {
     "data": {
      "text/plain": [
       "9-s"
      ]
     },
     "metadata": {},
     "output_type": "display_data"
    },
    {
     "data": {
      "text/plain": [
       "9-h"
      ]
     },
     "metadata": {},
     "output_type": "display_data"
    },
    {
     "data": {
      "text/plain": [
       "A-s"
      ]
     },
     "metadata": {},
     "output_type": "display_data"
    },
    {
     "data": {
      "text/plain": [
       "A-d"
      ]
     },
     "metadata": {},
     "output_type": "display_data"
    },
    {
     "data": {
      "text/plain": [
       "9-s"
      ]
     },
     "metadata": {},
     "output_type": "display_data"
    },
    {
     "data": {
      "text/plain": [
       "9-s"
      ]
     },
     "metadata": {},
     "output_type": "display_data"
    }
   ],
   "source": [
    "foreach (var item in myHand) \n",
    "{\n",
    "    display(item);\n",
    "}\n",
    "\n",
    "display(myHand.Peek());\n",
    "var thisCard = myHand.Pop();\n",
    "thisCard"
   ]
  },
  {
   "cell_type": "markdown",
   "metadata": {},
   "source": [
    "We've looked at these basic interactions with collection types and the keys or values stored don't have a specific type associated.  You can get into some hairy situations dealing with type conversions if you mix and match types for keys or values."
   ]
  },
  {
   "cell_type": "code",
   "execution_count": 45,
   "metadata": {
    "dotnet_interactive": {
     "language": "csharp"
    },
    "polyglot_notebook": {
     "kernelName": "csharp"
    },
    "vscode": {
     "languageId": "polyglot-notebook"
    }
   },
   "outputs": [
    {
     "data": {
      "text/html": [
       "<table><thead><tr><th><i>index</i></th><th><i>type</i></th><th>value</th></tr></thead><tbody><tr><td>0</td><td>Submission#46+Card</td><td><details class=\"dni-treeview\"><summary><span class=\"dni-code-hint\"><code>J-h</code></span></summary><div><table><thead><tr></tr></thead><tbody><tr><td>Rank</td><td><div class=\"dni-plaintext\"><pre>J</pre></div></td></tr><tr><td>Suit</td><td><div class=\"dni-plaintext\"><pre>h</pre></div></td></tr></tbody></table></div></details></td></tr><tr><td>1</td><td><span><a href=\"https://docs.microsoft.com/dotnet/api/system.string?view=net-7.0\">System.String</a></span></td><td><div class=\"dni-plaintext\"><pre>Joker</pre></div></td></tr><tr><td>2</td><td>Submission#46+Card</td><td><details class=\"dni-treeview\"><summary><span class=\"dni-code-hint\"><code>K-h</code></span></summary><div><table><thead><tr></tr></thead><tbody><tr><td>Rank</td><td><div class=\"dni-plaintext\"><pre>K</pre></div></td></tr><tr><td>Suit</td><td><div class=\"dni-plaintext\"><pre>h</pre></div></td></tr></tbody></table></div></details></td></tr><tr><td>3</td><td>Submission#46+Card</td><td><details class=\"dni-treeview\"><summary><span class=\"dni-code-hint\"><code>A-d</code></span></summary><div><table><thead><tr></tr></thead><tbody><tr><td>Rank</td><td><div class=\"dni-plaintext\"><pre>A</pre></div></td></tr><tr><td>Suit</td><td><div class=\"dni-plaintext\"><pre>d</pre></div></td></tr></tbody></table></div></details></td></tr></tbody></table><style>\r\n",
       ".dni-code-hint {\r\n",
       "    font-style: italic;\r\n",
       "    overflow: hidden;\r\n",
       "    white-space: nowrap;\r\n",
       "}\r\n",
       ".dni-treeview {\r\n",
       "    white-space: nowrap;\r\n",
       "}\r\n",
       ".dni-treeview td {\r\n",
       "    vertical-align: top;\r\n",
       "    text-align: start;\r\n",
       "}\r\n",
       "details.dni-treeview {\r\n",
       "    padding-left: 1em;\r\n",
       "}\r\n",
       "table td {\r\n",
       "    text-align: start;\r\n",
       "}\r\n",
       "table tr { \r\n",
       "    vertical-align: top; \r\n",
       "    margin: 0em 0px;\r\n",
       "}\r\n",
       "table tr td pre \r\n",
       "{ \r\n",
       "    vertical-align: top !important; \r\n",
       "    margin: 0em 0px !important;\r\n",
       "} \r\n",
       "table th {\r\n",
       "    text-align: start;\r\n",
       "}\r\n",
       "</style>"
      ]
     },
     "metadata": {},
     "output_type": "display_data"
    }
   ],
   "source": [
    "class Card {\n",
    "    public string Rank; // a public field\n",
    "    public string Suit; // a public field\n",
    "    public Card(string id) { // a constructor\n",
    "        Rank = id.Split('-')[0]; // Split is a method of the string class that returns an array of strings.\n",
    "        Suit = id.Split('-')[1]; // The [0] and [1] are the indexes of the array\n",
    "    }\n",
    "    public override string ToString() { return Rank + \"-\" + Suit; } // an override of the ToString() method.\n",
    "}\n",
    "\n",
    "var deckOfCards = new Stack();\n",
    "deckOfCards.Push(new Card(\"A-d\"));\n",
    "deckOfCards.Push(new Card(\"K-h\"));\n",
    "\n",
    "// Now add a Joker card\n",
    "deckOfCards.Push(\"Joker\");\n",
    "\n",
    "deckOfCards.Push(new Card(\"J-h\"));\n",
    "\n",
    "deckOfCards"
   ]
  },
  {
   "cell_type": "code",
   "execution_count": 46,
   "metadata": {
    "dotnet_interactive": {
     "language": "csharp"
    },
    "polyglot_notebook": {
     "kernelName": "csharp"
    },
    "vscode": {
     "languageId": "polyglot-notebook"
    }
   },
   "outputs": [
    {
     "data": {
      "text/html": [
       "<details open=\"open\" class=\"dni-treeview\"><summary><span class=\"dni-code-hint\"><code>J-h</code></span></summary><div><table><thead><tr></tr></thead><tbody><tr><td>Rank</td><td><div class=\"dni-plaintext\"><pre>J</pre></div></td></tr><tr><td>Suit</td><td><div class=\"dni-plaintext\"><pre>h</pre></div></td></tr></tbody></table></div></details><style>\r\n",
       ".dni-code-hint {\r\n",
       "    font-style: italic;\r\n",
       "    overflow: hidden;\r\n",
       "    white-space: nowrap;\r\n",
       "}\r\n",
       ".dni-treeview {\r\n",
       "    white-space: nowrap;\r\n",
       "}\r\n",
       ".dni-treeview td {\r\n",
       "    vertical-align: top;\r\n",
       "    text-align: start;\r\n",
       "}\r\n",
       "details.dni-treeview {\r\n",
       "    padding-left: 1em;\r\n",
       "}\r\n",
       "table td {\r\n",
       "    text-align: start;\r\n",
       "}\r\n",
       "table tr { \r\n",
       "    vertical-align: top; \r\n",
       "    margin: 0em 0px;\r\n",
       "}\r\n",
       "table tr td pre \r\n",
       "{ \r\n",
       "    vertical-align: top !important; \r\n",
       "    margin: 0em 0px !important;\r\n",
       "} \r\n",
       "table th {\r\n",
       "    text-align: start;\r\n",
       "}\r\n",
       "</style>"
      ]
     },
     "metadata": {},
     "output_type": "display_data"
    }
   ],
   "source": [
    "// take a card off the deck\n",
    "var myCard = deckOfCards.Pop();\n",
    "myCard"
   ]
  },
  {
   "cell_type": "markdown",
   "metadata": {},
   "source": [
    "## Generics \n",
    "\n",
    "[Generics](https://docs.microsoft.com/dotnet/csharp/programming-guide/generics?WT.mc_id=visualstudio-twitch-jefritz) are a way for you to force the type of a parameter from within client code.  You declare the type generically using the convention `<T>` with a class name or a method name and this allows that type to be passed around and enforced on those methods or properties in a class.\n",
    "\n",
    "Most developers are familiar with using [Generic Collections](https://docs.microsoft.com/dotnet/standard/generics/collections?WT.mc_id=visualstudio-twitch-jefritz), which enforce the type of the objects in the collection.  You'll find a `Queue<T>` and a `Stack<T>` available in the `System.Collections.Generic` namespace that mirror the versions we used above, as well as a few others list `List<T>` and `Dictionary<T>`.\n",
    "\n",
    "Let's take a look at some examples\n",
    "\n",
    "### List&lt;T&gt;\n",
    "\n",
    "The [List&lt;T&gt;](https://docs.microsoft.com/dotnet/api/system.collections.generic.list-1?view=netcore-3.1&WT.mc_id=visualstudio-twitch-jefritz) is the most flexible of the generic collections, allowing you to add, remove, and access objects of the specified type.  Let's take a look at that deck of cards sample again:"
   ]
  },
  {
   "cell_type": "code",
   "execution_count": 47,
   "metadata": {
    "dotnet_interactive": {
     "language": "csharp"
    },
    "polyglot_notebook": {
     "kernelName": "csharp"
    },
    "vscode": {
     "languageId": "polyglot-notebook"
    }
   },
   "outputs": [
    {
     "data": {
      "text/html": [
       "<span><a href=\"https://docs.microsoft.com/dotnet/api/system.collections.generic.list-1?view=net-7.0\">System.Collections.Generic.List&lt;Submission#46+Card&gt;</a></span>"
      ]
     },
     "metadata": {},
     "output_type": "display_data"
    },
    {
     "data": {
      "text/html": [
       "<table><thead><tr><th><i>index</i></th><th>value</th></tr></thead><tbody><tr><td>0</td><td><details class=\"dni-treeview\"><summary><span class=\"dni-code-hint\"><code>A-d</code></span></summary><div><table><thead><tr></tr></thead><tbody><tr><td>Rank</td><td><div class=\"dni-plaintext\"><pre>A</pre></div></td></tr><tr><td>Suit</td><td><div class=\"dni-plaintext\"><pre>d</pre></div></td></tr></tbody></table></div></details></td></tr><tr><td>1</td><td><details class=\"dni-treeview\"><summary><span class=\"dni-code-hint\"><code>J-d</code></span></summary><div><table><thead><tr></tr></thead><tbody><tr><td>Rank</td><td><div class=\"dni-plaintext\"><pre>J</pre></div></td></tr><tr><td>Suit</td><td><div class=\"dni-plaintext\"><pre>d</pre></div></td></tr></tbody></table></div></details></td></tr><tr><td>2</td><td><details class=\"dni-treeview\"><summary><span class=\"dni-code-hint\"><code>9-c</code></span></summary><div><table><thead><tr></tr></thead><tbody><tr><td>Rank</td><td><div class=\"dni-plaintext\"><pre>9</pre></div></td></tr><tr><td>Suit</td><td><div class=\"dni-plaintext\"><pre>c</pre></div></td></tr></tbody></table></div></details></td></tr><tr><td>3</td><td><details class=\"dni-treeview\"><summary><span class=\"dni-code-hint\"><code>8-s</code></span></summary><div><table><thead><tr></tr></thead><tbody><tr><td>Rank</td><td><div class=\"dni-plaintext\"><pre>8</pre></div></td></tr><tr><td>Suit</td><td><div class=\"dni-plaintext\"><pre>s</pre></div></td></tr></tbody></table></div></details></td></tr></tbody></table><style>\r\n",
       ".dni-code-hint {\r\n",
       "    font-style: italic;\r\n",
       "    overflow: hidden;\r\n",
       "    white-space: nowrap;\r\n",
       "}\r\n",
       ".dni-treeview {\r\n",
       "    white-space: nowrap;\r\n",
       "}\r\n",
       ".dni-treeview td {\r\n",
       "    vertical-align: top;\r\n",
       "    text-align: start;\r\n",
       "}\r\n",
       "details.dni-treeview {\r\n",
       "    padding-left: 1em;\r\n",
       "}\r\n",
       "table td {\r\n",
       "    text-align: start;\r\n",
       "}\r\n",
       "table tr { \r\n",
       "    vertical-align: top; \r\n",
       "    margin: 0em 0px;\r\n",
       "}\r\n",
       "table tr td pre \r\n",
       "{ \r\n",
       "    vertical-align: top !important; \r\n",
       "    margin: 0em 0px !important;\r\n",
       "} \r\n",
       "table th {\r\n",
       "    text-align: start;\r\n",
       "}\r\n",
       "</style>"
      ]
     },
     "metadata": {},
     "output_type": "display_data"
    }
   ],
   "source": [
    "// Declare the list with the specified type inside angle-brackets\n",
    "var listOfCards = new List<Card>();\n",
    "listOfCards.Add(new Card(\"A-d\"));\n",
    "listOfCards.Add(new Card(\"J-d\"));\n",
    "listOfCards.Add(new Card(\"9-c\"));\n",
    "listOfCards.Add(new Card(\"8-s\"));\n",
    "\n",
    "display(listOfCards.GetType());\n",
    "listOfCards"
   ]
  },
  {
   "cell_type": "markdown",
   "metadata": {},
   "source": [
    "We can randomly access an element anywhere in the `List<Card>`, similar to choosing a card from the middle of the deck:"
   ]
  },
  {
   "cell_type": "code",
   "execution_count": 77,
   "metadata": {
    "dotnet_interactive": {
     "language": "csharp"
    },
    "polyglot_notebook": {
     "kernelName": "csharp"
    },
    "vscode": {
     "languageId": "polyglot-notebook"
    }
   },
   "outputs": [
    {
     "data": {
      "text/html": [
       "<details open=\"open\" class=\"dni-treeview\"><summary><span class=\"dni-code-hint\"><code>J-d</code></span></summary><div><table><thead><tr></tr></thead><tbody><tr><td>Rank</td><td><div class=\"dni-plaintext\"><pre>J</pre></div></td></tr><tr><td>Suit</td><td><div class=\"dni-plaintext\"><pre>d</pre></div></td></tr></tbody></table></div></details><style>\r\n",
       ".dni-code-hint {\r\n",
       "    font-style: italic;\r\n",
       "    overflow: hidden;\r\n",
       "    white-space: nowrap;\r\n",
       "}\r\n",
       ".dni-treeview {\r\n",
       "    white-space: nowrap;\r\n",
       "}\r\n",
       ".dni-treeview td {\r\n",
       "    vertical-align: top;\r\n",
       "    text-align: start;\r\n",
       "}\r\n",
       "details.dni-treeview {\r\n",
       "    padding-left: 1em;\r\n",
       "}\r\n",
       "table td {\r\n",
       "    text-align: start;\r\n",
       "}\r\n",
       "table tr { \r\n",
       "    vertical-align: top; \r\n",
       "    margin: 0em 0px;\r\n",
       "}\r\n",
       "table tr td pre \r\n",
       "{ \r\n",
       "    vertical-align: top !important; \r\n",
       "    margin: 0em 0px !important;\r\n",
       "} \r\n",
       "table th {\r\n",
       "    text-align: start;\r\n",
       "}\r\n",
       "</style>"
      ]
     },
     "metadata": {},
     "output_type": "display_data"
    }
   ],
   "source": [
    "listOfCards[1]"
   ]
  },
  {
   "cell_type": "markdown",
   "metadata": {},
   "source": [
    "Similary, we can also `Insert` to add a card into the middle of the deck at a specific index.  Perhaps I have the three of hearts and want to insert it as the third card in the collection:"
   ]
  },
  {
   "cell_type": "code",
   "execution_count": 49,
   "metadata": {
    "dotnet_interactive": {
     "language": "csharp"
    },
    "polyglot_notebook": {
     "kernelName": "csharp"
    },
    "vscode": {
     "languageId": "polyglot-notebook"
    }
   },
   "outputs": [
    {
     "data": {
      "text/html": [
       "<table><thead><tr><th><i>index</i></th><th>value</th></tr></thead><tbody><tr><td>0</td><td><details class=\"dni-treeview\"><summary><span class=\"dni-code-hint\"><code>A-d</code></span></summary><div><table><thead><tr></tr></thead><tbody><tr><td>Rank</td><td><div class=\"dni-plaintext\"><pre>A</pre></div></td></tr><tr><td>Suit</td><td><div class=\"dni-plaintext\"><pre>d</pre></div></td></tr></tbody></table></div></details></td></tr><tr><td>1</td><td><details class=\"dni-treeview\"><summary><span class=\"dni-code-hint\"><code>J-d</code></span></summary><div><table><thead><tr></tr></thead><tbody><tr><td>Rank</td><td><div class=\"dni-plaintext\"><pre>J</pre></div></td></tr><tr><td>Suit</td><td><div class=\"dni-plaintext\"><pre>d</pre></div></td></tr></tbody></table></div></details></td></tr><tr><td>2</td><td><details class=\"dni-treeview\"><summary><span class=\"dni-code-hint\"><code>3-h</code></span></summary><div><table><thead><tr></tr></thead><tbody><tr><td>Rank</td><td><div class=\"dni-plaintext\"><pre>3</pre></div></td></tr><tr><td>Suit</td><td><div class=\"dni-plaintext\"><pre>h</pre></div></td></tr></tbody></table></div></details></td></tr><tr><td>3</td><td><details class=\"dni-treeview\"><summary><span class=\"dni-code-hint\"><code>9-c</code></span></summary><div><table><thead><tr></tr></thead><tbody><tr><td>Rank</td><td><div class=\"dni-plaintext\"><pre>9</pre></div></td></tr><tr><td>Suit</td><td><div class=\"dni-plaintext\"><pre>c</pre></div></td></tr></tbody></table></div></details></td></tr><tr><td>4</td><td><details class=\"dni-treeview\"><summary><span class=\"dni-code-hint\"><code>8-s</code></span></summary><div><table><thead><tr></tr></thead><tbody><tr><td>Rank</td><td><div class=\"dni-plaintext\"><pre>8</pre></div></td></tr><tr><td>Suit</td><td><div class=\"dni-plaintext\"><pre>s</pre></div></td></tr></tbody></table></div></details></td></tr></tbody></table><style>\r\n",
       ".dni-code-hint {\r\n",
       "    font-style: italic;\r\n",
       "    overflow: hidden;\r\n",
       "    white-space: nowrap;\r\n",
       "}\r\n",
       ".dni-treeview {\r\n",
       "    white-space: nowrap;\r\n",
       "}\r\n",
       ".dni-treeview td {\r\n",
       "    vertical-align: top;\r\n",
       "    text-align: start;\r\n",
       "}\r\n",
       "details.dni-treeview {\r\n",
       "    padding-left: 1em;\r\n",
       "}\r\n",
       "table td {\r\n",
       "    text-align: start;\r\n",
       "}\r\n",
       "table tr { \r\n",
       "    vertical-align: top; \r\n",
       "    margin: 0em 0px;\r\n",
       "}\r\n",
       "table tr td pre \r\n",
       "{ \r\n",
       "    vertical-align: top !important; \r\n",
       "    margin: 0em 0px !important;\r\n",
       "} \r\n",
       "table th {\r\n",
       "    text-align: start;\r\n",
       "}\r\n",
       "</style>"
      ]
     },
     "metadata": {},
     "output_type": "display_data"
    }
   ],
   "source": [
    "var ThreeHearts = new Card(\"3-h\");\n",
    "listOfCards.Insert(2, ThreeHearts);\n",
    "listOfCards"
   ]
  },
  {
   "cell_type": "markdown",
   "metadata": {},
   "source": [
    "I can ask the list where the three of hearts is located by using the `IndexOf` method to locate it in the deck.  I bet that sleight of hand magician could use this technique to find the three of hearts in a deck of cards.  Its not magic, just C#:"
   ]
  },
  {
   "cell_type": "code",
   "execution_count": 50,
   "metadata": {
    "dotnet_interactive": {
     "language": "csharp"
    },
    "polyglot_notebook": {
     "kernelName": "csharp"
    },
    "vscode": {
     "languageId": "polyglot-notebook"
    }
   },
   "outputs": [
    {
     "data": {
      "text/html": [
       "<div class=\"dni-plaintext\"><pre>2</pre></div><style>\r\n",
       ".dni-code-hint {\r\n",
       "    font-style: italic;\r\n",
       "    overflow: hidden;\r\n",
       "    white-space: nowrap;\r\n",
       "}\r\n",
       ".dni-treeview {\r\n",
       "    white-space: nowrap;\r\n",
       "}\r\n",
       ".dni-treeview td {\r\n",
       "    vertical-align: top;\r\n",
       "    text-align: start;\r\n",
       "}\r\n",
       "details.dni-treeview {\r\n",
       "    padding-left: 1em;\r\n",
       "}\r\n",
       "table td {\r\n",
       "    text-align: start;\r\n",
       "}\r\n",
       "table tr { \r\n",
       "    vertical-align: top; \r\n",
       "    margin: 0em 0px;\r\n",
       "}\r\n",
       "table tr td pre \r\n",
       "{ \r\n",
       "    vertical-align: top !important; \r\n",
       "    margin: 0em 0px !important;\r\n",
       "} \r\n",
       "table th {\r\n",
       "    text-align: start;\r\n",
       "}\r\n",
       "</style>"
      ]
     },
     "metadata": {},
     "output_type": "display_data"
    }
   ],
   "source": [
    "listOfCards.IndexOf(ThreeHearts)"
   ]
  },
  {
   "cell_type": "markdown",
   "metadata": {},
   "source": [
    "You can also ask the `List<Card>` what the card is at a specific index by using the `ElementAt` method"
   ]
  },
  {
   "cell_type": "code",
   "execution_count": 51,
   "metadata": {
    "dotnet_interactive": {
     "language": "csharp"
    },
    "polyglot_notebook": {
     "kernelName": "csharp"
    },
    "vscode": {
     "languageId": "polyglot-notebook"
    }
   },
   "outputs": [
    {
     "data": {
      "text/html": [
       "<details open=\"open\" class=\"dni-treeview\"><summary><span class=\"dni-code-hint\"><code>J-d</code></span></summary><div><table><thead><tr></tr></thead><tbody><tr><td>Rank</td><td><div class=\"dni-plaintext\"><pre>J</pre></div></td></tr><tr><td>Suit</td><td><div class=\"dni-plaintext\"><pre>d</pre></div></td></tr></tbody></table></div></details><style>\r\n",
       ".dni-code-hint {\r\n",
       "    font-style: italic;\r\n",
       "    overflow: hidden;\r\n",
       "    white-space: nowrap;\r\n",
       "}\r\n",
       ".dni-treeview {\r\n",
       "    white-space: nowrap;\r\n",
       "}\r\n",
       ".dni-treeview td {\r\n",
       "    vertical-align: top;\r\n",
       "    text-align: start;\r\n",
       "}\r\n",
       "details.dni-treeview {\r\n",
       "    padding-left: 1em;\r\n",
       "}\r\n",
       "table td {\r\n",
       "    text-align: start;\r\n",
       "}\r\n",
       "table tr { \r\n",
       "    vertical-align: top; \r\n",
       "    margin: 0em 0px;\r\n",
       "}\r\n",
       "table tr td pre \r\n",
       "{ \r\n",
       "    vertical-align: top !important; \r\n",
       "    margin: 0em 0px !important;\r\n",
       "} \r\n",
       "table th {\r\n",
       "    text-align: start;\r\n",
       "}\r\n",
       "</style>"
      ]
     },
     "metadata": {},
     "output_type": "display_data"
    }
   ],
   "source": [
    "listOfCards.ElementAt(1)"
   ]
  },
  {
   "cell_type": "markdown",
   "metadata": {},
   "source": [
    "This list is generically typed to a `Card` and we read the type `List<Card>` in English as \"List **of type** Card\".  Thanks to this typing, we cannot add anything that isn't a card to the `listOfCards`:"
   ]
  },
  {
   "cell_type": "code",
   "execution_count": 52,
   "metadata": {
    "dotnet_interactive": {
     "language": "csharp"
    },
    "polyglot_notebook": {
     "kernelName": "csharp"
    },
    "vscode": {
     "languageId": "polyglot-notebook"
    }
   },
   "outputs": [
    {
     "ename": "Error",
     "evalue": "(1,17): error CS1503: Argument 1: cannot convert from 'string' to 'Card'",
     "output_type": "error",
     "traceback": [
      "(1,17): error CS1503: Argument 1: cannot convert from 'string' to 'Card'"
     ]
    }
   ],
   "source": [
    "//listOfCards.Add(\"Joker\");"
   ]
  },
  {
   "cell_type": "code",
   "execution_count": 55,
   "metadata": {
    "dotnet_interactive": {
     "language": "csharp"
    },
    "polyglot_notebook": {
     "kernelName": "csharp"
    },
    "vscode": {
     "languageId": "polyglot-notebook"
    }
   },
   "outputs": [],
   "source": [
    "// can I add different types of objects to a sorted list? - yes\n",
    "// to a generic list? - no"
   ]
  },
  {
   "cell_type": "markdown",
   "metadata": {},
   "source": [
    "### Dictionary&lt;TKey,TValue&gt;\n",
    "\n",
    "In some classes, you may have multiple type-arguments like the Dictionary class.  In [Dictionary&lt;TKey,TValue&gt;](https://docs.microsoft.com/dotnet/api/system.collections.generic.dictionary-2?view=netcore-3.1&WT.mc_id=visualstudio-twitch-jefritz) there are type arguments for the key and the value stored."
   ]
  },
  {
   "cell_type": "code",
   "execution_count": 57,
   "metadata": {
    "dotnet_interactive": {
     "language": "csharp"
    },
    "polyglot_notebook": {
     "kernelName": "csharp"
    },
    "vscode": {
     "languageId": "polyglot-notebook"
    }
   },
   "outputs": [
    {
     "data": {
      "text/html": [
       "<table><thead><tr><th><i>key</i></th><th>value</th></tr></thead><tbody><tr><td><div class=\"dni-plaintext\"><pre>txt</pre></div></td><td><div class=\"dni-plaintext\"><pre>Plain text</pre></div></td></tr><tr><td><div class=\"dni-plaintext\"><pre>mp3</pre></div></td><td><div class=\"dni-plaintext\"><pre>Compressed Music</pre></div></td></tr><tr><td><div class=\"dni-plaintext\"><pre>jpg</pre></div></td><td><div class=\"dni-plaintext\"><pre>Jpeg Co&#39;mpressed Images</pre></div></td></tr></tbody></table><style>\r\n",
       ".dni-code-hint {\r\n",
       "    font-style: italic;\r\n",
       "    overflow: hidden;\r\n",
       "    white-space: nowrap;\r\n",
       "}\r\n",
       ".dni-treeview {\r\n",
       "    white-space: nowrap;\r\n",
       "}\r\n",
       ".dni-treeview td {\r\n",
       "    vertical-align: top;\r\n",
       "    text-align: start;\r\n",
       "}\r\n",
       "details.dni-treeview {\r\n",
       "    padding-left: 1em;\r\n",
       "}\r\n",
       "table td {\r\n",
       "    text-align: start;\r\n",
       "}\r\n",
       "table tr { \r\n",
       "    vertical-align: top; \r\n",
       "    margin: 0em 0px;\r\n",
       "}\r\n",
       "table tr td pre \r\n",
       "{ \r\n",
       "    vertical-align: top !important; \r\n",
       "    margin: 0em 0px !important;\r\n",
       "} \r\n",
       "table th {\r\n",
       "    text-align: start;\r\n",
       "}\r\n",
       "</style>"
      ]
     },
     "metadata": {},
     "output_type": "display_data"
    }
   ],
   "source": [
    "var exts = new Dictionary<string, string>(); // keys and values can be of any type\n",
    "exts.Add(\"txt\", \"Plain text\");\n",
    "exts.Add(\"mp3\", \"Compressed Music\");\n",
    "exts.Add(\"jpg\", \"Jpeg Co'mpressed Images\");\n",
    "\n",
    "exts"
   ]
  },
  {
   "cell_type": "code",
   "execution_count": 74,
   "metadata": {
    "dotnet_interactive": {
     "language": "csharp"
    },
    "polyglot_notebook": {
     "kernelName": "csharp"
    },
    "vscode": {
     "languageId": "polyglot-notebook"
    }
   },
   "outputs": [
    {
     "data": {
      "text/plain": [
       "Jpeg Co'mpressed Images"
      ]
     },
     "metadata": {},
     "output_type": "display_data"
    }
   ],
   "source": [
    "exts[\"jpg\"]"
   ]
  },
  {
   "cell_type": "code",
   "execution_count": 62,
   "metadata": {
    "dotnet_interactive": {
     "language": "csharp"
    },
    "polyglot_notebook": {
     "kernelName": "csharp"
    },
    "vscode": {
     "languageId": "polyglot-notebook"
    }
   },
   "outputs": [],
   "source": [
    "// exts[\"Jpeg Co'mpressed Images\"] \n",
    "\n",
    "// this doesn't work. You can only access the values by the keys\n",
    "// if you want to access the values by the values, you need to use LINQ"
   ]
  },
  {
   "cell_type": "code",
   "execution_count": 64,
   "metadata": {
    "dotnet_interactive": {
     "language": "csharp"
    },
    "polyglot_notebook": {
     "kernelName": "csharp"
    },
    "vscode": {
     "languageId": "polyglot-notebook"
    }
   },
   "outputs": [],
   "source": [
    "// exts.Add(\"mp3\", \"Sound Effects\"); \n",
    "// this doesn't work. You cannot add duplicate keys (unique keys)"
   ]
  },
  {
   "cell_type": "code",
   "execution_count": 66,
   "metadata": {
    "dotnet_interactive": {
     "language": "csharp"
    },
    "polyglot_notebook": {
     "kernelName": "csharp"
    },
    "vscode": {
     "languageId": "polyglot-notebook"
    }
   },
   "outputs": [],
   "source": [
    "// exts.Add(\"card\", new Card(\"J-h\")); \n",
    "// you can add different types of objects to a dictionary"
   ]
  },
  {
   "cell_type": "markdown",
   "metadata": {},
   "source": [
    "### Hashset<T>\n",
    "\n",
    "A [Hashset<T>](https://docs.microsoft.com/en-us/dotnet/api/system.collections.generic.hashset-1?view=netcore-3.1&WT.mc_id=visualstudio-twitch-jefritz) is a high-performance collection that does not contain duplicate entries."
   ]
  },
  {
   "cell_type": "code",
   "execution_count": 79,
   "metadata": {
    "dotnet_interactive": {
     "language": "csharp"
    },
    "polyglot_notebook": {
     "kernelName": "csharp"
    },
    "vscode": {
     "languageId": "polyglot-notebook"
    }
   },
   "outputs": [
    {
     "data": {
      "text/html": [
       "<details open=\"open\" class=\"dni-treeview\"><summary><span class=\"dni-code-hint\"><code>[ J-c, A-c, 9-d, 3-h ]</code></span></summary><div><table><thead><tr></tr></thead><tbody><tr><td>Count</td><td><div class=\"dni-plaintext\"><pre>4</pre></div></td></tr><tr><td>Comparer</td><td><details class=\"dni-treeview\"><summary><span class=\"dni-code-hint\"><code>System.Collections.Generic.ObjectEqualityComparer`1[Submission#46+Card]</code></span></summary><div><table><thead><tr></tr></thead><tbody></tbody></table></div></details></td></tr><tr><td><i>(values)</i></td><td><table><thead><tr><th><i>index</i></th><th>value</th></tr></thead><tbody><tr><td>0</td><td><details class=\"dni-treeview\"><summary><span class=\"dni-code-hint\"><code>J-c</code></span></summary><div><table><thead><tr></tr></thead><tbody><tr><td>Rank</td><td><div class=\"dni-plaintext\"><pre>J</pre></div></td></tr><tr><td>Suit</td><td><div class=\"dni-plaintext\"><pre>c</pre></div></td></tr></tbody></table></div></details></td></tr><tr><td>1</td><td><details class=\"dni-treeview\"><summary><span class=\"dni-code-hint\"><code>A-c</code></span></summary><div><table><thead><tr></tr></thead><tbody><tr><td>Rank</td><td><div class=\"dni-plaintext\"><pre>A</pre></div></td></tr><tr><td>Suit</td><td><div class=\"dni-plaintext\"><pre>c</pre></div></td></tr></tbody></table></div></details></td></tr><tr><td>2</td><td><details class=\"dni-treeview\"><summary><span class=\"dni-code-hint\"><code>9-d</code></span></summary><div><table><thead><tr></tr></thead><tbody><tr><td>Rank</td><td><div class=\"dni-plaintext\"><pre>9</pre></div></td></tr><tr><td>Suit</td><td><div class=\"dni-plaintext\"><pre>d</pre></div></td></tr></tbody></table></div></details></td></tr><tr><td>3</td><td><details class=\"dni-treeview\"><summary><span class=\"dni-code-hint\"><code>3-h</code></span></summary><div><table><thead><tr></tr></thead><tbody><tr><td>Rank</td><td><div class=\"dni-plaintext\"><pre>3</pre></div></td></tr><tr><td>Suit</td><td><div class=\"dni-plaintext\"><pre>h</pre></div></td></tr></tbody></table></div></details></td></tr></tbody></table></td></tr></tbody></table></div></details><style>\r\n",
       ".dni-code-hint {\r\n",
       "    font-style: italic;\r\n",
       "    overflow: hidden;\r\n",
       "    white-space: nowrap;\r\n",
       "}\r\n",
       ".dni-treeview {\r\n",
       "    white-space: nowrap;\r\n",
       "}\r\n",
       ".dni-treeview td {\r\n",
       "    vertical-align: top;\r\n",
       "    text-align: start;\r\n",
       "}\r\n",
       "details.dni-treeview {\r\n",
       "    padding-left: 1em;\r\n",
       "}\r\n",
       "table td {\r\n",
       "    text-align: start;\r\n",
       "}\r\n",
       "table tr { \r\n",
       "    vertical-align: top; \r\n",
       "    margin: 0em 0px;\r\n",
       "}\r\n",
       "table tr td pre \r\n",
       "{ \r\n",
       "    vertical-align: top !important; \r\n",
       "    margin: 0em 0px !important;\r\n",
       "} \r\n",
       "table th {\r\n",
       "    text-align: start;\r\n",
       "}\r\n",
       "</style>"
      ]
     },
     "metadata": {},
     "output_type": "display_data"
    }
   ],
   "source": [
    "var set = new HashSet<Card>();\n",
    "set.Add(new Card(\"J-c\"));\n",
    "set.Add(new Card(\"A-c\"));\n",
    "set.Add(new Card(\"9-d\"));\n",
    "\n",
    "var threeHearts = new Card(\"3-h\");\n",
    "set.Add(threeHearts);\n",
    "\n",
    "display(set);"
   ]
  },
  {
   "cell_type": "markdown",
   "metadata": {},
   "source": [
    "If we attempt to add the 3 of Hearts a second time, it doesn't actually add another card to the Hashset because the 3 of Hearts is already present:"
   ]
  },
  {
   "cell_type": "code",
   "execution_count": 80,
   "metadata": {
    "dotnet_interactive": {
     "language": "csharp"
    },
    "polyglot_notebook": {
     "kernelName": "csharp"
    },
    "vscode": {
     "languageId": "polyglot-notebook"
    }
   },
   "outputs": [
    {
     "data": {
      "text/html": [
       "<details open=\"open\" class=\"dni-treeview\"><summary><span class=\"dni-code-hint\"><code>[ J-c, A-c, 9-d, 3-h ]</code></span></summary><div><table><thead><tr></tr></thead><tbody><tr><td>Count</td><td><div class=\"dni-plaintext\"><pre>4</pre></div></td></tr><tr><td>Comparer</td><td><details class=\"dni-treeview\"><summary><span class=\"dni-code-hint\"><code>System.Collections.Generic.ObjectEqualityComparer`1[Submission#46+Card]</code></span></summary><div><table><thead><tr></tr></thead><tbody></tbody></table></div></details></td></tr><tr><td><i>(values)</i></td><td><table><thead><tr><th><i>index</i></th><th>value</th></tr></thead><tbody><tr><td>0</td><td><details class=\"dni-treeview\"><summary><span class=\"dni-code-hint\"><code>J-c</code></span></summary><div><table><thead><tr></tr></thead><tbody><tr><td>Rank</td><td><div class=\"dni-plaintext\"><pre>J</pre></div></td></tr><tr><td>Suit</td><td><div class=\"dni-plaintext\"><pre>c</pre></div></td></tr></tbody></table></div></details></td></tr><tr><td>1</td><td><details class=\"dni-treeview\"><summary><span class=\"dni-code-hint\"><code>A-c</code></span></summary><div><table><thead><tr></tr></thead><tbody><tr><td>Rank</td><td><div class=\"dni-plaintext\"><pre>A</pre></div></td></tr><tr><td>Suit</td><td><div class=\"dni-plaintext\"><pre>c</pre></div></td></tr></tbody></table></div></details></td></tr><tr><td>2</td><td><details class=\"dni-treeview\"><summary><span class=\"dni-code-hint\"><code>9-d</code></span></summary><div><table><thead><tr></tr></thead><tbody><tr><td>Rank</td><td><div class=\"dni-plaintext\"><pre>9</pre></div></td></tr><tr><td>Suit</td><td><div class=\"dni-plaintext\"><pre>d</pre></div></td></tr></tbody></table></div></details></td></tr><tr><td>3</td><td><details class=\"dni-treeview\"><summary><span class=\"dni-code-hint\"><code>3-h</code></span></summary><div><table><thead><tr></tr></thead><tbody><tr><td>Rank</td><td><div class=\"dni-plaintext\"><pre>3</pre></div></td></tr><tr><td>Suit</td><td><div class=\"dni-plaintext\"><pre>h</pre></div></td></tr></tbody></table></div></details></td></tr></tbody></table></td></tr></tbody></table></div></details><style>\r\n",
       ".dni-code-hint {\r\n",
       "    font-style: italic;\r\n",
       "    overflow: hidden;\r\n",
       "    white-space: nowrap;\r\n",
       "}\r\n",
       ".dni-treeview {\r\n",
       "    white-space: nowrap;\r\n",
       "}\r\n",
       ".dni-treeview td {\r\n",
       "    vertical-align: top;\r\n",
       "    text-align: start;\r\n",
       "}\r\n",
       "details.dni-treeview {\r\n",
       "    padding-left: 1em;\r\n",
       "}\r\n",
       "table td {\r\n",
       "    text-align: start;\r\n",
       "}\r\n",
       "table tr { \r\n",
       "    vertical-align: top; \r\n",
       "    margin: 0em 0px;\r\n",
       "}\r\n",
       "table tr td pre \r\n",
       "{ \r\n",
       "    vertical-align: top !important; \r\n",
       "    margin: 0em 0px !important;\r\n",
       "} \r\n",
       "table th {\r\n",
       "    text-align: start;\r\n",
       "}\r\n",
       "</style>"
      ]
     },
     "metadata": {},
     "output_type": "display_data"
    }
   ],
   "source": [
    "set.Add(threeHearts);\n",
    "display(set);"
   ]
  },
  {
   "cell_type": "code",
   "execution_count": 71,
   "metadata": {
    "dotnet_interactive": {
     "language": "csharp"
    },
    "polyglot_notebook": {
     "kernelName": "csharp"
    },
    "vscode": {
     "languageId": "polyglot-notebook"
    }
   },
   "outputs": [],
   "source": [
    "// What is the difference between a HashSet and a List?\n",
    "// A HashSet doesn't allow duplicates. A List does.\n",
    "// A HashSet is unordered. A List is ordered (by index)\n",
    "// A HashSet is faster to search than a List. Because it is unordered, it can use a faster algorithm to search.\n",
    "// It is not possible to search a List by value. You can only search by index.\n",
    "// It is possible to search a HashSet by value but not by index."
   ]
  },
  {
   "cell_type": "markdown",
   "metadata": {},
   "source": [
    "### Creating Generic Classes\n",
    "\n",
    "Ok, generics are cool... but how do you create your own classes or methods to work with them?  Perhaps we have our own custom collection object that randomly inserts objects into the collection and we want to work with the objects generically.\n",
    "\n",
    "The official documentation on [Generics](https://docs.microsoft.com/dotnet/standard/generics/?WT.mc_id=visualstudio-twitch-jefritz) has more details about how to interact with the managed types of the class.\n",
    "\n",
    "Get started by declaring your class and methods using the `<T>` notation to indicate that this is a generic type-parameter where the characters inside the angle-brackets are identical for all methods with the same characters."
   ]
  },
  {
   "cell_type": "code",
   "execution_count": 87,
   "metadata": {
    "dotnet_interactive": {
     "language": "csharp"
    },
    "polyglot_notebook": {
     "kernelName": "csharp"
    },
    "vscode": {
     "languageId": "polyglot-notebook"
    }
   },
   "outputs": [
    {
     "data": {
      "text/html": [
       "<details open=\"open\" class=\"dni-treeview\"><summary><span class=\"dni-code-hint\"><code>Submission#88+FritzSet`1[System.Int32]</code></span></summary><div><table><thead><tr></tr></thead><tbody><tr><td>Inner</td><td><div class=\"dni-plaintext\"><pre>[ 1, 4, 3, 2, 5 ]</pre></div></td></tr></tbody></table></div></details><style>\r\n",
       ".dni-code-hint {\r\n",
       "    font-style: italic;\r\n",
       "    overflow: hidden;\r\n",
       "    white-space: nowrap;\r\n",
       "}\r\n",
       ".dni-treeview {\r\n",
       "    white-space: nowrap;\r\n",
       "}\r\n",
       ".dni-treeview td {\r\n",
       "    vertical-align: top;\r\n",
       "    text-align: start;\r\n",
       "}\r\n",
       "details.dni-treeview {\r\n",
       "    padding-left: 1em;\r\n",
       "}\r\n",
       "table td {\r\n",
       "    text-align: start;\r\n",
       "}\r\n",
       "table tr { \r\n",
       "    vertical-align: top; \r\n",
       "    margin: 0em 0px;\r\n",
       "}\r\n",
       "table tr td pre \r\n",
       "{ \r\n",
       "    vertical-align: top !important; \r\n",
       "    margin: 0em 0px !important;\r\n",
       "} \r\n",
       "table th {\r\n",
       "    text-align: start;\r\n",
       "}\r\n",
       "</style>"
      ]
     },
     "metadata": {},
     "output_type": "display_data"
    }
   ],
   "source": [
    "class FritzSet<T> // <T> is a generic type parameter. It means that the type of the class will be specified when the class is created\n",
    "{\n",
    "    // This field normally wouldn't be public scoped, but making it public for the notebook visualizer\n",
    "    // BO: I made it later private and added a property instead\n",
    "    // The <T> for this List<T> is the same type as the <T> that this class will be created with\n",
    "    private List<T> _Inner = new List<T>(); // _Inner is a field of type List<T>\n",
    "\n",
    "    // BO: This is a property that returns the private field _Inner. I added this because I made _Inner private\n",
    "    public List<T> Inner { get { return _Inner; } } // Inner is a property of type List<T>\n",
    "    \n",
    "    // The newItem parameter will be of type T, matching the same type assigned when this class is created\n",
    "    public void Add(T newItem)\n",
    "    {\n",
    "        var insertAt = _Inner.Count == 0 ? 0 : new Random().Next(0,_Inner.Count+1); \n",
    "        // if the list is empty, insert at index 0, otherwise insert at a random index\n",
    "        _Inner.Insert(insertAt, newItem);\n",
    "    }\n",
    "    \n",
    "}\n",
    "\n",
    "// Let's insert some numbers into a FritzSet of type 'int'\n",
    "var set = new FritzSet<int>();\n",
    "set.Add(1);\n",
    "set.Add(2);\n",
    "set.Add(3);\n",
    "set.Add(4);\n",
    "set.Add(5);\n",
    "set"
   ]
  },
  {
   "cell_type": "code",
   "execution_count": 90,
   "metadata": {
    "dotnet_interactive": {
     "language": "csharp"
    },
    "polyglot_notebook": {
     "kernelName": "csharp"
    },
    "vscode": {
     "languageId": "polyglot-notebook"
    }
   },
   "outputs": [
    {
     "data": {
      "text/html": [
       "<details open=\"open\" class=\"dni-treeview\"><summary><span class=\"dni-code-hint\"><code>Submission#88+FritzSet`1[Submission#46+Card]</code></span></summary><div><table><thead><tr></tr></thead><tbody><tr><td>Inner</td><td><table><thead><tr><th><i>index</i></th><th>value</th></tr></thead><tbody><tr><td>0</td><td><details class=\"dni-treeview\"><summary><span class=\"dni-code-hint\"><code>A-d</code></span></summary><div><table><thead><tr></tr></thead><tbody><tr><td>Rank</td><td><div class=\"dni-plaintext\"><pre>A</pre></div></td></tr><tr><td>Suit</td><td><div class=\"dni-plaintext\"><pre>d</pre></div></td></tr></tbody></table></div></details></td></tr><tr><td>1</td><td><details class=\"dni-treeview\"><summary><span class=\"dni-code-hint\"><code>9-d</code></span></summary><div><table><thead><tr></tr></thead><tbody><tr><td>Rank</td><td><div class=\"dni-plaintext\"><pre>9</pre></div></td></tr><tr><td>Suit</td><td><div class=\"dni-plaintext\"><pre>d</pre></div></td></tr></tbody></table></div></details></td></tr><tr><td>2</td><td><details class=\"dni-treeview\"><summary><span class=\"dni-code-hint\"><code>J-h</code></span></summary><div><table><thead><tr></tr></thead><tbody><tr><td>Rank</td><td><div class=\"dni-plaintext\"><pre>J</pre></div></td></tr><tr><td>Suit</td><td><div class=\"dni-plaintext\"><pre>h</pre></div></td></tr></tbody></table></div></details></td></tr><tr><td>3</td><td><details class=\"dni-treeview\"><summary><span class=\"dni-code-hint\"><code>3-c</code></span></summary><div><table><thead><tr></tr></thead><tbody><tr><td>Rank</td><td><div class=\"dni-plaintext\"><pre>3</pre></div></td></tr><tr><td>Suit</td><td><div class=\"dni-plaintext\"><pre>c</pre></div></td></tr></tbody></table></div></details></td></tr><tr><td>4</td><td><details class=\"dni-treeview\"><summary><span class=\"dni-code-hint\"><code>2-s</code></span></summary><div><table><thead><tr></tr></thead><tbody><tr><td>Rank</td><td><div class=\"dni-plaintext\"><pre>2</pre></div></td></tr><tr><td>Suit</td><td><div class=\"dni-plaintext\"><pre>s</pre></div></td></tr></tbody></table></div></details></td></tr></tbody></table></td></tr></tbody></table></div></details><style>\r\n",
       ".dni-code-hint {\r\n",
       "    font-style: italic;\r\n",
       "    overflow: hidden;\r\n",
       "    white-space: nowrap;\r\n",
       "}\r\n",
       ".dni-treeview {\r\n",
       "    white-space: nowrap;\r\n",
       "}\r\n",
       ".dni-treeview td {\r\n",
       "    vertical-align: top;\r\n",
       "    text-align: start;\r\n",
       "}\r\n",
       "details.dni-treeview {\r\n",
       "    padding-left: 1em;\r\n",
       "}\r\n",
       "table td {\r\n",
       "    text-align: start;\r\n",
       "}\r\n",
       "table tr { \r\n",
       "    vertical-align: top; \r\n",
       "    margin: 0em 0px;\r\n",
       "}\r\n",
       "table tr td pre \r\n",
       "{ \r\n",
       "    vertical-align: top !important; \r\n",
       "    margin: 0em 0px !important;\r\n",
       "} \r\n",
       "table th {\r\n",
       "    text-align: start;\r\n",
       "}\r\n",
       "</style>"
      ]
     },
     "metadata": {},
     "output_type": "display_data"
    }
   ],
   "source": [
    "// We can also create a FritzSet that holds a bunch of Card objects\n",
    "var deck = new FritzSet<Card>();\n",
    "deck.Add(new Card(\"A-d\"));\n",
    "deck.Add(new Card(\"9-d\"));\n",
    "deck.Add(new Card(\"J-h\"));\n",
    "deck.Add(new Card(\"3-c\"));\n",
    "deck.Add(new Card(\"2-s\"));\n",
    "\n",
    "deck"
   ]
  },
  {
   "cell_type": "code",
   "execution_count": 96,
   "metadata": {
    "dotnet_interactive": {
     "language": "csharp"
    },
    "polyglot_notebook": {
     "kernelName": "csharp"
    },
    "vscode": {
     "languageId": "polyglot-notebook"
    }
   },
   "outputs": [
    {
     "data": {
      "text/html": [
       "<details open=\"open\" class=\"dni-treeview\"><summary><span class=\"dni-code-hint\"><code>Submission#88+FritzSet`1[System.Object]</code></span></summary><div><table><thead><tr></tr></thead><tbody><tr><td>Inner</td><td><table><thead><tr><th><i>index</i></th><th><i>type</i></th><th>value</th></tr></thead><tbody><tr><td>0</td><td><span><a href=\"https://docs.microsoft.com/dotnet/api/system.string?view=net-7.0\">System.String</a></span></td><td><div class=\"dni-plaintext\"><pre>Joker</pre></div></td></tr><tr><td>1</td><td><span><a href=\"https://docs.microsoft.com/dotnet/api/system.int32?view=net-7.0\">System.Int32</a></span></td><td><div class=\"dni-plaintext\"><pre>1</pre></div></td></tr><tr><td>2</td><td>Submission#46+Card</td><td><details class=\"dni-treeview\"><summary><span class=\"dni-code-hint\"><code>J-h</code></span></summary><div><table><thead><tr></tr></thead><tbody><tr><td>Rank</td><td><div class=\"dni-plaintext\"><pre>J</pre></div></td></tr><tr><td>Suit</td><td><div class=\"dni-plaintext\"><pre>h</pre></div></td></tr></tbody></table></div></details></td></tr></tbody></table></td></tr></tbody></table></div></details><style>\r\n",
       ".dni-code-hint {\r\n",
       "    font-style: italic;\r\n",
       "    overflow: hidden;\r\n",
       "    white-space: nowrap;\r\n",
       "}\r\n",
       ".dni-treeview {\r\n",
       "    white-space: nowrap;\r\n",
       "}\r\n",
       ".dni-treeview td {\r\n",
       "    vertical-align: top;\r\n",
       "    text-align: start;\r\n",
       "}\r\n",
       "details.dni-treeview {\r\n",
       "    padding-left: 1em;\r\n",
       "}\r\n",
       "table td {\r\n",
       "    text-align: start;\r\n",
       "}\r\n",
       "table tr { \r\n",
       "    vertical-align: top; \r\n",
       "    margin: 0em 0px;\r\n",
       "}\r\n",
       "table tr td pre \r\n",
       "{ \r\n",
       "    vertical-align: top !important; \r\n",
       "    margin: 0em 0px !important;\r\n",
       "} \r\n",
       "table th {\r\n",
       "    text-align: start;\r\n",
       "}\r\n",
       "</style>"
      ]
     },
     "metadata": {},
     "output_type": "display_data"
    }
   ],
   "source": [
    "// you can also force a generic type of 'object' and lose that compile-time type checking\n",
    "var objSet = new FritzSet<object>();\n",
    "objSet.Add(new Card(\"J-h\"));\n",
    "objSet.Add(\"Joker\");\n",
    "objSet.Add(1);\n",
    "\n",
    "objSet"
   ]
  },
  {
   "cell_type": "markdown",
   "metadata": {},
   "source": [
    "What type of object are each element in the object set?"
   ]
  },
  {
   "cell_type": "code",
   "execution_count": 97,
   "metadata": {
    "dotnet_interactive": {
     "language": "csharp"
    },
    "polyglot_notebook": {
     "kernelName": "csharp"
    },
    "vscode": {
     "languageId": "polyglot-notebook"
    }
   },
   "outputs": [
    {
     "data": {
      "text/html": [
       "<span><a href=\"https://docs.microsoft.com/dotnet/api/system.string?view=net-7.0\">System.String</a></span>"
      ]
     },
     "metadata": {},
     "output_type": "display_data"
    },
    {
     "data": {
      "text/html": [
       "<span><a href=\"https://docs.microsoft.com/dotnet/api/system.int32?view=net-7.0\">System.Int32</a></span>"
      ]
     },
     "metadata": {},
     "output_type": "display_data"
    },
    {
     "data": {
      "text/html": [
       "Submission#46+Card"
      ]
     },
     "metadata": {},
     "output_type": "display_data"
    }
   ],
   "source": [
    "display(objSet.Inner[0].GetType());\n",
    "display(objSet.Inner[1].GetType());\n",
    "display(objSet.Inner[2].GetType());"
   ]
  },
  {
   "cell_type": "code",
   "execution_count": 98,
   "metadata": {
    "dotnet_interactive": {
     "language": "csharp"
    },
    "polyglot_notebook": {
     "kernelName": "csharp"
    },
    "vscode": {
     "languageId": "polyglot-notebook"
    }
   },
   "outputs": [
    {
     "data": {
      "text/html": [
       "<span><a href=\"https://docs.microsoft.com/dotnet/api/system.string?view=net-7.0\">System.String</a></span>"
      ]
     },
     "metadata": {},
     "output_type": "display_data"
    },
    {
     "data": {
      "text/html": [
       "<span><a href=\"https://docs.microsoft.com/dotnet/api/system.int32?view=net-7.0\">System.Int32</a></span>"
      ]
     },
     "metadata": {},
     "output_type": "display_data"
    },
    {
     "data": {
      "text/html": [
       "Submission#46+Card"
      ]
     },
     "metadata": {},
     "output_type": "display_data"
    }
   ],
   "source": [
    "// If we do a foreach with a var keyword, what type is emitted?\n",
    "foreach (var card in objSet.Inner) { // goes through each item in the list and assigns it to the variable 'card'\n",
    "    display(card.GetType());\n",
    "}"
   ]
  },
  {
   "cell_type": "markdown",
   "metadata": {},
   "source": [
    "## Introducing LINQ and Lambda Expressions with LINQ to Objects\n",
    "\n",
    "LINQ ([Language Integrated Query](https://docs.microsoft.com/dotnet/csharp/programming-guide/concepts/linq?WT.mc_id=visualstudio-twitch-jefritz) which Fritz keeps calling 'Language Integrated Natural Query') refers to a collection of technologies that allow you to query data.  We're going to start with a subset of LINQ called [LINQ to Objects](https://docs.microsoft.com/dotnet/csharp/programming-guide/concepts/linq/linq-to-objects?WT.mc_id=visualstudio-twitch-jefritz) that allow you to add predicate methods to `IEnumerable<T>` or `IQueryable<T>` collections to query them.  We will dig in further to discuss how LINQ and LINQ to Objects works in our next session, and in the rest of this notebook we'll explore some simple interactions that are available.\n",
    "\n",
    "Let's look at that `FritzSet<Card>` collection again and load it with some `Card`s"
   ]
  },
  {
   "cell_type": "code",
   "execution_count": 104,
   "metadata": {
    "dotnet_interactive": {
     "language": "csharp"
    },
    "polyglot_notebook": {
     "kernelName": "csharp"
    },
    "vscode": {
     "languageId": "polyglot-notebook"
    }
   },
   "outputs": [],
   "source": [
    "var deck = new FritzSet<Card>();\n",
    "deck.Add(new Card(\"A-d\"));\n",
    "deck.Add(new Card(\"A-h\"));\n",
    "deck.Add(new Card(\"A-c\"));\n",
    "deck.Add(new Card(\"A-s\"));\n",
    "deck.Add(new Card(\"9-d\"));\n",
    "deck.Add(new Card(\"J-h\"));\n",
    "deck.Add(new Card(\"3-c\"));\n",
    "deck.Add(new Card(\"2-c\"));\n",
    "deck.Add(new Card(\"7-d\"));\n",
    "deck.Add(new Card(\"6-d\"));\n",
    "deck.Add(new Card(\"5-d\"));\n",
    "deck.Add(new Card(\"4-d\"));\n",
    "deck.Add(new Card(\"4-h\"));"
   ]
  },
  {
   "cell_type": "markdown",
   "metadata": {},
   "source": [
    "There are a set of [Standard Query Operators](https://docs.microsoft.com/dotnet/csharp/programming-guide/concepts/linq/standard-query-operators-overview?WT.mc_id=visualstudio-twitch-jefritz) that we can use to analyze our collection.  Let's experiment with some of those operators for the remainder of this notebook.\n",
    "\n",
    "We can count the number of objects in the `deck` collection using the [Count](https://docs.microsoft.com/dotnet/api/system.linq.enumerable.count?view=netcore-3.1&WT.mc_id=visualstudio-twitch-jefritz) method with an optional expression called a [Lambda Expression](https://docs.microsoft.com/dotnet/csharp/programming-guide/concepts/linq/query-syntax-and-method-syntax-in-linq?WT.mc_id=visualstudio-twitch-jefritz#lambda-expressions) to test each object to determine whether to count that entry."
   ]
  },
  {
   "cell_type": "code",
   "execution_count": 117,
   "metadata": {
    "dotnet_interactive": {
     "language": "csharp"
    },
    "polyglot_notebook": {
     "kernelName": "csharp"
    },
    "vscode": {
     "languageId": "polyglot-notebook"
    }
   },
   "outputs": [
    {
     "data": {
      "text/html": [
       "<div class=\"dni-plaintext\"><pre>13</pre></div><style>\r\n",
       ".dni-code-hint {\r\n",
       "    font-style: italic;\r\n",
       "    overflow: hidden;\r\n",
       "    white-space: nowrap;\r\n",
       "}\r\n",
       ".dni-treeview {\r\n",
       "    white-space: nowrap;\r\n",
       "}\r\n",
       ".dni-treeview td {\r\n",
       "    vertical-align: top;\r\n",
       "    text-align: start;\r\n",
       "}\r\n",
       "details.dni-treeview {\r\n",
       "    padding-left: 1em;\r\n",
       "}\r\n",
       "table td {\r\n",
       "    text-align: start;\r\n",
       "}\r\n",
       "table tr { \r\n",
       "    vertical-align: top; \r\n",
       "    margin: 0em 0px;\r\n",
       "}\r\n",
       "table tr td pre \r\n",
       "{ \r\n",
       "    vertical-align: top !important; \r\n",
       "    margin: 0em 0px !important;\r\n",
       "} \r\n",
       "table th {\r\n",
       "    text-align: start;\r\n",
       "}\r\n",
       "</style>"
      ]
     },
     "metadata": {},
     "output_type": "display_data"
    },
    {
     "data": {
      "text/html": [
       "<div class=\"dni-plaintext\"><pre>6</pre></div><style>\r\n",
       ".dni-code-hint {\r\n",
       "    font-style: italic;\r\n",
       "    overflow: hidden;\r\n",
       "    white-space: nowrap;\r\n",
       "}\r\n",
       ".dni-treeview {\r\n",
       "    white-space: nowrap;\r\n",
       "}\r\n",
       ".dni-treeview td {\r\n",
       "    vertical-align: top;\r\n",
       "    text-align: start;\r\n",
       "}\r\n",
       "details.dni-treeview {\r\n",
       "    padding-left: 1em;\r\n",
       "}\r\n",
       "table td {\r\n",
       "    text-align: start;\r\n",
       "}\r\n",
       "table tr { \r\n",
       "    vertical-align: top; \r\n",
       "    margin: 0em 0px;\r\n",
       "}\r\n",
       "table tr td pre \r\n",
       "{ \r\n",
       "    vertical-align: top !important; \r\n",
       "    margin: 0em 0px !important;\r\n",
       "} \r\n",
       "table th {\r\n",
       "    text-align: start;\r\n",
       "}\r\n",
       "</style>"
      ]
     },
     "metadata": {},
     "output_type": "display_data"
    }
   ],
   "source": [
    "// Display the total number of cards in the list\n",
    "display(deck.Inner.Count());\n",
    "\n",
    "// Display the number of cards that are Diamonds suit.\n",
    "// Use the expression body member that tests for the Suit property to equal \"d\".  Values that are TRUE are counted\n",
    "deck.Inner.Count(c => c.Suit == \"d\");\n",
    "\n",
    "// when I use ; at the end of second command, then it does not show the result. Why?\n",
    "// because the second command is not a complete command. It is a partial command. It is waiting for the rest of the command\n",
    "display(deck.Inner.Count(c => c.Suit == \"d\"));"
   ]
  },
  {
   "cell_type": "markdown",
   "metadata": {},
   "source": [
    "You can also filter the collection by using the [Where](https://docs.microsoft.com/en-us/dotnet/api/system.linq.enumerable.where?view=netcore-3.1&WT.mc_id=visualstudio-twitch-jefritz) method with a similar expression body member to test each member of the collection."
   ]
  },
  {
   "cell_type": "code",
   "execution_count": 110,
   "metadata": {
    "dotnet_interactive": {
     "language": "csharp"
    },
    "polyglot_notebook": {
     "kernelName": "csharp"
    },
    "vscode": {
     "languageId": "polyglot-notebook"
    }
   },
   "outputs": [
    {
     "data": {
      "text/html": [
       "<table><thead><tr><th><i>index</i></th><th>value</th></tr></thead><tbody><tr><td>0</td><td><details class=\"dni-treeview\"><summary><span class=\"dni-code-hint\"><code>5-d</code></span></summary><div><table><thead><tr></tr></thead><tbody><tr><td>Rank</td><td><div class=\"dni-plaintext\"><pre>5</pre></div></td></tr><tr><td>Suit</td><td><div class=\"dni-plaintext\"><pre>d</pre></div></td></tr></tbody></table></div></details></td></tr><tr><td>1</td><td><details class=\"dni-treeview\"><summary><span class=\"dni-code-hint\"><code>4-d</code></span></summary><div><table><thead><tr></tr></thead><tbody><tr><td>Rank</td><td><div class=\"dni-plaintext\"><pre>4</pre></div></td></tr><tr><td>Suit</td><td><div class=\"dni-plaintext\"><pre>d</pre></div></td></tr></tbody></table></div></details></td></tr><tr><td>2</td><td><details class=\"dni-treeview\"><summary><span class=\"dni-code-hint\"><code>9-d</code></span></summary><div><table><thead><tr></tr></thead><tbody><tr><td>Rank</td><td><div class=\"dni-plaintext\"><pre>9</pre></div></td></tr><tr><td>Suit</td><td><div class=\"dni-plaintext\"><pre>d</pre></div></td></tr></tbody></table></div></details></td></tr><tr><td>3</td><td><details class=\"dni-treeview\"><summary><span class=\"dni-code-hint\"><code>6-d</code></span></summary><div><table><thead><tr></tr></thead><tbody><tr><td>Rank</td><td><div class=\"dni-plaintext\"><pre>6</pre></div></td></tr><tr><td>Suit</td><td><div class=\"dni-plaintext\"><pre>d</pre></div></td></tr></tbody></table></div></details></td></tr><tr><td>4</td><td><details class=\"dni-treeview\"><summary><span class=\"dni-code-hint\"><code>7-d</code></span></summary><div><table><thead><tr></tr></thead><tbody><tr><td>Rank</td><td><div class=\"dni-plaintext\"><pre>7</pre></div></td></tr><tr><td>Suit</td><td><div class=\"dni-plaintext\"><pre>d</pre></div></td></tr></tbody></table></div></details></td></tr><tr><td>5</td><td><details class=\"dni-treeview\"><summary><span class=\"dni-code-hint\"><code>A-d</code></span></summary><div><table><thead><tr></tr></thead><tbody><tr><td>Rank</td><td><div class=\"dni-plaintext\"><pre>A</pre></div></td></tr><tr><td>Suit</td><td><div class=\"dni-plaintext\"><pre>d</pre></div></td></tr></tbody></table></div></details></td></tr></tbody></table><style>\r\n",
       ".dni-code-hint {\r\n",
       "    font-style: italic;\r\n",
       "    overflow: hidden;\r\n",
       "    white-space: nowrap;\r\n",
       "}\r\n",
       ".dni-treeview {\r\n",
       "    white-space: nowrap;\r\n",
       "}\r\n",
       ".dni-treeview td {\r\n",
       "    vertical-align: top;\r\n",
       "    text-align: start;\r\n",
       "}\r\n",
       "details.dni-treeview {\r\n",
       "    padding-left: 1em;\r\n",
       "}\r\n",
       "table td {\r\n",
       "    text-align: start;\r\n",
       "}\r\n",
       "table tr { \r\n",
       "    vertical-align: top; \r\n",
       "    margin: 0em 0px;\r\n",
       "}\r\n",
       "table tr td pre \r\n",
       "{ \r\n",
       "    vertical-align: top !important; \r\n",
       "    margin: 0em 0px !important;\r\n",
       "} \r\n",
       "table th {\r\n",
       "    text-align: start;\r\n",
       "}\r\n",
       "</style>"
      ]
     },
     "metadata": {},
     "output_type": "display_data"
    },
    {
     "data": {
      "text/plain": [
       "Count of Diamonds cards: 6"
      ]
     },
     "metadata": {},
     "output_type": "display_data"
    }
   ],
   "source": [
    "display(deck.Inner.Where(c => c.Suit == \"d\"));\n",
    "\n",
    "// Count the returned collection after it is filtered\n",
    "display(\"Count of Diamonds cards: \" + deck.Inner.Where(c => c.Suit == \"d\").Count());"
   ]
  },
  {
   "cell_type": "markdown",
   "metadata": {},
   "source": [
    "Just like the `Count` method above, you can chain together these methods to filter and return data."
   ]
  },
  {
   "cell_type": "code",
   "execution_count": 118,
   "metadata": {
    "dotnet_interactive": {
     "language": "csharp"
    },
    "polyglot_notebook": {
     "kernelName": "csharp"
    },
    "vscode": {
     "languageId": "polyglot-notebook"
    }
   },
   "outputs": [
    {
     "data": {
      "text/html": [
       "<div class=\"dni-plaintext\"><pre>1</pre></div><style>\r\n",
       ".dni-code-hint {\r\n",
       "    font-style: italic;\r\n",
       "    overflow: hidden;\r\n",
       "    white-space: nowrap;\r\n",
       "}\r\n",
       ".dni-treeview {\r\n",
       "    white-space: nowrap;\r\n",
       "}\r\n",
       ".dni-treeview td {\r\n",
       "    vertical-align: top;\r\n",
       "    text-align: start;\r\n",
       "}\r\n",
       "details.dni-treeview {\r\n",
       "    padding-left: 1em;\r\n",
       "}\r\n",
       "table td {\r\n",
       "    text-align: start;\r\n",
       "}\r\n",
       "table tr { \r\n",
       "    vertical-align: top; \r\n",
       "    margin: 0em 0px;\r\n",
       "}\r\n",
       "table tr td pre \r\n",
       "{ \r\n",
       "    vertical-align: top !important; \r\n",
       "    margin: 0em 0px !important;\r\n",
       "} \r\n",
       "table th {\r\n",
       "    text-align: start;\r\n",
       "}\r\n",
       "</style>"
      ]
     },
     "metadata": {},
     "output_type": "display_data"
    }
   ],
   "source": [
    "// Filter to JUST the Diamonds        Then count the cards with rank Ace\n",
    "deck.Inner.Where(c => c.Suit == \"d\").Count(c => c.Rank == \"A\")    "
   ]
  },
  {
   "cell_type": "markdown",
   "metadata": {},
   "source": [
    "We can also [Select](https://docs.microsoft.com/dotnet/api/system.linq.enumerable.select?view=netcore-3.1&WT.mc_id=visualstudio-twitch-jefritz) to return a different shaped collection of values from the collection.  In other frameworks and languages this is sometimes referred to as `Map`"
   ]
  },
  {
   "cell_type": "code",
   "execution_count": 119,
   "metadata": {
    "dotnet_interactive": {
     "language": "csharp"
    },
    "polyglot_notebook": {
     "kernelName": "csharp"
    },
    "vscode": {
     "languageId": "polyglot-notebook"
    }
   },
   "outputs": [
    {
     "data": {
      "text/html": [
       "<div class=\"dni-plaintext\"><pre>[ 5, 4, 9, 6, 7, A ]</pre></div><style>\r\n",
       ".dni-code-hint {\r\n",
       "    font-style: italic;\r\n",
       "    overflow: hidden;\r\n",
       "    white-space: nowrap;\r\n",
       "}\r\n",
       ".dni-treeview {\r\n",
       "    white-space: nowrap;\r\n",
       "}\r\n",
       ".dni-treeview td {\r\n",
       "    vertical-align: top;\r\n",
       "    text-align: start;\r\n",
       "}\r\n",
       "details.dni-treeview {\r\n",
       "    padding-left: 1em;\r\n",
       "}\r\n",
       "table td {\r\n",
       "    text-align: start;\r\n",
       "}\r\n",
       "table tr { \r\n",
       "    vertical-align: top; \r\n",
       "    margin: 0em 0px;\r\n",
       "}\r\n",
       "table tr td pre \r\n",
       "{ \r\n",
       "    vertical-align: top !important; \r\n",
       "    margin: 0em 0px !important;\r\n",
       "} \r\n",
       "table th {\r\n",
       "    text-align: start;\r\n",
       "}\r\n",
       "</style>"
      ]
     },
     "metadata": {},
     "output_type": "display_data"
    }
   ],
   "source": [
    "// This returns a collection of Rank values\n",
    "deck.Inner.Where(c => c.Suit == \"d\").Select(c => c.Rank)    "
   ]
  },
  {
   "cell_type": "code",
   "execution_count": null,
   "metadata": {
    "dotnet_interactive": {
     "language": "csharp"
    },
    "polyglot_notebook": {
     "kernelName": "csharp"
    },
    "vscode": {
     "languageId": "polyglot-notebook"
    }
   },
   "outputs": [],
   "source": [
    "// this is like SQL, is it? - yes\n",
    "// this is called LINQ (Language Integrated Query)\n",
    "// LINQ is a set of methods that can be used to query collections"
   ]
  },
  {
   "cell_type": "markdown",
   "metadata": {},
   "source": [
    "We can also quantify the contents of our collection using [quantifier methods](https://docs.microsoft.com/dotnet/csharp/programming-guide/concepts/linq/quantifier-operations?WT.mc_id=visualstudio-twitch-jefritz) like `Any` to query if any element matches a test condition and `All` to query if all elements match a test condition:"
   ]
  },
  {
   "cell_type": "code",
   "execution_count": 121,
   "metadata": {
    "dotnet_interactive": {
     "language": "csharp"
    },
    "polyglot_notebook": {
     "kernelName": "csharp"
    },
    "vscode": {
     "languageId": "polyglot-notebook"
    }
   },
   "outputs": [
    {
     "data": {
      "text/html": [
       "<div class=\"dni-plaintext\"><pre>False</pre></div><style>\r\n",
       ".dni-code-hint {\r\n",
       "    font-style: italic;\r\n",
       "    overflow: hidden;\r\n",
       "    white-space: nowrap;\r\n",
       "}\r\n",
       ".dni-treeview {\r\n",
       "    white-space: nowrap;\r\n",
       "}\r\n",
       ".dni-treeview td {\r\n",
       "    vertical-align: top;\r\n",
       "    text-align: start;\r\n",
       "}\r\n",
       "details.dni-treeview {\r\n",
       "    padding-left: 1em;\r\n",
       "}\r\n",
       "table td {\r\n",
       "    text-align: start;\r\n",
       "}\r\n",
       "table tr { \r\n",
       "    vertical-align: top; \r\n",
       "    margin: 0em 0px;\r\n",
       "}\r\n",
       "table tr td pre \r\n",
       "{ \r\n",
       "    vertical-align: top !important; \r\n",
       "    margin: 0em 0px !important;\r\n",
       "} \r\n",
       "table th {\r\n",
       "    text-align: start;\r\n",
       "}\r\n",
       "</style>"
      ]
     },
     "metadata": {},
     "output_type": "display_data"
    }
   ],
   "source": [
    "/// This reminds me of the card game 'Go-Fish':   Do you have any Queens?   No?  Go-Fish\n",
    "deck.Inner.Any(c => c.Rank == \"Q\") "
   ]
  },
  {
   "cell_type": "code",
   "execution_count": 122,
   "metadata": {
    "dotnet_interactive": {
     "language": "csharp"
    },
    "polyglot_notebook": {
     "kernelName": "csharp"
    },
    "vscode": {
     "languageId": "polyglot-notebook"
    }
   },
   "outputs": [
    {
     "data": {
      "text/html": [
       "<div class=\"dni-plaintext\"><pre>False</pre></div><style>\r\n",
       ".dni-code-hint {\r\n",
       "    font-style: italic;\r\n",
       "    overflow: hidden;\r\n",
       "    white-space: nowrap;\r\n",
       "}\r\n",
       ".dni-treeview {\r\n",
       "    white-space: nowrap;\r\n",
       "}\r\n",
       ".dni-treeview td {\r\n",
       "    vertical-align: top;\r\n",
       "    text-align: start;\r\n",
       "}\r\n",
       "details.dni-treeview {\r\n",
       "    padding-left: 1em;\r\n",
       "}\r\n",
       "table td {\r\n",
       "    text-align: start;\r\n",
       "}\r\n",
       "table tr { \r\n",
       "    vertical-align: top; \r\n",
       "    margin: 0em 0px;\r\n",
       "}\r\n",
       "table tr td pre \r\n",
       "{ \r\n",
       "    vertical-align: top !important; \r\n",
       "    margin: 0em 0px !important;\r\n",
       "} \r\n",
       "table th {\r\n",
       "    text-align: start;\r\n",
       "}\r\n",
       "</style>"
      ]
     },
     "metadata": {},
     "output_type": "display_data"
    }
   ],
   "source": [
    "// Do you have a flush, all cards are the same suit?\n",
    "deck.Inner.All(c => c.Suit == \"d\") "
   ]
  },
  {
   "cell_type": "markdown",
   "metadata": {},
   "source": [
    "We can chain together these operations to analyze and inspect the collection.  \n",
    "\n",
    "Let's take that last example and filter out the cards in the clubs and hearts suits and see if we have a flush in diamonds:"
   ]
  },
  {
   "cell_type": "code",
   "execution_count": 133,
   "metadata": {
    "dotnet_interactive": {
     "language": "csharp"
    },
    "polyglot_notebook": {
     "kernelName": "csharp"
    },
    "vscode": {
     "languageId": "polyglot-notebook"
    }
   },
   "outputs": [
    {
     "data": {
      "text/html": [
       "<table><thead><tr><th><i>index</i></th><th>value</th></tr></thead><tbody><tr><td>0</td><td><details class=\"dni-treeview\"><summary><span class=\"dni-code-hint\"><code>A-s</code></span></summary><div><table><thead><tr></tr></thead><tbody><tr><td>Rank</td><td><div class=\"dni-plaintext\"><pre>A</pre></div></td></tr><tr><td>Suit</td><td><div class=\"dni-plaintext\"><pre>s</pre></div></td></tr></tbody></table></div></details></td></tr><tr><td>1</td><td><details class=\"dni-treeview\"><summary><span class=\"dni-code-hint\"><code>5-d</code></span></summary><div><table><thead><tr></tr></thead><tbody><tr><td>Rank</td><td><div class=\"dni-plaintext\"><pre>5</pre></div></td></tr><tr><td>Suit</td><td><div class=\"dni-plaintext\"><pre>d</pre></div></td></tr></tbody></table></div></details></td></tr><tr><td>2</td><td><details class=\"dni-treeview\"><summary><span class=\"dni-code-hint\"><code>4-d</code></span></summary><div><table><thead><tr></tr></thead><tbody><tr><td>Rank</td><td><div class=\"dni-plaintext\"><pre>4</pre></div></td></tr><tr><td>Suit</td><td><div class=\"dni-plaintext\"><pre>d</pre></div></td></tr></tbody></table></div></details></td></tr><tr><td>3</td><td><details class=\"dni-treeview\"><summary><span class=\"dni-code-hint\"><code>9-d</code></span></summary><div><table><thead><tr></tr></thead><tbody><tr><td>Rank</td><td><div class=\"dni-plaintext\"><pre>9</pre></div></td></tr><tr><td>Suit</td><td><div class=\"dni-plaintext\"><pre>d</pre></div></td></tr></tbody></table></div></details></td></tr><tr><td>4</td><td><details class=\"dni-treeview\"><summary><span class=\"dni-code-hint\"><code>J-h</code></span></summary><div><table><thead><tr></tr></thead><tbody><tr><td>Rank</td><td><div class=\"dni-plaintext\"><pre>J</pre></div></td></tr><tr><td>Suit</td><td><div class=\"dni-plaintext\"><pre>h</pre></div></td></tr></tbody></table></div></details></td></tr><tr><td>5</td><td><details class=\"dni-treeview\"><summary><span class=\"dni-code-hint\"><code>A-h</code></span></summary><div><table><thead><tr></tr></thead><tbody><tr><td>Rank</td><td><div class=\"dni-plaintext\"><pre>A</pre></div></td></tr><tr><td>Suit</td><td><div class=\"dni-plaintext\"><pre>h</pre></div></td></tr></tbody></table></div></details></td></tr><tr><td>6</td><td><details class=\"dni-treeview\"><summary><span class=\"dni-code-hint\"><code>4-h</code></span></summary><div><table><thead><tr></tr></thead><tbody><tr><td>Rank</td><td><div class=\"dni-plaintext\"><pre>4</pre></div></td></tr><tr><td>Suit</td><td><div class=\"dni-plaintext\"><pre>h</pre></div></td></tr></tbody></table></div></details></td></tr><tr><td>7</td><td><details class=\"dni-treeview\"><summary><span class=\"dni-code-hint\"><code>6-d</code></span></summary><div><table><thead><tr></tr></thead><tbody><tr><td>Rank</td><td><div class=\"dni-plaintext\"><pre>6</pre></div></td></tr><tr><td>Suit</td><td><div class=\"dni-plaintext\"><pre>d</pre></div></td></tr></tbody></table></div></details></td></tr><tr><td>8</td><td><details class=\"dni-treeview\"><summary><span class=\"dni-code-hint\"><code>7-d</code></span></summary><div><table><thead><tr></tr></thead><tbody><tr><td>Rank</td><td><div class=\"dni-plaintext\"><pre>7</pre></div></td></tr><tr><td>Suit</td><td><div class=\"dni-plaintext\"><pre>d</pre></div></td></tr></tbody></table></div></details></td></tr><tr><td>9</td><td><details class=\"dni-treeview\"><summary><span class=\"dni-code-hint\"><code>A-d</code></span></summary><div><table><thead><tr></tr></thead><tbody><tr><td>Rank</td><td><div class=\"dni-plaintext\"><pre>A</pre></div></td></tr><tr><td>Suit</td><td><div class=\"dni-plaintext\"><pre>d</pre></div></td></tr></tbody></table></div></details></td></tr></tbody></table><style>\r\n",
       ".dni-code-hint {\r\n",
       "    font-style: italic;\r\n",
       "    overflow: hidden;\r\n",
       "    white-space: nowrap;\r\n",
       "}\r\n",
       ".dni-treeview {\r\n",
       "    white-space: nowrap;\r\n",
       "}\r\n",
       ".dni-treeview td {\r\n",
       "    vertical-align: top;\r\n",
       "    text-align: start;\r\n",
       "}\r\n",
       "details.dni-treeview {\r\n",
       "    padding-left: 1em;\r\n",
       "}\r\n",
       "table td {\r\n",
       "    text-align: start;\r\n",
       "}\r\n",
       "table tr { \r\n",
       "    vertical-align: top; \r\n",
       "    margin: 0em 0px;\r\n",
       "}\r\n",
       "table tr td pre \r\n",
       "{ \r\n",
       "    vertical-align: top !important; \r\n",
       "    margin: 0em 0px !important;\r\n",
       "} \r\n",
       "table th {\r\n",
       "    text-align: start;\r\n",
       "}\r\n",
       "</style>"
      ]
     },
     "metadata": {},
     "output_type": "display_data"
    },
    {
     "data": {
      "text/html": [
       "<table><thead><tr><th><i>index</i></th><th>value</th></tr></thead><tbody><tr><td>0</td><td><details class=\"dni-treeview\"><summary><span class=\"dni-code-hint\"><code>A-s</code></span></summary><div><table><thead><tr></tr></thead><tbody><tr><td>Rank</td><td><div class=\"dni-plaintext\"><pre>A</pre></div></td></tr><tr><td>Suit</td><td><div class=\"dni-plaintext\"><pre>s</pre></div></td></tr></tbody></table></div></details></td></tr><tr><td>1</td><td><details class=\"dni-treeview\"><summary><span class=\"dni-code-hint\"><code>5-d</code></span></summary><div><table><thead><tr></tr></thead><tbody><tr><td>Rank</td><td><div class=\"dni-plaintext\"><pre>5</pre></div></td></tr><tr><td>Suit</td><td><div class=\"dni-plaintext\"><pre>d</pre></div></td></tr></tbody></table></div></details></td></tr><tr><td>2</td><td><details class=\"dni-treeview\"><summary><span class=\"dni-code-hint\"><code>4-d</code></span></summary><div><table><thead><tr></tr></thead><tbody><tr><td>Rank</td><td><div class=\"dni-plaintext\"><pre>4</pre></div></td></tr><tr><td>Suit</td><td><div class=\"dni-plaintext\"><pre>d</pre></div></td></tr></tbody></table></div></details></td></tr><tr><td>3</td><td><details class=\"dni-treeview\"><summary><span class=\"dni-code-hint\"><code>9-d</code></span></summary><div><table><thead><tr></tr></thead><tbody><tr><td>Rank</td><td><div class=\"dni-plaintext\"><pre>9</pre></div></td></tr><tr><td>Suit</td><td><div class=\"dni-plaintext\"><pre>d</pre></div></td></tr></tbody></table></div></details></td></tr><tr><td>4</td><td><details class=\"dni-treeview\"><summary><span class=\"dni-code-hint\"><code>6-d</code></span></summary><div><table><thead><tr></tr></thead><tbody><tr><td>Rank</td><td><div class=\"dni-plaintext\"><pre>6</pre></div></td></tr><tr><td>Suit</td><td><div class=\"dni-plaintext\"><pre>d</pre></div></td></tr></tbody></table></div></details></td></tr><tr><td>5</td><td><details class=\"dni-treeview\"><summary><span class=\"dni-code-hint\"><code>7-d</code></span></summary><div><table><thead><tr></tr></thead><tbody><tr><td>Rank</td><td><div class=\"dni-plaintext\"><pre>7</pre></div></td></tr><tr><td>Suit</td><td><div class=\"dni-plaintext\"><pre>d</pre></div></td></tr></tbody></table></div></details></td></tr><tr><td>6</td><td><details class=\"dni-treeview\"><summary><span class=\"dni-code-hint\"><code>A-d</code></span></summary><div><table><thead><tr></tr></thead><tbody><tr><td>Rank</td><td><div class=\"dni-plaintext\"><pre>A</pre></div></td></tr><tr><td>Suit</td><td><div class=\"dni-plaintext\"><pre>d</pre></div></td></tr></tbody></table></div></details></td></tr></tbody></table><style>\r\n",
       ".dni-code-hint {\r\n",
       "    font-style: italic;\r\n",
       "    overflow: hidden;\r\n",
       "    white-space: nowrap;\r\n",
       "}\r\n",
       ".dni-treeview {\r\n",
       "    white-space: nowrap;\r\n",
       "}\r\n",
       ".dni-treeview td {\r\n",
       "    vertical-align: top;\r\n",
       "    text-align: start;\r\n",
       "}\r\n",
       "details.dni-treeview {\r\n",
       "    padding-left: 1em;\r\n",
       "}\r\n",
       "table td {\r\n",
       "    text-align: start;\r\n",
       "}\r\n",
       "table tr { \r\n",
       "    vertical-align: top; \r\n",
       "    margin: 0em 0px;\r\n",
       "}\r\n",
       "table tr td pre \r\n",
       "{ \r\n",
       "    vertical-align: top !important; \r\n",
       "    margin: 0em 0px !important;\r\n",
       "} \r\n",
       "table th {\r\n",
       "    text-align: start;\r\n",
       "}\r\n",
       "</style>"
      ]
     },
     "metadata": {},
     "output_type": "display_data"
    },
    {
     "data": {
      "text/html": [
       "<div class=\"dni-plaintext\"><pre>False</pre></div><style>\r\n",
       ".dni-code-hint {\r\n",
       "    font-style: italic;\r\n",
       "    overflow: hidden;\r\n",
       "    white-space: nowrap;\r\n",
       "}\r\n",
       ".dni-treeview {\r\n",
       "    white-space: nowrap;\r\n",
       "}\r\n",
       ".dni-treeview td {\r\n",
       "    vertical-align: top;\r\n",
       "    text-align: start;\r\n",
       "}\r\n",
       "details.dni-treeview {\r\n",
       "    padding-left: 1em;\r\n",
       "}\r\n",
       "table td {\r\n",
       "    text-align: start;\r\n",
       "}\r\n",
       "table tr { \r\n",
       "    vertical-align: top; \r\n",
       "    margin: 0em 0px;\r\n",
       "}\r\n",
       "table tr td pre \r\n",
       "{ \r\n",
       "    vertical-align: top !important; \r\n",
       "    margin: 0em 0px !important;\r\n",
       "} \r\n",
       "table th {\r\n",
       "    text-align: start;\r\n",
       "}\r\n",
       "</style>"
      ]
     },
     "metadata": {},
     "output_type": "display_data"
    }
   ],
   "source": [
    "display(deck.Inner.Where(c => c.Suit != \"c\"));\n",
    "display(deck.Inner.Where(c => c.Suit != \"c\" && c.Suit != \"h\"));\n",
    "deck.Inner.Where(c => c.Suit != \"c\" && c.Suit != \"h\").All(c => c.Suit == \"d\"); // Do you have a flush of Diamonds?\n",
    "display(deck.Inner.Where(c => c.Suit != \"c\" && c.Suit != \"h\").All(c => c.Suit == \"d\"));"
   ]
  },
  {
   "cell_type": "code",
   "execution_count": 140,
   "metadata": {
    "dotnet_interactive": {
     "language": "csharp"
    },
    "polyglot_notebook": {
     "kernelName": "csharp"
    },
    "vscode": {
     "languageId": "polyglot-notebook"
    }
   },
   "outputs": [
    {
     "data": {
      "text/html": [
       "<div class=\"dni-plaintext\"><pre>True</pre></div><style>\r\n",
       ".dni-code-hint {\r\n",
       "    font-style: italic;\r\n",
       "    overflow: hidden;\r\n",
       "    white-space: nowrap;\r\n",
       "}\r\n",
       ".dni-treeview {\r\n",
       "    white-space: nowrap;\r\n",
       "}\r\n",
       ".dni-treeview td {\r\n",
       "    vertical-align: top;\r\n",
       "    text-align: start;\r\n",
       "}\r\n",
       "details.dni-treeview {\r\n",
       "    padding-left: 1em;\r\n",
       "}\r\n",
       "table td {\r\n",
       "    text-align: start;\r\n",
       "}\r\n",
       "table tr { \r\n",
       "    vertical-align: top; \r\n",
       "    margin: 0em 0px;\r\n",
       "}\r\n",
       "table tr td pre \r\n",
       "{ \r\n",
       "    vertical-align: top !important; \r\n",
       "    margin: 0em 0px !important;\r\n",
       "} \r\n",
       "table th {\r\n",
       "    text-align: start;\r\n",
       "}\r\n",
       "</style>"
      ]
     },
     "metadata": {},
     "output_type": "display_data"
    }
   ],
   "source": [
    "// Do you have ANY cards that aren't clubs and are not hearts?\n",
    "deck.Inner.Where(c => c.Suit != \"c\" && c.Suit != \"h\").Any() "
   ]
  },
  {
   "cell_type": "markdown",
   "metadata": {},
   "source": [
    "We can navigate around the collection using [First](https://docs.microsoft.com/dotnet/api/system.linq.enumerable.first?view=netcore-3.1&WT.mc_id=visualstudio-twitch-jefritz), [Skip](https://docs.microsoft.com/dotnet/api/system.linq.enumerable.skip?view=netcore-3.1&WT.mc_id=visualstudio-twitch-jefritz), and [Take](https://docs.microsoft.com/dotnet/api/system.linq.enumerable.take?view=netcore-3.1&WT.mc_id=visualstudio-twitch-jefritz) methods.  \n",
    "\n",
    "- **First** will grab the first element from the collection, or with an optional lambda argument, can return the first element that passes that test.\n",
    "- **Skip** will pass over the first `n` number of elements\n",
    "- **Take** will return a collection from the first position of the collection of the size specified"
   ]
  },
  {
   "cell_type": "code",
   "execution_count": 142,
   "metadata": {
    "dotnet_interactive": {
     "language": "csharp"
    },
    "polyglot_notebook": {
     "kernelName": "csharp"
    },
    "vscode": {
     "languageId": "polyglot-notebook"
    }
   },
   "outputs": [
    {
     "data": {
      "text/html": [
       "<details open=\"open\" class=\"dni-treeview\"><summary><span class=\"dni-code-hint\"><code>A-c</code></span></summary><div><table><thead><tr></tr></thead><tbody><tr><td>Rank</td><td><div class=\"dni-plaintext\"><pre>A</pre></div></td></tr><tr><td>Suit</td><td><div class=\"dni-plaintext\"><pre>c</pre></div></td></tr></tbody></table></div></details><style>\r\n",
       ".dni-code-hint {\r\n",
       "    font-style: italic;\r\n",
       "    overflow: hidden;\r\n",
       "    white-space: nowrap;\r\n",
       "}\r\n",
       ".dni-treeview {\r\n",
       "    white-space: nowrap;\r\n",
       "}\r\n",
       ".dni-treeview td {\r\n",
       "    vertical-align: top;\r\n",
       "    text-align: start;\r\n",
       "}\r\n",
       "details.dni-treeview {\r\n",
       "    padding-left: 1em;\r\n",
       "}\r\n",
       "table td {\r\n",
       "    text-align: start;\r\n",
       "}\r\n",
       "table tr { \r\n",
       "    vertical-align: top; \r\n",
       "    margin: 0em 0px;\r\n",
       "}\r\n",
       "table tr td pre \r\n",
       "{ \r\n",
       "    vertical-align: top !important; \r\n",
       "    margin: 0em 0px !important;\r\n",
       "} \r\n",
       "table th {\r\n",
       "    text-align: start;\r\n",
       "}\r\n",
       "</style>"
      ]
     },
     "metadata": {},
     "output_type": "display_data"
    }
   ],
   "source": [
    "// Get the first item in the collection\n",
    "deck.Inner.First()"
   ]
  },
  {
   "cell_type": "code",
   "execution_count": 147,
   "metadata": {
    "dotnet_interactive": {
     "language": "csharp"
    },
    "polyglot_notebook": {
     "kernelName": "csharp"
    },
    "vscode": {
     "languageId": "polyglot-notebook"
    }
   },
   "outputs": [
    {
     "data": {
      "text/html": [
       "<details open=\"open\" class=\"dni-treeview\"><summary><span class=\"dni-code-hint\"><code>5-d</code></span></summary><div><table><thead><tr></tr></thead><tbody><tr><td>Rank</td><td><div class=\"dni-plaintext\"><pre>5</pre></div></td></tr><tr><td>Suit</td><td><div class=\"dni-plaintext\"><pre>d</pre></div></td></tr></tbody></table></div></details><style>\r\n",
       ".dni-code-hint {\r\n",
       "    font-style: italic;\r\n",
       "    overflow: hidden;\r\n",
       "    white-space: nowrap;\r\n",
       "}\r\n",
       ".dni-treeview {\r\n",
       "    white-space: nowrap;\r\n",
       "}\r\n",
       ".dni-treeview td {\r\n",
       "    vertical-align: top;\r\n",
       "    text-align: start;\r\n",
       "}\r\n",
       "details.dni-treeview {\r\n",
       "    padding-left: 1em;\r\n",
       "}\r\n",
       "table td {\r\n",
       "    text-align: start;\r\n",
       "}\r\n",
       "table tr { \r\n",
       "    vertical-align: top; \r\n",
       "    margin: 0em 0px;\r\n",
       "}\r\n",
       "table tr td pre \r\n",
       "{ \r\n",
       "    vertical-align: top !important; \r\n",
       "    margin: 0em 0px !important;\r\n",
       "} \r\n",
       "table th {\r\n",
       "    text-align: start;\r\n",
       "}\r\n",
       "</style>"
      ]
     },
     "metadata": {},
     "output_type": "display_data"
    }
   ],
   "source": [
    "deck.Inner.First(c => c.Suit == \"d\") // Get the first card that is a Diamond"
   ]
  },
  {
   "cell_type": "code",
   "execution_count": 143,
   "metadata": {
    "dotnet_interactive": {
     "language": "csharp"
    },
    "polyglot_notebook": {
     "kernelName": "csharp"
    },
    "vscode": {
     "languageId": "polyglot-notebook"
    }
   },
   "outputs": [
    {
     "data": {
      "text/html": [
       "<table><thead><tr><th><i>index</i></th><th>value</th></tr></thead><tbody><tr><td>0</td><td><details class=\"dni-treeview\"><summary><span class=\"dni-code-hint\"><code>A-s</code></span></summary><div><table><thead><tr></tr></thead><tbody><tr><td>Rank</td><td><div class=\"dni-plaintext\"><pre>A</pre></div></td></tr><tr><td>Suit</td><td><div class=\"dni-plaintext\"><pre>s</pre></div></td></tr></tbody></table></div></details></td></tr><tr><td>1</td><td><details class=\"dni-treeview\"><summary><span class=\"dni-code-hint\"><code>5-d</code></span></summary><div><table><thead><tr></tr></thead><tbody><tr><td>Rank</td><td><div class=\"dni-plaintext\"><pre>5</pre></div></td></tr><tr><td>Suit</td><td><div class=\"dni-plaintext\"><pre>d</pre></div></td></tr></tbody></table></div></details></td></tr><tr><td>2</td><td><details class=\"dni-treeview\"><summary><span class=\"dni-code-hint\"><code>4-d</code></span></summary><div><table><thead><tr></tr></thead><tbody><tr><td>Rank</td><td><div class=\"dni-plaintext\"><pre>4</pre></div></td></tr><tr><td>Suit</td><td><div class=\"dni-plaintext\"><pre>d</pre></div></td></tr></tbody></table></div></details></td></tr><tr><td>3</td><td><details class=\"dni-treeview\"><summary><span class=\"dni-code-hint\"><code>3-c</code></span></summary><div><table><thead><tr></tr></thead><tbody><tr><td>Rank</td><td><div class=\"dni-plaintext\"><pre>3</pre></div></td></tr><tr><td>Suit</td><td><div class=\"dni-plaintext\"><pre>c</pre></div></td></tr></tbody></table></div></details></td></tr><tr><td>4</td><td><details class=\"dni-treeview\"><summary><span class=\"dni-code-hint\"><code>9-d</code></span></summary><div><table><thead><tr></tr></thead><tbody><tr><td>Rank</td><td><div class=\"dni-plaintext\"><pre>9</pre></div></td></tr><tr><td>Suit</td><td><div class=\"dni-plaintext\"><pre>d</pre></div></td></tr></tbody></table></div></details></td></tr><tr><td>5</td><td><details class=\"dni-treeview\"><summary><span class=\"dni-code-hint\"><code>J-h</code></span></summary><div><table><thead><tr></tr></thead><tbody><tr><td>Rank</td><td><div class=\"dni-plaintext\"><pre>J</pre></div></td></tr><tr><td>Suit</td><td><div class=\"dni-plaintext\"><pre>h</pre></div></td></tr></tbody></table></div></details></td></tr><tr><td>6</td><td><details class=\"dni-treeview\"><summary><span class=\"dni-code-hint\"><code>2-c</code></span></summary><div><table><thead><tr></tr></thead><tbody><tr><td>Rank</td><td><div class=\"dni-plaintext\"><pre>2</pre></div></td></tr><tr><td>Suit</td><td><div class=\"dni-plaintext\"><pre>c</pre></div></td></tr></tbody></table></div></details></td></tr><tr><td>7</td><td><details class=\"dni-treeview\"><summary><span class=\"dni-code-hint\"><code>A-h</code></span></summary><div><table><thead><tr></tr></thead><tbody><tr><td>Rank</td><td><div class=\"dni-plaintext\"><pre>A</pre></div></td></tr><tr><td>Suit</td><td><div class=\"dni-plaintext\"><pre>h</pre></div></td></tr></tbody></table></div></details></td></tr><tr><td>8</td><td><details class=\"dni-treeview\"><summary><span class=\"dni-code-hint\"><code>4-h</code></span></summary><div><table><thead><tr></tr></thead><tbody><tr><td>Rank</td><td><div class=\"dni-plaintext\"><pre>4</pre></div></td></tr><tr><td>Suit</td><td><div class=\"dni-plaintext\"><pre>h</pre></div></td></tr></tbody></table></div></details></td></tr><tr><td>9</td><td><details class=\"dni-treeview\"><summary><span class=\"dni-code-hint\"><code>6-d</code></span></summary><div><table><thead><tr></tr></thead><tbody><tr><td>Rank</td><td><div class=\"dni-plaintext\"><pre>6</pre></div></td></tr><tr><td>Suit</td><td><div class=\"dni-plaintext\"><pre>d</pre></div></td></tr></tbody></table></div></details></td></tr><tr><td>10</td><td><details class=\"dni-treeview\"><summary><span class=\"dni-code-hint\"><code>7-d</code></span></summary><div><table><thead><tr></tr></thead><tbody><tr><td>Rank</td><td><div class=\"dni-plaintext\"><pre>7</pre></div></td></tr><tr><td>Suit</td><td><div class=\"dni-plaintext\"><pre>d</pre></div></td></tr></tbody></table></div></details></td></tr><tr><td>11</td><td><details class=\"dni-treeview\"><summary><span class=\"dni-code-hint\"><code>A-d</code></span></summary><div><table><thead><tr></tr></thead><tbody><tr><td>Rank</td><td><div class=\"dni-plaintext\"><pre>A</pre></div></td></tr><tr><td>Suit</td><td><div class=\"dni-plaintext\"><pre>d</pre></div></td></tr></tbody></table></div></details></td></tr></tbody></table><style>\r\n",
       ".dni-code-hint {\r\n",
       "    font-style: italic;\r\n",
       "    overflow: hidden;\r\n",
       "    white-space: nowrap;\r\n",
       "}\r\n",
       ".dni-treeview {\r\n",
       "    white-space: nowrap;\r\n",
       "}\r\n",
       ".dni-treeview td {\r\n",
       "    vertical-align: top;\r\n",
       "    text-align: start;\r\n",
       "}\r\n",
       "details.dni-treeview {\r\n",
       "    padding-left: 1em;\r\n",
       "}\r\n",
       "table td {\r\n",
       "    text-align: start;\r\n",
       "}\r\n",
       "table tr { \r\n",
       "    vertical-align: top; \r\n",
       "    margin: 0em 0px;\r\n",
       "}\r\n",
       "table tr td pre \r\n",
       "{ \r\n",
       "    vertical-align: top !important; \r\n",
       "    margin: 0em 0px !important;\r\n",
       "} \r\n",
       "table th {\r\n",
       "    text-align: start;\r\n",
       "}\r\n",
       "</style>"
      ]
     },
     "metadata": {},
     "output_type": "display_data"
    }
   ],
   "source": [
    "// Skip the first item in the collection and return the rest of the collection\n",
    "deck.Inner.Skip(1)"
   ]
  },
  {
   "cell_type": "code",
   "execution_count": 146,
   "metadata": {
    "dotnet_interactive": {
     "language": "csharp"
    },
    "polyglot_notebook": {
     "kernelName": "csharp"
    },
    "vscode": {
     "languageId": "polyglot-notebook"
    }
   },
   "outputs": [
    {
     "data": {
      "text/html": [
       "<table><thead><tr><th><i>index</i></th><th>value</th></tr></thead><tbody><tr><td>0</td><td><details class=\"dni-treeview\"><summary><span class=\"dni-code-hint\"><code>5-d</code></span></summary><div><table><thead><tr></tr></thead><tbody><tr><td>Rank</td><td><div class=\"dni-plaintext\"><pre>5</pre></div></td></tr><tr><td>Suit</td><td><div class=\"dni-plaintext\"><pre>d</pre></div></td></tr></tbody></table></div></details></td></tr><tr><td>1</td><td><details class=\"dni-treeview\"><summary><span class=\"dni-code-hint\"><code>4-d</code></span></summary><div><table><thead><tr></tr></thead><tbody><tr><td>Rank</td><td><div class=\"dni-plaintext\"><pre>4</pre></div></td></tr><tr><td>Suit</td><td><div class=\"dni-plaintext\"><pre>d</pre></div></td></tr></tbody></table></div></details></td></tr><tr><td>2</td><td><details class=\"dni-treeview\"><summary><span class=\"dni-code-hint\"><code>3-c</code></span></summary><div><table><thead><tr></tr></thead><tbody><tr><td>Rank</td><td><div class=\"dni-plaintext\"><pre>3</pre></div></td></tr><tr><td>Suit</td><td><div class=\"dni-plaintext\"><pre>c</pre></div></td></tr></tbody></table></div></details></td></tr><tr><td>3</td><td><details class=\"dni-treeview\"><summary><span class=\"dni-code-hint\"><code>9-d</code></span></summary><div><table><thead><tr></tr></thead><tbody><tr><td>Rank</td><td><div class=\"dni-plaintext\"><pre>9</pre></div></td></tr><tr><td>Suit</td><td><div class=\"dni-plaintext\"><pre>d</pre></div></td></tr></tbody></table></div></details></td></tr><tr><td>4</td><td><details class=\"dni-treeview\"><summary><span class=\"dni-code-hint\"><code>J-h</code></span></summary><div><table><thead><tr></tr></thead><tbody><tr><td>Rank</td><td><div class=\"dni-plaintext\"><pre>J</pre></div></td></tr><tr><td>Suit</td><td><div class=\"dni-plaintext\"><pre>h</pre></div></td></tr></tbody></table></div></details></td></tr><tr><td>5</td><td><details class=\"dni-treeview\"><summary><span class=\"dni-code-hint\"><code>2-c</code></span></summary><div><table><thead><tr></tr></thead><tbody><tr><td>Rank</td><td><div class=\"dni-plaintext\"><pre>2</pre></div></td></tr><tr><td>Suit</td><td><div class=\"dni-plaintext\"><pre>c</pre></div></td></tr></tbody></table></div></details></td></tr><tr><td>6</td><td><details class=\"dni-treeview\"><summary><span class=\"dni-code-hint\"><code>A-h</code></span></summary><div><table><thead><tr></tr></thead><tbody><tr><td>Rank</td><td><div class=\"dni-plaintext\"><pre>A</pre></div></td></tr><tr><td>Suit</td><td><div class=\"dni-plaintext\"><pre>h</pre></div></td></tr></tbody></table></div></details></td></tr><tr><td>7</td><td><details class=\"dni-treeview\"><summary><span class=\"dni-code-hint\"><code>4-h</code></span></summary><div><table><thead><tr></tr></thead><tbody><tr><td>Rank</td><td><div class=\"dni-plaintext\"><pre>4</pre></div></td></tr><tr><td>Suit</td><td><div class=\"dni-plaintext\"><pre>h</pre></div></td></tr></tbody></table></div></details></td></tr><tr><td>8</td><td><details class=\"dni-treeview\"><summary><span class=\"dni-code-hint\"><code>6-d</code></span></summary><div><table><thead><tr></tr></thead><tbody><tr><td>Rank</td><td><div class=\"dni-plaintext\"><pre>6</pre></div></td></tr><tr><td>Suit</td><td><div class=\"dni-plaintext\"><pre>d</pre></div></td></tr></tbody></table></div></details></td></tr><tr><td>9</td><td><details class=\"dni-treeview\"><summary><span class=\"dni-code-hint\"><code>7-d</code></span></summary><div><table><thead><tr></tr></thead><tbody><tr><td>Rank</td><td><div class=\"dni-plaintext\"><pre>7</pre></div></td></tr><tr><td>Suit</td><td><div class=\"dni-plaintext\"><pre>d</pre></div></td></tr></tbody></table></div></details></td></tr><tr><td>10</td><td><details class=\"dni-treeview\"><summary><span class=\"dni-code-hint\"><code>A-d</code></span></summary><div><table><thead><tr></tr></thead><tbody><tr><td>Rank</td><td><div class=\"dni-plaintext\"><pre>A</pre></div></td></tr><tr><td>Suit</td><td><div class=\"dni-plaintext\"><pre>d</pre></div></td></tr></tbody></table></div></details></td></tr></tbody></table><style>\r\n",
       ".dni-code-hint {\r\n",
       "    font-style: italic;\r\n",
       "    overflow: hidden;\r\n",
       "    white-space: nowrap;\r\n",
       "}\r\n",
       ".dni-treeview {\r\n",
       "    white-space: nowrap;\r\n",
       "}\r\n",
       ".dni-treeview td {\r\n",
       "    vertical-align: top;\r\n",
       "    text-align: start;\r\n",
       "}\r\n",
       "details.dni-treeview {\r\n",
       "    padding-left: 1em;\r\n",
       "}\r\n",
       "table td {\r\n",
       "    text-align: start;\r\n",
       "}\r\n",
       "table tr { \r\n",
       "    vertical-align: top; \r\n",
       "    margin: 0em 0px;\r\n",
       "}\r\n",
       "table tr td pre \r\n",
       "{ \r\n",
       "    vertical-align: top !important; \r\n",
       "    margin: 0em 0px !important;\r\n",
       "} \r\n",
       "table th {\r\n",
       "    text-align: start;\r\n",
       "}\r\n",
       "</style>"
      ]
     },
     "metadata": {},
     "output_type": "display_data"
    }
   ],
   "source": [
    "deck.Inner.Skip(2) // Skip the first two items in the collection and return the rest of the collection"
   ]
  },
  {
   "cell_type": "code",
   "execution_count": null,
   "metadata": {
    "dotnet_interactive": {
     "language": "csharp"
    },
    "polyglot_notebook": {
     "kernelName": "csharp"
    },
    "vscode": {
     "languageId": "polyglot-notebook"
    }
   },
   "outputs": [],
   "source": [
    "// Just like at a poker game, skip 1 card and take the next 2 cards\n",
    "deck._Inner.Skip(1).Take(2)"
   ]
  },
  {
   "cell_type": "markdown",
   "metadata": {},
   "source": [
    "Interacting with a set of data is no fun without any kind of [sorting](https://docs.microsoft.com/dotnet/csharp/programming-guide/concepts/linq/sorting-data?WT.mc_id=visualstudio-twitch-jefritz).  We'll end with looking at the OrderBy, OrderByDescending, ThenBy, and ThenByDescending methods.\n",
    "\n",
    "- **OrderBy** orders the collection by a value provided in the method\n",
    "- **OrderByDescending** orders the collection in descending order by the value provided \n",
    "- **ThenBy** adds a secondary ordering to the collection after an OrderBy was specified\n",
    "- **ThenByDescending** adds a secondary ordering in descending order to the collection after an OrderBy was specified"
   ]
  },
  {
   "cell_type": "code",
   "execution_count": 154,
   "metadata": {
    "dotnet_interactive": {
     "language": "csharp"
    },
    "polyglot_notebook": {
     "kernelName": "csharp"
    },
    "vscode": {
     "languageId": "polyglot-notebook"
    }
   },
   "outputs": [
    {
     "data": {
      "text/html": [
       "<details open=\"open\" class=\"dni-treeview\"><summary><span class=\"dni-code-hint\"><code>[ 2-c, 3-c, 4-d, 4-h, 5-d, 6-d, 7-d, 9-d, J-h, A-c ]</code></span></summary><div><table><thead><tr></tr></thead><tbody><tr><td><i>(values)</i></td><td><table><thead><tr><th><i>index</i></th><th>value</th></tr></thead><tbody><tr><td>0</td><td><details class=\"dni-treeview\"><summary><span class=\"dni-code-hint\"><code>2-c</code></span></summary><div><table><thead><tr></tr></thead><tbody><tr><td>Rank</td><td><div class=\"dni-plaintext\"><pre>2</pre></div></td></tr><tr><td>Suit</td><td><div class=\"dni-plaintext\"><pre>c</pre></div></td></tr></tbody></table></div></details></td></tr><tr><td>1</td><td><details class=\"dni-treeview\"><summary><span class=\"dni-code-hint\"><code>3-c</code></span></summary><div><table><thead><tr></tr></thead><tbody><tr><td>Rank</td><td><div class=\"dni-plaintext\"><pre>3</pre></div></td></tr><tr><td>Suit</td><td><div class=\"dni-plaintext\"><pre>c</pre></div></td></tr></tbody></table></div></details></td></tr><tr><td>2</td><td><details class=\"dni-treeview\"><summary><span class=\"dni-code-hint\"><code>4-d</code></span></summary><div><table><thead><tr></tr></thead><tbody><tr><td>Rank</td><td><div class=\"dni-plaintext\"><pre>4</pre></div></td></tr><tr><td>Suit</td><td><div class=\"dni-plaintext\"><pre>d</pre></div></td></tr></tbody></table></div></details></td></tr><tr><td>3</td><td><details class=\"dni-treeview\"><summary><span class=\"dni-code-hint\"><code>4-h</code></span></summary><div><table><thead><tr></tr></thead><tbody><tr><td>Rank</td><td><div class=\"dni-plaintext\"><pre>4</pre></div></td></tr><tr><td>Suit</td><td><div class=\"dni-plaintext\"><pre>h</pre></div></td></tr></tbody></table></div></details></td></tr><tr><td>4</td><td><details class=\"dni-treeview\"><summary><span class=\"dni-code-hint\"><code>5-d</code></span></summary><div><table><thead><tr></tr></thead><tbody><tr><td>Rank</td><td><div class=\"dni-plaintext\"><pre>5</pre></div></td></tr><tr><td>Suit</td><td><div class=\"dni-plaintext\"><pre>d</pre></div></td></tr></tbody></table></div></details></td></tr><tr><td>5</td><td><details class=\"dni-treeview\"><summary><span class=\"dni-code-hint\"><code>6-d</code></span></summary><div><table><thead><tr></tr></thead><tbody><tr><td>Rank</td><td><div class=\"dni-plaintext\"><pre>6</pre></div></td></tr><tr><td>Suit</td><td><div class=\"dni-plaintext\"><pre>d</pre></div></td></tr></tbody></table></div></details></td></tr><tr><td>6</td><td><details class=\"dni-treeview\"><summary><span class=\"dni-code-hint\"><code>7-d</code></span></summary><div><table><thead><tr></tr></thead><tbody><tr><td>Rank</td><td><div class=\"dni-plaintext\"><pre>7</pre></div></td></tr><tr><td>Suit</td><td><div class=\"dni-plaintext\"><pre>d</pre></div></td></tr></tbody></table></div></details></td></tr><tr><td>7</td><td><details class=\"dni-treeview\"><summary><span class=\"dni-code-hint\"><code>9-d</code></span></summary><div><table><thead><tr></tr></thead><tbody><tr><td>Rank</td><td><div class=\"dni-plaintext\"><pre>9</pre></div></td></tr><tr><td>Suit</td><td><div class=\"dni-plaintext\"><pre>d</pre></div></td></tr></tbody></table></div></details></td></tr><tr><td>8</td><td><details class=\"dni-treeview\"><summary><span class=\"dni-code-hint\"><code>J-h</code></span></summary><div><table><thead><tr></tr></thead><tbody><tr><td>Rank</td><td><div class=\"dni-plaintext\"><pre>J</pre></div></td></tr><tr><td>Suit</td><td><div class=\"dni-plaintext\"><pre>h</pre></div></td></tr></tbody></table></div></details></td></tr><tr><td>9</td><td><details class=\"dni-treeview\"><summary><span class=\"dni-code-hint\"><code>A-c</code></span></summary><div><table><thead><tr></tr></thead><tbody><tr><td>Rank</td><td><div class=\"dni-plaintext\"><pre>A</pre></div></td></tr><tr><td>Suit</td><td><div class=\"dni-plaintext\"><pre>c</pre></div></td></tr></tbody></table></div></details></td></tr></tbody></table></td></tr></tbody></table></div></details><style>\r\n",
       ".dni-code-hint {\r\n",
       "    font-style: italic;\r\n",
       "    overflow: hidden;\r\n",
       "    white-space: nowrap;\r\n",
       "}\r\n",
       ".dni-treeview {\r\n",
       "    white-space: nowrap;\r\n",
       "}\r\n",
       ".dni-treeview td {\r\n",
       "    vertical-align: top;\r\n",
       "    text-align: start;\r\n",
       "}\r\n",
       "details.dni-treeview {\r\n",
       "    padding-left: 1em;\r\n",
       "}\r\n",
       "table td {\r\n",
       "    text-align: start;\r\n",
       "}\r\n",
       "table tr { \r\n",
       "    vertical-align: top; \r\n",
       "    margin: 0em 0px;\r\n",
       "}\r\n",
       "table tr td pre \r\n",
       "{ \r\n",
       "    vertical-align: top !important; \r\n",
       "    margin: 0em 0px !important;\r\n",
       "} \r\n",
       "table th {\r\n",
       "    text-align: start;\r\n",
       "}\r\n",
       "</style>"
      ]
     },
     "metadata": {},
     "output_type": "display_data"
    }
   ],
   "source": [
    "deck.Inner.OrderBy(c => c.Rank == \"A\" ? \"ZZ\" : c.Rank).Take(10) // Order the cards by Rank, but put the Aces at the end\n",
    "\n",
    "// Order the cards by Rank, but put the Aces at the end\n",
    "// The ternary operator is used to return a different value if the Rank is an Ace\n",
    "// to make the Ace sort at the end of the list\n",
    "// for example if the value is Ace then return \"ZZ\" otherwise return the Rank"
   ]
  },
  {
   "cell_type": "code",
   "execution_count": 152,
   "metadata": {
    "dotnet_interactive": {
     "language": "csharp"
    },
    "polyglot_notebook": {
     "kernelName": "csharp"
    },
    "vscode": {
     "languageId": "polyglot-notebook"
    }
   },
   "outputs": [
    {
     "data": {
      "text/html": [
       "<table><thead><tr><th><i>index</i></th><th>value</th></tr></thead><tbody><tr><td>0</td><td><details class=\"dni-treeview\"><summary><span class=\"dni-code-hint\"><code>2-c</code></span></summary><div><table><thead><tr></tr></thead><tbody><tr><td>Rank</td><td><div class=\"dni-plaintext\"><pre>2</pre></div></td></tr><tr><td>Suit</td><td><div class=\"dni-plaintext\"><pre>c</pre></div></td></tr></tbody></table></div></details></td></tr><tr><td>1</td><td><details class=\"dni-treeview\"><summary><span class=\"dni-code-hint\"><code>3-c</code></span></summary><div><table><thead><tr></tr></thead><tbody><tr><td>Rank</td><td><div class=\"dni-plaintext\"><pre>3</pre></div></td></tr><tr><td>Suit</td><td><div class=\"dni-plaintext\"><pre>c</pre></div></td></tr></tbody></table></div></details></td></tr><tr><td>2</td><td><details class=\"dni-treeview\"><summary><span class=\"dni-code-hint\"><code>4-d</code></span></summary><div><table><thead><tr></tr></thead><tbody><tr><td>Rank</td><td><div class=\"dni-plaintext\"><pre>4</pre></div></td></tr><tr><td>Suit</td><td><div class=\"dni-plaintext\"><pre>d</pre></div></td></tr></tbody></table></div></details></td></tr><tr><td>3</td><td><details class=\"dni-treeview\"><summary><span class=\"dni-code-hint\"><code>4-h</code></span></summary><div><table><thead><tr></tr></thead><tbody><tr><td>Rank</td><td><div class=\"dni-plaintext\"><pre>4</pre></div></td></tr><tr><td>Suit</td><td><div class=\"dni-plaintext\"><pre>h</pre></div></td></tr></tbody></table></div></details></td></tr><tr><td>4</td><td><details class=\"dni-treeview\"><summary><span class=\"dni-code-hint\"><code>5-d</code></span></summary><div><table><thead><tr></tr></thead><tbody><tr><td>Rank</td><td><div class=\"dni-plaintext\"><pre>5</pre></div></td></tr><tr><td>Suit</td><td><div class=\"dni-plaintext\"><pre>d</pre></div></td></tr></tbody></table></div></details></td></tr><tr><td>5</td><td><details class=\"dni-treeview\"><summary><span class=\"dni-code-hint\"><code>6-d</code></span></summary><div><table><thead><tr></tr></thead><tbody><tr><td>Rank</td><td><div class=\"dni-plaintext\"><pre>6</pre></div></td></tr><tr><td>Suit</td><td><div class=\"dni-plaintext\"><pre>d</pre></div></td></tr></tbody></table></div></details></td></tr><tr><td>6</td><td><details class=\"dni-treeview\"><summary><span class=\"dni-code-hint\"><code>7-d</code></span></summary><div><table><thead><tr></tr></thead><tbody><tr><td>Rank</td><td><div class=\"dni-plaintext\"><pre>7</pre></div></td></tr><tr><td>Suit</td><td><div class=\"dni-plaintext\"><pre>d</pre></div></td></tr></tbody></table></div></details></td></tr><tr><td>7</td><td><details class=\"dni-treeview\"><summary><span class=\"dni-code-hint\"><code>9-d</code></span></summary><div><table><thead><tr></tr></thead><tbody><tr><td>Rank</td><td><div class=\"dni-plaintext\"><pre>9</pre></div></td></tr><tr><td>Suit</td><td><div class=\"dni-plaintext\"><pre>d</pre></div></td></tr></tbody></table></div></details></td></tr><tr><td>8</td><td><details class=\"dni-treeview\"><summary><span class=\"dni-code-hint\"><code>A-c</code></span></summary><div><table><thead><tr></tr></thead><tbody><tr><td>Rank</td><td><div class=\"dni-plaintext\"><pre>A</pre></div></td></tr><tr><td>Suit</td><td><div class=\"dni-plaintext\"><pre>c</pre></div></td></tr></tbody></table></div></details></td></tr><tr><td>9</td><td><details class=\"dni-treeview\"><summary><span class=\"dni-code-hint\"><code>A-s</code></span></summary><div><table><thead><tr></tr></thead><tbody><tr><td>Rank</td><td><div class=\"dni-plaintext\"><pre>A</pre></div></td></tr><tr><td>Suit</td><td><div class=\"dni-plaintext\"><pre>s</pre></div></td></tr></tbody></table></div></details></td></tr><tr><td>10</td><td><details class=\"dni-treeview\"><summary><span class=\"dni-code-hint\"><code>A-h</code></span></summary><div><table><thead><tr></tr></thead><tbody><tr><td>Rank</td><td><div class=\"dni-plaintext\"><pre>A</pre></div></td></tr><tr><td>Suit</td><td><div class=\"dni-plaintext\"><pre>h</pre></div></td></tr></tbody></table></div></details></td></tr><tr><td>11</td><td><details class=\"dni-treeview\"><summary><span class=\"dni-code-hint\"><code>A-d</code></span></summary><div><table><thead><tr></tr></thead><tbody><tr><td>Rank</td><td><div class=\"dni-plaintext\"><pre>A</pre></div></td></tr><tr><td>Suit</td><td><div class=\"dni-plaintext\"><pre>d</pre></div></td></tr></tbody></table></div></details></td></tr><tr><td>12</td><td><details class=\"dni-treeview\"><summary><span class=\"dni-code-hint\"><code>J-h</code></span></summary><div><table><thead><tr></tr></thead><tbody><tr><td>Rank</td><td><div class=\"dni-plaintext\"><pre>J</pre></div></td></tr><tr><td>Suit</td><td><div class=\"dni-plaintext\"><pre>h</pre></div></td></tr></tbody></table></div></details></td></tr></tbody></table><style>\r\n",
       ".dni-code-hint {\r\n",
       "    font-style: italic;\r\n",
       "    overflow: hidden;\r\n",
       "    white-space: nowrap;\r\n",
       "}\r\n",
       ".dni-treeview {\r\n",
       "    white-space: nowrap;\r\n",
       "}\r\n",
       ".dni-treeview td {\r\n",
       "    vertical-align: top;\r\n",
       "    text-align: start;\r\n",
       "}\r\n",
       "details.dni-treeview {\r\n",
       "    padding-left: 1em;\r\n",
       "}\r\n",
       "table td {\r\n",
       "    text-align: start;\r\n",
       "}\r\n",
       "table tr { \r\n",
       "    vertical-align: top; \r\n",
       "    margin: 0em 0px;\r\n",
       "}\r\n",
       "table tr td pre \r\n",
       "{ \r\n",
       "    vertical-align: top !important; \r\n",
       "    margin: 0em 0px !important;\r\n",
       "} \r\n",
       "table th {\r\n",
       "    text-align: start;\r\n",
       "}\r\n",
       "</style>"
      ]
     },
     "metadata": {},
     "output_type": "display_data"
    }
   ],
   "source": [
    "deck.Inner.OrderBy(c => c.Rank)"
   ]
  },
  {
   "cell_type": "code",
   "execution_count": 153,
   "metadata": {
    "dotnet_interactive": {
     "language": "csharp"
    },
    "polyglot_notebook": {
     "kernelName": "csharp"
    },
    "vscode": {
     "languageId": "polyglot-notebook"
    }
   },
   "outputs": [
    {
     "data": {
      "text/html": [
       "<table><thead><tr><th><i>index</i></th><th>value</th></tr></thead><tbody><tr><td>0</td><td><details class=\"dni-treeview\"><summary><span class=\"dni-code-hint\"><code>A-c</code></span></summary><div><table><thead><tr></tr></thead><tbody><tr><td>Rank</td><td><div class=\"dni-plaintext\"><pre>A</pre></div></td></tr><tr><td>Suit</td><td><div class=\"dni-plaintext\"><pre>c</pre></div></td></tr></tbody></table></div></details></td></tr><tr><td>1</td><td><details class=\"dni-treeview\"><summary><span class=\"dni-code-hint\"><code>3-c</code></span></summary><div><table><thead><tr></tr></thead><tbody><tr><td>Rank</td><td><div class=\"dni-plaintext\"><pre>3</pre></div></td></tr><tr><td>Suit</td><td><div class=\"dni-plaintext\"><pre>c</pre></div></td></tr></tbody></table></div></details></td></tr><tr><td>2</td><td><details class=\"dni-treeview\"><summary><span class=\"dni-code-hint\"><code>2-c</code></span></summary><div><table><thead><tr></tr></thead><tbody><tr><td>Rank</td><td><div class=\"dni-plaintext\"><pre>2</pre></div></td></tr><tr><td>Suit</td><td><div class=\"dni-plaintext\"><pre>c</pre></div></td></tr></tbody></table></div></details></td></tr><tr><td>3</td><td><details class=\"dni-treeview\"><summary><span class=\"dni-code-hint\"><code>5-d</code></span></summary><div><table><thead><tr></tr></thead><tbody><tr><td>Rank</td><td><div class=\"dni-plaintext\"><pre>5</pre></div></td></tr><tr><td>Suit</td><td><div class=\"dni-plaintext\"><pre>d</pre></div></td></tr></tbody></table></div></details></td></tr><tr><td>4</td><td><details class=\"dni-treeview\"><summary><span class=\"dni-code-hint\"><code>4-d</code></span></summary><div><table><thead><tr></tr></thead><tbody><tr><td>Rank</td><td><div class=\"dni-plaintext\"><pre>4</pre></div></td></tr><tr><td>Suit</td><td><div class=\"dni-plaintext\"><pre>d</pre></div></td></tr></tbody></table></div></details></td></tr><tr><td>5</td><td><details class=\"dni-treeview\"><summary><span class=\"dni-code-hint\"><code>9-d</code></span></summary><div><table><thead><tr></tr></thead><tbody><tr><td>Rank</td><td><div class=\"dni-plaintext\"><pre>9</pre></div></td></tr><tr><td>Suit</td><td><div class=\"dni-plaintext\"><pre>d</pre></div></td></tr></tbody></table></div></details></td></tr><tr><td>6</td><td><details class=\"dni-treeview\"><summary><span class=\"dni-code-hint\"><code>6-d</code></span></summary><div><table><thead><tr></tr></thead><tbody><tr><td>Rank</td><td><div class=\"dni-plaintext\"><pre>6</pre></div></td></tr><tr><td>Suit</td><td><div class=\"dni-plaintext\"><pre>d</pre></div></td></tr></tbody></table></div></details></td></tr><tr><td>7</td><td><details class=\"dni-treeview\"><summary><span class=\"dni-code-hint\"><code>7-d</code></span></summary><div><table><thead><tr></tr></thead><tbody><tr><td>Rank</td><td><div class=\"dni-plaintext\"><pre>7</pre></div></td></tr><tr><td>Suit</td><td><div class=\"dni-plaintext\"><pre>d</pre></div></td></tr></tbody></table></div></details></td></tr><tr><td>8</td><td><details class=\"dni-treeview\"><summary><span class=\"dni-code-hint\"><code>A-d</code></span></summary><div><table><thead><tr></tr></thead><tbody><tr><td>Rank</td><td><div class=\"dni-plaintext\"><pre>A</pre></div></td></tr><tr><td>Suit</td><td><div class=\"dni-plaintext\"><pre>d</pre></div></td></tr></tbody></table></div></details></td></tr><tr><td>9</td><td><details class=\"dni-treeview\"><summary><span class=\"dni-code-hint\"><code>J-h</code></span></summary><div><table><thead><tr></tr></thead><tbody><tr><td>Rank</td><td><div class=\"dni-plaintext\"><pre>J</pre></div></td></tr><tr><td>Suit</td><td><div class=\"dni-plaintext\"><pre>h</pre></div></td></tr></tbody></table></div></details></td></tr><tr><td>10</td><td><details class=\"dni-treeview\"><summary><span class=\"dni-code-hint\"><code>A-h</code></span></summary><div><table><thead><tr></tr></thead><tbody><tr><td>Rank</td><td><div class=\"dni-plaintext\"><pre>A</pre></div></td></tr><tr><td>Suit</td><td><div class=\"dni-plaintext\"><pre>h</pre></div></td></tr></tbody></table></div></details></td></tr><tr><td>11</td><td><details class=\"dni-treeview\"><summary><span class=\"dni-code-hint\"><code>4-h</code></span></summary><div><table><thead><tr></tr></thead><tbody><tr><td>Rank</td><td><div class=\"dni-plaintext\"><pre>4</pre></div></td></tr><tr><td>Suit</td><td><div class=\"dni-plaintext\"><pre>h</pre></div></td></tr></tbody></table></div></details></td></tr><tr><td>12</td><td><details class=\"dni-treeview\"><summary><span class=\"dni-code-hint\"><code>A-s</code></span></summary><div><table><thead><tr></tr></thead><tbody><tr><td>Rank</td><td><div class=\"dni-plaintext\"><pre>A</pre></div></td></tr><tr><td>Suit</td><td><div class=\"dni-plaintext\"><pre>s</pre></div></td></tr></tbody></table></div></details></td></tr></tbody></table><style>\r\n",
       ".dni-code-hint {\r\n",
       "    font-style: italic;\r\n",
       "    overflow: hidden;\r\n",
       "    white-space: nowrap;\r\n",
       "}\r\n",
       ".dni-treeview {\r\n",
       "    white-space: nowrap;\r\n",
       "}\r\n",
       ".dni-treeview td {\r\n",
       "    vertical-align: top;\r\n",
       "    text-align: start;\r\n",
       "}\r\n",
       "details.dni-treeview {\r\n",
       "    padding-left: 1em;\r\n",
       "}\r\n",
       "table td {\r\n",
       "    text-align: start;\r\n",
       "}\r\n",
       "table tr { \r\n",
       "    vertical-align: top; \r\n",
       "    margin: 0em 0px;\r\n",
       "}\r\n",
       "table tr td pre \r\n",
       "{ \r\n",
       "    vertical-align: top !important; \r\n",
       "    margin: 0em 0px !important;\r\n",
       "} \r\n",
       "table th {\r\n",
       "    text-align: start;\r\n",
       "}\r\n",
       "</style>"
      ]
     },
     "metadata": {},
     "output_type": "display_data"
    }
   ],
   "source": [
    "deck.Inner.OrderBy(c => c.Suit)"
   ]
  },
  {
   "cell_type": "markdown",
   "metadata": {},
   "source": [
    "Let's try to re-order the collection to get two aces from the list of cards."
   ]
  },
  {
   "cell_type": "code",
   "execution_count": 157,
   "metadata": {
    "dotnet_interactive": {
     "language": "csharp"
    },
    "polyglot_notebook": {
     "kernelName": "csharp"
    },
    "vscode": {
     "languageId": "polyglot-notebook"
    }
   },
   "outputs": [
    {
     "data": {
      "text/html": [
       "<details open=\"open\" class=\"dni-treeview\"><summary><span class=\"dni-code-hint\"><code>[ A-s, A-h ]</code></span></summary><div><table><thead><tr></tr></thead><tbody><tr><td><i>(values)</i></td><td><table><thead><tr><th><i>index</i></th><th>value</th></tr></thead><tbody><tr><td>0</td><td><details class=\"dni-treeview\"><summary><span class=\"dni-code-hint\"><code>A-s</code></span></summary><div><table><thead><tr></tr></thead><tbody><tr><td>Rank</td><td><div class=\"dni-plaintext\"><pre>A</pre></div></td></tr><tr><td>Suit</td><td><div class=\"dni-plaintext\"><pre>s</pre></div></td></tr></tbody></table></div></details></td></tr><tr><td>1</td><td><details class=\"dni-treeview\"><summary><span class=\"dni-code-hint\"><code>A-h</code></span></summary><div><table><thead><tr></tr></thead><tbody><tr><td>Rank</td><td><div class=\"dni-plaintext\"><pre>A</pre></div></td></tr><tr><td>Suit</td><td><div class=\"dni-plaintext\"><pre>h</pre></div></td></tr></tbody></table></div></details></td></tr></tbody></table></td></tr></tbody></table></div></details><style>\r\n",
       ".dni-code-hint {\r\n",
       "    font-style: italic;\r\n",
       "    overflow: hidden;\r\n",
       "    white-space: nowrap;\r\n",
       "}\r\n",
       ".dni-treeview {\r\n",
       "    white-space: nowrap;\r\n",
       "}\r\n",
       ".dni-treeview td {\r\n",
       "    vertical-align: top;\r\n",
       "    text-align: start;\r\n",
       "}\r\n",
       "details.dni-treeview {\r\n",
       "    padding-left: 1em;\r\n",
       "}\r\n",
       "table td {\r\n",
       "    text-align: start;\r\n",
       "}\r\n",
       "table tr { \r\n",
       "    vertical-align: top; \r\n",
       "    margin: 0em 0px;\r\n",
       "}\r\n",
       "table tr td pre \r\n",
       "{ \r\n",
       "    vertical-align: top !important; \r\n",
       "    margin: 0em 0px !important;\r\n",
       "} \r\n",
       "table th {\r\n",
       "    text-align: start;\r\n",
       "}\r\n",
       "</style>"
      ]
     },
     "metadata": {},
     "output_type": "display_data"
    }
   ],
   "source": [
    "// Order by descending value of rank, converting an Ace into a 'ZZ' for ordering so that it is the first item in the collection\n",
    "deck.Inner.OrderByDescending(c => c.Rank == \"A\" ? \"ZZ\" : c.Rank)\n",
    "    .ThenByDescending(c => c.Suit)      // Then order by the Suite\n",
    "    .Take(2)                            // Take the first two items from the collection"
   ]
  }
 ],
 "metadata": {
  "kernelspec": {
   "display_name": ".NET (C#)",
   "language": "C#",
   "name": ".net-csharp"
  },
  "language_info": {
   "file_extension": ".cs",
   "mimetype": "text/x-csharp",
   "name": "C#",
   "pygments_lexer": "csharp",
   "version": "8.0"
  }
 },
 "nbformat": 4,
 "nbformat_minor": 4
}
