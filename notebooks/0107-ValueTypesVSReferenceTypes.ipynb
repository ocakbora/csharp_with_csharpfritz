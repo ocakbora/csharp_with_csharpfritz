{
 "cells": [
  {
   "cell_type": "markdown",
   "metadata": {},
   "source": [
    "### Reference and Value Types"
   ]
  },
  {
   "cell_type": "code",
   "execution_count": 7,
   "metadata": {
    "dotnet_interactive": {
     "language": "csharp"
    },
    "polyglot_notebook": {
     "kernelName": "csharp"
    }
   },
   "outputs": [],
   "source": [
    "// First define a struct to hold the coordinates of a point:\n",
    "public struct Coords {\n",
    "    public Coords (int x, int y) {\n",
    "        this.x = x;\n",
    "        this.y = y;\n",
    "    }\n",
    "    public int x;\n",
    "    public int y;\n",
    "\n",
    "    // Override the ToString method:\n",
    "    public override string ToString() {\n",
    "        return $\"({x}, {y})\";\n",
    "    }\n",
    "}"
   ]
  },
  {
   "cell_type": "code",
   "execution_count": 6,
   "metadata": {
    "dotnet_interactive": {
     "language": "csharp"
    },
    "polyglot_notebook": {
     "kernelName": "csharp"
    }
   },
   "outputs": [
    {
     "name": "stdout",
     "output_type": "stream",
     "text": [
      "(1, 2)\n",
      "(3, 2)\n"
     ]
    }
   ],
   "source": [
    "void Run() {\n",
    "    var a = new Coords(1, 2);\n",
    "    var b = a;\n",
    "    b.x = 3;\n",
    "    Console.WriteLine(a);\n",
    "    Console.WriteLine(b);\n",
    "}\n",
    "\n",
    "Run();"
   ]
  },
  {
   "cell_type": "code",
   "execution_count": 11,
   "metadata": {
    "dotnet_interactive": {
     "language": "csharp"
    },
    "polyglot_notebook": {
     "kernelName": "csharp"
    }
   },
   "outputs": [],
   "source": [
    "// Structs are value types, so when you assign a struct to a new variable,\n",
    "// it copies the value. It holds its own data. This is different from classes, which are reference types."
   ]
  },
  {
   "cell_type": "code",
   "execution_count": 12,
   "metadata": {
    "dotnet_interactive": {
     "language": "csharp"
    },
    "polyglot_notebook": {
     "kernelName": "csharp"
    }
   },
   "outputs": [],
   "source": [
    "// First define a struct to hold the coordinates of a point:\n",
    "public class Coords {\n",
    "    public Coords (int x, int y) {\n",
    "        this.x = x;\n",
    "        this.y = y;\n",
    "    }\n",
    "    public int x;\n",
    "    public int y;\n",
    "\n",
    "    // Override the ToString method:\n",
    "    public override string ToString() {\n",
    "        return $\"({x}, {y})\";\n",
    "    }\n",
    "}"
   ]
  },
  {
   "cell_type": "code",
   "execution_count": 13,
   "metadata": {
    "dotnet_interactive": {
     "language": "csharp"
    },
    "polyglot_notebook": {
     "kernelName": "csharp"
    }
   },
   "outputs": [
    {
     "name": "stdout",
     "output_type": "stream",
     "text": [
      "(3, 2)\n",
      "(3, 2)\n"
     ]
    }
   ],
   "source": [
    "void Run() {\n",
    "    var a = new Coords(1, 2);\n",
    "    var b = a;\n",
    "    b.x = 3;\n",
    "    Console.WriteLine(a);\n",
    "    Console.WriteLine(b);\n",
    "}\n",
    "\n",
    "Run();"
   ]
  },
  {
   "cell_type": "code",
   "execution_count": 14,
   "metadata": {
    "dotnet_interactive": {
     "language": "csharp"
    },
    "polyglot_notebook": {
     "kernelName": "csharp"
    }
   },
   "outputs": [],
   "source": [
    "// Classes are reference types, so when you assign a class to a new variable,\n",
    "// it copies the reference. It points to the same data. This is different from structs, which are value types."
   ]
  },
  {
   "cell_type": "code",
   "execution_count": null,
   "metadata": {
    "dotnet_interactive": {
     "language": "csharp"
    },
    "polyglot_notebook": {
     "kernelName": "csharp"
    }
   },
   "outputs": [],
   "source": [
    "// It usually makes sense to use refernec types for large objects, and value types for small objects."
   ]
  },
  {
   "cell_type": "markdown",
   "metadata": {},
   "source": [
    "### Stack and Heap Memory"
   ]
  },
  {
   "cell_type": "code",
   "execution_count": 1,
   "metadata": {
    "dotnet_interactive": {
     "language": "csharp"
    },
    "polyglot_notebook": {
     "kernelName": "csharp"
    }
   },
   "outputs": [],
   "source": [
    "// in C#, data stored in two places: on the stack and on the heap.\n",
    "\n",
    "int one = 1;\n",
    "int two = 2;\n",
    "\n",
    "// int three = 3;\n",
    "\n",
    "aFunction();\n",
    "\n",
    "int four = 4;\n",
    "\n",
    "int aFunction() {\n",
    "    var three = 5; \n",
    "    return three; // \n",
    "}   // three is destroyed here"
   ]
  },
  {
   "cell_type": "code",
   "execution_count": 6,
   "metadata": {
    "dotnet_interactive": {
     "language": "csharp"
    },
    "polyglot_notebook": {
     "kernelName": "csharp"
    }
   },
   "outputs": [
    {
     "ename": "Error",
     "evalue": "(1,1): error CS0103: The name 'three' does not exist in the current context",
     "output_type": "error",
     "traceback": [
      "(1,1): error CS0103: The name 'three' does not exist in the current context"
     ]
    }
   ],
   "source": [
    "three // error - three is not defined. It was destroyed when the function ended."
   ]
  },
  {
   "cell_type": "code",
   "execution_count": 7,
   "metadata": {
    "dotnet_interactive": {
     "language": "csharp"
    },
    "polyglot_notebook": {
     "kernelName": "csharp"
    }
   },
   "outputs": [],
   "source": [
    "// for leap look at https://www.youtube.com/watch?v=ldq7ZByB4p8 \n",
    "// it also explains the functionility of the garbage collector"
   ]
  },
  {
   "cell_type": "code",
   "execution_count": null,
   "metadata": {
    "dotnet_interactive": {
     "language": "csharp"
    },
    "polyglot_notebook": {
     "kernelName": "csharp"
    }
   },
   "outputs": [],
   "source": []
  }
 ],
 "metadata": {
  "kernelspec": {
   "display_name": ".NET (C#)",
   "language": "C#",
   "name": ".net-csharp"
  },
  "language_info": {
   "name": "polyglot-notebook"
  },
  "polyglot_notebook": {
   "kernelInfo": {
    "defaultKernelName": "csharp",
    "items": [
     {
      "aliases": [],
      "languageName": "csharp",
      "name": "csharp"
     }
    ]
   }
  }
 },
 "nbformat": 4,
 "nbformat_minor": 2
}
