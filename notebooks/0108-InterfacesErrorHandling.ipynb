{
 "cells": [
  {
   "cell_type": "markdown",
   "metadata": {},
   "source": [
    "# Session 8: Abstract Classes, Interfaces, and Error Handling\n",
    "\n",
    "We've talked about the `protected` keyword and seen some interfaces in previous sessions when dealing with `IEnumerable` but haven't gotten into the science of Object Oriented Programming (OOP) and how we can create a hierarchy of objects that we can work with in our applications.  In some of the .NET frameworks like ASP.NET Core, interfaces and abstract classes are used in many places and are key to your successful use of the framework.\n",
    "\n",
    "## Abstract Classes\n",
    "\n",
    "Everything in C# is an object.  A class in C# can derive from another class in a **is a** relationship.  Let's look at the common Shape sample:"
   ]
  },
  {
   "cell_type": "code",
   "execution_count": 5,
   "metadata": {
    "dotnet_interactive": {
     "language": "csharp"
    },
    "vscode": {
     "languageId": "polyglot-notebook"
    }
   },
   "outputs": [],
   "source": [
    "abstract class Shape {\n",
    "    \n",
    "}\n",
    "\n",
    "// Triangle, Rectangle, and Square are all Shapes. They are all derived from the Shape base class (Inheritence).\n",
    "class Triangle : Shape { } // Triangle is a Shape\n",
    "class Rectangle : Shape { } // Rectangle is a Shape\n",
    "class Square : Rectangle { }    // Square is a Rectangle and a Shape"
   ]
  },
  {
   "cell_type": "markdown",
   "metadata": {},
   "source": [
    "In C#, we declare a class is abstract with the `abstract` keyword.  This prevents anyone from being able to create this type of class directly and they can only `inherit` from it using the `: ClassName` notation you see in `Triangle`, `Rectangle`, and `Square`.  `Square` inherits from Rectangle so a `Square` **is a** `Rectangle` and also a `Shape`\n",
    "\n",
    "We can add methods to the `Shape` and they will be available in all of the other classes: "
   ]
  },
  {
   "cell_type": "code",
   "execution_count": 6,
   "metadata": {
    "dotnet_interactive": {
     "language": "csharp"
    },
    "vscode": {
     "languageId": "polyglot-notebook"
    }
   },
   "outputs": [
    {
     "data": {
      "text/html": [
       "<div class=\"dni-plaintext\"><pre>10</pre></div><style>\r\n",
       ".dni-code-hint {\r\n",
       "    font-style: italic;\r\n",
       "    overflow: hidden;\r\n",
       "    white-space: nowrap;\r\n",
       "}\r\n",
       ".dni-treeview {\r\n",
       "    white-space: nowrap;\r\n",
       "}\r\n",
       ".dni-treeview td {\r\n",
       "    vertical-align: top;\r\n",
       "    text-align: start;\r\n",
       "}\r\n",
       "details.dni-treeview {\r\n",
       "    padding-left: 1em;\r\n",
       "}\r\n",
       "table td {\r\n",
       "    text-align: start;\r\n",
       "}\r\n",
       "table tr { \r\n",
       "    vertical-align: top; \r\n",
       "    margin: 0em 0px;\r\n",
       "}\r\n",
       "table tr td pre \r\n",
       "{ \r\n",
       "    vertical-align: top !important; \r\n",
       "    margin: 0em 0px !important;\r\n",
       "} \r\n",
       "table th {\r\n",
       "    text-align: start;\r\n",
       "}\r\n",
       "</style>"
      ]
     },
     "metadata": {},
     "output_type": "display_data"
    }
   ],
   "source": [
    "abstract class Shape {\n",
    "    public int Perimeter() { return 10; }\n",
    "    public decimal Area() { return 15; }\n",
    "}\n",
    "\n",
    "class Triangle : Shape { }\n",
    "class Rectangle : Shape { }\n",
    "class Square : Rectangle { }\n",
    "\n",
    "// consequently, we can execute the perimeter and area methods \n",
    "// on Triangle, Rectangle, and Square\n",
    "var t = new Square();\n",
    "display(t.Perimeter());"
   ]
  },
  {
   "cell_type": "markdown",
   "metadata": {},
   "source": [
    "However, we know that `Perimeter` and `Area` are calculated differently for each shape.  We can add properties specific to each class, declare the `Perimiter` and `Area` methods as `abstract` and `override` them in each of the derived shape classes.  An `abstract method` or `abstract property`:\n",
    "- **Only appears** in an abstract class\n",
    "- **MUST** be implemented in a class that inherits from it. \n",
    "- Provides no body definition in the abstract class"
   ]
  },
  {
   "cell_type": "code",
   "execution_count": 17,
   "metadata": {
    "dotnet_interactive": {
     "language": "csharp"
    },
    "vscode": {
     "languageId": "polyglot-notebook"
    }
   },
   "outputs": [
    {
     "data": {
      "text/html": [
       "<div class=\"dni-plaintext\"><pre>6</pre></div><style>\r\n",
       ".dni-code-hint {\r\n",
       "    font-style: italic;\r\n",
       "    overflow: hidden;\r\n",
       "    white-space: nowrap;\r\n",
       "}\r\n",
       ".dni-treeview {\r\n",
       "    white-space: nowrap;\r\n",
       "}\r\n",
       ".dni-treeview td {\r\n",
       "    vertical-align: top;\r\n",
       "    text-align: start;\r\n",
       "}\r\n",
       "details.dni-treeview {\r\n",
       "    padding-left: 1em;\r\n",
       "}\r\n",
       "table td {\r\n",
       "    text-align: start;\r\n",
       "}\r\n",
       "table tr { \r\n",
       "    vertical-align: top; \r\n",
       "    margin: 0em 0px;\r\n",
       "}\r\n",
       "table tr td pre \r\n",
       "{ \r\n",
       "    vertical-align: top !important; \r\n",
       "    margin: 0em 0px !important;\r\n",
       "} \r\n",
       "table th {\r\n",
       "    text-align: start;\r\n",
       "}\r\n",
       "</style>"
      ]
     },
     "metadata": {},
     "output_type": "display_data"
    },
    {
     "data": {
      "text/html": [
       "<div class=\"dni-plaintext\"><pre>12</pre></div><style>\r\n",
       ".dni-code-hint {\r\n",
       "    font-style: italic;\r\n",
       "    overflow: hidden;\r\n",
       "    white-space: nowrap;\r\n",
       "}\r\n",
       ".dni-treeview {\r\n",
       "    white-space: nowrap;\r\n",
       "}\r\n",
       ".dni-treeview td {\r\n",
       "    vertical-align: top;\r\n",
       "    text-align: start;\r\n",
       "}\r\n",
       "details.dni-treeview {\r\n",
       "    padding-left: 1em;\r\n",
       "}\r\n",
       "table td {\r\n",
       "    text-align: start;\r\n",
       "}\r\n",
       "table tr { \r\n",
       "    vertical-align: top; \r\n",
       "    margin: 0em 0px;\r\n",
       "}\r\n",
       "table tr td pre \r\n",
       "{ \r\n",
       "    vertical-align: top !important; \r\n",
       "    margin: 0em 0px !important;\r\n",
       "} \r\n",
       "table th {\r\n",
       "    text-align: start;\r\n",
       "}\r\n",
       "</style>"
      ]
     },
     "metadata": {},
     "output_type": "display_data"
    },
    {
     "data": {
      "text/html": [
       "<div class=\"dni-plaintext\"><pre>14</pre></div><style>\r\n",
       ".dni-code-hint {\r\n",
       "    font-style: italic;\r\n",
       "    overflow: hidden;\r\n",
       "    white-space: nowrap;\r\n",
       "}\r\n",
       ".dni-treeview {\r\n",
       "    white-space: nowrap;\r\n",
       "}\r\n",
       ".dni-treeview td {\r\n",
       "    vertical-align: top;\r\n",
       "    text-align: start;\r\n",
       "}\r\n",
       "details.dni-treeview {\r\n",
       "    padding-left: 1em;\r\n",
       "}\r\n",
       "table td {\r\n",
       "    text-align: start;\r\n",
       "}\r\n",
       "table tr { \r\n",
       "    vertical-align: top; \r\n",
       "    margin: 0em 0px;\r\n",
       "}\r\n",
       "table tr td pre \r\n",
       "{ \r\n",
       "    vertical-align: top !important; \r\n",
       "    margin: 0em 0px !important;\r\n",
       "} \r\n",
       "table th {\r\n",
       "    text-align: start;\r\n",
       "}\r\n",
       "</style>"
      ]
     },
     "metadata": {},
     "output_type": "display_data"
    }
   ],
   "source": [
    "abstract class Shape {\n",
    "    public abstract int Perimeter();\n",
    "    public abstract decimal Area();\n",
    "}\n",
    "\n",
    "class Triangle : Shape { \n",
    "    public int Side1Length;\n",
    "    public int Side2Length;\n",
    "    public int Side3Length;\n",
    "    \n",
    "    public override int Perimeter() { \n",
    "        return Side1Length + Side2Length + Side3Length;\n",
    "    }\n",
    "    \n",
    "    public override decimal Area() {\n",
    "        var semiPerimeter = 0.5 * Perimeter();\n",
    "        \n",
    "        // Use Heron's Formula\n",
    "        return (decimal)Math.Sqrt(semiPerimeter * (semiPerimeter - Side1Length) * (semiPerimeter - Side2Length) * (semiPerimeter - Side3Length));\n",
    "    }\n",
    "    \n",
    "}\n",
    "class Rectangle : Shape {\n",
    "\n",
    "    public int Length;\n",
    "    public int Width;\n",
    "    \n",
    "    public override int Perimeter() {\n",
    "        return Length*2 + Width*2;\n",
    "    }\n",
    "    \n",
    "    public override decimal Area() {\n",
    "        return Length * Width;\n",
    "    }\n",
    "    \n",
    "\n",
    "}\n",
    "class Square : Rectangle { }\n",
    "\n",
    "// consequently, we can execute the perimeter and area methods on Triangle, Rectangle, and Square\n",
    "var t = new Triangle() { Side1Length=3, Side2Length=4, Side3Length=5};\n",
    "display(t.Area());\n",
    "display(t.Perimeter());\n",
    "\n",
    "var rect = new Rectangle { Length=3, Width=4 };\n",
    "display(rect.Perimeter());\n"
   ]
  },
  {
   "cell_type": "code",
   "execution_count": 25,
   "metadata": {
    "dotnet_interactive": {
     "language": "csharp"
    },
    "polyglot_notebook": {
     "kernelName": "csharp"
    },
    "vscode": {
     "languageId": "polyglot-notebook"
    }
   },
   "outputs": [],
   "source": [
    "// instead of var we can use the type name\n",
    "Rectangle dörtgen = new Rectangle { Length=3, Width=4 }; // dörtgen means rectangle in Turkish\n",
    "\n",
    "// when I tipp \"dörtgen.\" I can see the methods of the Rectangle class\n",
    "\n",
    "// we can use the base class to refer to the derived class\n",
    "Shape dörtgen2 = new Rectangle { Length=3, Width=4 }; // dörtgen2 means rectangle2 in Turkish\n",
    "\n",
    "// when I tipp dörtgen2. I can see the methods of the Shape class but not the Rectangle class\n",
    "// In this case we can force the compiler to see the methods of the Rectangle class by casting\n",
    "((Rectangle)dörtgen2).Perimeter();\n",
    "\n",
    "\n",
    "// we can use the object class to refer to the derived class. Everything in C# is an object.\n",
    "Object dörtgen3 = new Rectangle { Length=3, Width=4 }; // dörtgen3 means rectangle3 in Turkish\n",
    "\n",
    "// when I tipp dörtgen3. I can see the methods of the Object class but not the Rectangle class\n"
   ]
  },
  {
   "cell_type": "code",
   "execution_count": 27,
   "metadata": {
    "dotnet_interactive": {
     "language": "csharp"
    },
    "polyglot_notebook": {
     "kernelName": "csharp"
    },
    "vscode": {
     "languageId": "polyglot-notebook"
    }
   },
   "outputs": [
    {
     "data": {
      "text/html": [
       "<div class=\"dni-plaintext\"><pre>True</pre></div><style>\r\n",
       ".dni-code-hint {\r\n",
       "    font-style: italic;\r\n",
       "    overflow: hidden;\r\n",
       "    white-space: nowrap;\r\n",
       "}\r\n",
       ".dni-treeview {\r\n",
       "    white-space: nowrap;\r\n",
       "}\r\n",
       ".dni-treeview td {\r\n",
       "    vertical-align: top;\r\n",
       "    text-align: start;\r\n",
       "}\r\n",
       "details.dni-treeview {\r\n",
       "    padding-left: 1em;\r\n",
       "}\r\n",
       "table td {\r\n",
       "    text-align: start;\r\n",
       "}\r\n",
       "table tr { \r\n",
       "    vertical-align: top; \r\n",
       "    margin: 0em 0px;\r\n",
       "}\r\n",
       "table tr td pre \r\n",
       "{ \r\n",
       "    vertical-align: top !important; \r\n",
       "    margin: 0em 0px !important;\r\n",
       "} \r\n",
       "table th {\r\n",
       "    text-align: start;\r\n",
       "}\r\n",
       "</style>"
      ]
     },
     "metadata": {},
     "output_type": "display_data"
    },
    {
     "data": {
      "text/html": [
       "<div class=\"dni-plaintext\"><pre>False</pre></div><style>\r\n",
       ".dni-code-hint {\r\n",
       "    font-style: italic;\r\n",
       "    overflow: hidden;\r\n",
       "    white-space: nowrap;\r\n",
       "}\r\n",
       ".dni-treeview {\r\n",
       "    white-space: nowrap;\r\n",
       "}\r\n",
       ".dni-treeview td {\r\n",
       "    vertical-align: top;\r\n",
       "    text-align: start;\r\n",
       "}\r\n",
       "details.dni-treeview {\r\n",
       "    padding-left: 1em;\r\n",
       "}\r\n",
       "table td {\r\n",
       "    text-align: start;\r\n",
       "}\r\n",
       "table tr { \r\n",
       "    vertical-align: top; \r\n",
       "    margin: 0em 0px;\r\n",
       "}\r\n",
       "table tr td pre \r\n",
       "{ \r\n",
       "    vertical-align: top !important; \r\n",
       "    margin: 0em 0px !important;\r\n",
       "} \r\n",
       "table th {\r\n",
       "    text-align: start;\r\n",
       "}\r\n",
       "</style>"
      ]
     },
     "metadata": {},
     "output_type": "display_data"
    }
   ],
   "source": [
    "display (dörtgen3 is Rectangle); // true. dörtgen3 can be casted to Rectangle\n",
    "display (dörtgen3 is Triangle); // false. dörtgen3 can not be casted to Triangle"
   ]
  },
  {
   "cell_type": "code",
   "execution_count": 31,
   "metadata": {
    "dotnet_interactive": {
     "language": "csharp"
    },
    "polyglot_notebook": {
     "kernelName": "csharp"
    },
    "vscode": {
     "languageId": "polyglot-notebook"
    }
   },
   "outputs": [
    {
     "data": {
      "text/html": [
       "<details open=\"open\" class=\"dni-treeview\"><summary><span class=\"dni-code-hint\"><code>Submission#18+Rectangle</code></span></summary><div><table><thead><tr></tr></thead><tbody><tr><td>Length</td><td><div class=\"dni-plaintext\"><pre>3</pre></div></td></tr><tr><td>Width</td><td><div class=\"dni-plaintext\"><pre>4</pre></div></td></tr></tbody></table></div></details><style>\r\n",
       ".dni-code-hint {\r\n",
       "    font-style: italic;\r\n",
       "    overflow: hidden;\r\n",
       "    white-space: nowrap;\r\n",
       "}\r\n",
       ".dni-treeview {\r\n",
       "    white-space: nowrap;\r\n",
       "}\r\n",
       ".dni-treeview td {\r\n",
       "    vertical-align: top;\r\n",
       "    text-align: start;\r\n",
       "}\r\n",
       "details.dni-treeview {\r\n",
       "    padding-left: 1em;\r\n",
       "}\r\n",
       "table td {\r\n",
       "    text-align: start;\r\n",
       "}\r\n",
       "table tr { \r\n",
       "    vertical-align: top; \r\n",
       "    margin: 0em 0px;\r\n",
       "}\r\n",
       "table tr td pre \r\n",
       "{ \r\n",
       "    vertical-align: top !important; \r\n",
       "    margin: 0em 0px !important;\r\n",
       "} \r\n",
       "table th {\r\n",
       "    text-align: start;\r\n",
       "}\r\n",
       "</style>"
      ]
     },
     "metadata": {},
     "output_type": "display_data"
    },
    {
     "data": {
      "text/html": [
       "<details open=\"open\" class=\"dni-treeview\"><summary><span class=\"dni-code-hint\"><code>Submission#18+Rectangle</code></span></summary><div><table><thead><tr></tr></thead><tbody><tr><td>Length</td><td><div class=\"dni-plaintext\"><pre>3</pre></div></td></tr><tr><td>Width</td><td><div class=\"dni-plaintext\"><pre>4</pre></div></td></tr></tbody></table></div></details><style>\r\n",
       ".dni-code-hint {\r\n",
       "    font-style: italic;\r\n",
       "    overflow: hidden;\r\n",
       "    white-space: nowrap;\r\n",
       "}\r\n",
       ".dni-treeview {\r\n",
       "    white-space: nowrap;\r\n",
       "}\r\n",
       ".dni-treeview td {\r\n",
       "    vertical-align: top;\r\n",
       "    text-align: start;\r\n",
       "}\r\n",
       "details.dni-treeview {\r\n",
       "    padding-left: 1em;\r\n",
       "}\r\n",
       "table td {\r\n",
       "    text-align: start;\r\n",
       "}\r\n",
       "table tr { \r\n",
       "    vertical-align: top; \r\n",
       "    margin: 0em 0px;\r\n",
       "}\r\n",
       "table tr td pre \r\n",
       "{ \r\n",
       "    vertical-align: top !important; \r\n",
       "    margin: 0em 0px !important;\r\n",
       "} \r\n",
       "table th {\r\n",
       "    text-align: start;\r\n",
       "}\r\n",
       "</style>"
      ]
     },
     "metadata": {},
     "output_type": "display_data"
    }
   ],
   "source": [
    "// \"as\" operator\n",
    "display(dörtgen3);\n",
    "display(dörtgen3 as Rectangle); // Rectangle. dörtgen3 can be casted to Rectangle\n",
    "\n",
    "// as operator returns null if the cast is not possible\n",
    "// we can use the null conditional operator to avoid null reference exceptions"
   ]
  },
  {
   "cell_type": "code",
   "execution_count": 32,
   "metadata": {
    "dotnet_interactive": {
     "language": "csharp"
    },
    "polyglot_notebook": {
     "kernelName": "csharp"
    },
    "vscode": {
     "languageId": "polyglot-notebook"
    }
   },
   "outputs": [
    {
     "data": {
      "text/html": [
       "<div class=\"dni-plaintext\"><pre>&lt;null&gt;</pre></div><style>\r\n",
       ".dni-code-hint {\r\n",
       "    font-style: italic;\r\n",
       "    overflow: hidden;\r\n",
       "    white-space: nowrap;\r\n",
       "}\r\n",
       ".dni-treeview {\r\n",
       "    white-space: nowrap;\r\n",
       "}\r\n",
       ".dni-treeview td {\r\n",
       "    vertical-align: top;\r\n",
       "    text-align: start;\r\n",
       "}\r\n",
       "details.dni-treeview {\r\n",
       "    padding-left: 1em;\r\n",
       "}\r\n",
       "table td {\r\n",
       "    text-align: start;\r\n",
       "}\r\n",
       "table tr { \r\n",
       "    vertical-align: top; \r\n",
       "    margin: 0em 0px;\r\n",
       "}\r\n",
       "table tr td pre \r\n",
       "{ \r\n",
       "    vertical-align: top !important; \r\n",
       "    margin: 0em 0px !important;\r\n",
       "} \r\n",
       "table th {\r\n",
       "    text-align: start;\r\n",
       "}\r\n",
       "</style>"
      ]
     },
     "metadata": {},
     "output_type": "display_data"
    }
   ],
   "source": [
    "display(dörtgen3 as Triangle); // null. dörtgen3 can not be casted to Triangle"
   ]
  },
  {
   "cell_type": "code",
   "execution_count": 33,
   "metadata": {
    "dotnet_interactive": {
     "language": "csharp"
    },
    "polyglot_notebook": {
     "kernelName": "csharp"
    },
    "vscode": {
     "languageId": "polyglot-notebook"
    }
   },
   "outputs": [],
   "source": [
    "// boxing vs unboxing\n",
    "\n",
    "// boxing is when we convert a value type to a reference type\n",
    "int i = 42;\n",
    "object o = i; // boxing\n",
    "\n",
    "// unboxing is when we convert a reference type to a value type\n",
    "int j = (int)o; // unboxing\n"
   ]
  },
  {
   "cell_type": "code",
   "execution_count": 38,
   "metadata": {
    "dotnet_interactive": {
     "language": "csharp"
    },
    "polyglot_notebook": {
     "kernelName": "csharp"
    },
    "vscode": {
     "languageId": "polyglot-notebook"
    }
   },
   "outputs": [
    {
     "data": {
      "text/html": [
       "<details open=\"open\" class=\"dni-treeview\"><summary><span class=\"dni-code-hint\"><code>Submission#18+Triangle</code></span></summary><div><table><thead><tr></tr></thead><tbody><tr><td>Side1Length</td><td><div class=\"dni-plaintext\"><pre>3</pre></div></td></tr><tr><td>Side2Length</td><td><div class=\"dni-plaintext\"><pre>4</pre></div></td></tr><tr><td>Side3Length</td><td><div class=\"dni-plaintext\"><pre>5</pre></div></td></tr></tbody></table></div></details><style>\r\n",
       ".dni-code-hint {\r\n",
       "    font-style: italic;\r\n",
       "    overflow: hidden;\r\n",
       "    white-space: nowrap;\r\n",
       "}\r\n",
       ".dni-treeview {\r\n",
       "    white-space: nowrap;\r\n",
       "}\r\n",
       ".dni-treeview td {\r\n",
       "    vertical-align: top;\r\n",
       "    text-align: start;\r\n",
       "}\r\n",
       "details.dni-treeview {\r\n",
       "    padding-left: 1em;\r\n",
       "}\r\n",
       "table td {\r\n",
       "    text-align: start;\r\n",
       "}\r\n",
       "table tr { \r\n",
       "    vertical-align: top; \r\n",
       "    margin: 0em 0px;\r\n",
       "}\r\n",
       "table tr td pre \r\n",
       "{ \r\n",
       "    vertical-align: top !important; \r\n",
       "    margin: 0em 0px !important;\r\n",
       "} \r\n",
       "table th {\r\n",
       "    text-align: start;\r\n",
       "}\r\n",
       "</style>"
      ]
     },
     "metadata": {},
     "output_type": "display_data"
    }
   ],
   "source": [
    "// Keyword dynamic is used to declare a variable that will be resolved at runtime\n",
    "\n",
    "display(t as dynamic); // Triangle. t can be casted to Triangle. dynamic keyword is not necessary here\n",
    "\n",
    "// dynamic keyword is useful when we don't know the type of the object at compile time\n",
    "dynamic d = t; // d is dynamic. Makes sense if we don't know the type of t at compile time\n",
    "\n",
    "// using dynamic brings some performance penalties for flexibility"
   ]
  },
  {
   "cell_type": "markdown",
   "metadata": {},
   "source": [
    "You can declare variables or parameters of the base type and pass in or assign the derived type.  This gives your classes more flexibility in their interactions."
   ]
  },
  {
   "cell_type": "code",
   "execution_count": 40,
   "metadata": {
    "dotnet_interactive": {
     "language": "csharp"
    },
    "vscode": {
     "languageId": "polyglot-notebook"
    }
   },
   "outputs": [
    {
     "data": {
      "text/html": [
       "<div class=\"dni-plaintext\"><pre>15</pre></div><style>\r\n",
       ".dni-code-hint {\r\n",
       "    font-style: italic;\r\n",
       "    overflow: hidden;\r\n",
       "    white-space: nowrap;\r\n",
       "}\r\n",
       ".dni-treeview {\r\n",
       "    white-space: nowrap;\r\n",
       "}\r\n",
       ".dni-treeview td {\r\n",
       "    vertical-align: top;\r\n",
       "    text-align: start;\r\n",
       "}\r\n",
       "details.dni-treeview {\r\n",
       "    padding-left: 1em;\r\n",
       "}\r\n",
       "table td {\r\n",
       "    text-align: start;\r\n",
       "}\r\n",
       "table tr { \r\n",
       "    vertical-align: top; \r\n",
       "    margin: 0em 0px;\r\n",
       "}\r\n",
       "table tr td pre \r\n",
       "{ \r\n",
       "    vertical-align: top !important; \r\n",
       "    margin: 0em 0px !important;\r\n",
       "} \r\n",
       "table th {\r\n",
       "    text-align: start;\r\n",
       "}\r\n",
       "</style>"
      ]
     },
     "metadata": {},
     "output_type": "display_data"
    },
    {
     "data": {
      "text/plain": [
       "Rectangle is quadrilateral: True"
      ]
     },
     "metadata": {},
     "output_type": "display_data"
    },
    {
     "data": {
      "text/plain": [
       "Triangle is quadrilateral: False"
      ]
     },
     "metadata": {},
     "output_type": "display_data"
    }
   ],
   "source": [
    "abstract class Shape {\n",
    "    public int Perimeter() { return 10; }\n",
    "    public decimal Area() { return 15; }\n",
    "}\n",
    "\n",
    "// why would I use abstract classes if I am gonna override all the methods in the derived classes? Answer: Polymorphism (many forms)\n",
    "\n",
    "class Triangle : Shape { }\n",
    "class Rectangle : Shape { }\n",
    "class Square : Rectangle { }\n",
    "\n",
    "Shape s = new Rectangle();\n",
    "display(s.Area());\n",
    "\n",
    "bool IsQuadrilateral(Shape s) {\n",
    "    return (s is Rectangle);\n",
    "}\n",
    "\n",
    "Shape t = new Triangle(); // Triangle is a Shape. Why do we need to cast it to a Shape?\n",
    "display(\"Rectangle is quadrilateral: \" + IsQuadrilateral(s));\n",
    "display(\"Triangle is quadrilateral: \" + IsQuadrilateral(t));"
   ]
  },
  {
   "cell_type": "markdown",
   "metadata": {},
   "source": [
    "### Virtual Methods\n",
    "\n",
    "There are times when you want to provide a default implementation of a method, but provide the ability for subclasses to be able to override or add value to that method.  This is done through the use of the `virtual` keyword in the base class and the child classes use the `override` keyword or `new` keyword to re-implement those methods.  [New](https://docs.microsoft.com/en-us/dotnet/csharp/language-reference/keywords/new-modifier) will hide the base implementation and prevent any compiler errors."
   ]
  },
  {
   "cell_type": "code",
   "execution_count": 44,
   "metadata": {
    "dotnet_interactive": {
     "language": "csharp"
    },
    "vscode": {
     "languageId": "polyglot-notebook"
    }
   },
   "outputs": [
    {
     "data": {
      "text/html": [
       "<div class=\"dni-plaintext\"><pre>6</pre></div><style>\r\n",
       ".dni-code-hint {\r\n",
       "    font-style: italic;\r\n",
       "    overflow: hidden;\r\n",
       "    white-space: nowrap;\r\n",
       "}\r\n",
       ".dni-treeview {\r\n",
       "    white-space: nowrap;\r\n",
       "}\r\n",
       ".dni-treeview td {\r\n",
       "    vertical-align: top;\r\n",
       "    text-align: start;\r\n",
       "}\r\n",
       "details.dni-treeview {\r\n",
       "    padding-left: 1em;\r\n",
       "}\r\n",
       "table td {\r\n",
       "    text-align: start;\r\n",
       "}\r\n",
       "table tr { \r\n",
       "    vertical-align: top; \r\n",
       "    margin: 0em 0px;\r\n",
       "}\r\n",
       "table tr td pre \r\n",
       "{ \r\n",
       "    vertical-align: top !important; \r\n",
       "    margin: 0em 0px !important;\r\n",
       "} \r\n",
       "table th {\r\n",
       "    text-align: start;\r\n",
       "}\r\n",
       "</style>"
      ]
     },
     "metadata": {},
     "output_type": "display_data"
    },
    {
     "data": {
      "text/html": [
       "<div class=\"dni-plaintext\"><pre>12</pre></div><style>\r\n",
       ".dni-code-hint {\r\n",
       "    font-style: italic;\r\n",
       "    overflow: hidden;\r\n",
       "    white-space: nowrap;\r\n",
       "}\r\n",
       ".dni-treeview {\r\n",
       "    white-space: nowrap;\r\n",
       "}\r\n",
       ".dni-treeview td {\r\n",
       "    vertical-align: top;\r\n",
       "    text-align: start;\r\n",
       "}\r\n",
       "details.dni-treeview {\r\n",
       "    padding-left: 1em;\r\n",
       "}\r\n",
       "table td {\r\n",
       "    text-align: start;\r\n",
       "}\r\n",
       "table tr { \r\n",
       "    vertical-align: top; \r\n",
       "    margin: 0em 0px;\r\n",
       "}\r\n",
       "table tr td pre \r\n",
       "{ \r\n",
       "    vertical-align: top !important; \r\n",
       "    margin: 0em 0px !important;\r\n",
       "} \r\n",
       "table th {\r\n",
       "    text-align: start;\r\n",
       "}\r\n",
       "</style>"
      ]
     },
     "metadata": {},
     "output_type": "display_data"
    },
    {
     "data": {
      "text/html": [
       "<details open=\"open\" class=\"dni-treeview\"><summary><span class=\"dni-code-hint\"><code>Submission#45+Triangle</code></span></summary><div><table><thead><tr></tr></thead><tbody><tr><td>Side1Length</td><td><div class=\"dni-plaintext\"><pre>3</pre></div></td></tr><tr><td>Side2Length</td><td><div class=\"dni-plaintext\"><pre>4</pre></div></td></tr><tr><td>Side3Length</td><td><div class=\"dni-plaintext\"><pre>5</pre></div></td></tr><tr><td>Length</td><td><div class=\"dni-plaintext\"><pre>0</pre></div></td></tr><tr><td>Width</td><td><div class=\"dni-plaintext\"><pre>0</pre></div></td></tr></tbody></table></div></details><style>\r\n",
       ".dni-code-hint {\r\n",
       "    font-style: italic;\r\n",
       "    overflow: hidden;\r\n",
       "    white-space: nowrap;\r\n",
       "}\r\n",
       ".dni-treeview {\r\n",
       "    white-space: nowrap;\r\n",
       "}\r\n",
       ".dni-treeview td {\r\n",
       "    vertical-align: top;\r\n",
       "    text-align: start;\r\n",
       "}\r\n",
       "details.dni-treeview {\r\n",
       "    padding-left: 1em;\r\n",
       "}\r\n",
       "table td {\r\n",
       "    text-align: start;\r\n",
       "}\r\n",
       "table tr { \r\n",
       "    vertical-align: top; \r\n",
       "    margin: 0em 0px;\r\n",
       "}\r\n",
       "table tr td pre \r\n",
       "{ \r\n",
       "    vertical-align: top !important; \r\n",
       "    margin: 0em 0px !important;\r\n",
       "} \r\n",
       "table th {\r\n",
       "    text-align: start;\r\n",
       "}\r\n",
       "</style>"
      ]
     },
     "metadata": {},
     "output_type": "display_data"
    }
   ],
   "source": [
    "abstract class Shape {\n",
    "    public abstract int Perimeter();\n",
    "    public virtual decimal Area() { \n",
    "        return Length * Width;\n",
    "    }\n",
    "\n",
    "    public int Length;\n",
    "    public int Width;\n",
    "    \n",
    "}\n",
    "\n",
    "class Triangle : Shape { \n",
    "    public int Side1Length;\n",
    "    public int Side2Length;\n",
    "    public int Side3Length;\n",
    "    \n",
    "    public override int Perimeter() {\n",
    "        return Side1Length + Side2Length + Side3Length;\n",
    "    }\n",
    "    \n",
    "    public override decimal Area() {\n",
    "        var semiPerimeter = 0.5 * Perimeter();\n",
    "        \n",
    "        // Use Heron's Formula\n",
    "        return (decimal)Math.Sqrt(semiPerimeter * (semiPerimeter - Side1Length) * (semiPerimeter - Side2Length) * (semiPerimeter - Side3Length));\n",
    "    }\n",
    "    \n",
    "}\n",
    "class Rectangle : Shape {\n",
    "\n",
    "    public override int Perimeter() {\n",
    "        return Length*2 + Width*2;\n",
    "    }\n",
    "    \n",
    "}\n",
    "class Square : Rectangle { }\n",
    "\n",
    "// consequently, we can execute the perimeter and area methods on Triangle, Rectangle, and Square\n",
    "var t = new Triangle() { Side1Length=3, Side2Length=4, Side3Length=5};\n",
    "display(t.Area());\n",
    "display(t.Perimeter());\n",
    "display(t);\n",
    "\n",
    "// since we defined a default Area method in the Shape class, we don't need to override it in the derived classes such as Rectangle and Square  \n",
    "// but if we need, we can override it in the derived classes\n",
    "\n",
    "// abstract methods must be overriden in the derived classes!"
   ]
  },
  {
   "cell_type": "markdown",
   "metadata": {},
   "source": [
    "### [Sealed Classes](https://docs.microsoft.com/en-us/dotnet/csharp/programming-guide/classes-and-structs/abstract-and-sealed-classes-and-class-members?WT.mc_id=visualstudio-twitch-jefritz)\n",
    "\n",
    "You can prevent another class from inheriting a class by using the `sealed` keyword.  Members of the class that were previously marked virtual are no longer available to be overridden."
   ]
  },
  {
   "cell_type": "code",
   "execution_count": 45,
   "metadata": {
    "dotnet_interactive": {
     "language": "csharp"
    },
    "vscode": {
     "languageId": "polyglot-notebook"
    }
   },
   "outputs": [
    {
     "data": {
      "text/html": [
       "<div class=\"dni-plaintext\"><pre>16</pre></div><style>\r\n",
       ".dni-code-hint {\r\n",
       "    font-style: italic;\r\n",
       "    overflow: hidden;\r\n",
       "    white-space: nowrap;\r\n",
       "}\r\n",
       ".dni-treeview {\r\n",
       "    white-space: nowrap;\r\n",
       "}\r\n",
       ".dni-treeview td {\r\n",
       "    vertical-align: top;\r\n",
       "    text-align: start;\r\n",
       "}\r\n",
       "details.dni-treeview {\r\n",
       "    padding-left: 1em;\r\n",
       "}\r\n",
       "table td {\r\n",
       "    text-align: start;\r\n",
       "}\r\n",
       "table tr { \r\n",
       "    vertical-align: top; \r\n",
       "    margin: 0em 0px;\r\n",
       "}\r\n",
       "table tr td pre \r\n",
       "{ \r\n",
       "    vertical-align: top !important; \r\n",
       "    margin: 0em 0px !important;\r\n",
       "} \r\n",
       "table th {\r\n",
       "    text-align: start;\r\n",
       "}\r\n",
       "</style>"
      ]
     },
     "metadata": {},
     "output_type": "display_data"
    }
   ],
   "source": [
    "abstract class Shape {\n",
    "    public abstract int Perimeter();\n",
    "    public abstract decimal Area();\n",
    "\n",
    "    public int Length;\n",
    "    public int Width;\n",
    "\n",
    "}\n",
    "\n",
    "// Try marking this class as sealed\n",
    "class  Rectangle : Shape {\n",
    "\n",
    "    public override int Perimeter() {\n",
    "        return Length*2 + Width*2;\n",
    "    }\n",
    "    \n",
    "    // Also try marking this method as sealed\n",
    "    public override decimal Area() {\n",
    "        return Length * Width;\n",
    "    }\n",
    "    \n",
    "}\n",
    "class Square : Rectangle { \n",
    "\n",
    "    public override decimal Area() {\n",
    "        return Length*Length;\n",
    "    }\n",
    "\n",
    "}\n",
    "\n",
    "var s = new Square() { Length=4, Width=4};\n",
    "display(s.Area());"
   ]
  },
  {
   "cell_type": "code",
   "execution_count": 46,
   "metadata": {
    "dotnet_interactive": {
     "language": "csharp"
    },
    "polyglot_notebook": {
     "kernelName": "csharp"
    },
    "vscode": {
     "languageId": "polyglot-notebook"
    }
   },
   "outputs": [
    {
     "data": {
      "text/html": [
       "<div class=\"dni-plaintext\"><pre>16</pre></div><style>\r\n",
       ".dni-code-hint {\r\n",
       "    font-style: italic;\r\n",
       "    overflow: hidden;\r\n",
       "    white-space: nowrap;\r\n",
       "}\r\n",
       ".dni-treeview {\r\n",
       "    white-space: nowrap;\r\n",
       "}\r\n",
       ".dni-treeview td {\r\n",
       "    vertical-align: top;\r\n",
       "    text-align: start;\r\n",
       "}\r\n",
       "details.dni-treeview {\r\n",
       "    padding-left: 1em;\r\n",
       "}\r\n",
       "table td {\r\n",
       "    text-align: start;\r\n",
       "}\r\n",
       "table tr { \r\n",
       "    vertical-align: top; \r\n",
       "    margin: 0em 0px;\r\n",
       "}\r\n",
       "table tr td pre \r\n",
       "{ \r\n",
       "    vertical-align: top !important; \r\n",
       "    margin: 0em 0px !important;\r\n",
       "} \r\n",
       "table th {\r\n",
       "    text-align: start;\r\n",
       "}\r\n",
       "</style>"
      ]
     },
     "metadata": {},
     "output_type": "display_data"
    }
   ],
   "source": [
    "abstract class Shape {\n",
    "    public abstract int Perimeter();\n",
    "    public abstract decimal Area();\n",
    "\n",
    "    public int Length;\n",
    "    public int Width;\n",
    "\n",
    "}\n",
    "\n",
    "// Try marking this class as sealed\n",
    "class  Rectangle : Shape {\n",
    "\n",
    "    public override int Perimeter() {\n",
    "        return Length*2 + Width*2;\n",
    "    }\n",
    "    \n",
    "    // Also try marking this method as sealed\n",
    "    public override decimal Area() {\n",
    "        return Length * Width;\n",
    "    }\n",
    "    \n",
    "}\n",
    "class Square : Rectangle {  // This will no longer compile. Rectangle is sealed\n",
    "\n",
    "    public override decimal Area() {\n",
    "        return Length*Length;\n",
    "    }\n",
    "\n",
    "}\n",
    "\n",
    "var s = new Square() { Length=4, Width=4};\n",
    "display(s.Area());"
   ]
  },
  {
   "cell_type": "code",
   "execution_count": 47,
   "metadata": {
    "dotnet_interactive": {
     "language": "csharp"
    },
    "polyglot_notebook": {
     "kernelName": "csharp"
    },
    "vscode": {
     "languageId": "polyglot-notebook"
    }
   },
   "outputs": [
    {
     "data": {
      "text/html": [
       "<div class=\"dni-plaintext\"><pre>16</pre></div><style>\r\n",
       ".dni-code-hint {\r\n",
       "    font-style: italic;\r\n",
       "    overflow: hidden;\r\n",
       "    white-space: nowrap;\r\n",
       "}\r\n",
       ".dni-treeview {\r\n",
       "    white-space: nowrap;\r\n",
       "}\r\n",
       ".dni-treeview td {\r\n",
       "    vertical-align: top;\r\n",
       "    text-align: start;\r\n",
       "}\r\n",
       "details.dni-treeview {\r\n",
       "    padding-left: 1em;\r\n",
       "}\r\n",
       "table td {\r\n",
       "    text-align: start;\r\n",
       "}\r\n",
       "table tr { \r\n",
       "    vertical-align: top; \r\n",
       "    margin: 0em 0px;\r\n",
       "}\r\n",
       "table tr td pre \r\n",
       "{ \r\n",
       "    vertical-align: top !important; \r\n",
       "    margin: 0em 0px !important;\r\n",
       "} \r\n",
       "table th {\r\n",
       "    text-align: start;\r\n",
       "}\r\n",
       "</style>"
      ]
     },
     "metadata": {},
     "output_type": "display_data"
    }
   ],
   "source": [
    "abstract class Shape {\n",
    "    public abstract int Perimeter();\n",
    "    public abstract decimal Area();\n",
    "\n",
    "    public int Length;\n",
    "    public int Width;\n",
    "\n",
    "}\n",
    "\n",
    "\n",
    "class  Rectangle : Shape {\n",
    "\n",
    "    public override int Perimeter() {\n",
    "        return Length*2 + Width*2;\n",
    "    }\n",
    "    \n",
    "    // Also try marking this method as sealed\n",
    "    public override decimal Area() { \n",
    "        return Length * Width;\n",
    "    }\n",
    "    \n",
    "}\n",
    "class Square : Rectangle { \n",
    "\n",
    "    public override decimal Area() {\n",
    "        return Length*Length;\n",
    "    }\n",
    "\n",
    "}\n",
    "\n",
    "var s = new Square() { Length=4, Width=4};\n",
    "display(s.Area());"
   ]
  },
  {
   "cell_type": "code",
   "execution_count": 48,
   "metadata": {
    "dotnet_interactive": {
     "language": "csharp"
    },
    "polyglot_notebook": {
     "kernelName": "csharp"
    },
    "vscode": {
     "languageId": "polyglot-notebook"
    }
   },
   "outputs": [
    {
     "ename": "Error",
     "evalue": "(25,29): error CS0239: 'Square.Area()': cannot override inherited member 'Rectangle.Area()' because it is sealed",
     "output_type": "error",
     "traceback": [
      "(25,29): error CS0239: 'Square.Area()': cannot override inherited member 'Rectangle.Area()' because it is sealed"
     ]
    }
   ],
   "source": [
    "abstract class Shape {\n",
    "    public abstract int Perimeter();\n",
    "    public abstract decimal Area();\n",
    "\n",
    "    public int Length;\n",
    "    public int Width;\n",
    "\n",
    "}\n",
    "\n",
    "// Try marking this class as sealed\n",
    "class  Rectangle : Shape {\n",
    "\n",
    "    public override int Perimeter() {\n",
    "        return Length*2 + Width*2;\n",
    "    }\n",
    "    \n",
    "    // Also try marking this method as sealed\n",
    "    sealed public override decimal Area() { // This will no longer compile. Area is sealed\n",
    "        return Length * Width;\n",
    "    }\n",
    "    \n",
    "}\n",
    "class Square : Rectangle { \n",
    "\n",
    "    public override decimal Area() {\n",
    "        return Length*Length;\n",
    "    }\n",
    "\n",
    "}\n",
    "\n",
    "var s = new Square() { Length=4, Width=4};\n",
    "display(s.Area());"
   ]
  },
  {
   "cell_type": "code",
   "execution_count": 50,
   "metadata": {
    "dotnet_interactive": {
     "language": "csharp"
    },
    "polyglot_notebook": {
     "kernelName": "csharp"
    },
    "vscode": {
     "languageId": "polyglot-notebook"
    }
   },
   "outputs": [
    {
     "ename": "Error",
     "evalue": "(23,16): error CS0509: 'Square': cannot derive from sealed type 'Rectangle'\r\n(31,24): error CS0117: 'Square' does not contain a definition for 'Length'\r\n(31,34): error CS0117: 'Square' does not contain a definition for 'Width'\r\n(25,29): error CS0115: 'Square.Area()': no suitable method found to override\r\n(26,16): error CS0103: The name 'Length' does not exist in the current context\r\n(26,23): error CS0103: The name 'Length' does not exist in the current context",
     "output_type": "error",
     "traceback": [
      "(23,16): error CS0509: 'Square': cannot derive from sealed type 'Rectangle'\r\n",
      "(31,24): error CS0117: 'Square' does not contain a definition for 'Length'\r\n",
      "(31,34): error CS0117: 'Square' does not contain a definition for 'Width'\r\n",
      "(25,29): error CS0115: 'Square.Area()': no suitable method found to override\r\n",
      "(26,16): error CS0103: The name 'Length' does not exist in the current context\r\n",
      "(26,23): error CS0103: The name 'Length' does not exist in the current context"
     ]
    }
   ],
   "source": [
    "abstract class Shape {\n",
    "    public abstract int Perimeter();\n",
    "    public abstract decimal Area();\n",
    "\n",
    "    public int Length;\n",
    "    public int Width;\n",
    "\n",
    "}\n",
    "\n",
    "// Try marking this class as sealed\n",
    "sealed class  Rectangle : Shape {\n",
    "\n",
    "    public override int Perimeter() {\n",
    "        return Length*2 + Width*2;\n",
    "    }\n",
    "    \n",
    "    // Also try marking this method as sealed\n",
    "    sealed public override decimal Area() { // This will no longer compile. Area is sealed\n",
    "        return Length * Width;\n",
    "    }\n",
    "    \n",
    "}\n",
    "class Square : Rectangle { // This will no longer compile. Rectangle is sealed\n",
    "\n",
    "    public override decimal Area() {\n",
    "        return Length*Length;\n",
    "    }\n",
    "\n",
    "}\n",
    "\n",
    "var s = new Square() { Length=4, Width=4};\n",
    "display(s.Area());"
   ]
  },
  {
   "cell_type": "markdown",
   "metadata": {},
   "source": [
    "## [Interfaces](https://docs.microsoft.com/en-us/dotnet/csharp/programming-guide/interfaces?WT.mc_id=visualstudio-twitch-jefritz)\n",
    "\n",
    "Interfaces define behaviors that a class or a struct **MUST** implement.  An interface can contain methods, properties, events and indexers.  They can also contain static methods with an implementation.  We previously saw collection objects that implement the `IEnumerable<T>` interface that allows LINQ methods to be executed against them.  These members in the interface are declared without scope, as they are required to be accessible to any object that wishes to interact with it.\n",
    "\n",
    "Assign one or multiple interfaces to a class or struct using the same `:` notation, separating each interface name with a comma.  You must then implement the content of the interface in your object's definition.\n",
    "\n",
    "By convention, many C# developers name their interfaces starting with the letter I. "
   ]
  },
  {
   "cell_type": "code",
   "execution_count": 51,
   "metadata": {
    "dotnet_interactive": {
     "language": "csharp"
    },
    "vscode": {
     "languageId": "polyglot-notebook"
    }
   },
   "outputs": [
    {
     "data": {
      "text/plain": [
       "There was an error: Houston, we have a problem..."
      ]
     },
     "metadata": {},
     "output_type": "display_data"
    },
    {
     "data": {
      "text/html": [
       "<div class=\"dni-plaintext\"><pre>1</pre></div><style>\r\n",
       ".dni-code-hint {\r\n",
       "    font-style: italic;\r\n",
       "    overflow: hidden;\r\n",
       "    white-space: nowrap;\r\n",
       "}\r\n",
       ".dni-treeview {\r\n",
       "    white-space: nowrap;\r\n",
       "}\r\n",
       ".dni-treeview td {\r\n",
       "    vertical-align: top;\r\n",
       "    text-align: start;\r\n",
       "}\r\n",
       "details.dni-treeview {\r\n",
       "    padding-left: 1em;\r\n",
       "}\r\n",
       "table td {\r\n",
       "    text-align: start;\r\n",
       "}\r\n",
       "table tr { \r\n",
       "    vertical-align: top; \r\n",
       "    margin: 0em 0px;\r\n",
       "}\r\n",
       "table tr td pre \r\n",
       "{ \r\n",
       "    vertical-align: top !important; \r\n",
       "    margin: 0em 0px !important;\r\n",
       "} \r\n",
       "table th {\r\n",
       "    text-align: start;\r\n",
       "}\r\n",
       "</style>"
      ]
     },
     "metadata": {},
     "output_type": "display_data"
    }
   ],
   "source": [
    "interface ILogger {\n",
    "\n",
    "    void LogError(string error); // all loggers must implement this method\n",
    "    \n",
    "    int ErrorCount { get; }  // all loggers must implement this property\n",
    "    \n",
    "}\n",
    "\n",
    "class DisplayLogger : ILogger {\n",
    "    \n",
    "    private static int _ErrorCount = 0;\n",
    "    \n",
    "    public void LogError(string error) {\n",
    "        display(\"There was an error: \" + error);\n",
    "        _ErrorCount++;\n",
    "    }\n",
    "    \n",
    "    public int ErrorCount { get { return _ErrorCount; }  }\n",
    "    \n",
    "}\n",
    "\n",
    "class DbLogger : ILogger {\n",
    "\n",
    "    public void LogError(string error) {\n",
    "        // do something in the database to log the error\n",
    "        display(\"Error logged to database\");\n",
    "    }\n",
    "    \n",
    "    public int ErrorCount { \n",
    "        get {\n",
    "            // query the database for the count of errors\n",
    "            return 0;\n",
    "        }\n",
    "    }\n",
    "    \n",
    "}\n",
    "\n",
    "long DisplayErrorCount(ILogger logger) { // It does not care what type of logger it is. It just needs to be an ILogger\n",
    "    // do something with the eventlog object\n",
    "    return logger.ErrorCount;\n",
    "}\n",
    "\n",
    "ILogger logger = new DisplayLogger(); // logger is a DisplayLogger\n",
    "logger.LogError(\"Houston, we have a problem...\");\n",
    "display(DisplayErrorCount(logger));\n",
    "\n",
    "// what is the difference between abstract classes and interfaces?\n",
    "\n",
    "// abstract classes can have implementation details, interfaces can not. What does this mean? It means that abstract classes can have methods with bodies, interfaces can not.\n",
    "// abstract classes can have fields, interfaces can not\n",
    "// a class can implement multiple interfaces but can only inherit from one class\n",
    "// abstract classes can have constructors, interfaces can not\n",
    "// abstract classes can have access modifiers, interfaces can not\n",
    "// abstract classes can have static methods, interfaces can not\n",
    "// abstract classes can have constants, interfaces can not\n",
    "// abstract classes can have properties, interfaces can not\n",
    "// abstract classes can have events, interfaces can not\n",
    "// abstract classes can have destructors, interfaces can not\n",
    "// abstract classes can have indexers, interfaces can not\n",
    "// abstract classes can have operator overloading, interfaces can not"
   ]
  },
  {
   "cell_type": "markdown",
   "metadata": {},
   "source": [
    "### Explicit Implementation\n",
    "\n",
    "Implementing methods of an interface without any modifiers in the previous example makes them visible to any interactions with the class type.  It is also possible to HIDE the interface so that it is only visible when the class is explicitly cast to the interface type."
   ]
  },
  {
   "cell_type": "code",
   "execution_count": 55,
   "metadata": {
    "dotnet_interactive": {
     "language": "csharp"
    },
    "vscode": {
     "languageId": "polyglot-notebook"
    }
   },
   "outputs": [
    {
     "data": {
      "text/plain": [
       "Shh...  I did a thing"
      ]
     },
     "metadata": {},
     "output_type": "display_data"
    }
   ],
   "source": [
    "public interface IDoAThing { \n",
    "    void DoTheThing();\n",
    "}\n",
    "\n",
    "class PublicThing : IDoAThing {\n",
    "    public void DoTheThing() { // explicit implementation\n",
    "        display(\"I did the thing!\");\n",
    "    }\n",
    "}\n",
    "\n",
    "class SecretThing : IDoAThing {\n",
    "    void IDoAThing.DoTheThing() { // implicit implementation\n",
    "        display(\"Shh...  I did a thing\");\n",
    "    }\n",
    "}\n",
    "\n",
    "// let's try to DoTheThing\n",
    "IDoAThing p = new SecretThing();\n",
    "p.DoTheThing();"
   ]
  },
  {
   "cell_type": "code",
   "execution_count": 57,
   "metadata": {
    "dotnet_interactive": {
     "language": "csharp"
    },
    "polyglot_notebook": {
     "kernelName": "csharp"
    },
    "vscode": {
     "languageId": "polyglot-notebook"
    }
   },
   "outputs": [
    {
     "ename": "Error",
     "evalue": "(2,3): error CS1061: 'SecretThing' does not contain a definition for 'DoTheThing' and no accessible extension method 'DoTheThing' accepting a first argument of type 'SecretThing' could be found (are you missing a using directive or an assembly reference?)",
     "output_type": "error",
     "traceback": [
      "(2,3): error CS1061: 'SecretThing' does not contain a definition for 'DoTheThing' and no accessible extension method 'DoTheThing' accepting a first argument of type 'SecretThing' could be found (are you missing a using directive or an assembly reference?)"
     ]
    }
   ],
   "source": [
    "var r = new SecretThing(); // r is a SecretThing\n",
    "r.DoTheThing(); // This will not compile. DoTheThing is not a member of SecretThing\n"
   ]
  },
  {
   "cell_type": "code",
   "execution_count": 58,
   "metadata": {
    "dotnet_interactive": {
     "language": "csharp"
    },
    "polyglot_notebook": {
     "kernelName": "csharp"
    },
    "vscode": {
     "languageId": "polyglot-notebook"
    }
   },
   "outputs": [
    {
     "data": {
      "text/plain": [
       "Shh...  I did a thing"
      ]
     },
     "metadata": {},
     "output_type": "display_data"
    }
   ],
   "source": [
    "// DoTheThing would be only available after casting r to IDoAThing\n",
    "((IDoAThing)r).DoTheThing();"
   ]
  },
  {
   "cell_type": "code",
   "execution_count": null,
   "metadata": {
    "dotnet_interactive": {
     "language": "csharp"
    },
    "polyglot_notebook": {
     "kernelName": "csharp"
    },
    "vscode": {
     "languageId": "polyglot-notebook"
    }
   },
   "outputs": [],
   "source": [
    "// Where to avoid using interfaces? \n",
    "// If you are not going to have multiple implementations of a class, you don't need an interface\n",
    "// If you are not going to have multiple implementations of a method, you don't need an interface"
   ]
  },
  {
   "cell_type": "markdown",
   "metadata": {},
   "source": [
    "### Default Implementations\n",
    "\n",
    "Interfaces can implement other interfaces and can also provide default implementations of their methods.  A classic example of this use is to create new versions of interfaces without breaking compatibility with older interfaces."
   ]
  },
  {
   "cell_type": "code",
   "execution_count": 64,
   "metadata": {
    "dotnet_interactive": {
     "language": "csharp"
    },
    "polyglot_notebook": {
     "kernelName": "csharp"
    },
    "vscode": {
     "languageId": "polyglot-notebook"
    }
   },
   "outputs": [
    {
     "data": {
      "text/plain": [
       "Something else?"
      ]
     },
     "metadata": {},
     "output_type": "display_data"
    },
    {
     "data": {
      "text/plain": [
       "This is my default thing"
      ]
     },
     "metadata": {},
     "output_type": "display_data"
    }
   ],
   "source": [
    "// This is new in C# 8.0\n",
    "public interface IDoAThing2 : IDoAThing { // IDoAThing2 inherits from IDoAThing. IDoAThing2 is a IDoAThing\n",
    "    void DoSomethingElse();\n",
    "    void IDoAThing.DoTheThing() {\n",
    "        display(\"This is my default thing\");\n",
    "    }\n",
    "}\n",
    "\n",
    "class NewThing : IDoAThing2 {\n",
    "    public void DoSomethingElse() {\n",
    "        display(\"Something else?\");\n",
    "    }\n",
    "\n",
    "}\n",
    "\n",
    "// let's try to DoTheThing\n",
    "IDoAThing2 p = new NewThing();\n",
    "p.DoSomethingElse();\n",
    "p.DoTheThing();"
   ]
  },
  {
   "cell_type": "code",
   "execution_count": 66,
   "metadata": {
    "dotnet_interactive": {
     "language": "csharp"
    },
    "polyglot_notebook": {
     "kernelName": "csharp"
    },
    "vscode": {
     "languageId": "polyglot-notebook"
    }
   },
   "outputs": [
    {
     "ename": "Error",
     "evalue": "(4,3): error CS1061: 'NewThing' does not contain a definition for 'DoTheThing' and no accessible extension method 'DoTheThing' accepting a first argument of type 'NewThing' could be found (are you missing a using directive or an assembly reference?)",
     "output_type": "error",
     "traceback": [
      "(4,3): error CS1061: 'NewThing' does not contain a definition for 'DoTheThing' and no accessible extension method 'DoTheThing' accepting a first argument of type 'NewThing' could be found (are you missing a using directive or an assembly reference?)"
     ]
    }
   ],
   "source": [
    "// let's try to DoTheThing\n",
    "var p = new NewThing();\n",
    "p.DoSomethingElse();\n",
    "p.DoTheThing(); // Same as above. You need to cast p to IDoAThing2 to see the DoTheThing method"
   ]
  },
  {
   "cell_type": "code",
   "execution_count": 68,
   "metadata": {
    "dotnet_interactive": {
     "language": "csharp"
    },
    "vscode": {
     "languageId": "polyglot-notebook"
    }
   },
   "outputs": [
    {
     "data": {
      "text/plain": [
       "Something else?"
      ]
     },
     "metadata": {},
     "output_type": "display_data"
    },
    {
     "data": {
      "text/plain": [
       "I did the thing!"
      ]
     },
     "metadata": {},
     "output_type": "display_data"
    }
   ],
   "source": [
    "// This is new in C# 8.0\n",
    "public interface IDoAThing2 : IDoAThing { // IDoAThing2 inherits from IDoAThing. IDoAThing2 is a IDoAThing\n",
    "    void DoSomethingElse();\n",
    "    void IDoAThing.DoTheThing() {\n",
    "        display(\"This is my default thing\");\n",
    "    }\n",
    "}\n",
    "\n",
    "class NewThing : IDoAThing2 {\n",
    "    public void DoSomethingElse() {\n",
    "        display(\"Something else?\");\n",
    "    }\n",
    "        // HERE you can also explicitly implement the interface\n",
    "\t\tpublic void DoTheThing() \n",
    "\t\t{\n",
    "\t\t\tdisplay(\"I did the thing!\");\n",
    "\t\t}\n",
    "\n",
    "}\n",
    "\n",
    "// let's try to DoTheThing\n",
    "var p = new NewThing(); // Then it would work without casting\n",
    "p.DoSomethingElse();\n",
    "p.DoTheThing();"
   ]
  },
  {
   "cell_type": "markdown",
   "metadata": {},
   "source": [
    "## [Error Handling + Exceptions](https://docs.microsoft.com/en-us/dotnet/csharp/programming-guide/exceptions?WT.mc_id=visualstudio-twitch-jefritz)\n",
    "\n",
    "In C# and .NET, we work with errors through the `System.Exception` object.  This object can carry information about the site of the error, the type of the error, and includes a stacktrace to assist in debugging."
   ]
  },
  {
   "cell_type": "code",
   "execution_count": 69,
   "metadata": {
    "dotnet_interactive": {
     "language": "csharp"
    },
    "vscode": {
     "languageId": "polyglot-notebook"
    }
   },
   "outputs": [
    {
     "ename": "Error",
     "evalue": "System.DivideByZeroException: Attempted to divide by zero.\r\n   at System.Decimal.DecCalc.VarDecDiv(DecCalc& d1, DecCalc& d2)\r\n   at System.Decimal.op_Division(Decimal d1, Decimal d2)\r\n   at Submission#70.Divide(Decimal arg1, Decimal arg2)\r\n   at Submission#70.<<Initialize>>d__0.MoveNext()\r\n--- End of stack trace from previous location ---\r\n   at Microsoft.CodeAnalysis.Scripting.ScriptExecutionState.RunSubmissionsAsync[TResult](ImmutableArray`1 precedingExecutors, Func`2 currentExecutor, StrongBox`1 exceptionHolderOpt, Func`2 catchExceptionOpt, CancellationToken cancellationToken)",
     "output_type": "error",
     "traceback": [
      "System.DivideByZeroException: Attempted to divide by zero.\r\n",
      "   at System.Decimal.DecCalc.VarDecDiv(DecCalc& d1, DecCalc& d2)\r\n",
      "   at System.Decimal.op_Division(Decimal d1, Decimal d2)\r\n",
      "   at Submission#70.Divide(Decimal arg1, Decimal arg2)\r\n",
      "   at Submission#70.<<Initialize>>d__0.MoveNext()\r\n",
      "--- End of stack trace from previous location ---\r\n",
      "   at Microsoft.CodeAnalysis.Scripting.ScriptExecutionState.RunSubmissionsAsync[TResult](ImmutableArray`1 precedingExecutors, Func`2 currentExecutor, StrongBox`1 exceptionHolderOpt, Func`2 catchExceptionOpt, CancellationToken cancellationToken)"
     ]
    }
   ],
   "source": [
    "decimal Divide(decimal arg1, decimal arg2) {\n",
    "    return arg1 / arg2;\n",
    "}\n",
    "\n",
    "display(Divide(4, 0));"
   ]
  },
  {
   "cell_type": "markdown",
   "metadata": {},
   "source": [
    "### try...catch\n",
    "\n",
    "For methods that we want to prevent interactions that could throw errors, we can wrap those commands in a `try..catch` block.  The `catch` block can receive an `Exception` type to allow for inspection,  Similarly to `if..else if...else` blocks, you can have multiple `catch` blocks to catch different exceptions with a final default that does not include an Exception argument to continue processing appropriately.\n",
    "\n",
    "If you would like to add information about the error, you can `throw` the exception to notify other calling methods about the error type incurred."
   ]
  },
  {
   "cell_type": "code",
   "execution_count": 91,
   "metadata": {
    "dotnet_interactive": {
     "language": "csharp"
    },
    "vscode": {
     "languageId": "polyglot-notebook"
    }
   },
   "outputs": [
    {
     "ename": "Error",
     "evalue": "System.DivideByZeroException: Attempted to divide by zero.\r\n   at System.Decimal.DecCalc.VarDecDiv(DecCalc& d1, DecCalc& d2)\r\n   at System.Decimal.op_Division(Decimal d1, Decimal d2)\r\n   at Submission#70.Divide(Decimal arg1, Decimal arg2)\r\n   at Submission#92.<<Initialize>>d__0.MoveNext()\r\n--- End of stack trace from previous location ---\r\n   at Microsoft.CodeAnalysis.Scripting.ScriptExecutionState.RunSubmissionsAsync[TResult](ImmutableArray`1 precedingExecutors, Func`2 currentExecutor, StrongBox`1 exceptionHolderOpt, Func`2 catchExceptionOpt, CancellationToken cancellationToken)",
     "output_type": "error",
     "traceback": [
      "System.DivideByZeroException: Attempted to divide by zero.\r\n",
      "   at System.Decimal.DecCalc.VarDecDiv(DecCalc& d1, DecCalc& d2)\r\n",
      "   at System.Decimal.op_Division(Decimal d1, Decimal d2)\r\n",
      "   at Submission#70.Divide(Decimal arg1, Decimal arg2)\r\n",
      "   at Submission#92.<<Initialize>>d__0.MoveNext()\r\n",
      "--- End of stack trace from previous location ---\r\n",
      "   at Microsoft.CodeAnalysis.Scripting.ScriptExecutionState.RunSubmissionsAsync[TResult](ImmutableArray`1 precedingExecutors, Func`2 currentExecutor, StrongBox`1 exceptionHolderOpt, Func`2 catchExceptionOpt, CancellationToken cancellationToken)"
     ]
    }
   ],
   "source": [
    "decimal Divide(decimal arg1, decimal? arg2) {\n",
    "\n",
    "    try { // try to execute the code\n",
    "        return arg1 / arg2.Value;\n",
    "    } catch (DivideByZeroException e) { // catch the exception. e is the exception object\n",
    "        display(\"Division by zero is not allowed\"); \n",
    "        return 0;\n",
    "    } catch { // catch any other exception\n",
    "        display(\"You broke something else\");\n",
    "        throw; // throw the exception to the caller\n",
    "    }\n",
    "}\n",
    "\n",
    "display(Divide(4, 0));\n"
   ]
  },
  {
   "cell_type": "code",
   "execution_count": null,
   "metadata": {
    "dotnet_interactive": {
     "language": "csharp"
    },
    "polyglot_notebook": {
     "kernelName": "csharp"
    },
    "vscode": {
     "languageId": "polyglot-notebook"
    }
   },
   "outputs": [],
   "source": [
    "// only write try catch blocks when you know what to do with the exception\n",
    "// do not use try catch blocks to control the flow of your program\n",
    "\n",
    "// instead of try and catch es we can use if statements to check for nulls"
   ]
  },
  {
   "cell_type": "markdown",
   "metadata": {},
   "source": [
    "### [Clean up after try...catch using finally](https://docs.microsoft.com/en-us/dotnet/csharp/programming-guide/exceptions/how-to-execute-cleanup-code-using-finally?WT.mc_id=visualstudio-twitch-jefritz)\n",
    "\n",
    "A good practice is to clean up the state of your methods that threw an exception, and we use the `finally` block to execute code after a `catch` block has been executed.  The `finally` block is **ALWAYS** executed when your application throws an error.  This is particularly effective when you are working with external resources like a file on disk or a database connection. "
   ]
  },
  {
   "cell_type": "code",
   "execution_count": 86,
   "metadata": {
    "dotnet_interactive": {
     "language": "csharp"
    },
    "vscode": {
     "languageId": "polyglot-notebook"
    }
   },
   "outputs": [
    {
     "data": {
      "text/plain": [
       "You broke something else"
      ]
     },
     "metadata": {},
     "output_type": "display_data"
    },
    {
     "data": {
      "text/plain": [
       "Cleaning up code here..."
      ]
     },
     "metadata": {},
     "output_type": "display_data"
    },
    {
     "ename": "Error",
     "evalue": "System.DivideByZeroException: Attempted to divide by zero.\r\n   at System.Decimal.DecCalc.VarDecDiv(DecCalc& d1, DecCalc& d2)\r\n   at System.Decimal.op_Division(Decimal d1, Decimal d2)\r\n   at Submission#87.DivideCleanup(Decimal arg1, Nullable`1 arg2)\r\n   at Submission#87.<<Initialize>>d__0.MoveNext()\r\n--- End of stack trace from previous location ---\r\n   at Microsoft.CodeAnalysis.Scripting.ScriptExecutionState.RunSubmissionsAsync[TResult](ImmutableArray`1 precedingExecutors, Func`2 currentExecutor, StrongBox`1 exceptionHolderOpt, Func`2 catchExceptionOpt, CancellationToken cancellationToken)",
     "output_type": "error",
     "traceback": [
      "System.DivideByZeroException: Attempted to divide by zero.\r\n",
      "   at System.Decimal.DecCalc.VarDecDiv(DecCalc& d1, DecCalc& d2)\r\n",
      "   at System.Decimal.op_Division(Decimal d1, Decimal d2)\r\n",
      "   at Submission#87.DivideCleanup(Decimal arg1, Nullable`1 arg2)\r\n",
      "   at Submission#87.<<Initialize>>d__0.MoveNext()\r\n",
      "--- End of stack trace from previous location ---\r\n",
      "   at Microsoft.CodeAnalysis.Scripting.ScriptExecutionState.RunSubmissionsAsync[TResult](ImmutableArray`1 precedingExecutors, Func`2 currentExecutor, StrongBox`1 exceptionHolderOpt, Func`2 catchExceptionOpt, CancellationToken cancellationToken)"
     ]
    }
   ],
   "source": [
    "decimal DivideCleanup(decimal arg1, decimal? arg2) {\n",
    "\n",
    "    try {\n",
    "        return arg1 / arg2.Value;\n",
    "    } catch {\n",
    "        display(\"You broke something else\");\n",
    "        throw;\n",
    "    } finally {\n",
    "        display(\"Cleaning up code here...\");\n",
    "    }\n",
    "}\n",
    "\n",
    "display(DivideCleanup(4, 0));"
   ]
  },
  {
   "cell_type": "markdown",
   "metadata": {},
   "source": [
    "### Create our own Exception\n",
    "\n",
    "As the complexity of your applications grows, you should create your own exception objects that more clearly define the error scenario that has been reached.  This allows your developer teammates and customers to receive richer error reports and triage those problems appropriately.  You can inherit from the base Exception object.  By convention, C# and .NET developers typically name their exception classes **Something**Exception to make it clear that the object contains error information.  \n",
    "\n",
    "There are four constructor signatures that you _SHOULD_ implement in your custom exception class, and then you can implement any other properties or methods you would like.  These are not required, but are considered good practice:"
   ]
  },
  {
   "cell_type": "code",
   "execution_count": 92,
   "metadata": {
    "dotnet_interactive": {
     "language": "csharp"
    },
    "vscode": {
     "languageId": "polyglot-notebook"
    }
   },
   "outputs": [
    {
     "data": {
      "text/plain": [
       "Cannot divide by zero"
      ]
     },
     "metadata": {},
     "output_type": "display_data"
    },
    {
     "data": {
      "text/plain": [
       "4 / 0"
      ]
     },
     "metadata": {},
     "output_type": "display_data"
    },
    {
     "data": {
      "text/plain": [
       "   at Submission#93.DivideHandled(Decimal arg1, Nullable`1 arg2)\r\n",
       "   at Submission#93.<<Initialize>>d__0.MoveNext()"
      ]
     },
     "metadata": {},
     "output_type": "display_data"
    }
   ],
   "source": [
    "public class BetterDivisionException : System.Exception\n",
    "{\n",
    "    public BetterDivisionException() : base(\"Unable to divide by zero\") { }\n",
    "    public BetterDivisionException(string message) : base(message) { }\n",
    "    public BetterDivisionException(string message, System.Exception inner) : base(message, inner) { }\n",
    "\n",
    "    // A constructor is needed for serialization when an\n",
    "    // exception propagates from a remoting server to the client.\n",
    "    protected BetterDivisionException(System.Runtime.Serialization.SerializationInfo info,\n",
    "        System.Runtime.Serialization.StreamingContext context) : base(info, context) { }\n",
    "    \n",
    "    // Remember, division is Dividend / Divisor\n",
    "    \n",
    "    public decimal? Dividend { get; set; }\n",
    "    public decimal? Divisor { get; set; }\n",
    "    \n",
    "}\n",
    "\n",
    "decimal DivideHandled(decimal arg1, decimal? arg2) {\n",
    "\n",
    "/**/\n",
    "    if (arg2 == null) throw new BetterDivisionException(\"Cannot divide by null\")    { Dividend=arg1, Divisor=arg2};\n",
    "    if (arg2.Value == 0) throw new BetterDivisionException(\"Cannot divide by zero\") { Dividend=arg1, Divisor=arg2};\n",
    "/**/\n",
    "\n",
    "    return arg1 / arg2.Value;\n",
    "\n",
    "}\n",
    "\n",
    "try {\n",
    "\n",
    "    display(DivideHandled(4, 0));\n",
    "\n",
    "} catch (BetterDivisionException e) {\n",
    "    display(e.Message);\n",
    "    display($\"{e.Dividend} / {e.Divisor}\");\n",
    "    display(e.StackTrace);\n",
    "} catch (DivideByZeroException e) {\n",
    "    display(\"Dividing by zero\");\n",
    "    throw;\n",
    "} catch {\n",
    "    display(\"Did something else\");\n",
    "    throw;\n",
    "}"
   ]
  },
  {
   "cell_type": "code",
   "execution_count": null,
   "metadata": {
    "dotnet_interactive": {
     "language": "csharp"
    },
    "polyglot_notebook": {
     "kernelName": "csharp"
    },
    "vscode": {
     "languageId": "polyglot-notebook"
    }
   },
   "outputs": [],
   "source": []
  }
 ],
 "metadata": {
  "kernelspec": {
   "display_name": ".NET (C#)",
   "language": "C#",
   "name": ".net-csharp"
  },
  "language_info": {
   "file_extension": ".cs",
   "mimetype": "text/x-csharp",
   "name": "C#",
   "pygments_lexer": "csharp",
   "version": "8.0"
  }
 },
 "nbformat": 4,
 "nbformat_minor": 4
}
