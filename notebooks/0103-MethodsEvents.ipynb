{
 "cells": [
  {
   "cell_type": "markdown",
   "metadata": {},
   "source": [
    "# Session 3: Making our own Types - Methods, Events, Delegates\n",
    "\n",
    "We learned in our last session about how to make classes with properties, constructors, and fields.  We're going to continue adding features to our classes so that we can act on our classes and receive notifications about our classes.\n",
    "\n",
    "## Methods\n",
    "\n",
    "<div class=\"alert alert-block alert-info\">\n",
    "    Previously in Session 2, we wrote constructors to allow you to control the creation of classes.  These are _methods_ but this time we will expand on what we've previously learned\n",
    "</div>\n",
    "\n",
    "[Methods are defined in the official documentation](https://docs.microsoft.com/dotnet/csharp/programming-guide/classes-and-structs/methods?WT.mc_id=visualstudio-twitch-jefritz) as a code block containing a series of statements that the program can execute.  We're going to expand on that definition to also state that a method can (but is not required) return values to its caller. We typically think of methods as an action that our class _performs_ or an _acting on_ the class.\n",
    "\n",
    "A method has a **signature** that defines how you can interact with it.  The signature is followed immediately by curly braces **{ }** that wrap the code to be executed in the method and takes the following format:\n",
    "\n",
    "_\\[Access Modifier]*_ **Return Type** **Name**(_\\[Parameters]_)  → Return type can be int, decimal, other classes, files\n",
    "\n",
    "By default a method with no access modifiers is considered `private`\n",
    "\n",
    "Parameters are comma-delimited and defined similar to our variables with their type and name of the parameter:\n",
    "\n",
    "`int myFirstParameter`\n",
    "\n",
    "Let's take a look at some simple methods in a `Student` class:"
   ]
  },
  {
   "cell_type": "code",
   "execution_count": 83,
   "metadata": {
    "dotnet_interactive": {
     "language": "csharp"
    },
    "vscode": {
     "languageId": "polyglot-notebook"
    }
   },
   "outputs": [
    {
     "data": {
      "text/html": [
       "<div class=\"dni-plaintext\"><pre>0.95</pre></div><style>\r\n",
       ".dni-code-hint {\r\n",
       "    font-style: italic;\r\n",
       "    overflow: hidden;\r\n",
       "    white-space: nowrap;\r\n",
       "}\r\n",
       ".dni-treeview {\r\n",
       "    white-space: nowrap;\r\n",
       "}\r\n",
       ".dni-treeview td {\r\n",
       "    vertical-align: top;\r\n",
       "    text-align: start;\r\n",
       "}\r\n",
       "details.dni-treeview {\r\n",
       "    padding-left: 1em;\r\n",
       "}\r\n",
       "table td {\r\n",
       "    text-align: start;\r\n",
       "}\r\n",
       "table tr { \r\n",
       "    vertical-align: top; \r\n",
       "    margin: 0em 0px;\r\n",
       "}\r\n",
       "table tr td pre \r\n",
       "{ \r\n",
       "    vertical-align: top !important; \r\n",
       "    margin: 0em 0px !important;\r\n",
       "} \r\n",
       "table th {\r\n",
       "    text-align: start;\r\n",
       "}\r\n",
       "</style>"
      ]
     },
     "metadata": {},
     "output_type": "display_data"
    },
    {
     "data": {
      "text/html": [
       "<details open=\"open\" class=\"dni-treeview\"><summary><span class=\"dni-code-hint\"><code>Submission#84+Student+Grade</code></span></summary><div><table><thead><tr></tr></thead><tbody><tr><td>NameOfClass</td><td><div class=\"dni-plaintext\"><pre>&lt;null&gt;</pre></div></td></tr></tbody></table></div></details><style>\r\n",
       ".dni-code-hint {\r\n",
       "    font-style: italic;\r\n",
       "    overflow: hidden;\r\n",
       "    white-space: nowrap;\r\n",
       "}\r\n",
       ".dni-treeview {\r\n",
       "    white-space: nowrap;\r\n",
       "}\r\n",
       ".dni-treeview td {\r\n",
       "    vertical-align: top;\r\n",
       "    text-align: start;\r\n",
       "}\r\n",
       "details.dni-treeview {\r\n",
       "    padding-left: 1em;\r\n",
       "}\r\n",
       "table td {\r\n",
       "    text-align: start;\r\n",
       "}\r\n",
       "table tr { \r\n",
       "    vertical-align: top; \r\n",
       "    margin: 0em 0px;\r\n",
       "}\r\n",
       "table tr td pre \r\n",
       "{ \r\n",
       "    vertical-align: top !important; \r\n",
       "    margin: 0em 0px !important;\r\n",
       "} \r\n",
       "table th {\r\n",
       "    text-align: start;\r\n",
       "}\r\n",
       "</style>"
      ]
     },
     "metadata": {},
     "output_type": "display_data"
    }
   ],
   "source": [
    "class Student {\n",
    "    \n",
    "    // This is a constructor method for the Student class. The return type \"void\" means that this method does not return a value.\n",
    "    public void Enroll() {\n",
    "        // do enrollment steps\n",
    "    }\n",
    "    \n",
    "    // This method takes a parameter of data type DateTime. The return type \"void\" means that this method does not return a value.\n",
    "    internal void LeaveClassEarly(DateTime departureTime) {\n",
    "        // leave class code\n",
    "    }\n",
    "    \n",
    "    // following method takes a paramter of type string and returns a value of type decimal\n",
    "    public decimal CalculateGradeForClass(string className) {\n",
    "        \n",
    "        // grade calculation code\n",
    "        \n",
    "        // This method returns a value of type decimal \n",
    "        return 0.95m;\n",
    "    }\n",
    "    \n",
    "    // This is a nested class. It is a class that is defined inside another class.\n",
    "    // Nested classes are often used to logically group classes that are only used in one place.\n",
    "    // Is that also a property? \n",
    "    // Yes, it is a property of the Student class. \n",
    "    public class Grade {\n",
    "        \n",
    "        public string NameOfClass { get; set; }\n",
    "        \n",
    "    }\n",
    "\n",
    "}\n",
    "\n",
    "var s = new Student();\n",
    "display(s.CalculateGradeForClass(\"Quantum Physics\"));\n",
    "\n",
    "var g = new Student.Grade();\n",
    "display(g);\n"
   ]
  },
  {
   "cell_type": "code",
   "execution_count": 84,
   "metadata": {
    "dotnet_interactive": {
     "language": "csharp"
    },
    "polyglot_notebook": {
     "kernelName": "csharp"
    },
    "vscode": {
     "languageId": "polyglot-notebook"
    }
   },
   "outputs": [
    {
     "data": {
      "text/html": [
       "<details open=\"open\" class=\"dni-treeview\"><summary><span class=\"dni-code-hint\"><code>Submission#84+Student</code></span></summary><div><table><thead><tr></tr></thead><tbody></tbody></table></div></details><style>\r\n",
       ".dni-code-hint {\r\n",
       "    font-style: italic;\r\n",
       "    overflow: hidden;\r\n",
       "    white-space: nowrap;\r\n",
       "}\r\n",
       ".dni-treeview {\r\n",
       "    white-space: nowrap;\r\n",
       "}\r\n",
       ".dni-treeview td {\r\n",
       "    vertical-align: top;\r\n",
       "    text-align: start;\r\n",
       "}\r\n",
       "details.dni-treeview {\r\n",
       "    padding-left: 1em;\r\n",
       "}\r\n",
       "table td {\r\n",
       "    text-align: start;\r\n",
       "}\r\n",
       "table tr { \r\n",
       "    vertical-align: top; \r\n",
       "    margin: 0em 0px;\r\n",
       "}\r\n",
       "table tr td pre \r\n",
       "{ \r\n",
       "    vertical-align: top !important; \r\n",
       "    margin: 0em 0px !important;\r\n",
       "} \r\n",
       "table th {\r\n",
       "    text-align: start;\r\n",
       "}\r\n",
       "</style>"
      ]
     },
     "metadata": {},
     "output_type": "display_data"
    }
   ],
   "source": [
    "display(s)"
   ]
  },
  {
   "cell_type": "code",
   "execution_count": 4,
   "metadata": {
    "dotnet_interactive": {
     "language": "csharp"
    },
    "polyglot_notebook": {
     "kernelName": "csharp"
    },
    "vscode": {
     "languageId": "polyglot-notebook"
    }
   },
   "outputs": [
    {
     "ename": "Error",
     "evalue": "(1,9): error CS1503: Argument 1: cannot convert from 'void' to 'object'",
     "output_type": "error",
     "traceback": [
      "(1,9): error CS1503: Argument 1: cannot convert from 'void' to 'object'"
     ]
    }
   ],
   "source": [
    "display(s.Enroll())\n",
    "// this does not work because the method does not return a value"
   ]
  },
  {
   "cell_type": "code",
   "execution_count": 7,
   "metadata": {
    "dotnet_interactive": {
     "language": "csharp"
    },
    "polyglot_notebook": {
     "kernelName": "csharp"
    },
    "vscode": {
     "languageId": "polyglot-notebook"
    }
   },
   "outputs": [],
   "source": [
    "g.NameOfClass = \"Quantum Physics\";"
   ]
  },
  {
   "cell_type": "markdown",
   "metadata": {},
   "source": [
    "Method access modifiers can be `public`, `protected`, `private`, `internal`, `protected internal`.  They can also be marked `static` to indicate that the method runs for all instances of the class and cannot access individual fields and properties of the class.  We'll see more about `static` and other modifiers like `override`, `virtual` and `abstract` in session 4.\n",
    "\n",
    "### Overloading Methods\n",
    "\n",
    "Just like we can provide multiple constructors, as shown in Session 2, we can also provide multiple methods with the same name and different parameters and return types.  This is called **Method Overloading** and can be very valuable to provide alternate interactions with your class that have the same intention.  \n",
    "\n",
    "Let's revisit the `CalculateGradeForClass` method in our last example.  Typically, we would _assume_ that we are calculating the grade for a student for the current semester or year.  What if we wanted to go back and recalculate for a different time?  A different method with a similar signature, but additionally accepting a year parameter could be added to provide additional context.  "
   ]
  },
  {
   "cell_type": "code",
   "execution_count": 9,
   "metadata": {
    "dotnet_interactive": {
     "language": "csharp"
    },
    "vscode": {
     "languageId": "polyglot-notebook"
    }
   },
   "outputs": [
    {
     "data": {
      "text/plain": [
       "Grade for this year: 0.80"
      ]
     },
     "metadata": {},
     "output_type": "display_data"
    },
    {
     "data": {
      "text/plain": [
       "Grade for 2019: 0.80"
      ]
     },
     "metadata": {},
     "output_type": "display_data"
    }
   ],
   "source": [
    "class Student {\n",
    "    \n",
    "    public void Enroll() {\n",
    "        // do enrollment steps\n",
    "    }\n",
    "\n",
    "    // This signature assumes calculating the grade for a class THIS YEAR\n",
    "    public decimal CalculateGradeForClass(string className) {\n",
    "        \n",
    "        // Let's DELEGATE the calculation to the OTHER implementation of CalculateGradeForClass and pass this year\n",
    "        return CalculateGradeForClass(className, DateTime.Now.Year); // nice use of delegation\n",
    "        \n",
    "    }\n",
    "\n",
    "    public decimal CalculateGradeForClass(int yearEnrolled) {\n",
    "        \n",
    "        return 0.8m; //CalculateGradeForClass(className, DateTime.Now.Year);\n",
    "        \n",
    "    }\n",
    "    \n",
    "    // public decimal CalculateGradeForClass(int classScheduleBlock) {\n",
    "        \n",
    "    //     return 0.8m; //CalculateGradeForClass(className, DateTime.Now.Year);\n",
    "        \n",
    "    // }\n",
    "    \n",
    "\n",
    "    public decimal CalculateGradeForClass(string className, int yearEnrolled) {\n",
    "        \n",
    "        // grade calculation code\n",
    "        \n",
    "        return 0.80m;\n",
    "        \n",
    "    }\n",
    "    \n",
    "    public class Grade {\n",
    "        \n",
    "        public string NameOfClass { get; set; }\n",
    "        \n",
    "    }\n",
    "    \n",
    "}\n",
    "\n",
    "var s = new Student();\n",
    "display(\"Grade for this year: \" + s.CalculateGradeForClass(\"Quantum Physics\"));\n",
    "display(\"Grade for 2019: \" + s.CalculateGradeForClass(\"Quantum Physics\", 2019));"
   ]
  },
  {
   "cell_type": "code",
   "execution_count": 10,
   "metadata": {
    "dotnet_interactive": {
     "language": "csharp"
    },
    "polyglot_notebook": {
     "kernelName": "csharp"
    },
    "vscode": {
     "languageId": "polyglot-notebook"
    }
   },
   "outputs": [],
   "source": [
    "// So with overloading, we can have multiple methods with the same name, but different signatures (different parameters)\n",
    "// The compiler will figure out which method to call based on the parameters you pass in\n",
    "// Why we overload the method:\n",
    "// 1. We want to provide a default value for a parameter\n",
    "// 2. We want to provide a different way to call the method\n",
    "// 3. We want to provide a different way to call the method that is more specific to the data type of the parameter\n",
    "\n",
    "// We actually provide alternate ways to call the method by overloading it"
   ]
  },
  {
   "cell_type": "code",
   "execution_count": 11,
   "metadata": {
    "dotnet_interactive": {
     "language": "csharp"
    },
    "polyglot_notebook": {
     "kernelName": "csharp"
    },
    "vscode": {
     "languageId": "polyglot-notebook"
    }
   },
   "outputs": [],
   "source": [
    "// with different signatures in overloading, you need to use different types for input parameters (int, string etc.) \n",
    "// or combinations of input parameters (int, string, int + string etc.)"
   ]
  },
  {
   "cell_type": "markdown",
   "metadata": {},
   "source": [
    "### The Magic params Parameter and Optional Parameters\n",
    "\n",
    "There is a special 'catch-all' `params` keyword you can use in your methods that will catch any arguments that are passed in to the method.  Let's update our student with the ability to calculate grade point average:"
   ]
  },
  {
   "cell_type": "code",
   "execution_count": 1,
   "metadata": {
    "dotnet_interactive": {
     "language": "csharp"
    },
    "vscode": {
     "languageId": "polyglot-notebook"
    }
   },
   "outputs": [
    {
     "data": {
      "text/plain": [
       "Calculating for class Algebra"
      ]
     },
     "metadata": {},
     "output_type": "display_data"
    },
    {
     "data": {
      "text/plain": [
       "Calculating for class History"
      ]
     },
     "metadata": {},
     "output_type": "display_data"
    },
    {
     "data": {
      "text/plain": [
       "Calculating for class Computer Science"
      ]
     },
     "metadata": {},
     "output_type": "display_data"
    },
    {
     "data": {
      "text/plain": [
       "Calculating for class Art"
      ]
     },
     "metadata": {},
     "output_type": "display_data"
    },
    {
     "data": {
      "text/plain": [
       "Calculating for class English"
      ]
     },
     "metadata": {},
     "output_type": "display_data"
    },
    {
     "data": {
      "text/plain": [
       "Calculating for class German"
      ]
     },
     "metadata": {},
     "output_type": "display_data"
    },
    {
     "data": {
      "text/plain": [
       "Calculating for class Gym"
      ]
     },
     "metadata": {},
     "output_type": "display_data"
    },
    {
     "data": {
      "text/plain": [
       "Calculating for class Study Hall"
      ]
     },
     "metadata": {},
     "output_type": "display_data"
    },
    {
     "data": {
      "text/plain": [
       "Hello world!"
      ]
     },
     "metadata": {},
     "output_type": "display_data"
    },
    {
     "data": {
      "text/html": [
       "<div class=\"dni-plaintext\"><pre>0.9</pre></div><style>\r\n",
       ".dni-code-hint {\r\n",
       "    font-style: italic;\r\n",
       "    overflow: hidden;\r\n",
       "    white-space: nowrap;\r\n",
       "}\r\n",
       ".dni-treeview {\r\n",
       "    white-space: nowrap;\r\n",
       "}\r\n",
       ".dni-treeview td {\r\n",
       "    vertical-align: top;\r\n",
       "    text-align: start;\r\n",
       "}\r\n",
       "details.dni-treeview {\r\n",
       "    padding-left: 1em;\r\n",
       "}\r\n",
       "table td {\r\n",
       "    text-align: start;\r\n",
       "}\r\n",
       "table tr { \r\n",
       "    vertical-align: top; \r\n",
       "    margin: 0em 0px;\r\n",
       "}\r\n",
       "table tr td pre \r\n",
       "{ \r\n",
       "    vertical-align: top !important; \r\n",
       "    margin: 0em 0px !important;\r\n",
       "} \r\n",
       "table th {\r\n",
       "    text-align: start;\r\n",
       "}\r\n",
       "</style>"
      ]
     },
     "metadata": {},
     "output_type": "display_data"
    }
   ],
   "source": [
    "class Student {\n",
    "\n",
    "\n",
    "    public decimal CalculateGradePointAverage(\n",
    "        int yearOfStudy,\n",
    "        params string[] classes) { // here classes is an array of strings (string[]). through params, that would catch all the parameters that are passed in and put them into an array of strings\n",
    "\n",
    "        // params needs to be the last parameter in the method signature!!!\n",
    "        \n",
    "        foreach(var c in classes) { // here we are iterating through the array of strings\n",
    "            display(\"Calculating for class \" + c);\n",
    "        }\n",
    "        \n",
    "        HelloWorld();\n",
    "\n",
    "        return 0.9m;\n",
    "        \n",
    "    }\n",
    "\n",
    "    /// <summary>\n",
    "    /// A method to say Hello World!. This comment will be appear in the documentation for this method and in intellisense.\n",
    "    /// </summary>\n",
    "    public void HelloWorld() { // this is a method that does not return a value (void) \n",
    "        display(\"Hello world!\");\n",
    "    }\n",
    "\n",
    "}\n",
    "\n",
    "var s = new Student();\n",
    "display(s.CalculateGradePointAverage(2020, \"Algebra\", \"History\", \"Computer Science\", \"Art\", \"English\", \"German\", \"Gym\", \"Study Hall\"));"
   ]
  },
  {
   "cell_type": "code",
   "execution_count": null,
   "metadata": {
    "dotnet_interactive": {
     "language": "csharp"
    },
    "polyglot_notebook": {
     "kernelName": "csharp"
    },
    "vscode": {
     "languageId": "polyglot-notebook"
    }
   },
   "outputs": [],
   "source": [
    "// Intellisense is the feature in Visual Studio that shows you the list of methods and properties that are available for a class"
   ]
  },
  {
   "cell_type": "markdown",
   "metadata": {},
   "source": [
    "Other arguments can be made optional by adding a default value to them:"
   ]
  },
  {
   "cell_type": "code",
   "execution_count": 3,
   "metadata": {
    "dotnet_interactive": {
     "language": "csharp"
    },
    "vscode": {
     "languageId": "polyglot-notebook"
    }
   },
   "outputs": [
    {
     "data": {
      "text/plain": [
       "Calculating GPA for year 2019"
      ]
     },
     "metadata": {},
     "output_type": "display_data"
    },
    {
     "data": {
      "text/plain": [
       "Calculating for class Algebra"
      ]
     },
     "metadata": {},
     "output_type": "display_data"
    },
    {
     "data": {
      "text/plain": [
       "Calculating for class History"
      ]
     },
     "metadata": {},
     "output_type": "display_data"
    },
    {
     "data": {
      "text/plain": [
       "Calculating for class Computer Science"
      ]
     },
     "metadata": {},
     "output_type": "display_data"
    },
    {
     "data": {
      "text/html": [
       "<div class=\"dni-plaintext\"><pre>0.9</pre></div><style>\r\n",
       ".dni-code-hint {\r\n",
       "    font-style: italic;\r\n",
       "    overflow: hidden;\r\n",
       "    white-space: nowrap;\r\n",
       "}\r\n",
       ".dni-treeview {\r\n",
       "    white-space: nowrap;\r\n",
       "}\r\n",
       ".dni-treeview td {\r\n",
       "    vertical-align: top;\r\n",
       "    text-align: start;\r\n",
       "}\r\n",
       "details.dni-treeview {\r\n",
       "    padding-left: 1em;\r\n",
       "}\r\n",
       "table td {\r\n",
       "    text-align: start;\r\n",
       "}\r\n",
       "table tr { \r\n",
       "    vertical-align: top; \r\n",
       "    margin: 0em 0px;\r\n",
       "}\r\n",
       "table tr td pre \r\n",
       "{ \r\n",
       "    vertical-align: top !important; \r\n",
       "    margin: 0em 0px !important;\r\n",
       "} \r\n",
       "table th {\r\n",
       "    text-align: start;\r\n",
       "}\r\n",
       "</style>"
      ]
     },
     "metadata": {},
     "output_type": "display_data"
    },
    {
     "data": {
      "text/plain": [
       "Calculating GPA for year 2020"
      ]
     },
     "metadata": {},
     "output_type": "display_data"
    },
    {
     "data": {
      "text/plain": [
       "Calculating for class Algebra"
      ]
     },
     "metadata": {},
     "output_type": "display_data"
    },
    {
     "data": {
      "text/plain": [
       "Calculating for class History"
      ]
     },
     "metadata": {},
     "output_type": "display_data"
    },
    {
     "data": {
      "text/plain": [
       "Calculating for class Computer Science"
      ]
     },
     "metadata": {},
     "output_type": "display_data"
    },
    {
     "data": {
      "text/html": [
       "<div class=\"dni-plaintext\"><pre>0.9</pre></div><style>\r\n",
       ".dni-code-hint {\r\n",
       "    font-style: italic;\r\n",
       "    overflow: hidden;\r\n",
       "    white-space: nowrap;\r\n",
       "}\r\n",
       ".dni-treeview {\r\n",
       "    white-space: nowrap;\r\n",
       "}\r\n",
       ".dni-treeview td {\r\n",
       "    vertical-align: top;\r\n",
       "    text-align: start;\r\n",
       "}\r\n",
       "details.dni-treeview {\r\n",
       "    padding-left: 1em;\r\n",
       "}\r\n",
       "table td {\r\n",
       "    text-align: start;\r\n",
       "}\r\n",
       "table tr { \r\n",
       "    vertical-align: top; \r\n",
       "    margin: 0em 0px;\r\n",
       "}\r\n",
       "table tr td pre \r\n",
       "{ \r\n",
       "    vertical-align: top !important; \r\n",
       "    margin: 0em 0px !important;\r\n",
       "} \r\n",
       "table th {\r\n",
       "    text-align: start;\r\n",
       "}\r\n",
       "</style>"
      ]
     },
     "metadata": {},
     "output_type": "display_data"
    },
    {
     "data": {
      "text/plain": [
       "Calculating GPA for all classes in the year 2020"
      ]
     },
     "metadata": {},
     "output_type": "display_data"
    },
    {
     "data": {
      "text/plain": [
       "Calculating GPA for year 2020"
      ]
     },
     "metadata": {},
     "output_type": "display_data"
    },
    {
     "data": {
      "text/plain": [
       "Calculating for class Art"
      ]
     },
     "metadata": {},
     "output_type": "display_data"
    },
    {
     "data": {
      "text/plain": [
       "Calculating for class History"
      ]
     },
     "metadata": {},
     "output_type": "display_data"
    },
    {
     "data": {
      "text/plain": [
       "Calculating for class Physics"
      ]
     },
     "metadata": {},
     "output_type": "display_data"
    },
    {
     "data": {
      "text/html": [
       "<div class=\"dni-plaintext\"><pre>0.9</pre></div><style>\r\n",
       ".dni-code-hint {\r\n",
       "    font-style: italic;\r\n",
       "    overflow: hidden;\r\n",
       "    white-space: nowrap;\r\n",
       "}\r\n",
       ".dni-treeview {\r\n",
       "    white-space: nowrap;\r\n",
       "}\r\n",
       ".dni-treeview td {\r\n",
       "    vertical-align: top;\r\n",
       "    text-align: start;\r\n",
       "}\r\n",
       "details.dni-treeview {\r\n",
       "    padding-left: 1em;\r\n",
       "}\r\n",
       "table td {\r\n",
       "    text-align: start;\r\n",
       "}\r\n",
       "table tr { \r\n",
       "    vertical-align: top; \r\n",
       "    margin: 0em 0px;\r\n",
       "}\r\n",
       "table tr td pre \r\n",
       "{ \r\n",
       "    vertical-align: top !important; \r\n",
       "    margin: 0em 0px !important;\r\n",
       "} \r\n",
       "table th {\r\n",
       "    text-align: start;\r\n",
       "}\r\n",
       "</style>"
      ]
     },
     "metadata": {},
     "output_type": "display_data"
    },
    {
     "data": {
      "text/plain": [
       "Calculating GPA for all classes in the year 2023"
      ]
     },
     "metadata": {},
     "output_type": "display_data"
    },
    {
     "data": {
      "text/plain": [
       "Calculating GPA for year 2023"
      ]
     },
     "metadata": {},
     "output_type": "display_data"
    },
    {
     "data": {
      "text/plain": [
       "Calculating for class Art"
      ]
     },
     "metadata": {},
     "output_type": "display_data"
    },
    {
     "data": {
      "text/plain": [
       "Calculating for class History"
      ]
     },
     "metadata": {},
     "output_type": "display_data"
    },
    {
     "data": {
      "text/plain": [
       "Calculating for class Physics"
      ]
     },
     "metadata": {},
     "output_type": "display_data"
    },
    {
     "name": "stdout",
     "output_type": "stream",
     "text": [
      "0.9\r\n"
     ]
    }
   ],
   "source": [
    "class Student {\n",
    "    \n",
    "    public decimal CalculateGradePointAverage(\n",
    "        short enrollmentYear = 2020, // short here is the data type of the parameter\n",
    "        // this is a default value for the parameter. \n",
    "        // This means that if the user does not provide a value for this parameter, the default value will be used\n",
    "\n",
    "        // I would define the default value because I would like to avoid null values and avoid null-checks like if (enrollmentYear == null) { enrollmentYear = 2020; }\n",
    "        params string[] classes) {\n",
    "            \n",
    "\n",
    "        display(\"Calculating GPA for year \" + enrollmentYear);\n",
    "        \n",
    "        foreach(var c in classes) {\n",
    "            display(\"Calculating for class \" + c);\n",
    "        }\n",
    "        \n",
    "        return 0.9m;\n",
    "        \n",
    "    }\n",
    "    \n",
    "    // Same method is overloaded here and for the case that no class names are passed in\n",
    "    public decimal CalculateGradePointAverage(\n",
    "        short enrollmentYear = 0) {\n",
    "        \n",
    "        if (enrollmentYear == 0) enrollmentYear = (short)DateTime.Now.Year;\n",
    "        \n",
    "        display(\"Calculating GPA for all classes in the year \" + enrollmentYear);\n",
    "        \n",
    "        return CalculateGradePointAverage(enrollmentYear, \"Art\", \"History\", \"Physics\");\n",
    "        \n",
    "    }\n",
    "    \n",
    "}\n",
    "\n",
    "var s = new Student();\n",
    "display(s.CalculateGradePointAverage(2019, \"Algebra\", \"History\", \"Computer Science\")); // this will use the first method as we are passing in the enrollment year and classes\n",
    "display(s.CalculateGradePointAverage(classes: new [] {\"Algebra\", \"History\", \"Computer Science\"})); // this will use the first method as we are passing in the classes\n",
    "display(s.CalculateGradePointAverage(2020)); // this will use the second method as we are not passing in any classes\n",
    "Console.WriteLine(s.CalculateGradePointAverage()); // this will use the second method as we are not passing in any classes"
   ]
  },
  {
   "cell_type": "code",
   "execution_count": 4,
   "metadata": {
    "dotnet_interactive": {
     "language": "csharp"
    },
    "polyglot_notebook": {
     "kernelName": "csharp"
    },
    "vscode": {
     "languageId": "polyglot-notebook"
    }
   },
   "outputs": [],
   "source": [
    "// https://www.youtube.com/watch?v=Pzxsqb9dBLk&list=PLdo4fOcmZ0oXv32dOd36UydQYLejKR61R&index=30 1:15:00 \n",
    "// interesting description of nullables and how they work"
   ]
  },
  {
   "cell_type": "markdown",
   "metadata": {},
   "source": [
    "### Out and Ref\n",
    "\n",
    "Parameters passed into the method can **ALSO** take modifiers to set their interactions with the method.  The parameters can be passed both in and **OUT** as well as by value and by reference into the method.  This may seem a litle strange, so let's take a look at some samples.\n",
    "\n",
    "We'll look at the `out` and `ref` keywords in this demo.  `out` specifies that a parameter is set as an output and `ref` indicates that a parameter is passed by reference.  If these keywords are used in a method's parameter signature, they must also be used when executing the method."
   ]
  },
  {
   "cell_type": "code",
   "execution_count": 6,
   "metadata": {
    "dotnet_interactive": {
     "language": "csharp"
    },
    "vscode": {
     "languageId": "polyglot-notebook"
    }
   },
   "outputs": [
    {
     "data": {
      "text/html": [
       "<div class=\"dni-plaintext\"><pre>True</pre></div><style>\r\n",
       ".dni-code-hint {\r\n",
       "    font-style: italic;\r\n",
       "    overflow: hidden;\r\n",
       "    white-space: nowrap;\r\n",
       "}\r\n",
       ".dni-treeview {\r\n",
       "    white-space: nowrap;\r\n",
       "}\r\n",
       ".dni-treeview td {\r\n",
       "    vertical-align: top;\r\n",
       "    text-align: start;\r\n",
       "}\r\n",
       "details.dni-treeview {\r\n",
       "    padding-left: 1em;\r\n",
       "}\r\n",
       "table td {\r\n",
       "    text-align: start;\r\n",
       "}\r\n",
       "table tr { \r\n",
       "    vertical-align: top; \r\n",
       "    margin: 0em 0px;\r\n",
       "}\r\n",
       "table tr td pre \r\n",
       "{ \r\n",
       "    vertical-align: top !important; \r\n",
       "    margin: 0em 0px !important;\r\n",
       "} \r\n",
       "table th {\r\n",
       "    text-align: start;\r\n",
       "}\r\n",
       "</style>"
      ]
     },
     "metadata": {},
     "output_type": "display_data"
    },
    {
     "data": {
      "text/plain": [
       "student id: 1234567"
      ]
     },
     "metadata": {},
     "output_type": "display_data"
    },
    {
     "data": {
      "text/plain": [
       "Year: 2020"
      ]
     },
     "metadata": {},
     "output_type": "display_data"
    },
    {
     "data": {
      "text/plain": [
       "Inside of DoSomething myValue is: 2021"
      ]
     },
     "metadata": {},
     "output_type": "display_data"
    },
    {
     "data": {
      "text/plain": [
       "myVar is: 2021"
      ]
     },
     "metadata": {},
     "output_type": "display_data"
    },
    {
     "data": {
      "text/plain": [
       "Hello: Jeff Jones"
      ]
     },
     "metadata": {},
     "output_type": "display_data"
    },
    {
     "data": {
      "text/plain": [
       "Jeff Jones"
      ]
     },
     "metadata": {},
     "output_type": "display_data"
    },
    {
     "data": {
      "text/html": [
       "<div class=\"dni-plaintext\"><pre>0</pre></div><style>\r\n",
       ".dni-code-hint {\r\n",
       "    font-style: italic;\r\n",
       "    overflow: hidden;\r\n",
       "    white-space: nowrap;\r\n",
       "}\r\n",
       ".dni-treeview {\r\n",
       "    white-space: nowrap;\r\n",
       "}\r\n",
       ".dni-treeview td {\r\n",
       "    vertical-align: top;\r\n",
       "    text-align: start;\r\n",
       "}\r\n",
       "details.dni-treeview {\r\n",
       "    padding-left: 1em;\r\n",
       "}\r\n",
       "table td {\r\n",
       "    text-align: start;\r\n",
       "}\r\n",
       "table tr { \r\n",
       "    vertical-align: top; \r\n",
       "    margin: 0em 0px;\r\n",
       "}\r\n",
       "table tr td pre \r\n",
       "{ \r\n",
       "    vertical-align: top !important; \r\n",
       "    margin: 0em 0px !important;\r\n",
       "} \r\n",
       "table th {\r\n",
       "    text-align: start;\r\n",
       "}\r\n",
       "</style>"
      ]
     },
     "metadata": {},
     "output_type": "display_data"
    }
   ],
   "source": [
    "class Student {\n",
    "    \n",
    "    // Enroll and return a success indicator as well as the new StudentId\n",
    "    public bool Enroll(\n",
    "        short year, \n",
    "        out string studentId) { // out means that this parameter is an output parameter. \n",
    "        // This means that the method will set the value of this parameter and return it to the caller\n",
    "        // ref would be the other option here\n",
    "        \n",
    "        // Enrollment code\n",
    "        \n",
    "        studentId = \"1234567\";\n",
    "        return true;\n",
    "        \n",
    "    }\n",
    "\n",
    "    public void DoSomething(ref int myValue) { // ref means that this parameter is a reference parameter.\n",
    "        // you cannot use out here since myvalue is changed by value in the method\n",
    "        // This means that the method will be able to change the value of this parameter and the change will be reflected in the caller\n",
    "        myValue++; // this will increment the value of myValue by 1\n",
    "        display(\"Inside of DoSomething myValue is: \" + myValue);\n",
    "    }\n",
    "    \n",
    "    public void Hello(ref string myName) {\n",
    "        // you cannot use out here since myName is changed by value in the method\n",
    "        myName = myName + \" Jones\";\n",
    "        display(\"Hello: \" + myName);\n",
    "    }\n",
    "    \n",
    "    public void DeleteItemsFromShoppingCart(ref int numberOfItems) {\n",
    "        // you can use out here since numberOfItems is not changed by value, only a new value is assigned to it\n",
    "        numberOfItems = 0;\n",
    "    }\n",
    "\n",
    "}\n",
    "\n",
    "var s= new Student();\n",
    "string id = \"\";\n",
    "short year = 2020;\n",
    "\n",
    "// You can declare the output variable inline\n",
    "// by declaring its type like this:\n",
    "//display(s.Enroll(year, out string id));\n",
    "\n",
    "display(s.Enroll(year, out id));\n",
    "display(\"student id: \" + id);\n",
    "display(\"Year: \" + year);\n",
    "\n",
    "\n",
    "int myVar = 2020;\n",
    "s.DoSomething(ref myVar);\n",
    "display(\"myVar is: \" + myVar);\n",
    "\n",
    "\n",
    "var myName = \"Jeff\";\n",
    "s.Hello(ref myName);\n",
    "display(myName);\n",
    "\n",
    "var ItemNumber = 5;\n",
    "s.DeleteItemsFromShoppingCart(ref ItemNumber);\n",
    "display(ItemNumber);"
   ]
  },
  {
   "cell_type": "code",
   "execution_count": 5,
   "metadata": {
    "dotnet_interactive": {
     "language": "csharp"
    },
    "polyglot_notebook": {
     "kernelName": "csharp"
    },
    "vscode": {
     "languageId": "polyglot-notebook"
    }
   },
   "outputs": [],
   "source": [
    "var cities = new List<string>(){\"Istanbul\", \"Madrid\", \"Rome\", \"London\", \"Berlin\"};\n",
    "var rankings = new Dictionary<string, int>();\n",
    "var n =0;\n",
    "foreach(var item in cities){rankings.Add(item, n+100); n++;}\n"
   ]
  },
  {
   "cell_type": "code",
   "execution_count": 6,
   "metadata": {
    "dotnet_interactive": {
     "language": "csharp"
    },
    "polyglot_notebook": {
     "kernelName": "csharp"
    },
    "vscode": {
     "languageId": "polyglot-notebook"
    }
   },
   "outputs": [
    {
     "data": {
      "text/html": [
       "<table><thead><tr><th><i>key</i></th><th>value</th></tr></thead><tbody><tr><td><div class=\"dni-plaintext\"><pre>Istanbul</pre></div></td><td><div class=\"dni-plaintext\"><pre>100</pre></div></td></tr><tr><td><div class=\"dni-plaintext\"><pre>Madrid</pre></div></td><td><div class=\"dni-plaintext\"><pre>100</pre></div></td></tr><tr><td><div class=\"dni-plaintext\"><pre>Rome</pre></div></td><td><div class=\"dni-plaintext\"><pre>100</pre></div></td></tr><tr><td><div class=\"dni-plaintext\"><pre>London</pre></div></td><td><div class=\"dni-plaintext\"><pre>100</pre></div></td></tr><tr><td><div class=\"dni-plaintext\"><pre>Berlin</pre></div></td><td><div class=\"dni-plaintext\"><pre>100</pre></div></td></tr></tbody></table><style>\r\n",
       ".dni-code-hint {\r\n",
       "    font-style: italic;\r\n",
       "    overflow: hidden;\r\n",
       "    white-space: nowrap;\r\n",
       "}\r\n",
       ".dni-treeview {\r\n",
       "    white-space: nowrap;\r\n",
       "}\r\n",
       ".dni-treeview td {\r\n",
       "    vertical-align: top;\r\n",
       "    text-align: start;\r\n",
       "}\r\n",
       "details.dni-treeview {\r\n",
       "    padding-left: 1em;\r\n",
       "}\r\n",
       "table td {\r\n",
       "    text-align: start;\r\n",
       "}\r\n",
       "table tr { \r\n",
       "    vertical-align: top; \r\n",
       "    margin: 0em 0px;\r\n",
       "}\r\n",
       "table tr td pre \r\n",
       "{ \r\n",
       "    vertical-align: top !important; \r\n",
       "    margin: 0em 0px !important;\r\n",
       "} \r\n",
       "table th {\r\n",
       "    text-align: start;\r\n",
       "}\r\n",
       "</style>"
      ]
     },
     "metadata": {},
     "output_type": "display_data"
    }
   ],
   "source": [
    "rankings"
   ]
  },
  {
   "cell_type": "code",
   "execution_count": 13,
   "metadata": {
    "dotnet_interactive": {
     "language": "csharp"
    },
    "polyglot_notebook": {
     "kernelName": "csharp"
    },
    "vscode": {
     "languageId": "polyglot-notebook"
    }
   },
   "outputs": [
    {
     "data": {
      "text/plain": [
       "1234567"
      ]
     },
     "metadata": {},
     "output_type": "display_data"
    }
   ],
   "source": [
    "display(id);"
   ]
  },
  {
   "cell_type": "markdown",
   "metadata": {},
   "source": [
    "The id is set in our method and MUST be set before the method ends to be returned properly.  Let's look at the `DoSomething` method that receives a value **ByReference** as indicated by the `ref` keyword.  Check out the behavior of `myValue` and tinker with adding and removing the `ref` keyword to see its behavior."
   ]
  },
  {
   "cell_type": "code",
   "execution_count": 7,
   "metadata": {
    "dotnet_interactive": {
     "language": "csharp"
    },
    "vscode": {
     "languageId": "polyglot-notebook"
    }
   },
   "outputs": [
    {
     "data": {
      "text/plain": [
       "Inside of DoSomething myValue is: 11"
      ]
     },
     "metadata": {},
     "output_type": "display_data"
    },
    {
     "data": {
      "text/html": [
       "<div class=\"dni-plaintext\"><pre>11</pre></div><style>\r\n",
       ".dni-code-hint {\r\n",
       "    font-style: italic;\r\n",
       "    overflow: hidden;\r\n",
       "    white-space: nowrap;\r\n",
       "}\r\n",
       ".dni-treeview {\r\n",
       "    white-space: nowrap;\r\n",
       "}\r\n",
       ".dni-treeview td {\r\n",
       "    vertical-align: top;\r\n",
       "    text-align: start;\r\n",
       "}\r\n",
       "details.dni-treeview {\r\n",
       "    padding-left: 1em;\r\n",
       "}\r\n",
       "table td {\r\n",
       "    text-align: start;\r\n",
       "}\r\n",
       "table tr { \r\n",
       "    vertical-align: top; \r\n",
       "    margin: 0em 0px;\r\n",
       "}\r\n",
       "table tr td pre \r\n",
       "{ \r\n",
       "    vertical-align: top !important; \r\n",
       "    margin: 0em 0px !important;\r\n",
       "} \r\n",
       "table th {\r\n",
       "    text-align: start;\r\n",
       "}\r\n",
       "</style>"
      ]
     },
     "metadata": {},
     "output_type": "display_data"
    }
   ],
   "source": [
    "int myValue = 10;\n",
    "s.DoSomething(ref myValue);\n",
    "display(myValue);"
   ]
  },
  {
   "cell_type": "code",
   "execution_count": 41,
   "metadata": {
    "dotnet_interactive": {
     "language": "csharp"
    },
    "polyglot_notebook": {
     "kernelName": "csharp"
    },
    "vscode": {
     "languageId": "polyglot-notebook"
    }
   },
   "outputs": [],
   "source": [
    "// What does ByReference mean?\n",
    "// ByReference means that the method will be able to change the value of this parameter and the change will be reflected in the caller\n",
    "// Do we need to use keyword ref or out only for value types?\n",
    "// Yes, you need to use ref or out for value types only.\n",
    "// And for reference types, you don't need to use ref or out?\n",
    "// Yes, for reference types, you don't need to use ref or out.\n",
    "\n",
    "// https://www.c-sharpcorner.com/UploadFile/ff2f08/ref-vs-out-keywords-in-C-Sharp/\n",
    "// https://stackoverflow.com/questions/388464/whats-the-difference-between-the-ref-and-out-keywords"
   ]
  },
  {
   "cell_type": "markdown",
   "metadata": {},
   "source": [
    "The `myValue` integer is a **value type** and is passed as a reference into the `DoSomething` method where it is modified.  The reference to the `myValue` variable is updated inside the method, and its value reflects that update.\n",
    "\n",
    "Reference types, those types we create with the `class` keyword like `Student` are **ALWAYS** passed by reference into methods. "
   ]
  },
  {
   "cell_type": "code",
   "execution_count": 2,
   "metadata": {
    "dotnet_interactive": {
     "language": "csharp"
    },
    "vscode": {
     "languageId": "polyglot-notebook"
    }
   },
   "outputs": [
    {
     "data": {
      "text/html": [
       "<details open=\"open\" class=\"dni-treeview\"><summary><span class=\"dni-code-hint\"><code>Submission#3+Student+Grade</code></span></summary><div><table><thead><tr></tr></thead><tbody><tr><td>NameOfClass</td><td><div class=\"dni-plaintext\"><pre>Physics</pre></div></td></tr><tr><td>FinalScore</td><td><div class=\"dni-plaintext\"><pre>0.7</pre></div></td></tr></tbody></table></div></details><style>\r\n",
       ".dni-code-hint {\r\n",
       "    font-style: italic;\r\n",
       "    overflow: hidden;\r\n",
       "    white-space: nowrap;\r\n",
       "}\r\n",
       ".dni-treeview {\r\n",
       "    white-space: nowrap;\r\n",
       "}\r\n",
       ".dni-treeview td {\r\n",
       "    vertical-align: top;\r\n",
       "    text-align: start;\r\n",
       "}\r\n",
       "details.dni-treeview {\r\n",
       "    padding-left: 1em;\r\n",
       "}\r\n",
       "table td {\r\n",
       "    text-align: start;\r\n",
       "}\r\n",
       "table tr { \r\n",
       "    vertical-align: top; \r\n",
       "    margin: 0em 0px;\r\n",
       "}\r\n",
       "table tr td pre \r\n",
       "{ \r\n",
       "    vertical-align: top !important; \r\n",
       "    margin: 0em 0px !important;\r\n",
       "} \r\n",
       "table th {\r\n",
       "    text-align: start;\r\n",
       "}\r\n",
       "</style>"
      ]
     },
     "metadata": {},
     "output_type": "display_data"
    },
    {
     "data": {
      "text/html": [
       "<details open=\"open\" class=\"dni-treeview\"><summary><span class=\"dni-code-hint\"><code>Submission#3+Student+Grade</code></span></summary><div><table><thead><tr></tr></thead><tbody><tr><td>NameOfClass</td><td><div class=\"dni-plaintext\"><pre>Physics</pre></div></td></tr><tr><td>FinalScore</td><td><div class=\"dni-plaintext\"><pre>0.9</pre></div></td></tr></tbody></table></div></details><style>\r\n",
       ".dni-code-hint {\r\n",
       "    font-style: italic;\r\n",
       "    overflow: hidden;\r\n",
       "    white-space: nowrap;\r\n",
       "}\r\n",
       ".dni-treeview {\r\n",
       "    white-space: nowrap;\r\n",
       "}\r\n",
       ".dni-treeview td {\r\n",
       "    vertical-align: top;\r\n",
       "    text-align: start;\r\n",
       "}\r\n",
       "details.dni-treeview {\r\n",
       "    padding-left: 1em;\r\n",
       "}\r\n",
       "table td {\r\n",
       "    text-align: start;\r\n",
       "}\r\n",
       "table tr { \r\n",
       "    vertical-align: top; \r\n",
       "    margin: 0em 0px;\r\n",
       "}\r\n",
       "table tr td pre \r\n",
       "{ \r\n",
       "    vertical-align: top !important; \r\n",
       "    margin: 0em 0px !important;\r\n",
       "} \r\n",
       "table th {\r\n",
       "    text-align: start;\r\n",
       "}\r\n",
       "</style>"
      ]
     },
     "metadata": {},
     "output_type": "display_data"
    }
   ],
   "source": [
    "class Student {\n",
    "\n",
    "    // Grade as a reference type is always passed by reference\n",
    "    public void CalculateGrade(Grade g) { // this is a method that takes a parameter of type Grade (a nested class)\n",
    "    // you don't need to instantiate the Grade class here as it is a reference type and is always passed by reference\n",
    "    // and you don't have to use the ref keyword here as it is a reference type and is always passed by reference\n",
    "        \n",
    "        g.FinalScore = 0.9m;\n",
    "        \n",
    "        /*\n",
    "        g = new Grade {\n",
    "            NameOfClass = \"Calculus\",\n",
    "            FinalScore = 0.75m \n",
    "        }; */\n",
    "        \n",
    "    }\n",
    "    \n",
    "    public class Grade { // this is a nested class\n",
    "        public string NameOfClass {get; set;}\n",
    "        public decimal FinalScore { get; set; }\n",
    "    }\n",
    "    \n",
    "}\n",
    "\n",
    "var s= new Student();\n",
    "var g= new Student.Grade() { NameOfClass=\"Physics\", FinalScore=0.7m };\n",
    "\n",
    "display(g);\n",
    "s.CalculateGrade(g);\n",
    "display(g);\n",
    "\n"
   ]
  },
  {
   "cell_type": "code",
   "execution_count": 4,
   "metadata": {
    "dotnet_interactive": {
     "language": "csharp"
    },
    "polyglot_notebook": {
     "kernelName": "csharp"
    },
    "vscode": {
     "languageId": "polyglot-notebook"
    }
   },
   "outputs": [
    {
     "data": {
      "text/plain": [
       "Physics"
      ]
     },
     "metadata": {},
     "output_type": "display_data"
    }
   ],
   "source": [
    "g.NameOfClass"
   ]
  },
  {
   "cell_type": "code",
   "execution_count": 13,
   "metadata": {
    "dotnet_interactive": {
     "language": "csharp"
    },
    "polyglot_notebook": {
     "kernelName": "csharp"
    },
    "vscode": {
     "languageId": "polyglot-notebook"
    }
   },
   "outputs": [],
   "source": [
    "class heating {\n",
    "\n",
    "    public string Name {get; set;}\n",
    "}\n",
    "\n",
    "class building {\n",
    "\n",
    "    public building (string name,  heating heating) {\n",
    "        \n",
    "        this.Name = name;\n",
    "        this.Heating = heating;\n",
    "\n",
    "    }\n",
    "\n",
    "    public string Name {get; set;}\n",
    "\n",
    "    public heating Heating {get; set;}\n",
    "\n",
    "}"
   ]
  },
  {
   "cell_type": "code",
   "execution_count": 14,
   "metadata": {
    "dotnet_interactive": {
     "language": "csharp"
    },
    "polyglot_notebook": {
     "kernelName": "csharp"
    },
    "vscode": {
     "languageId": "polyglot-notebook"
    }
   },
   "outputs": [],
   "source": [
    "var h = new heating(){Name = \"Gas\"};\n",
    "var b = new building(\"mybuilding\", h);"
   ]
  },
  {
   "cell_type": "code",
   "execution_count": 16,
   "metadata": {
    "dotnet_interactive": {
     "language": "csharp"
    },
    "polyglot_notebook": {
     "kernelName": "csharp"
    },
    "vscode": {
     "languageId": "polyglot-notebook"
    }
   },
   "outputs": [
    {
     "data": {
      "text/plain": [
       "Gas"
      ]
     },
     "metadata": {},
     "output_type": "display_data"
    }
   ],
   "source": [
    "b.Heating.Name"
   ]
  },
  {
   "cell_type": "code",
   "execution_count": 17,
   "metadata": {
    "dotnet_interactive": {
     "language": "csharp"
    },
    "polyglot_notebook": {
     "kernelName": "csharp"
    },
    "vscode": {
     "languageId": "polyglot-notebook"
    }
   },
   "outputs": [],
   "source": [
    "class heating {\n",
    "\n",
    "    public string Name {get; set;}\n",
    "}\n",
    "\n",
    "class building {\n",
    "\n",
    "    public building (string name) {\n",
    "        \n",
    "        this.Name = name;\n",
    "\n",
    "    }\n",
    "\n",
    "    public string Name {get; set;}\n",
    "\n",
    "    public heating Heating {get; set;}\n",
    "\n",
    "}"
   ]
  },
  {
   "cell_type": "code",
   "execution_count": 21,
   "metadata": {
    "dotnet_interactive": {
     "language": "csharp"
    },
    "polyglot_notebook": {
     "kernelName": "csharp"
    },
    "vscode": {
     "languageId": "polyglot-notebook"
    }
   },
   "outputs": [
    {
     "data": {
      "text/html": [
       "<details open=\"open\" class=\"dni-treeview\"><summary><span class=\"dni-code-hint\"><code>Submission#18+heating</code></span></summary><div><table><thead><tr></tr></thead><tbody><tr><td>Name</td><td><div class=\"dni-plaintext\"><pre>Gas</pre></div></td></tr></tbody></table></div></details><style>\r\n",
       ".dni-code-hint {\r\n",
       "    font-style: italic;\r\n",
       "    overflow: hidden;\r\n",
       "    white-space: nowrap;\r\n",
       "}\r\n",
       ".dni-treeview {\r\n",
       "    white-space: nowrap;\r\n",
       "}\r\n",
       ".dni-treeview td {\r\n",
       "    vertical-align: top;\r\n",
       "    text-align: start;\r\n",
       "}\r\n",
       "details.dni-treeview {\r\n",
       "    padding-left: 1em;\r\n",
       "}\r\n",
       "table td {\r\n",
       "    text-align: start;\r\n",
       "}\r\n",
       "table tr { \r\n",
       "    vertical-align: top; \r\n",
       "    margin: 0em 0px;\r\n",
       "}\r\n",
       "table tr td pre \r\n",
       "{ \r\n",
       "    vertical-align: top !important; \r\n",
       "    margin: 0em 0px !important;\r\n",
       "} \r\n",
       "table th {\r\n",
       "    text-align: start;\r\n",
       "}\r\n",
       "</style>"
      ]
     },
     "metadata": {},
     "output_type": "display_data"
    }
   ],
   "source": [
    "var b = new building(\"mybuilding\");\n",
    "b.Heating = new heating(){Name=\"Gas\"};\n",
    "b.Heating"
   ]
  },
  {
   "cell_type": "code",
   "execution_count": 95,
   "metadata": {
    "dotnet_interactive": {
     "language": "csharp"
    },
    "polyglot_notebook": {
     "kernelName": "csharp"
    },
    "vscode": {
     "languageId": "polyglot-notebook"
    }
   },
   "outputs": [
    {
     "data": {
      "text/html": [
       "<details open=\"open\" class=\"dni-treeview\"><summary><span class=\"dni-code-hint\"><code>Submission#96+Student+Grade</code></span></summary><div><table><thead><tr></tr></thead><tbody><tr><td>NameOfClass</td><td><div class=\"dni-plaintext\"><pre>Physics</pre></div></td></tr><tr><td>FinalScore</td><td><div class=\"dni-plaintext\"><pre>0.7</pre></div></td></tr></tbody></table></div></details><style>\r\n",
       ".dni-code-hint {\r\n",
       "    font-style: italic;\r\n",
       "    overflow: hidden;\r\n",
       "    white-space: nowrap;\r\n",
       "}\r\n",
       ".dni-treeview {\r\n",
       "    white-space: nowrap;\r\n",
       "}\r\n",
       ".dni-treeview td {\r\n",
       "    vertical-align: top;\r\n",
       "    text-align: start;\r\n",
       "}\r\n",
       "details.dni-treeview {\r\n",
       "    padding-left: 1em;\r\n",
       "}\r\n",
       "table td {\r\n",
       "    text-align: start;\r\n",
       "}\r\n",
       "table tr { \r\n",
       "    vertical-align: top; \r\n",
       "    margin: 0em 0px;\r\n",
       "}\r\n",
       "table tr td pre \r\n",
       "{ \r\n",
       "    vertical-align: top !important; \r\n",
       "    margin: 0em 0px !important;\r\n",
       "} \r\n",
       "table th {\r\n",
       "    text-align: start;\r\n",
       "}\r\n",
       "</style>"
      ]
     },
     "metadata": {},
     "output_type": "display_data"
    },
    {
     "data": {
      "text/html": [
       "<details open=\"open\" class=\"dni-treeview\"><summary><span class=\"dni-code-hint\"><code>Submission#96+Student+Grade</code></span></summary><div><table><thead><tr></tr></thead><tbody><tr><td>NameOfClass</td><td><div class=\"dni-plaintext\"><pre>Calculus</pre></div></td></tr><tr><td>FinalScore</td><td><div class=\"dni-plaintext\"><pre>0.75</pre></div></td></tr></tbody></table></div></details><style>\r\n",
       ".dni-code-hint {\r\n",
       "    font-style: italic;\r\n",
       "    overflow: hidden;\r\n",
       "    white-space: nowrap;\r\n",
       "}\r\n",
       ".dni-treeview {\r\n",
       "    white-space: nowrap;\r\n",
       "}\r\n",
       ".dni-treeview td {\r\n",
       "    vertical-align: top;\r\n",
       "    text-align: start;\r\n",
       "}\r\n",
       "details.dni-treeview {\r\n",
       "    padding-left: 1em;\r\n",
       "}\r\n",
       "table td {\r\n",
       "    text-align: start;\r\n",
       "}\r\n",
       "table tr { \r\n",
       "    vertical-align: top; \r\n",
       "    margin: 0em 0px;\r\n",
       "}\r\n",
       "table tr td pre \r\n",
       "{ \r\n",
       "    vertical-align: top !important; \r\n",
       "    margin: 0em 0px !important;\r\n",
       "} \r\n",
       "table th {\r\n",
       "    text-align: start;\r\n",
       "}\r\n",
       "</style>"
      ]
     },
     "metadata": {},
     "output_type": "display_data"
    }
   ],
   "source": [
    "class Student {\n",
    "\n",
    "    // Grade as a reference type is always passed by reference\n",
    "    public void CalculateGrade(out Grade g) { // this is a method that takes a parameter of type Grade (a nested class)\n",
    "    // we used ref/out here because we want to change the object that was passed in\n",
    "        \n",
    "        // g.FinalScore = 0.9m;\n",
    "\n",
    "        \n",
    "        // you change the object that was passed in by creating a new object and assigning it to the reference that was passed in\n",
    "        // even if it is the same type of object, it is a different object        \n",
    "        g = new Grade {\n",
    "            NameOfClass = \"Calculus\",\n",
    "            FinalScore = 0.75m // this will not be reflected in the output as the reference to the object is changed\n",
    "            // it was changed from the object that was passed in to the new object that was created here\n",
    "            // in order to change the object that was passed in, we would need to use the ref keyword\n",
    "        };\n",
    "        \n",
    "    }\n",
    "    \n",
    "    public class Grade { // this is a nested class\n",
    "        public string NameOfClass {get; set;}\n",
    "        public decimal FinalScore { get; set; }\n",
    "    }\n",
    "    \n",
    "}\n",
    "\n",
    "var s= new Student();\n",
    "var g= new Student.Grade() { NameOfClass=\"Physics\", FinalScore=0.7m};\n",
    "\n",
    "display(g);\n",
    "s.CalculateGrade(out g); // we could also use ref here.\n",
    "display(g);"
   ]
  },
  {
   "cell_type": "code",
   "execution_count": 9,
   "metadata": {
    "dotnet_interactive": {
     "language": "csharp"
    },
    "polyglot_notebook": {
     "kernelName": "csharp"
    },
    "vscode": {
     "languageId": "polyglot-notebook"
    }
   },
   "outputs": [
    {
     "data": {
      "text/html": [
       "<details open=\"open\" class=\"dni-treeview\"><summary><span class=\"dni-code-hint\"><code>Submission#9+Student+Grade</code></span></summary><div><table><thead><tr></tr></thead><tbody><tr><td>NameOfClass</td><td><div class=\"dni-plaintext\"><pre>Physics</pre></div></td></tr><tr><td>FinalScore</td><td><div class=\"dni-plaintext\"><pre>0.9</pre></div></td></tr></tbody></table></div></details><style>\r\n",
       ".dni-code-hint {\r\n",
       "    font-style: italic;\r\n",
       "    overflow: hidden;\r\n",
       "    white-space: nowrap;\r\n",
       "}\r\n",
       ".dni-treeview {\r\n",
       "    white-space: nowrap;\r\n",
       "}\r\n",
       ".dni-treeview td {\r\n",
       "    vertical-align: top;\r\n",
       "    text-align: start;\r\n",
       "}\r\n",
       "details.dni-treeview {\r\n",
       "    padding-left: 1em;\r\n",
       "}\r\n",
       "table td {\r\n",
       "    text-align: start;\r\n",
       "}\r\n",
       "table tr { \r\n",
       "    vertical-align: top; \r\n",
       "    margin: 0em 0px;\r\n",
       "}\r\n",
       "table tr td pre \r\n",
       "{ \r\n",
       "    vertical-align: top !important; \r\n",
       "    margin: 0em 0px !important;\r\n",
       "} \r\n",
       "table th {\r\n",
       "    text-align: start;\r\n",
       "}\r\n",
       "</style>"
      ]
     },
     "metadata": {},
     "output_type": "display_data"
    },
    {
     "data": {
      "text/html": [
       "<details open=\"open\" class=\"dni-treeview\"><summary><span class=\"dni-code-hint\"><code>Submission#9+Student+Grade</code></span></summary><div><table><thead><tr></tr></thead><tbody><tr><td>NameOfClass</td><td><div class=\"dni-plaintext\"><pre>Chemistry</pre></div></td></tr><tr><td>FinalScore</td><td><div class=\"dni-plaintext\"><pre>0.9</pre></div></td></tr></tbody></table></div></details><style>\r\n",
       ".dni-code-hint {\r\n",
       "    font-style: italic;\r\n",
       "    overflow: hidden;\r\n",
       "    white-space: nowrap;\r\n",
       "}\r\n",
       ".dni-treeview {\r\n",
       "    white-space: nowrap;\r\n",
       "}\r\n",
       ".dni-treeview td {\r\n",
       "    vertical-align: top;\r\n",
       "    text-align: start;\r\n",
       "}\r\n",
       "details.dni-treeview {\r\n",
       "    padding-left: 1em;\r\n",
       "}\r\n",
       "table td {\r\n",
       "    text-align: start;\r\n",
       "}\r\n",
       "table tr { \r\n",
       "    vertical-align: top; \r\n",
       "    margin: 0em 0px;\r\n",
       "}\r\n",
       "table tr td pre \r\n",
       "{ \r\n",
       "    vertical-align: top !important; \r\n",
       "    margin: 0em 0px !important;\r\n",
       "} \r\n",
       "table th {\r\n",
       "    text-align: start;\r\n",
       "}\r\n",
       "</style>"
      ]
     },
     "metadata": {},
     "output_type": "display_data"
    }
   ],
   "source": [
    "display(g);\n",
    "var x = g;\n",
    "x.NameOfClass = \"Chemistry\";\n",
    "display(g);\n",
    "// this shows that x and g are references to the same object, which is why changing x also changes g "
   ]
  },
  {
   "cell_type": "code",
   "execution_count": 11,
   "metadata": {
    "dotnet_interactive": {
     "language": "csharp"
    },
    "polyglot_notebook": {
     "kernelName": "csharp"
    },
    "vscode": {
     "languageId": "polyglot-notebook"
    }
   },
   "outputs": [
    {
     "data": {
      "text/html": [
       "<details open=\"open\" class=\"dni-treeview\"><summary><span class=\"dni-code-hint\"><code>Submission#9+Student+Grade</code></span></summary><div><table><thead><tr></tr></thead><tbody><tr><td>NameOfClass</td><td><div class=\"dni-plaintext\"><pre>&lt;null&gt;</pre></div></td></tr><tr><td>FinalScore</td><td><div class=\"dni-plaintext\"><pre>0</pre></div></td></tr></tbody></table></div></details><style>\r\n",
       ".dni-code-hint {\r\n",
       "    font-style: italic;\r\n",
       "    overflow: hidden;\r\n",
       "    white-space: nowrap;\r\n",
       "}\r\n",
       ".dni-treeview {\r\n",
       "    white-space: nowrap;\r\n",
       "}\r\n",
       ".dni-treeview td {\r\n",
       "    vertical-align: top;\r\n",
       "    text-align: start;\r\n",
       "}\r\n",
       "details.dni-treeview {\r\n",
       "    padding-left: 1em;\r\n",
       "}\r\n",
       "table td {\r\n",
       "    text-align: start;\r\n",
       "}\r\n",
       "table tr { \r\n",
       "    vertical-align: top; \r\n",
       "    margin: 0em 0px;\r\n",
       "}\r\n",
       "table tr td pre \r\n",
       "{ \r\n",
       "    vertical-align: top !important; \r\n",
       "    margin: 0em 0px !important;\r\n",
       "} \r\n",
       "table th {\r\n",
       "    text-align: start;\r\n",
       "}\r\n",
       "</style>"
      ]
     },
     "metadata": {},
     "output_type": "display_data"
    }
   ],
   "source": [
    "var x = new Student.Grade();\n",
    "display(x);"
   ]
  },
  {
   "cell_type": "code",
   "execution_count": 100,
   "metadata": {
    "dotnet_interactive": {
     "language": "csharp"
    },
    "polyglot_notebook": {
     "kernelName": "csharp"
    },
    "vscode": {
     "languageId": "polyglot-notebook"
    }
   },
   "outputs": [
    {
     "data": {
      "text/html": [
       "<details open=\"open\" class=\"dni-treeview\"><summary><span class=\"dni-code-hint\"><code>Submission#96+Student+Grade</code></span></summary><div><table><thead><tr></tr></thead><tbody><tr><td>NameOfClass</td><td><div class=\"dni-plaintext\"><pre>Chemistry</pre></div></td></tr><tr><td>FinalScore</td><td><div class=\"dni-plaintext\"><pre>0</pre></div></td></tr></tbody></table></div></details><style>\r\n",
       ".dni-code-hint {\r\n",
       "    font-style: italic;\r\n",
       "    overflow: hidden;\r\n",
       "    white-space: nowrap;\r\n",
       "}\r\n",
       ".dni-treeview {\r\n",
       "    white-space: nowrap;\r\n",
       "}\r\n",
       ".dni-treeview td {\r\n",
       "    vertical-align: top;\r\n",
       "    text-align: start;\r\n",
       "}\r\n",
       "details.dni-treeview {\r\n",
       "    padding-left: 1em;\r\n",
       "}\r\n",
       "table td {\r\n",
       "    text-align: start;\r\n",
       "}\r\n",
       "table tr { \r\n",
       "    vertical-align: top; \r\n",
       "    margin: 0em 0px;\r\n",
       "}\r\n",
       "table tr td pre \r\n",
       "{ \r\n",
       "    vertical-align: top !important; \r\n",
       "    margin: 0em 0px !important;\r\n",
       "} \r\n",
       "table th {\r\n",
       "    text-align: start;\r\n",
       "}\r\n",
       "</style>"
      ]
     },
     "metadata": {},
     "output_type": "display_data"
    }
   ],
   "source": [
    "x.NameOfClass = g.NameOfClass;\n",
    "display(x);"
   ]
  },
  {
   "cell_type": "code",
   "execution_count": 12,
   "metadata": {
    "dotnet_interactive": {
     "language": "csharp"
    },
    "polyglot_notebook": {
     "kernelName": "csharp"
    },
    "vscode": {
     "languageId": "polyglot-notebook"
    }
   },
   "outputs": [
    {
     "data": {
      "text/html": [
       "<details open=\"open\" class=\"dni-treeview\"><summary><span class=\"dni-code-hint\"><code>Submission#9+Student+Grade</code></span></summary><div><table><thead><tr></tr></thead><tbody><tr><td>NameOfClass</td><td><div class=\"dni-plaintext\"><pre>Bio</pre></div></td></tr><tr><td>FinalScore</td><td><div class=\"dni-plaintext\"><pre>0</pre></div></td></tr></tbody></table></div></details><style>\r\n",
       ".dni-code-hint {\r\n",
       "    font-style: italic;\r\n",
       "    overflow: hidden;\r\n",
       "    white-space: nowrap;\r\n",
       "}\r\n",
       ".dni-treeview {\r\n",
       "    white-space: nowrap;\r\n",
       "}\r\n",
       ".dni-treeview td {\r\n",
       "    vertical-align: top;\r\n",
       "    text-align: start;\r\n",
       "}\r\n",
       "details.dni-treeview {\r\n",
       "    padding-left: 1em;\r\n",
       "}\r\n",
       "table td {\r\n",
       "    text-align: start;\r\n",
       "}\r\n",
       "table tr { \r\n",
       "    vertical-align: top; \r\n",
       "    margin: 0em 0px;\r\n",
       "}\r\n",
       "table tr td pre \r\n",
       "{ \r\n",
       "    vertical-align: top !important; \r\n",
       "    margin: 0em 0px !important;\r\n",
       "} \r\n",
       "table th {\r\n",
       "    text-align: start;\r\n",
       "}\r\n",
       "</style>"
      ]
     },
     "metadata": {},
     "output_type": "display_data"
    },
    {
     "data": {
      "text/html": [
       "<details open=\"open\" class=\"dni-treeview\"><summary><span class=\"dni-code-hint\"><code>Submission#9+Student+Grade</code></span></summary><div><table><thead><tr></tr></thead><tbody><tr><td>NameOfClass</td><td><div class=\"dni-plaintext\"><pre>Chemistry</pre></div></td></tr><tr><td>FinalScore</td><td><div class=\"dni-plaintext\"><pre>0.9</pre></div></td></tr></tbody></table></div></details><style>\r\n",
       ".dni-code-hint {\r\n",
       "    font-style: italic;\r\n",
       "    overflow: hidden;\r\n",
       "    white-space: nowrap;\r\n",
       "}\r\n",
       ".dni-treeview {\r\n",
       "    white-space: nowrap;\r\n",
       "}\r\n",
       ".dni-treeview td {\r\n",
       "    vertical-align: top;\r\n",
       "    text-align: start;\r\n",
       "}\r\n",
       "details.dni-treeview {\r\n",
       "    padding-left: 1em;\r\n",
       "}\r\n",
       "table td {\r\n",
       "    text-align: start;\r\n",
       "}\r\n",
       "table tr { \r\n",
       "    vertical-align: top; \r\n",
       "    margin: 0em 0px;\r\n",
       "}\r\n",
       "table tr td pre \r\n",
       "{ \r\n",
       "    vertical-align: top !important; \r\n",
       "    margin: 0em 0px !important;\r\n",
       "} \r\n",
       "table th {\r\n",
       "    text-align: start;\r\n",
       "}\r\n",
       "</style>"
      ]
     },
     "metadata": {},
     "output_type": "display_data"
    }
   ],
   "source": [
    "x.NameOfClass = \"Bio\";\n",
    "display(x);\n",
    "display(g);\n",
    "\n",
    "// nothing has changed for g, because x is a new object that was created here"
   ]
  },
  {
   "cell_type": "code",
   "execution_count": 13,
   "metadata": {
    "dotnet_interactive": {
     "language": "csharp"
    },
    "polyglot_notebook": {
     "kernelName": "csharp"
    },
    "vscode": {
     "languageId": "polyglot-notebook"
    }
   },
   "outputs": [],
   "source": [
    "public class Thing {\n",
    "    public string Name { get; set; }\n",
    "    public int Value { get; set; }  \n",
    "}\n",
    "\n",
    "var a = new Thing() { Name = \"Jeff\", Value = 10 }; \n",
    "var b = new Thing() { Name = \"Dude\", Value = 5 };  "
   ]
  },
  {
   "cell_type": "code",
   "execution_count": 14,
   "metadata": {
    "dotnet_interactive": {
     "language": "csharp"
    },
    "polyglot_notebook": {
     "kernelName": "csharp"
    },
    "vscode": {
     "languageId": "polyglot-notebook"
    }
   },
   "outputs": [
    {
     "data": {
      "text/html": [
       "<details open=\"open\" class=\"dni-treeview\"><summary><span class=\"dni-code-hint\"><code>Submission#14+Thing</code></span></summary><div><table><thead><tr></tr></thead><tbody><tr><td>Name</td><td><div class=\"dni-plaintext\"><pre>Jeff</pre></div></td></tr><tr><td>Value</td><td><div class=\"dni-plaintext\"><pre>5</pre></div></td></tr></tbody></table></div></details><style>\r\n",
       ".dni-code-hint {\r\n",
       "    font-style: italic;\r\n",
       "    overflow: hidden;\r\n",
       "    white-space: nowrap;\r\n",
       "}\r\n",
       ".dni-treeview {\r\n",
       "    white-space: nowrap;\r\n",
       "}\r\n",
       ".dni-treeview td {\r\n",
       "    vertical-align: top;\r\n",
       "    text-align: start;\r\n",
       "}\r\n",
       "details.dni-treeview {\r\n",
       "    padding-left: 1em;\r\n",
       "}\r\n",
       "table td {\r\n",
       "    text-align: start;\r\n",
       "}\r\n",
       "table tr { \r\n",
       "    vertical-align: top; \r\n",
       "    margin: 0em 0px;\r\n",
       "}\r\n",
       "table tr td pre \r\n",
       "{ \r\n",
       "    vertical-align: top !important; \r\n",
       "    margin: 0em 0px !important;\r\n",
       "} \r\n",
       "table th {\r\n",
       "    text-align: start;\r\n",
       "}\r\n",
       "</style>"
      ]
     },
     "metadata": {},
     "output_type": "display_data"
    },
    {
     "data": {
      "text/html": [
       "<details open=\"open\" class=\"dni-treeview\"><summary><span class=\"dni-code-hint\"><code>Submission#14+Thing</code></span></summary><div><table><thead><tr></tr></thead><tbody><tr><td>Name</td><td><div class=\"dni-plaintext\"><pre>Bearded Dude</pre></div></td></tr><tr><td>Value</td><td><div class=\"dni-plaintext\"><pre>5</pre></div></td></tr></tbody></table></div></details><style>\r\n",
       ".dni-code-hint {\r\n",
       "    font-style: italic;\r\n",
       "    overflow: hidden;\r\n",
       "    white-space: nowrap;\r\n",
       "}\r\n",
       ".dni-treeview {\r\n",
       "    white-space: nowrap;\r\n",
       "}\r\n",
       ".dni-treeview td {\r\n",
       "    vertical-align: top;\r\n",
       "    text-align: start;\r\n",
       "}\r\n",
       "details.dni-treeview {\r\n",
       "    padding-left: 1em;\r\n",
       "}\r\n",
       "table td {\r\n",
       "    text-align: start;\r\n",
       "}\r\n",
       "table tr { \r\n",
       "    vertical-align: top; \r\n",
       "    margin: 0em 0px;\r\n",
       "}\r\n",
       "table tr td pre \r\n",
       "{ \r\n",
       "    vertical-align: top !important; \r\n",
       "    margin: 0em 0px !important;\r\n",
       "} \r\n",
       "table th {\r\n",
       "    text-align: start;\r\n",
       "}\r\n",
       "</style>"
      ]
     },
     "metadata": {},
     "output_type": "display_data"
    },
    {
     "data": {
      "text/html": [
       "<details open=\"open\" class=\"dni-treeview\"><summary><span class=\"dni-code-hint\"><code>Submission#14+Thing</code></span></summary><div><table><thead><tr></tr></thead><tbody><tr><td>Name</td><td><div class=\"dni-plaintext\"><pre>Jeff</pre></div></td></tr><tr><td>Value</td><td><div class=\"dni-plaintext\"><pre>10</pre></div></td></tr></tbody></table></div></details><style>\r\n",
       ".dni-code-hint {\r\n",
       "    font-style: italic;\r\n",
       "    overflow: hidden;\r\n",
       "    white-space: nowrap;\r\n",
       "}\r\n",
       ".dni-treeview {\r\n",
       "    white-space: nowrap;\r\n",
       "}\r\n",
       ".dni-treeview td {\r\n",
       "    vertical-align: top;\r\n",
       "    text-align: start;\r\n",
       "}\r\n",
       "details.dni-treeview {\r\n",
       "    padding-left: 1em;\r\n",
       "}\r\n",
       "table td {\r\n",
       "    text-align: start;\r\n",
       "}\r\n",
       "table tr { \r\n",
       "    vertical-align: top; \r\n",
       "    margin: 0em 0px;\r\n",
       "}\r\n",
       "table tr td pre \r\n",
       "{ \r\n",
       "    vertical-align: top !important; \r\n",
       "    margin: 0em 0px !important;\r\n",
       "} \r\n",
       "table th {\r\n",
       "    text-align: start;\r\n",
       "}\r\n",
       "</style>"
      ]
     },
     "metadata": {},
     "output_type": "display_data"
    }
   ],
   "source": [
    "b.Name = a.Name;\n",
    "display(b);\n",
    "b.Name = \"Bearded Dude\";\n",
    "display(b);\n",
    "display(a);\n",
    "\n",
    "// why did the value of a not change when we changed the value of b?\n",
    "// because a and b are references to different objects\n",
    "// when we changed the value of b, we did not change the value of a"
   ]
  },
  {
   "cell_type": "markdown",
   "metadata": {},
   "source": [
    "## Delegates\n",
    "\n",
    "Now that we know what a method is and how to interact with them, sometimes we want to pass a pointer to that method around our program.  This pointer to the method is called a **Delegate** and allows us to call the method from another location.  Delegates are defined with the method signature that they need to match in order to reference that method.  The [official documentation on delegates](https://docs.microsoft.com/dotnet/csharp/programming-guide/delegates?WT.mc_id=visualstudio-twitch-jefritz) has more on defining a delegate.\n",
    "\n",
    "Delegates are sometimes referred to as **Callback Functions**\n",
    "\n",
    "Let's take a look at passing a delegate for a pointer into another method."
   ]
  },
  {
   "cell_type": "code",
   "execution_count": 108,
   "metadata": {
    "dotnet_interactive": {
     "language": "csharp"
    },
    "vscode": {
     "languageId": "polyglot-notebook"
    }
   },
   "outputs": [
    {
     "data": {
      "text/plain": [
       "Added: 15"
      ]
     },
     "metadata": {},
     "output_type": "display_data"
    }
   ],
   "source": [
    "\n",
    "class Student {\n",
    "    \n",
    "    public delegate int CalculateHandler( // CalculateHandler is the name of the delegate. ....Handler is a common naming convention for delegates\n",
    "        int myArg1, \n",
    "        int myArg2); // and these are the input parameters of the delegate\n",
    "    \n",
    "    public int Calculate( // this is a method that takes a delegate as a parameter\n",
    "        int arg1, \n",
    "        int arg2, \n",
    "        CalculateHandler handler) { // this is the delegate parameter with the name handler with informationabout the arguments arg1 and arg2 of the delegate\n",
    "        \n",
    "        var output = handler(arg1, arg2); // here we are calling the delegate and passing in the arguments arg1 and arg2\n",
    "        return output;\n",
    "        \n",
    "    }\n",
    "    \n",
    "    public int Add(int arg1, int arg2) {\n",
    "        var output = arg1 + arg2;\n",
    "        display(\"Added: \" + output);\n",
    "        return output;\n",
    "    }\n",
    "    \n",
    "    public int Subtract(int arg1, int arg2) {\n",
    "        var output = arg1 - arg2;\n",
    "        display(\"Subtracted: \" + output);\n",
    "        return output;\n",
    "    }\n",
    "    \n",
    "}\n",
    "\n",
    "var s = new Student();\n",
    "\n",
    "// instantiating a delegate is used with \n",
    "// a NEW keyword wrapping the name of \n",
    "// the method to be assigned\n",
    "var calcHandler = new Student.CalculateHandler(s.Add); // here we are instantiating the delegate and passing in the method Add\n",
    "s.Calculate(10, 5, calcHandler); // here we are calling the method Calculate and passing in the arguments 10 and 5 and the delegate calcHandler"
   ]
  },
  {
   "cell_type": "markdown",
   "metadata": {},
   "source": [
    "We can also assign **anonymous methods** to a delegate to be passed around.  An anonymous method is defined with some paraenthesis enclosing the parameter list and an expression body indicated with the fat-arrow `=>` notation.  \n",
    "\n",
    "Consider this code to work with our Student CalculateHandler:"
   ]
  },
  {
   "cell_type": "code",
   "execution_count": 96,
   "metadata": {
    "dotnet_interactive": {
     "language": "csharp"
    },
    "vscode": {
     "languageId": "polyglot-notebook"
    }
   },
   "outputs": [
    {
     "data": {
      "text/html": [
       "<div class=\"dni-plaintext\"><pre>50</pre></div><style>\r\n",
       ".dni-code-hint {\r\n",
       "    font-style: italic;\r\n",
       "    overflow: hidden;\r\n",
       "    white-space: nowrap;\r\n",
       "}\r\n",
       ".dni-treeview {\r\n",
       "    white-space: nowrap;\r\n",
       "}\r\n",
       ".dni-treeview td {\r\n",
       "    vertical-align: top;\r\n",
       "    text-align: start;\r\n",
       "}\r\n",
       "details.dni-treeview {\r\n",
       "    padding-left: 1em;\r\n",
       "}\r\n",
       "table td {\r\n",
       "    text-align: start;\r\n",
       "}\r\n",
       "table tr { \r\n",
       "    vertical-align: top; \r\n",
       "    margin: 0em 0px;\r\n",
       "}\r\n",
       "table tr td pre \r\n",
       "{ \r\n",
       "    vertical-align: top !important; \r\n",
       "    margin: 0em 0px !important;\r\n",
       "} \r\n",
       "table th {\r\n",
       "    text-align: start;\r\n",
       "}\r\n",
       "</style>"
      ]
     },
     "metadata": {},
     "output_type": "display_data"
    }
   ],
   "source": [
    "var s = new Student();\n",
    "\n",
    "var multiply = new Student.CalculateHandler(\n",
    "    (foo, bar) => foo * bar);\n",
    "display(s.Calculate(10, 5, multiply));"
   ]
  },
  {
   "cell_type": "markdown",
   "metadata": {},
   "source": [
    "We can also directly cast a delegate when the type is specifed, allowing for implicit conversion to the delegate type.  This makes our code a little more terse, but the intent is still clear:\n"
   ]
  },
  {
   "cell_type": "code",
   "execution_count": 97,
   "metadata": {
    "dotnet_interactive": {
     "language": "csharp"
    },
    "vscode": {
     "languageId": "polyglot-notebook"
    }
   },
   "outputs": [
    {
     "data": {
      "text/plain": [
       "Added: 15"
      ]
     },
     "metadata": {},
     "output_type": "display_data"
    }
   ],
   "source": [
    "var s = new Student();\n",
    "\n",
    "s.Calculate(10, 5, s.Add);"
   ]
  },
  {
   "cell_type": "markdown",
   "metadata": {},
   "source": [
    "### Multicast delegates\n",
    "\n",
    "Defined delegate types can be [**multicast**](https://docs.microsoft.com/dotnet/csharp/programming-guide/delegates/how-to-combine-delegates-multicast-delegates?WT.mc_id=visualstudio-twitch-jefritz) allowing them to point to multiple methods to be called.  This sounds a LITTLE weird, but it means that we can stack executions and pass that entire stack into another method.  Let's take a look at that `Student` and `CalculateHandler` from our previous example again."
   ]
  },
  {
   "cell_type": "code",
   "execution_count": 18,
   "metadata": {
    "dotnet_interactive": {
     "language": "csharp"
    },
    "vscode": {
     "languageId": "polyglot-notebook"
    }
   },
   "outputs": [
    {
     "data": {
      "text/plain": [
       "Added: 15"
      ]
     },
     "metadata": {},
     "output_type": "display_data"
    },
    {
     "data": {
      "text/plain": [
       "Multiplied: 50"
      ]
     },
     "metadata": {},
     "output_type": "display_data"
    },
    {
     "data": {
      "text/html": [
       "<div class=\"dni-plaintext\"><pre>50</pre></div><style>\r\n",
       ".dni-code-hint {\r\n",
       "    font-style: italic;\r\n",
       "    overflow: hidden;\r\n",
       "    white-space: nowrap;\r\n",
       "}\r\n",
       ".dni-treeview {\r\n",
       "    white-space: nowrap;\r\n",
       "}\r\n",
       ".dni-treeview td {\r\n",
       "    vertical-align: top;\r\n",
       "    text-align: start;\r\n",
       "}\r\n",
       "details.dni-treeview {\r\n",
       "    padding-left: 1em;\r\n",
       "}\r\n",
       "table td {\r\n",
       "    text-align: start;\r\n",
       "}\r\n",
       "table tr { \r\n",
       "    vertical-align: top; \r\n",
       "    margin: 0em 0px;\r\n",
       "}\r\n",
       "table tr td pre \r\n",
       "{ \r\n",
       "    vertical-align: top !important; \r\n",
       "    margin: 0em 0px !important;\r\n",
       "} \r\n",
       "table th {\r\n",
       "    text-align: start;\r\n",
       "}\r\n",
       "</style>"
      ]
     },
     "metadata": {},
     "output_type": "display_data"
    }
   ],
   "source": [
    "var s = new Student();\n",
    "\n",
    "// Define an initial delegate variable\n",
    "var calculation =  new Student.CalculateHandler(s.Subtract);\n",
    "\n",
    "// Add another method to the delegate\n",
    "calculation += new Student.CalculateHandler(s.Add);\n",
    "\n",
    "// Add another method (anonymus) to the delegate\n",
    "calculation += new Student.CalculateHandler((arg1, arg2) => {\n",
    "    var outValue = arg1 * arg2; \n",
    "    display(\"Multiplied: \" + outValue);\n",
    "    return outValue;\n",
    "});\n",
    "\n",
    "// Remove a method from the delegate\n",
    "calculation -= new Student.CalculateHandler(s.Subtract);\n",
    "\n",
    "// Call the delegate\n",
    "s.Calculate(10, 5, calculation);"
   ]
  },
  {
   "cell_type": "markdown",
   "metadata": {},
   "source": [
    "Delegates can be combined with `+` and `-` operators to stack them and remove them from the stack to be executed.  As we'll see with **Events** in the next section, adding and removing references to delegates is very important.\n",
    "\n",
    "This is different from executing a collection of delegates as seen below."
   ]
  },
  {
   "cell_type": "code",
   "execution_count": 16,
   "metadata": {
    "dotnet_interactive": {
     "language": "csharp"
    },
    "vscode": {
     "languageId": "polyglot-notebook"
    }
   },
   "outputs": [
    {
     "data": {
      "text/plain": [
       "Subtracted: 5"
      ]
     },
     "metadata": {},
     "output_type": "display_data"
    },
    {
     "data": {
      "text/html": [
       "<div class=\"dni-plaintext\"><pre>5</pre></div><style>\r\n",
       ".dni-code-hint {\r\n",
       "    font-style: italic;\r\n",
       "    overflow: hidden;\r\n",
       "    white-space: nowrap;\r\n",
       "}\r\n",
       ".dni-treeview {\r\n",
       "    white-space: nowrap;\r\n",
       "}\r\n",
       ".dni-treeview td {\r\n",
       "    vertical-align: top;\r\n",
       "    text-align: start;\r\n",
       "}\r\n",
       "details.dni-treeview {\r\n",
       "    padding-left: 1em;\r\n",
       "}\r\n",
       "table td {\r\n",
       "    text-align: start;\r\n",
       "}\r\n",
       "table tr { \r\n",
       "    vertical-align: top; \r\n",
       "    margin: 0em 0px;\r\n",
       "}\r\n",
       "table tr td pre \r\n",
       "{ \r\n",
       "    vertical-align: top !important; \r\n",
       "    margin: 0em 0px !important;\r\n",
       "} \r\n",
       "table th {\r\n",
       "    text-align: start;\r\n",
       "}\r\n",
       "</style>"
      ]
     },
     "metadata": {},
     "output_type": "display_data"
    },
    {
     "data": {
      "text/plain": [
       "Added: 15"
      ]
     },
     "metadata": {},
     "output_type": "display_data"
    },
    {
     "data": {
      "text/html": [
       "<div class=\"dni-plaintext\"><pre>15</pre></div><style>\r\n",
       ".dni-code-hint {\r\n",
       "    font-style: italic;\r\n",
       "    overflow: hidden;\r\n",
       "    white-space: nowrap;\r\n",
       "}\r\n",
       ".dni-treeview {\r\n",
       "    white-space: nowrap;\r\n",
       "}\r\n",
       ".dni-treeview td {\r\n",
       "    vertical-align: top;\r\n",
       "    text-align: start;\r\n",
       "}\r\n",
       "details.dni-treeview {\r\n",
       "    padding-left: 1em;\r\n",
       "}\r\n",
       "table td {\r\n",
       "    text-align: start;\r\n",
       "}\r\n",
       "table tr { \r\n",
       "    vertical-align: top; \r\n",
       "    margin: 0em 0px;\r\n",
       "}\r\n",
       "table tr td pre \r\n",
       "{ \r\n",
       "    vertical-align: top !important; \r\n",
       "    margin: 0em 0px !important;\r\n",
       "} \r\n",
       "table th {\r\n",
       "    text-align: start;\r\n",
       "}\r\n",
       "</style>"
      ]
     },
     "metadata": {},
     "output_type": "display_data"
    }
   ],
   "source": [
    "\n",
    "class Student {\n",
    "    \n",
    "    // Define a delegate type\n",
    "    public delegate int CalculateHandler(int myArg1, int myArg2);\n",
    "    \n",
    "    // Define a method that takes a delegate as a parameter\n",
    "    public int Calculate(int arg1, int arg2, params CalculateHandler[] handlers) { // here we are passing in an array of delegates\n",
    "        \n",
    "        foreach (var handler in handlers) { // we go through the array of delegates and call each delegate\n",
    "            display(handler(arg1, arg2));\n",
    "        }\n",
    "\n",
    "        return 0;\n",
    "        \n",
    "    }\n",
    "    \n",
    "    public int Add(int arg1, int arg2) {\n",
    "        var output = arg1 + arg2;\n",
    "        display(\"Added: \" + output);\n",
    "        return output;\n",
    "    }\n",
    "    \n",
    "    public int Subtract(int arg1, int arg2) {\n",
    "        var output = arg1 - arg2;\n",
    "        display(\"Subtracted: \" + output);\n",
    "        return output;\n",
    "    }\n",
    "    \n",
    "}\n",
    "\n",
    "var s = new Student(); // here we are instantiating the Student class\n",
    "\n",
    "// instantiating a delegate is used with a NEW keyword wrapping the name of the method to be assigned\n",
    "s.Calculate(10, 5, s.Subtract, s.Add); // here we are calling the method Calculate and passing in the arguments 10 and 5 and the delegates s.Subtract and s.Add"
   ]
  },
  {
   "cell_type": "code",
   "execution_count": 17,
   "metadata": {
    "dotnet_interactive": {
     "language": "csharp"
    },
    "polyglot_notebook": {
     "kernelName": "csharp"
    },
    "vscode": {
     "languageId": "polyglot-notebook"
    }
   },
   "outputs": [
    {
     "data": {
      "text/plain": [
       "Subtracted: 5"
      ]
     },
     "metadata": {},
     "output_type": "display_data"
    },
    {
     "data": {
      "text/html": [
       "<div class=\"dni-plaintext\"><pre>5</pre></div><style>\r\n",
       ".dni-code-hint {\r\n",
       "    font-style: italic;\r\n",
       "    overflow: hidden;\r\n",
       "    white-space: nowrap;\r\n",
       "}\r\n",
       ".dni-treeview {\r\n",
       "    white-space: nowrap;\r\n",
       "}\r\n",
       ".dni-treeview td {\r\n",
       "    vertical-align: top;\r\n",
       "    text-align: start;\r\n",
       "}\r\n",
       "details.dni-treeview {\r\n",
       "    padding-left: 1em;\r\n",
       "}\r\n",
       "table td {\r\n",
       "    text-align: start;\r\n",
       "}\r\n",
       "table tr { \r\n",
       "    vertical-align: top; \r\n",
       "    margin: 0em 0px;\r\n",
       "}\r\n",
       "table tr td pre \r\n",
       "{ \r\n",
       "    vertical-align: top !important; \r\n",
       "    margin: 0em 0px !important;\r\n",
       "} \r\n",
       "table th {\r\n",
       "    text-align: start;\r\n",
       "}\r\n",
       "</style>"
      ]
     },
     "metadata": {},
     "output_type": "display_data"
    },
    {
     "data": {
      "text/plain": [
       "Added: 15"
      ]
     },
     "metadata": {},
     "output_type": "display_data"
    },
    {
     "data": {
      "text/html": [
       "<div class=\"dni-plaintext\"><pre>15</pre></div><style>\r\n",
       ".dni-code-hint {\r\n",
       "    font-style: italic;\r\n",
       "    overflow: hidden;\r\n",
       "    white-space: nowrap;\r\n",
       "}\r\n",
       ".dni-treeview {\r\n",
       "    white-space: nowrap;\r\n",
       "}\r\n",
       ".dni-treeview td {\r\n",
       "    vertical-align: top;\r\n",
       "    text-align: start;\r\n",
       "}\r\n",
       "details.dni-treeview {\r\n",
       "    padding-left: 1em;\r\n",
       "}\r\n",
       "table td {\r\n",
       "    text-align: start;\r\n",
       "}\r\n",
       "table tr { \r\n",
       "    vertical-align: top; \r\n",
       "    margin: 0em 0px;\r\n",
       "}\r\n",
       "table tr td pre \r\n",
       "{ \r\n",
       "    vertical-align: top !important; \r\n",
       "    margin: 0em 0px !important;\r\n",
       "} \r\n",
       "table th {\r\n",
       "    text-align: start;\r\n",
       "}\r\n",
       "</style>"
      ]
     },
     "metadata": {},
     "output_type": "display_data"
    }
   ],
   "source": [
    "// alternatively, we can instantiate the delegates first and then pass them in\n",
    "var subtracthandler =  new Student.CalculateHandler(s.Subtract);\n",
    "var additionhandler =  new Student.CalculateHandler(s.Add);\n",
    "\n",
    "s.Calculate(10, 5, subtracthandler, additionhandler);\n"
   ]
  },
  {
   "cell_type": "code",
   "execution_count": 110,
   "metadata": {
    "dotnet_interactive": {
     "language": "csharp"
    },
    "polyglot_notebook": {
     "kernelName": "csharp"
    },
    "vscode": {
     "languageId": "polyglot-notebook"
    }
   },
   "outputs": [],
   "source": [
    "// You can chain methods with delegates. You can decide, which method should be called first and which second etc. "
   ]
  },
  {
   "cell_type": "markdown",
   "metadata": {},
   "source": [
    "## Events\n",
    "\n",
    "[Events](https://docs.microsoft.com/dotnet/csharp/programming-guide/events?WT.mc_id=visualstudio-twitch-jefritz) allow us to notify when something has happened inside of our class.  Events build on the concept of delegates as they reference another method that should be called when the event is **raised**.  We define an event with access modifiers and by .NET standard practice, two arguments:  \n",
    "\n",
    "- the sender \n",
    "- a class that contains any arguments about the event being raised.  \n",
    "\n",
    "The return type from an event is a delegate of type `EventHandler` that defines these two arguments.  \n",
    "\n",
    "Let's look at a simple example:"
   ]
  },
  {
   "cell_type": "code",
   "execution_count": 19,
   "metadata": {
    "dotnet_interactive": {
     "language": "csharp"
    },
    "vscode": {
     "languageId": "polyglot-notebook"
    }
   },
   "outputs": [
    {
     "data": {
      "text/plain": [
       "I'm now enrolled for the year 2021"
      ]
     },
     "metadata": {},
     "output_type": "display_data"
    }
   ],
   "source": [
    "class EnrolledEventArgs : EventArgs { // this is a class that inherits from EventArgs. \n",
    "// EventArgs is a class that is used to pass information about an event to the event handler\n",
    "// Is EventArgs a predefined class in C#?\n",
    "// Yes, it is a predefined class in C# that is used to pass information about an event to the event handler\n",
    "    public short YearEnrolled {get; set;} // this is a property of the class EnrolledEventArgs\n",
    "}\n",
    "\n",
    "// Is EventArgs a predefined class in C#?\n",
    "// Yes, it is a predefined class in C# that is used to pass information about an event to the event handler\n",
    "\n",
    "class Student {\n",
    "    \n",
    "    public delegate void EnrolledEventHandler( // this is a delegate that takes two parameters: object sender and th object args of type EnrolledEventArgs (a class that inherits from EventArgs)\n",
    "        object sender, // this by convention in which events are written\n",
    "        EnrolledEventArgs args);\n",
    "    public event EnrolledEventHandler Enrolled; // what is this? this is an event that is of type EnrolledEventHandler (a delegate)\n",
    "    \n",
    "    public void Enroll() { // this is a method that raises the event Enrolled\n",
    "        \n",
    "        // do some long running process on another service, another machine, somewhere else\n",
    "        \n",
    "        Enrolled(this, // this is the object that raised the event: \"Call the Enrolled event and pass in the object that raised the event\"\n",
    "            new EnrolledEventArgs { // this is the object of type EnrolledEventArgs that is passed to the event handler\n",
    "                YearEnrolled = 2021\n",
    "            });\n",
    "        \n",
    "    }\n",
    "    \n",
    "}\n",
    "\n",
    "var s = new Student();\n",
    "// you can subscribe to the event Enrolled by using the += operator\n",
    "s.Enrolled += (sender, args) // the sender is the object that raised the event and the args is the object of type EnrolledEventArgs that is passed to the event handler\n",
    "    => display(\"I'm now enrolled for the year \" + args.YearEnrolled); // this is an anonymous method that is subscribed to the event Enrolled. args \n",
    "// Do I neeed to instantiate the EnrolledEventArgs class? No, it is instantiated here in the event handler\n",
    "s.Enroll();"
   ]
  },
  {
   "cell_type": "code",
   "execution_count": null,
   "metadata": {
    "dotnet_interactive": {
     "language": "csharp"
    },
    "polyglot_notebook": {
     "kernelName": "csharp"
    },
    "vscode": {
     "languageId": "polyglot-notebook"
    }
   },
   "outputs": [],
   "source": [
    "/*\n",
    "\n",
    "1. So I am subscribing the event Enrolled to the anonymous method that combines the output string \"I'm now enrolled for the year \" with the YearEnrolled property of the object of type EnrolledEventArgs that is passed to the event handler \n",
    "\n",
    "2. Then I am calling the method Enroll() which raises the event Enrolled, which changes the value of the YearEnrolled property of the object of type EnrolledEventArgs that is passed to the event handler to 2021\n",
    "\n",
    "3. And then the anonymous method that is subscribed to the event Enrolled is called and the output string \"I'm now enrolled for the year \" is combined with the YearEnrolled property of the object of type EnrolledEventArgs that is passed to the event handler which is 2021\n",
    "\n",
    "4. See that a new object with the type EnrolledEventArgs is instantiated in the event handler and the value of the YearEnrolled property of this object is changed to 2021 in the method Enroll() which raises the event Enrolled\n",
    "*/"
   ]
  },
  {
   "cell_type": "markdown",
   "metadata": {},
   "source": [
    "### Generic EventHandler definition\n",
    "\n",
    "Insted of writing your own delegate for each event, [you can use a generic `EventHandler<T>`](https://docs.microsoft.com/dotnet/csharp/programming-guide/events/how-to-publish-events-that-conform-to-net-framework-guidelines?WT.mc_id=visualstudio-twitch-jefritz#example) and specify the type of the `EventArgs` (*e.g. the class that you specified in the first example*) that you would like the Event to return."
   ]
  },
  {
   "cell_type": "code",
   "execution_count": 69,
   "metadata": {
    "dotnet_interactive": {
     "language": "csharp"
    },
    "vscode": {
     "languageId": "polyglot-notebook"
    }
   },
   "outputs": [
    {
     "data": {
      "text/plain": [
       "I'm now enrolled for the year 2021"
      ]
     },
     "metadata": {},
     "output_type": "display_data"
    }
   ],
   "source": [
    "class Student {\n",
    "    \n",
    "    // A generic event handler that has the same signature and EventArguments of the type inside <>\n",
    "    public event EventHandler<EnrolledEventArgs> Enrolled;\n",
    "    \n",
    "    public void Enroll() {\n",
    "        \n",
    "        // do some long running process on another service, another machine, somewhere else\n",
    "        \n",
    "        Enrolled(this, new EnrolledEventArgs {YearEnrolled = 2021});\n",
    "        \n",
    "    }\n",
    "    \n",
    "}\n",
    "\n",
    "var s = new Student();\n",
    "s.Enrolled += (sender, args) => display(\"I'm now enrolled for the year \" + args.YearEnrolled);\n",
    "s.Enroll();"
   ]
  },
  {
   "cell_type": "code",
   "execution_count": 20,
   "metadata": {
    "dotnet_interactive": {
     "language": "csharp"
    },
    "polyglot_notebook": {
     "kernelName": "csharp"
    },
    "vscode": {
     "languageId": "polyglot-notebook"
    }
   },
   "outputs": [
    {
     "data": {
      "text/plain": [
       "Withdrawal successful"
      ]
     },
     "metadata": {},
     "output_type": "display_data"
    },
    {
     "name": "stdout",
     "output_type": "stream",
     "text": [
      "I DECLEARE BANKRUPTCY!\r\n"
     ]
    }
   ],
   "source": [
    "class BankruptcyEventArgs : EventArgs {\n",
    "    public decimal Debt { get; set; }\n",
    "    public string Message => \"I DECLEARE BANKRUPTCY!\"; \n",
    "}\n",
    "\n",
    "class Account {\n",
    "    \n",
    "    public event EventHandler<BankruptcyEventArgs> Bankruptcy; // this is an event of type EventHandler<BankruptcyEventArgs>\n",
    "    \n",
    "    \n",
    "    public void Withdraw(decimal amount) {\n",
    "        \n",
    "        // if the withdrawal amount is greater than 1000, raise the Bankruptcy event\n",
    "        if (amount > 1000) {\n",
    "            Bankruptcy(this, new BankruptcyEventArgs { Debt = amount }); \n",
    "        }\n",
    "        else {\n",
    "            display(\"Withdrawal successful\");\n",
    "        }   \n",
    "        \n",
    "    }\n",
    "    \n",
    "}\n",
    "\n",
    "var a = new Account();\n",
    "a.Bankruptcy += (sender, args) // this is an anonymous method that is subscribed to the event Bankruptcy\n",
    "    => Console.WriteLine(args.Message);\n",
    "a.Withdraw(999);\n",
    "a.Withdraw(1001);\n",
    "\n",
    "// So event is called through EventHandler and EventArgs is the type of the object that is passed to the event handler\n"
   ]
  },
  {
   "cell_type": "markdown",
   "metadata": {},
   "source": [
    "## Partial Keyword\n",
    "\n",
    "Classes can be defined across multiple files in separate class code blocks and then stitched together as a single class object.  This type of file layout and class design helps facilitate generating a class from metadata and allowing customization of that class in a second or third file.  You can use the [`partial` keyword to define each of the parts of the class](https://docs.microsoft.com/dotnet/csharp/programming-guide/classes-and-structs/partial-classes-and-methods?WT.mc_id=visualstudio-twitch-jefritz).\n",
    "\n",
    "Check out the use of the `partial` keyword to define two partial `Teacher` classes and even a **partial method** called `GetAge` that is defined in one part and executed from the other.  Try removing the implementation of `GetAge` from the second class and see how the `DisplayAge` reflects this."
   ]
  },
  {
   "cell_type": "code",
   "execution_count": 82,
   "metadata": {
    "dotnet_interactive": {
     "language": "csharp"
    },
    "vscode": {
     "languageId": "polyglot-notebook"
    }
   },
   "outputs": [
    {
     "data": {
      "text/html": [
       "<details open=\"open\" class=\"dni-treeview\"><summary><span class=\"dni-code-hint\"><code>Submission#83+Teacher</code></span></summary><div><table><thead><tr></tr></thead><tbody><tr><td>Name</td><td><div class=\"dni-plaintext\"><pre>Fritz</pre></div></td></tr><tr><td>BirthDate</td><td><span>2000-08-28 00:00:00Z</span></td></tr></tbody></table></div></details><style>\r\n",
       ".dni-code-hint {\r\n",
       "    font-style: italic;\r\n",
       "    overflow: hidden;\r\n",
       "    white-space: nowrap;\r\n",
       "}\r\n",
       ".dni-treeview {\r\n",
       "    white-space: nowrap;\r\n",
       "}\r\n",
       ".dni-treeview td {\r\n",
       "    vertical-align: top;\r\n",
       "    text-align: start;\r\n",
       "}\r\n",
       "details.dni-treeview {\r\n",
       "    padding-left: 1em;\r\n",
       "}\r\n",
       "table td {\r\n",
       "    text-align: start;\r\n",
       "}\r\n",
       "table tr { \r\n",
       "    vertical-align: top; \r\n",
       "    margin: 0em 0px;\r\n",
       "}\r\n",
       "table tr td pre \r\n",
       "{ \r\n",
       "    vertical-align: top !important; \r\n",
       "    margin: 0em 0px !important;\r\n",
       "} \r\n",
       "table th {\r\n",
       "    text-align: start;\r\n",
       "}\r\n",
       "</style>"
      ]
     },
     "metadata": {},
     "output_type": "display_data"
    },
    {
     "data": {
      "text/plain": [
       "Get Age: 23"
      ]
     },
     "metadata": {},
     "output_type": "display_data"
    }
   ],
   "source": [
    "// This is one part of the class and would be stored in one file\n",
    "public partial class Teacher {\n",
    "    \n",
    "    public string Name { get; set; }\n",
    "    \n",
    "    public void DisplayAge() {\n",
    "        GetAge();\n",
    "    }\n",
    "\n",
    "    // Definition of the GetAge method\n",
    "    partial void GetAge(); \n",
    "    \n",
    "}\n",
    "\n",
    "public partial class Teacher {\n",
    "    \n",
    "    private DateTime _BirthDate;\n",
    "    \n",
    "    public DateTime BirthDate {\n",
    "        get { return _BirthDate; }\n",
    "        set { _BirthDate = value;}\n",
    "    }\n",
    "    \n",
    "    // Implementation of the GetAge method\n",
    "    partial void GetAge()  {\n",
    "        display(\"Get Age: \" + (int)DateTime.Now.Subtract(_BirthDate).TotalDays / 365);\n",
    "    }\n",
    "    \n",
    "}\n",
    "\n",
    "var t = new Teacher { Name=\"Fritz\", BirthDate = new DateTime(2000, 8, 28)};\n",
    "display(t);\n",
    "t.DisplayAge();\n"
   ]
  },
  {
   "cell_type": "code",
   "execution_count": 81,
   "metadata": {
    "dotnet_interactive": {
     "language": "csharp"
    },
    "polyglot_notebook": {
     "kernelName": "csharp"
    },
    "vscode": {
     "languageId": "polyglot-notebook"
    }
   },
   "outputs": [],
   "source": [
    "// partial keyword enables you to define parts of a class in different files.\n",
    "// Why would I do that?\n",
    "// 1. You can have multiple developers working on the same class at the same time\n",
    "// 2. You can logically group parts of a class together\n",
    "// 3. You can separate the auto-generated code from the code that you write\n",
    "\n",
    "// Explain the 3rd point\n",
    "// When you use a tool like Visual Studio to generate code for you, it will put the code in a separate file\n",
    "// If you then change the class, the auto-generated code will not be overwritten\n",
    "// This is because the auto-generated code is in a separate file\n",
    "\n",
    "// what is auto generated code?\n",
    "// code that is generated by a tool like Visual Studio\n",
    "// is it a AI-generated code?\n",
    "// no, it is not AI-generated code. It is code that is generated by a tool like Visual Studio"
   ]
  },
  {
   "cell_type": "markdown",
   "metadata": {},
   "source": [
    "## Enumerations\n",
    "\n",
    "An [enumeration type](https://docs.microsoft.com/dotnet/csharp/language-reference/builtin-types/enum?WT.mc_id=visualstudio-twitch-jefritz) is a value type that can be used to describe a collection of related named constants that actually reference an integral type.  We use the `enum` keyword to define these types with an access modifier and the name of the type.  Values are then listed, separated by commas inside the enum block.\n",
    "\n",
    "By default,  underlying values start with the value `0` and increment by `1`.  Let's take a look at an example that describes the values of a dimmer lightswitch:"
   ]
  },
  {
   "cell_type": "code",
   "execution_count": 22,
   "metadata": {
    "dotnet_interactive": {
     "language": "csharp"
    },
    "vscode": {
     "languageId": "polyglot-notebook"
    }
   },
   "outputs": [
    {
     "data": {
      "text/html": [
       "<span>Bright</span>"
      ]
     },
     "metadata": {},
     "output_type": "display_data"
    },
    {
     "data": {
      "text/html": [
       "<div class=\"dni-plaintext\"><pre>0</pre></div><style>\r\n",
       ".dni-code-hint {\r\n",
       "    font-style: italic;\r\n",
       "    overflow: hidden;\r\n",
       "    white-space: nowrap;\r\n",
       "}\r\n",
       ".dni-treeview {\r\n",
       "    white-space: nowrap;\r\n",
       "}\r\n",
       ".dni-treeview td {\r\n",
       "    vertical-align: top;\r\n",
       "    text-align: start;\r\n",
       "}\r\n",
       "details.dni-treeview {\r\n",
       "    padding-left: 1em;\r\n",
       "}\r\n",
       "table td {\r\n",
       "    text-align: start;\r\n",
       "}\r\n",
       "table tr { \r\n",
       "    vertical-align: top; \r\n",
       "    margin: 0em 0px;\r\n",
       "}\r\n",
       "table tr td pre \r\n",
       "{ \r\n",
       "    vertical-align: top !important; \r\n",
       "    margin: 0em 0px !important;\r\n",
       "} \r\n",
       "table th {\r\n",
       "    text-align: start;\r\n",
       "}\r\n",
       "</style>"
      ]
     },
     "metadata": {},
     "output_type": "display_data"
    }
   ],
   "source": [
    "public enum LightSwitch {\n",
    "    Off,\n",
    "    FiftyPercent,\n",
    "    Bright,\n",
    "    Nuclear,\n",
    "    On\n",
    "}\n",
    "\n",
    "LightSwitch hall = LightSwitch.Bright;\n",
    "display(hall);\n",
    "\n",
    "// We can force a value back to an integer with a simple cast:\n",
    "display((int)LightSwitch.Off)\n",
    "\n",
    "// Enumarations are by default integers. Which is why we can cast them to integers as in the example above"
   ]
  },
  {
   "cell_type": "code",
   "execution_count": 40,
   "metadata": {
    "dotnet_interactive": {
     "language": "csharp"
    },
    "polyglot_notebook": {
     "kernelName": "csharp"
    },
    "vscode": {
     "languageId": "polyglot-notebook"
    }
   },
   "outputs": [
    {
     "data": {
      "text/html": [
       "<div class=\"dni-plaintext\"><pre>3</pre></div><style>\r\n",
       ".dni-code-hint {\r\n",
       "    font-style: italic;\r\n",
       "    overflow: hidden;\r\n",
       "    white-space: nowrap;\r\n",
       "}\r\n",
       ".dni-treeview {\r\n",
       "    white-space: nowrap;\r\n",
       "}\r\n",
       ".dni-treeview td {\r\n",
       "    vertical-align: top;\r\n",
       "    text-align: start;\r\n",
       "}\r\n",
       "details.dni-treeview {\r\n",
       "    padding-left: 1em;\r\n",
       "}\r\n",
       "table td {\r\n",
       "    text-align: start;\r\n",
       "}\r\n",
       "table tr { \r\n",
       "    vertical-align: top; \r\n",
       "    margin: 0em 0px;\r\n",
       "}\r\n",
       "table tr td pre \r\n",
       "{ \r\n",
       "    vertical-align: top !important; \r\n",
       "    margin: 0em 0px !important;\r\n",
       "} \r\n",
       "table th {\r\n",
       "    text-align: start;\r\n",
       "}\r\n",
       "</style>"
      ]
     },
     "metadata": {},
     "output_type": "display_data"
    }
   ],
   "source": [
    "var room = LightSwitch.Nuclear;\n",
    "\n",
    "display((int)room); "
   ]
  },
  {
   "cell_type": "markdown",
   "metadata": {},
   "source": [
    "Enumerations can be defined inside and outside of classes, and be used anywhere another variable type would be referenced.  We can assign different values to the constants inside the enum with an `=` operator and the numeric value to be assigned."
   ]
  },
  {
   "cell_type": "code",
   "execution_count": 31,
   "metadata": {
    "dotnet_interactive": {
     "language": "csharp"
    },
    "vscode": {
     "languageId": "polyglot-notebook"
    }
   },
   "outputs": [
    {
     "data": {
      "text/html": [
       "<span>MilitaryLeave</span>"
      ]
     },
     "metadata": {},
     "output_type": "display_data"
    }
   ],
   "source": [
    "class Student {\n",
    "    \n",
    "    public enum EnrolledState {\n",
    "        NotEnrolled = 0,\n",
    "        Enrolled = 5,\n",
    "        OnMentorship = 10,\n",
    "        Internship = 11,\n",
    "        MilitaryLeave = 20\n",
    "    }\n",
    "    \n",
    "    public EnrolledState Enroll() {\n",
    "        \n",
    "        // evaluate student's scenario, make a decision\n",
    "        \n",
    "        return EnrolledState.MilitaryLeave;\n",
    "        \n",
    "    }\n",
    "    \n",
    "}\n",
    "\n",
    "var s = new Student();\n",
    "display(s.Enroll());"
   ]
  },
  {
   "cell_type": "code",
   "execution_count": 34,
   "metadata": {
    "dotnet_interactive": {
     "language": "csharp"
    },
    "polyglot_notebook": {
     "kernelName": "csharp"
    },
    "vscode": {
     "languageId": "polyglot-notebook"
    }
   },
   "outputs": [],
   "source": [
    "enum a { // this is an enum with the name a\n",
    "    b = 1, // this is a member of the enum a with the name b and the value 1\n",
    "    c = 2, // this is a member of the enum a with the name c and the value 2\n",
    "    d = 3 // this is a member of the enum a with the name d and the value 3\n",
    "}"
   ]
  },
  {
   "cell_type": "code",
   "execution_count": 37,
   "metadata": {
    "dotnet_interactive": {
     "language": "csharp"
    },
    "polyglot_notebook": {
     "kernelName": "csharp"
    },
    "vscode": {
     "languageId": "polyglot-notebook"
    }
   },
   "outputs": [
    {
     "data": {
      "text/html": [
       "<span>b</span>"
      ]
     },
     "metadata": {},
     "output_type": "display_data"
    }
   ],
   "source": [
    "a.b"
   ]
  },
  {
   "cell_type": "markdown",
   "metadata": {},
   "source": [
    "### Enum Flags\n",
    "\n",
    "Enums can also be used with bitwise operations so that you can store and pass along any number of values stored in one variable.  Use the `[Flags]` attribute to instruct the C# compiler to enable this feature and set explicit binary values for the enum constants.  You can use both integer values or binary values in your definitions.\n",
    "\n",
    "Then, you can store multiple values by using the bitwise OR operator `|` and can interact with those values [using other bitwise operators](https://docs.microsoft.com/dotnet/csharp/language-reference/operators/bitwise-and-shift-operators#enumeration-logical-operators?WT.mc_id=visualstudio-twitch-jefritz)."
   ]
  },
  {
   "cell_type": "code",
   "execution_count": 86,
   "metadata": {
    "dotnet_interactive": {
     "language": "csharp"
    },
    "vscode": {
     "languageId": "polyglot-notebook"
    }
   },
   "outputs": [
    {
     "data": {
      "text/html": [
       "<span>Read, Write, Execute</span>"
      ]
     },
     "metadata": {},
     "output_type": "display_data"
    }
   ],
   "source": [
    "[Flags] // this is an attribute that is used to indicate that this enum is a flag enum\n",
    "// what is a flag enum? A flag enum is an enum that is used to store multiple values in a single variable\n",
    "public enum FileAccess {\n",
    "\n",
    "    // We can define values using integers and the powers of 2:\n",
    "    Read = 1,\n",
    "    Write = 2,\n",
    "    Execute = 4\n",
    "}\n",
    "\n",
    "var access = FileAccess.Read | FileAccess.Write | FileAccess.Execute;\n",
    "display(access);"
   ]
  },
  {
   "cell_type": "code",
   "execution_count": 87,
   "metadata": {
    "dotnet_interactive": {
     "language": "csharp"
    },
    "vscode": {
     "languageId": "polyglot-notebook"
    }
   },
   "outputs": [
    {
     "data": {
      "text/html": [
       "<span>Monday, Tuesday, Wednesday, Thursday, Friday</span>"
      ]
     },
     "metadata": {},
     "output_type": "display_data"
    }
   ],
   "source": [
    "[Flags]\n",
    "public enum DaysOfWeek\n",
    "{\n",
    "    // We can also use binary values directly by using the 0b binary prefix.\n",
    "    // what is a binary prefix? A binary prefix is a prefix that is added to a number to indicate that the number is a binary number\n",
    "    // what is a binary number? A binary number is a number that is written in the binary numeral system\n",
    "    // could you write an example of a binary number? 0b_0000_0001\n",
    "    // The _ character is used as a separator and is ignored by the compiler\n",
    "    None      = 0b_0000_0000,  // 0 \n",
    "    Monday    = 0b_0000_0001,  // 1\n",
    "    Tuesday   = 0b_0000_0010,  // 2\n",
    "    Wednesday = 0b_0000_0100,  // 4\n",
    "    Thursday  = 0b_0000_1000,  // 8\n",
    "    Friday    = 0b_0001_0000,  // 16\n",
    "    Saturday  = 0b_0010_0000,  // 32\n",
    "    Sunday    = 0b_0100_0000,  // 64\n",
    "    Weekend   = Saturday | Sunday\n",
    "}\n",
    "\n",
    "var workWeek = DaysOfWeek.Monday | \n",
    "    DaysOfWeek.Tuesday | \n",
    "    DaysOfWeek.Wednesday | \n",
    "    DaysOfWeek.Thursday | \n",
    "    DaysOfWeek.Friday;\n",
    "display(workWeek);"
   ]
  }
 ],
 "metadata": {
  "kernelspec": {
   "display_name": ".NET (C#)",
   "language": "C#",
   "name": ".net-csharp"
  },
  "language_info": {
   "file_extension": ".cs",
   "mimetype": "text/x-csharp",
   "name": "C#",
   "pygments_lexer": "csharp",
   "version": "8.0"
  }
 },
 "nbformat": 4,
 "nbformat_minor": 4
}
